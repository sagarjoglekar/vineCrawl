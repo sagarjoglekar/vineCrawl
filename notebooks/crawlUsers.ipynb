{
 "cells": [
  {
   "cell_type": "code",
   "execution_count": 47,
   "metadata": {
    "collapsed": true
   },
   "outputs": [],
   "source": [
    "#Python script that collects top 5 popular videos of every user that ranked in top 100 and post data of his timeline\n",
    "import re\n",
    "import json\n",
    "import sys\n",
    "import os\n",
    "import pickle\n",
    "import requests\n",
    "import shutil\n",
    "from subprocess import call\n",
    "from multiprocessing import Pool\n",
    "\n",
    "posts = \"../vinedata/posts.txt\"\n",
    "videos =\"../vinedata/videos.txt\"\n",
    "users = \"../vinedata/users.txt\"\n",
    "\n",
    "copyRoot = \"/datasets/sagarj/vineData/Dataset/\"\n",
    "srcRoot = \"/datasets/sagarj/vineData/\"\n",
    "\n",
    "videoDir = copyRoot+\"Videos/\"\n",
    "postDir = copyRoot+\"Posts/\"\n",
    "savedPostsDir = copyRoot + \"savedPosts/\"\n",
    "userDir = copyRoot+\"Users/\"\n",
    "\n",
    "userList = \"../Logs/crawledUsers.pk\"\n",
    "postList = \"../Logs/crawledPosts.pk\"\n",
    "\n",
    "imageList = \"/datasets/sagarj/vineData/Dataset/sampledFrames/\"                                  \n",
    "\n",
    "\n"
   ]
  },
  {
   "cell_type": "code",
   "execution_count": 38,
   "metadata": {
    "collapsed": true
   },
   "outputs": [],
   "source": [
    "def getVisited(visitedList):\n",
    "    visited = []\n",
    "    try:\n",
    "        f = open(visitedList, 'rb')\n",
    "        visited = pickle.load(f)\n",
    "    except IOError:\n",
    "        f = open(visitedList,\"a+\")\n",
    "        pickle.dump([],f)\n",
    "    return visited\n",
    "\n",
    "\n",
    "def updateVisited(visited,visitedList):\n",
    "    with open(visitedList, 'wb') as f:\n",
    "        pickle.dump(visited, f)\n",
    "\n",
    "\n",
    "def walkLevel1Dir(root):\n",
    "    count = 0\n",
    "    dirList = []\n",
    "    filesList = []\n",
    "    for path, dirs, files in os.walk(root):\n",
    "        if count > 0:\n",
    "            return dirList , fileList\n",
    "        dirList = dirs\n",
    "        fileList = files\n",
    "        count = count + 1\n",
    "\n",
    "\n",
    "def getPopularFile(rootDir):\n",
    "    f = open(rootDir + '/popular.json' ,'r')\n",
    "    data = json.load(f)\n",
    "    return data\n",
    "\n",
    "def getJson(jsonFile):\n",
    "    f = open(jsonFile ,'r')\n",
    "    data = json.load(f)\n",
    "    return data\n",
    "\n",
    "def getVideoAndPost(postID ,postDir, videoDir ):  \n",
    "    postData = requests.get(\"https://api.vineapp.com/timelines/posts/\"+str(postID))\n",
    "    if not isinstance(postData.json(),dict):\n",
    "        print \"JSON Data not a dict\"\n",
    "        return\n",
    "    post = open( postDir + \"/\" + str(postID) + '.json', 'w')\n",
    "    json.dump(postData.json(), post)\n",
    "    videoString = postData.json()['data']['records'][0]['videoDashUrl']\n",
    "    if isinstance(videoString, basestring):\n",
    "        videoUrl = videoString.split('?');\n",
    "        argsVideo = ['wget','-P' , videoDir, videoUrl[0]]\n",
    "        call(argsVideo);\n",
    "        #print videoUrl\n",
    "\n",
    "def getPostMeta(usrProf, userId , post ):\n",
    "    postDir = post + \"/\" + str(userId)\n",
    "    print \"Working on Post:  \"  + postDir\n",
    "    if not os.path.exists(postDir):\n",
    "        os.makedirs(postDir)\n",
    "    if not isinstance(usrProf['data'],dict):\n",
    "        print \"JSON Data not a dict\"\n",
    "        return\n",
    "    records = usrProf['data']['records']\n",
    " \n",
    "    for subRecord in records:\n",
    "        postID = subRecord['postId']\n",
    "        postData = requests.get(\"https://api.vineapp.com/timelines/posts/\"+str(postID))\n",
    "        post = open( postDir + \"/\" + str(postID) + '.json', 'w')\n",
    "        json.dump(postData.json(), post)\n",
    "\n",
    "def getHistory(popular , dataRoot):\n",
    "    records = popular['data']['records']\n",
    "    timeline = dataRoot + \"/\" + userPastVideos\n",
    "    posts = dataRoot + \"/\" + userPastVideoMeta\n",
    "    if not os.path.exists(timeline):\n",
    "        os.makedirs(timeline)\n",
    "    if not os.path.exists(posts):\n",
    "        os.makedirs(posts)\n",
    "    print \"now in : \" + dataRoot\n",
    "    for record in records:\n",
    "        userId = record['userId']\n",
    "        profile_file = dataRoot + \"/userTimeline/\" + str(userId) + \".json\"\n",
    "        print \"Working on file:  \"  + profile_file\n",
    "        if os.path.exists(profile_file):\n",
    "            usrProf = getJson(profile_file)\n",
    "            getVideos(usrProf,userId, timeline)\n",
    "            getPostMeta(usrProf,userId,posts)\n",
    "\n",
    "def getList(textFile):\n",
    "    lines = []\n",
    "    ids = []\n",
    "    with open(textFile) as f:\n",
    "        lines = f.readlines()\n",
    "    for line in lines:\n",
    "        parts = line.split('/')\n",
    "        ids.append(parts[-1])\n",
    "    unique = list(set(ids))\n",
    "    print len(unique)\n",
    "    ulines = []\n",
    "    for i in unique:\n",
    "        ulines.append(lines[ids.index(i)].strip())\n",
    "    print \"%d reduced to %d\"%(len(lines), len(ulines)) \n",
    "    return ulines\n",
    "\n",
    "def copyFile(src, dest):\n",
    "    if not os.path.exists(src): \n",
    "        return\n",
    "    try:\n",
    "        shutil.copy(src, dest)\n",
    "    # eg. src and dest are the same file\n",
    "    except shutil.Error as e:\n",
    "        print('Error: %s' % e)\n",
    "    # eg. source or destination doesn't exist\n",
    "    except IOError as e:\n",
    "        print('Error: %s' % e.strerror)"
   ]
  },
  {
   "cell_type": "code",
   "execution_count": 40,
   "metadata": {
    "collapsed": false
   },
   "outputs": [],
   "source": [
    "getVideoAndPost(1283573450279403520,\"../test_dir/savedPosts/\", \"../test_dir/videos/\")"
   ]
  },
  {
   "cell_type": "code",
   "execution_count": 48,
   "metadata": {
    "collapsed": false
   },
   "outputs": [],
   "source": [
    "imglist = os.listdir(imageList)"
   ]
  },
  {
   "cell_type": "code",
   "execution_count": 49,
   "metadata": {
    "collapsed": true
   },
   "outputs": [],
   "source": [
    "sorted_list = sort()"
   ]
  },
  {
   "cell_type": "code",
   "execution_count": 54,
   "metadata": {
    "collapsed": false
   },
   "outputs": [
    {
     "name": "stdout",
     "output_type": "stream",
     "text": [
      "None\n"
     ]
    }
   ],
   "source": [
    "print imglist[1:10].sort()"
   ]
  },
  {
   "cell_type": "code",
   "execution_count": null,
   "metadata": {
    "collapsed": true
   },
   "outputs": [],
   "source": []
  }
 ],
 "metadata": {
  "kernelspec": {
   "display_name": "Python 2",
   "language": "python",
   "name": "python2"
  },
  "language_info": {
   "codemirror_mode": {
    "name": "ipython",
    "version": 2
   },
   "file_extension": ".py",
   "mimetype": "text/x-python",
   "name": "python",
   "nbconvert_exporter": "python",
   "pygments_lexer": "ipython2",
   "version": "2.7.6"
  }
 },
 "nbformat": 4,
 "nbformat_minor": 0
}
