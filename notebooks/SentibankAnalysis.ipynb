{
 "cells": [
  {
   "cell_type": "code",
   "execution_count": 1,
   "metadata": {
    "collapsed": true
   },
   "outputs": [],
   "source": [
    "import numpy as np\n",
    "%matplotlib inline\n",
    "import matplotlib.pyplot as plt\n",
    "import matplotlib.cm as cm\n",
    "import json\n",
    "import os\n",
    "import cPickle as pickle\n"
   ]
  },
  {
   "cell_type": "code",
   "execution_count": 2,
   "metadata": {
    "collapsed": true
   },
   "outputs": [],
   "source": [
    "\n",
    "def getVisited():\n",
    "    visited = []\n",
    "    f = open(visitedList, 'rb')\n",
    "    visited = pickle.load(f)\n",
    "    return visited\n",
    "\n",
    "\n",
    "def walkLevel1Dir(root):\n",
    "    count = 0\n",
    "    dirList = []\n",
    "    filesList = []\n",
    "    for path, dirs, files in os.walk(root):\n",
    "        if count > 0:\n",
    "            return dirList , fileList\n",
    "        dirList = dirs\n",
    "        fileList = files\n",
    "        count = count + 1\n",
    "\n",
    "\n",
    "def getPopularFile(rootDir):\n",
    "    f = open(rootDir + '/popular.json' ,'r')\n",
    "    data = json.load(f)\n",
    "    return data\n",
    "\n",
    "    \n",
    "    \n",
    "def getPopularPosts(popular , loopThreshold):\n",
    "    records = popular['data']['records']\n",
    "    posts=[]\n",
    "    for i in range (0 , len(records)):\n",
    "        loopCount = records[i]['reposts']['count']\n",
    "        if(loopCount > loopThreshold):\n",
    "            posts.append(records[i])\n",
    "    return posts\n",
    "\n",
    "def getRecords(popular):\n",
    "    records = popular['data']['records']\n",
    "    return records\n",
    "\n",
    "def find(lst, val):\n",
    "    return [i for i, x in enumerate(lst) if x == val]"
   ]
  },
  {
   "cell_type": "code",
   "execution_count": 3,
   "metadata": {
    "collapsed": true
   },
   "outputs": [],
   "source": [
    "ClassFile = \"../Logs/classes.json\"\n",
    "\n",
    "vineScores = \"../Logs/vineSentibankProbs.csv\"\n",
    "selfieScores = \"../Logs/selfieSentibankProbs.csv\"\n",
    "\n",
    "vinePaths = \"../Logs/vinePaths.txt\"\n",
    "selfiePaths = \"../Logs/selfiePaths.txt\"\n",
    "\n",
    "selfiePopularityFile = \"../Logs/selfie_dataset.txt\"\n",
    "\n",
    "root = \"../vinedata/Data/\"\n",
    "\n",
    "visitedList = \"../Logs/facesExtracted.data\""
   ]
  },
  {
   "cell_type": "code",
   "execution_count": 4,
   "metadata": {
    "collapsed": false
   },
   "outputs": [],
   "source": [
    "#Load the Sentibank scores for both selfies and Vines\n",
    "vineProbs = np.loadtxt(vineScores, delimiter=',')\n",
    "selfieProbs = np.loadtxt(selfieScores, delimiter=',')\n",
    "\n"
   ]
  },
  {
   "cell_type": "code",
   "execution_count": 5,
   "metadata": {
    "collapsed": false
   },
   "outputs": [],
   "source": [
    "f = open(ClassFile ,'r')\n",
    "sentibankClasses = json.load(f)\n",
    "f.close()\n",
    "\n",
    "with open(vinePaths) as g:\n",
    "    vineList = g.readlines()\n",
    "    \n",
    "with open(selfiePaths) as g:\n",
    "    selfieList = g.readlines()\n",
    "    \n",
    "with open(selfiePopularityFile) as g:\n",
    "    selfieNumbers = g.readlines()"
   ]
  },
  {
   "cell_type": "code",
   "execution_count": 6,
   "metadata": {
    "collapsed": false
   },
   "outputs": [],
   "source": [
    "\n",
    "dirs,files = walkLevel1Dir(root)\n",
    "visited = getVisited()\n",
    "selectedPosts = []\n",
    "allPosts = []\n",
    "\n",
    "\n",
    "for d in dirs:\n",
    "    if d in visited:\n",
    "        dataRoot = root + d\n",
    "        popular = getPopularFile(dataRoot)\n",
    "        rec = getRecords(popular)\n",
    "        allPosts += rec"
   ]
  },
  {
   "cell_type": "code",
   "execution_count": 7,
   "metadata": {
    "collapsed": false
   },
   "outputs": [],
   "source": [
    "postIds = []\n",
    "for line in vineList:\n",
    "    arr = line.split('/')\n",
    "    i = int(arr[5].split('_')[0])\n",
    "    postIds.append(i)"
   ]
  },
  {
   "cell_type": "code",
   "execution_count": 8,
   "metadata": {
    "collapsed": false
   },
   "outputs": [],
   "source": [
    "totalPosts = []\n",
    "likeCount = np.zeros((len(postIds)) , dtype='float')\n",
    "repostCount = np.zeros((len(postIds)) , dtype='float')\n",
    "for post in allPosts:\n",
    "    totalPosts.append(int(post['postId']))\n",
    "    indices = find(postIds , int(post['postId']))\n",
    "    for i in indices:\n",
    "        likeCount[i] = int(post['likes']['count'])\n",
    "        repostCount[i] = int(post['reposts']['count'])\n"
   ]
  },
  {
   "cell_type": "code",
   "execution_count": 9,
   "metadata": {
    "collapsed": false
   },
   "outputs": [
    {
     "name": "stdout",
     "output_type": "stream",
     "text": [
      "10245983_805599046135129_1245861159_a\n"
     ]
    }
   ],
   "source": [
    "selfieIDs = []\n",
    "for line in selfieList:\n",
    "    arr = line.split('/')\n",
    "    i = arr[6].split('.')[0]\n",
    "    selfieIDs.append(i)\n",
    "print selfieIDs[100]"
   ]
  },
  {
   "cell_type": "code",
   "execution_count": 10,
   "metadata": {
    "collapsed": false
   },
   "outputs": [],
   "source": [
    "IDs = []\n",
    "popScore = []\n",
    "for line in selfieNumbers:\n",
    "    arr = line.split(' ')\n",
    "    IDs.append(arr[0])\n",
    "    popScore.append(float(arr[1]))"
   ]
  },
  {
   "cell_type": "code",
   "execution_count": 11,
   "metadata": {
    "collapsed": false
   },
   "outputs": [],
   "source": [
    "matchedScore = np.zeros((len(selfieIDs)))\n",
    "for i in range(len(selfieIDs)):\n",
    "    index = IDs.index(selfieIDs[i])\n",
    "    matchedScore[i] = popScore[index] "
   ]
  },
  {
   "cell_type": "code",
   "execution_count": 12,
   "metadata": {
    "collapsed": false
   },
   "outputs": [
    {
     "name": "stdout",
     "output_type": "stream",
     "text": [
      "(46836,)\n",
      "6.714 1.656\n"
     ]
    }
   ],
   "source": [
    "print matchedScore.shape\n",
    "print matchedScore.max(), matchedScore.min()"
   ]
  },
  {
   "cell_type": "code",
   "execution_count": 13,
   "metadata": {
    "collapsed": false
   },
   "outputs": [
    {
     "name": "stdout",
     "output_type": "stream",
     "text": [
      "6.714 0.00189625992592\n"
     ]
    }
   ],
   "source": [
    "norm_factor = matchedScore.max()\n",
    "likeScaleBackDeno = likeCount.max()\n",
    "likeCount /= likeScaleBackDeno\n",
    "likeCount *= norm_factor\n",
    "print likeCount.max(),likeCount.min()"
   ]
  },
  {
   "cell_type": "code",
   "execution_count": 14,
   "metadata": {
    "collapsed": false
   },
   "outputs": [
    {
     "name": "stdout",
     "output_type": "stream",
     "text": [
      "6.714 0.00161594003576\n"
     ]
    }
   ],
   "source": [
    "repostScaleBackdeno = repostCount.max()\n",
    "repostCount /= repostScaleBackdeno\n",
    "repostCount *= norm_factor\n",
    "print repostCount.max(),repostCount.min()"
   ]
  },
  {
   "cell_type": "code",
   "execution_count": 15,
   "metadata": {
    "collapsed": false
   },
   "outputs": [
    {
     "name": "stdout",
     "output_type": "stream",
     "text": [
      "13711.2004766 4331.84390825\n"
     ]
    }
   ],
   "source": [
    "likeScaleBackDeno = likeScaleBackDeno/norm_factor\n",
    "repostScaleBackdeno = repostScaleBackdeno/norm_factor\n",
    "print likeScaleBackDeno, repostScaleBackdeno "
   ]
  },
  {
   "cell_type": "code",
   "execution_count": 16,
   "metadata": {
    "collapsed": false
   },
   "outputs": [
    {
     "name": "stdout",
     "output_type": "stream",
     "text": [
      "(18585, 2089)\n",
      "(46836, 2089)\n"
     ]
    }
   ],
   "source": [
    "print vineProbs.shape\n",
    "print selfieProbs.shape"
   ]
  },
  {
   "cell_type": "code",
   "execution_count": 17,
   "metadata": {
    "collapsed": true
   },
   "outputs": [],
   "source": [
    "from sklearn import cross_validation\n",
    "from sklearn.cross_validation import KFold\n",
    "from sklearn.ensemble import RandomForestClassifier \n",
    "from sklearn import svm\n",
    "from sklearn.metrics import mean_squared_error\n",
    "from sklearn.metrics import mean_absolute_error\n",
    "from sklearn.svm import SVR"
   ]
  },
  {
   "cell_type": "code",
   "execution_count": 18,
   "metadata": {
    "collapsed": false
   },
   "outputs": [],
   "source": [
    "#lin_clf_vine = RandomForestClassifier(n_estimators=vineProbs.shape[1])\n",
    "#lin_clf_selfie = RandomForestClassifier(n_estimators=selfieProbs.shape[1])\n",
    "np.random.seed(0)\n",
    "lin_clf_vine_repost = svm.LinearSVR(C=1.0, epsilon=0.2 )\n",
    "lin_clf_vine_like = svm.LinearSVR(C=1.0, epsilon=0.2 )\n",
    "lin_clf_selfie = svm.LinearSVR(C=1.0, epsilon=0.2 )"
   ]
  },
  {
   "cell_type": "code",
   "execution_count": 19,
   "metadata": {
    "collapsed": false
   },
   "outputs": [],
   "source": [
    "\n",
    "X_train_vine = vineProbs[:15000]\n",
    "X_test_vine = vineProbs[15000:]\n",
    "\n",
    "# Y_train_vine = likeCount[:15000]\n",
    "# Y_test_vine = likeCount[15000:]\n",
    "\n",
    "Y_train_vine_repost = repostCount[:15000]\n",
    "Y_test_vine_repost = repostCount[15000:]\n",
    "\n",
    "Y_train_vine_like = likeCount[:15000]\n",
    "Y_test_vine_like = likeCount[15000:]\n"
   ]
  },
  {
   "cell_type": "code",
   "execution_count": 20,
   "metadata": {
    "collapsed": false
   },
   "outputs": [
    {
     "data": {
      "text/plain": [
       "LinearSVR(C=1.0, dual=True, epsilon=0.2, fit_intercept=True,\n",
       "     intercept_scaling=1.0, loss='epsilon_insensitive', max_iter=1000,\n",
       "     random_state=None, tol=0.0001, verbose=0)"
      ]
     },
     "execution_count": 20,
     "metadata": {},
     "output_type": "execute_result"
    }
   ],
   "source": [
    "lin_clf_vine_repost.fit(X_train_vine, Y_train_vine_repost)\n",
    "lin_clf_vine_like.fit(X_train_vine, Y_train_vine_like)"
   ]
  },
  {
   "cell_type": "code",
   "execution_count": 21,
   "metadata": {
    "collapsed": false
   },
   "outputs": [
    {
     "name": "stdout",
     "output_type": "stream",
     "text": [
      "0.278682655963\n",
      "0.305427956052\n"
     ]
    },
    {
     "data": {
      "text/plain": [
       "array([[ 1.       ,  0.2973668],\n",
       "       [ 0.2973668,  1.       ]])"
      ]
     },
     "execution_count": 21,
     "metadata": {},
     "output_type": "execute_result"
    }
   ],
   "source": [
    "pred_repost = lin_clf_vine_repost.predict(X_test_vine)\n",
    "print mean_squared_error(Y_test_vine_repost, pred_repost)\n",
    "print mean_absolute_error(Y_test_vine_repost, pred_repost)\n",
    "np.corrcoef(Y_test_vine_repost, pred_repost)\n"
   ]
  },
  {
   "cell_type": "code",
   "execution_count": 22,
   "metadata": {
    "collapsed": false
   },
   "outputs": [
    {
     "name": "stdout",
     "output_type": "stream",
     "text": [
      "0.398035276618\n",
      "0.366436890379\n"
     ]
    },
    {
     "data": {
      "text/plain": [
       "array([[ 1.        ,  0.32697257],\n",
       "       [ 0.32697257,  1.        ]])"
      ]
     },
     "execution_count": 22,
     "metadata": {},
     "output_type": "execute_result"
    }
   ],
   "source": [
    "pred_likes = lin_clf_vine_like.predict(X_test_vine)\n",
    "print mean_squared_error(Y_test_vine_like, pred_likes)\n",
    "print mean_absolute_error(Y_test_vine_like, pred_likes)\n",
    "np.corrcoef(Y_test_vine_like, pred_likes)"
   ]
  },
  {
   "cell_type": "markdown",
   "metadata": {},
   "source": [
    "Selfie Regression"
   ]
  },
  {
   "cell_type": "code",
   "execution_count": 23,
   "metadata": {
    "collapsed": true
   },
   "outputs": [],
   "source": [
    "X_train_selfie = selfieProbs[:40000]\n",
    "X_test_selfie = selfieProbs[40000:]\n",
    "\n",
    "Y_train_selfie = matchedScore[:40000]\n",
    "Y_test_selfie = matchedScore[40000:]"
   ]
  },
  {
   "cell_type": "code",
   "execution_count": 24,
   "metadata": {
    "collapsed": false
   },
   "outputs": [
    {
     "data": {
      "text/plain": [
       "LinearSVR(C=1.0, dual=True, epsilon=0.2, fit_intercept=True,\n",
       "     intercept_scaling=1.0, loss='epsilon_insensitive', max_iter=1000,\n",
       "     random_state=None, tol=0.0001, verbose=0)"
      ]
     },
     "execution_count": 24,
     "metadata": {},
     "output_type": "execute_result"
    }
   ],
   "source": [
    "lin_clf_selfie.fit(X_train_selfie,Y_train_selfie)"
   ]
  },
  {
   "cell_type": "code",
   "execution_count": 25,
   "metadata": {
    "collapsed": false
   },
   "outputs": [
    {
     "name": "stdout",
     "output_type": "stream",
     "text": [
      "0.349305147412\n",
      "0.466659322598\n"
     ]
    },
    {
     "data": {
      "text/plain": [
       "array([[ 1.       ,  0.0189938],\n",
       "       [ 0.0189938,  1.       ]])"
      ]
     },
     "execution_count": 25,
     "metadata": {},
     "output_type": "execute_result"
    }
   ],
   "source": [
    "\n",
    "pred_pop = lin_clf_selfie.predict(X_test_selfie)\n",
    "print mean_squared_error(Y_test_selfie, pred_pop)\n",
    "print mean_absolute_error(Y_test_selfie, pred_pop)\n",
    "np.corrcoef(Y_test_selfie, pred_pop)"
   ]
  },
  {
   "cell_type": "code",
   "execution_count": 26,
   "metadata": {
    "collapsed": false
   },
   "outputs": [],
   "source": [
    "# #USE VINE FOR SELFIE\n",
    "# pred_pop = lin_clf_vine_like.predict(X_test_selfie)\n",
    "# print mean_squared_error(Y_test_selfie, pred_pop)\n",
    "# print mean_absolute_error(Y_test_selfie, pred_pop)\n",
    "# np.corrcoef(Y_test_selfie, pred_pop)"
   ]
  },
  {
   "cell_type": "code",
   "execution_count": 27,
   "metadata": {
    "collapsed": false
   },
   "outputs": [],
   "source": [
    "# #USE SELFIE FOR VINE\n",
    "# pred_repost = lin_clf_selfie.predict(X_test_vine)\n",
    "# print mean_squared_error(Y_test_vine, pred_repost)\n",
    "# print mean_absolute_error(Y_test_vine, pred_repost)\n",
    "# np.corrcoef(Y_test_vine, pred_repost)"
   ]
  },
  {
   "cell_type": "code",
   "execution_count": 28,
   "metadata": {
    "collapsed": false
   },
   "outputs": [],
   "source": [
    "\n",
    "coef_indices_vine_repost = lin_clf_vine_repost.coef_.argsort()[::-1][:lin_clf_vine_repost.coef_.shape[0]]\n",
    "coef_values_vine_repost = np.zeros(coef_indices_vine_repost.shape[0])\n",
    "coef_values_vine_repost = lin_clf_vine_repost.coef_[coef_indices_vine_repost]\n",
    "coef_labels_vine_repost = []\n",
    "for i in range(100):\n",
    "    coef_labels_vine_repost.append(sentibankClasses[coef_indices_vine_repost[i]])\n"
   ]
  },
  {
   "cell_type": "code",
   "execution_count": 29,
   "metadata": {
    "collapsed": true
   },
   "outputs": [],
   "source": [
    "coef_indices_vine_like = lin_clf_vine_like.coef_.argsort()[::-1][:lin_clf_vine_repost.coef_.shape[0]]\n",
    "coef_values_vine_like = np.zeros(coef_indices_vine_like.shape[0])\n",
    "coef_values_vine_like = lin_clf_vine_like.coef_[coef_indices_vine_like]\n",
    "coef_labels_vine_like = []\n",
    "for i in range(100):\n",
    "    coef_labels_vine_like.append(sentibankClasses[coef_indices_vine_like[i]])\n"
   ]
  },
  {
   "cell_type": "code",
   "execution_count": 30,
   "metadata": {
    "collapsed": false
   },
   "outputs": [],
   "source": [
    "coef_indices_selfie = lin_clf_selfie.coef_.argsort()[::-1][:lin_clf_vine_repost.coef_.shape[0]]\n",
    "coef_values_selfie = np.zeros(coef_indices_selfie.shape[0])\n",
    "coef_values_selfie = lin_clf_selfie.coef_[coef_indices_selfie]\n",
    "coef_labels_selfie = []\n",
    "for i in range(100):\n",
    "    coef_labels_selfie.append(sentibankClasses[int(coef_indices_selfie[i])])\n"
   ]
  },
  {
   "cell_type": "code",
   "execution_count": 31,
   "metadata": {
    "collapsed": false
   },
   "outputs": [
    {
     "data": {
      "image/png": "[encoded data removed]",
      "text/plain": [
       "<matplotlib.figure.Figure at 0x7f1580662990>"
      ]
     },
     "metadata": {},
     "output_type": "display_data"
    }
   ],
   "source": [
    "fig, ax = plt.subplots()\n",
    "fig.set_size_inches(30, 15)\n",
    "plt.rc('xtick', labelsize=20) \n",
    "plt.rc('ytick', labelsize=20)\n",
    "x = np.linspace(0,10,10)\n",
    "i = 0\n",
    "for m,n in zip(x, coef_values_vine_repost[:10]):                                       # <--\n",
    "    ax.annotate(coef_labels_vine_repost[i],(m,n),fontsize = 20)\n",
    "    i+=1\n",
    "\n",
    "i = 0\n",
    "\n",
    "for m,n in zip(x, coef_values_vine_like[:10]):                                       # <--\n",
    "    ax.annotate(coef_labels_vine_like[i],(m,n),fontsize = 20)\n",
    "    i+=1\n",
    "    \n",
    "i = 0\n",
    "for m,n in zip(x, coef_values_selfie[:10]):                                       # <--\n",
    "    ax.annotate(coef_labels_selfie[i],(m,n),fontsize = 20)\n",
    "    i+=1\n",
    "    \n",
    "plt.plot(x,coef_values_vine_repost[:10],'^b',markersize=20.0)\n",
    "plt.plot(x,coef_values_vine_like[:10],'og',markersize=20.0)\n",
    "plt.plot(x,coef_values_selfie[:10],'*r',markersize=20.0)\n",
    "\n",
    "plt.title(\"Support vector Regression Coeffiecient comparison\",fontsize = 25)\n",
    "\n",
    "plt.xlabel('Coefficient indices',fontsize = 25)\n",
    "plt.ylabel('Coefficient values (sorted)', fontsize = 25)\n",
    "\n",
    "plt.legend(['Vine Regression Coefficient for Reposts','Vine Regression Coefficient for Likes','Selfie Regression coefficients'],fontsize = 20)\n",
    "\n",
    "plt.show()"
   ]
  },
  {
   "cell_type": "markdown",
   "metadata": {
    "collapsed": true
   },
   "source": [
    "Till this point we know that vine and instagram video selfies are fundamentally different. Instagran selfies have more positive sentiments. "
   ]
  },
  {
   "cell_type": "code",
   "execution_count": 32,
   "metadata": {
    "collapsed": false
   },
   "outputs": [
    {
     "name": "stdout",
     "output_type": "stream",
     "text": [
      "0.988672691749\n"
     ]
    }
   ],
   "source": [
    "from sklearn.decomposition import TruncatedSVD\n",
    "\n",
    "svd = TruncatedSVD(n_components=1000)\n",
    "svd.fit(vineProbs) \n",
    "print(svd.explained_variance_ratio_.sum()) "
   ]
  },
  {
   "cell_type": "code",
   "execution_count": 33,
   "metadata": {
    "collapsed": true
   },
   "outputs": [],
   "source": [
    "reduced_feats = svd.fit_transform(vineProbs)"
   ]
  },
  {
   "cell_type": "code",
   "execution_count": 34,
   "metadata": {
    "collapsed": true
   },
   "outputs": [],
   "source": [
    "likeCount = np.zeros((len(postIds)) , dtype='float')\n",
    "repostCount = np.zeros((len(postIds)) , dtype='float')\n",
    "for post in allPosts:\n",
    "    indices = find(postIds , int(post['postId']))\n",
    "    for i in indices:\n",
    "        likeCount[i] = int(post['likes']['count'])\n",
    "        repostCount[i] = int(post['reposts']['count'])\n"
   ]
  },
  {
   "cell_type": "code",
   "execution_count": 35,
   "metadata": {
    "collapsed": false
   },
   "outputs": [
    {
     "name": "stdout",
     "output_type": "stream",
     "text": [
      "92057.0 29084.0\n"
     ]
    }
   ],
   "source": [
    "print likeCount.max(), repostCount.max()"
   ]
  },
  {
   "cell_type": "code",
   "execution_count": 69,
   "metadata": {
    "collapsed": false
   },
   "outputs": [
    {
     "name": "stdout",
     "output_type": "stream",
     "text": [
      "[ 0.025       0.02714278  0.02946922  0.03199506  0.03473739  0.03771477\n",
      "  0.04094734  0.04445699  0.04826744  0.0524045   0.05689615  0.06177278\n",
      "  0.06706739  0.07281582  0.07905694  0.085833    0.09318984  0.10117725\n",
      "  0.10984926  0.11926457  0.12948687  0.14058533  0.15263506  0.16571758\n",
      "  0.17992142  0.19534268  0.21208572  0.23026383  0.25      ]\n",
      "[750, 814, 884, 959, 1042, 1131, 1228, 1333, 1448, 1572, 1706, 1853, 2012, 2184, 2371, 2574, 2795, 3035, 3295, 3577, 3884, 4217, 4579, 4971, 5397, 5860, 6362, 6907, 7500]\n"
     ]
    }
   ],
   "source": [
    "factors = np.logspace(0, 1, 29 , endpoint = True)\n",
    "factors /= 40\n",
    "repostIndices = []\n",
    "for i in factors:\n",
    "    repostIndices.append(int(i*30000))\n",
    "\n",
    "print factors\n",
    "print repostIndices"
   ]
  },
  {
   "cell_type": "code",
   "execution_count": 70,
   "metadata": {
    "collapsed": false
   },
   "outputs": [],
   "source": [
    "classesRepost = np.zeros((repostCount.shape[0],30) , dtype = 'int')\n",
    "for i in range(repostCount.shape[0]):\n",
    "    for j in range(29):\n",
    "        index = 100\n",
    "        if repostCount[i] < repostIndices[j]:\n",
    "            index = j\n",
    "    if index == 100:\n",
    "            index = 29\n",
    "    classesRepost[i][index] = 1"
   ]
  },
  {
   "cell_type": "code",
   "execution_count": 76,
   "metadata": {
    "collapsed": false
   },
   "outputs": [
    {
     "name": "stdout",
     "output_type": "stream",
     "text": [
      "[ 0.025       0.02841159  0.03228874  0.03669498  0.04170251  0.04739339\n",
      "  0.05386087  0.06121092  0.06956399  0.07905694  0.08984534  0.10210597\n",
      "  0.11603972  0.13187493  0.14987106  0.17032302  0.19356592  0.21998064\n",
      "  0.25      ]\n",
      "[2500, 2841, 3228, 3669, 4170, 4739, 5386, 6121, 6956, 7905, 8984, 10210, 11603, 13187, 14987, 17032, 19356, 21998, 25000]\n"
     ]
    }
   ],
   "source": [
    "factors = np.logspace(0, 1, 19 , endpoint = True)\n",
    "factors /= 40\n",
    "likesIndices = []\n",
    "for i in factors:\n",
    "    likesIndices.append(int(i*100000))\n",
    "\n",
    "print factors\n",
    "print likesIndices"
   ]
  },
  {
   "cell_type": "code",
   "execution_count": 79,
   "metadata": {
    "collapsed": false
   },
   "outputs": [],
   "source": [
    "classesLike = np.zeros((likeCount.shape[0],20) , dtype = 'int')\n",
    "for i in range(likeCount.shape[0]):\n",
    "    for j in range(19):\n",
    "        index = 100\n",
    "        if likeCount[i] < likesIndices[j]:\n",
    "            index = j\n",
    "    if index == 100:\n",
    "            index = 19\n",
    "    classesLike[i][index] = 1"
   ]
  },
  {
   "cell_type": "code",
   "execution_count": 80,
   "metadata": {
    "collapsed": false
   },
   "outputs": [],
   "source": [
    "# classWidthLikes = 5000\n",
    "# classWidthRepost = 1000\n",
    "\n",
    "# LikeClasses = 100000/classWidthLikes\n",
    "# RepostClasses = 30000/classWidthRepost\n",
    "# print LikeClasses, RepostClasses"
   ]
  },
  {
   "cell_type": "code",
   "execution_count": 81,
   "metadata": {
    "collapsed": false
   },
   "outputs": [],
   "source": [
    "# classesLike = np.zeros((likeCount.shape[0],LikeClasses) ,  dtype = 'int')\n",
    "# classesRepost = np.zeros((repostCount.shape[0],RepostClasses) , dtype = 'int')"
   ]
  },
  {
   "cell_type": "code",
   "execution_count": 82,
   "metadata": {
    "collapsed": false
   },
   "outputs": [],
   "source": [
    "# for i in range(likeCount.shape[0]):\n",
    "#     index = int((likeCount[i]/classWidthLikes))\n",
    "#     classesLike[i][index-1] = 1"
   ]
  },
  {
   "cell_type": "code",
   "execution_count": 83,
   "metadata": {
    "collapsed": true
   },
   "outputs": [],
   "source": [
    "# for i in range(repostCount.shape[0]):\n",
    "#     index = int((repostCount[i]/classWidthRepost))\n",
    "#     classesRepost[i][index-1] = 1"
   ]
  },
  {
   "cell_type": "code",
   "execution_count": 84,
   "metadata": {
    "collapsed": false
   },
   "outputs": [
    {
     "name": "stdout",
     "output_type": "stream",
     "text": [
      "(18585, 20)\n"
     ]
    }
   ],
   "source": [
    "print classesLike.shape"
   ]
  },
  {
   "cell_type": "code",
   "execution_count": 85,
   "metadata": {
    "collapsed": true
   },
   "outputs": [],
   "source": [
    "likes_training = classesLike[:15000]\n",
    "likes_validate = classesLike[15000:]\n",
    "\n",
    "reposts_training = classesRepost[:15000]\n",
    "reposts_validate = classesRepost[15000:]\n",
    "\n",
    "features_training = reduced_feats[:15000]\n",
    "features_validate = reduced_feats[15000:]"
   ]
  },
  {
   "cell_type": "code",
   "execution_count": 103,
   "metadata": {
    "collapsed": false
   },
   "outputs": [],
   "source": [
    "import theano\n",
    "from theano import tensor as T\n",
    "from theano.sandbox.rng_mrg import MRG_RandomStreams as RandomStreams\n",
    "import numpy as np\n",
    "import sys\n",
    "import os\n",
    "import pickle\n",
    "from theano.tensor.nnet.conv import conv2d\n",
    "from theano.tensor.signal.downsample import max_pool_2d\n",
    "from six.moves import cPickle\n"
   ]
  },
  {
   "cell_type": "code",
   "execution_count": 104,
   "metadata": {
    "collapsed": true
   },
   "outputs": [],
   "source": [
    "srng = RandomStreams()\n",
    "\n",
    "def floatX(X):\n",
    "    return np.asarray(X, dtype=theano.config.floatX)\n",
    "\n",
    "def init_weights(shape):\n",
    "    W = theano.shared(floatX(np.random.randn(*shape) * 0.01))\n",
    "    return W\n",
    "\n",
    "def init_bias(shape):\n",
    "    b_values = np.zeros((shape[0],), dtype=theano.config.floatX)\n",
    "    b = theano.shared(value=b_values, borrow=True )\n",
    "    return b\n",
    "\n",
    "def rectify(X):\n",
    "    return T.maximum(X, 0.)\n",
    "\n",
    "def softmax(X):\n",
    "    e_x = T.exp(X - X.max(axis=1).dimshuffle(0, 'x'))\n",
    "    return e_x / e_x.sum(axis=1).dimshuffle(0, 'x')\n",
    "\n",
    "def dropout(X, p=0.):\n",
    "    if p > 0:\n",
    "        retain_prob = 1 - p\n",
    "        X = X *  srng.binomial(X.shape, p=retain_prob, dtype=theano.config.floatX)\n",
    "        X = (X/retain_prob)\n",
    "    return X\n",
    "\n",
    "def RMSprop(cost, params, lr=0.001, rho=0.9, epsilon=1e-6):\n",
    "    grads = T.grad(cost=cost, wrt=params)\n",
    "    updates = []\n",
    "    for p, g in zip(params, grads):\n",
    "        acc = theano.shared(p.get_value() * 0.)\n",
    "        acc_new = rho * acc + (1 - rho) * g ** 2\n",
    "        gradient_scaling = T.sqrt(acc_new + epsilon)\n",
    "        g = g / gradient_scaling\n",
    "        updates.append((acc, acc_new))\n",
    "        updates.append((p, p - lr * g))\n",
    "    return updates\n",
    "\n",
    "def negative_log_likelihood(p_y_given_x,y):\n",
    "        \"\"\"Return the mean of the negative log-likelihood of the prediction\n",
    "        of this model under a given target distribution.\n",
    "\n",
    "        .. math::\n",
    "\n",
    "            \\frac{1}{|\\mathcal{D}|} \\mathcal{L} (\\theta=\\{W,b\\}, \\mathcal{D}) =\n",
    "            \\frac{1}{|\\mathcal{D}|} \\sum_{i=0}^{|\\mathcal{D}|}\n",
    "                \\log(P(Y=y^{(i)}|x^{(i)}, W,b)) \\\\\n",
    "            \\ell (\\theta=\\{W,b\\}, \\mathcal{D})\n",
    "\n",
    "        :type y: theano.tensor.TensorType\n",
    "        :param y: corresponds to a vector that gives for each example the\n",
    "                  correct label\n",
    "\n",
    "        Note: we use the mean instead of the sum so that\n",
    "              the learning rate is less dependent on the batch size\n",
    "        \"\"\"\n",
    "        # start-snippet-2\n",
    "        # y.shape[0] is (symbolically) the number of rows in y, i.e.,\n",
    "        # number of examples (call it n) in the minibatch\n",
    "        # T.arange(y.shape[0]) is a symbolic vector which will contain\n",
    "        # [0,1,2,... n-1] T.log(self.p_y_given_x) is a matrix of\n",
    "        # Log-Probabilities (call it LP) with one row per example and\n",
    "        # one column per class LP[T.arange(y.shape[0]),y] is a vector\n",
    "        # v containing [LP[0,y[0]], LP[1,y[1]], LP[2,y[2]], ...,\n",
    "        # LP[n-1,y[n-1]]] and T.mean(LP[T.arange(y.shape[0]),y]) is\n",
    "        # the mean (across minibatch examples) of the elements in v,\n",
    "        # i.e., the mean log-likelihood across the minibatch.\n",
    "        return -T.mean(T.log(p_y_given_x)[T.arange(y.shape[0]), y])\n",
    "    \n",
    "def saveModel(i):\n",
    "    snapshot = modelDir + \"SentibankVinePredictor_likes_lognormal\" + str(i) +\".model\"    \n",
    "    mfile = open(snapshot, 'wb')\n",
    "    cPickle.dump(params, mfile, protocol=cPickle.HIGHEST_PROTOCOL)\n",
    "    mfile.close()\n"
   ]
  },
  {
   "cell_type": "code",
   "execution_count": 105,
   "metadata": {
    "collapsed": true
   },
   "outputs": [],
   "source": [
    "def model(X, w0, b0, w1, b1, w2, b2, w_o, b_o, p_drop_conv, p_drop_hidden):\n",
    "\n",
    "    l0 = rectify(T.dot(X, w0) + b0.dimshuffle('x', 0 ))\n",
    "    l0 = dropout(l0, p_drop_hidden)\n",
    "    \n",
    "    l1 = rectify(T.dot(l0, w1) + b1.dimshuffle('x', 0 ))\n",
    "    l1 = dropout(l1, p_drop_hidden)\n",
    "    \n",
    "    l2 = rectify(T.dot(l1, w2) + b2.dimshuffle('x', 0))\n",
    "    l2 = dropout(l2, p_drop_hidden)\n",
    "\n",
    "    pyx = T.nnet.softmax(T.dot(l2, w_o) + b_o.dimshuffle('x', 0))\n",
    "    #opVec = T.dot(l2, w_o) + b_o.dimshuffle('x', 0)\n",
    "    #ydev = opVec-opVec.max(1,keepdims=True)\n",
    "    #pyx = ydev - T.log(T.sum(T.exp(ydev),axis=1,keepdims=True))\n",
    "    return l0, l1, l2, pyx\n"
   ]
  },
  {
   "cell_type": "code",
   "execution_count": 107,
   "metadata": {
    "collapsed": false
   },
   "outputs": [],
   "source": [
    "w0 = init_weights((1000, 1000)) \n",
    "b0 = init_bias((1000,1))\n",
    "\n",
    "w1 = init_weights((1000, 10000)) \n",
    "b1 = init_bias((10000 , 1))\n",
    "\n",
    "w2 = init_weights((10000, 1000)) \n",
    "b2 = init_bias((1000 , 1))\n",
    "\n",
    "w_o = init_weights((1000, 20))\n",
    "b_o = init_bias((20,1))\n",
    "\n",
    "# w_o = init_weights((1000, 30))\n",
    "# b_o = init_bias((30,1))\n"
   ]
  },
  {
   "cell_type": "code",
   "execution_count": 108,
   "metadata": {
    "collapsed": false
   },
   "outputs": [],
   "source": [
    "learning_rate = 0.005\n",
    "batch_size = 60\n",
    "\n",
    "X = T.fmatrix()\n",
    "Y = T.imatrix()\n",
    "\n",
    "noise_10 , noise_l1, noise_l2, noise_py_x = model(X, w0, b0, w1, b1, w2, b2, w_o, b_o, 0.2, 0.5)\n",
    "\n",
    "params = [ w0, b0, w1, b1, w2, b2, w_o, b_o ]\n",
    "\n",
    "#yvec = argmax(noise_py_x,axis=1)\n",
    "cost = T.nnet.categorical_crossentropy(noise_py_x, Y).mean()\n",
    "#cost = negative_log_likelihood(noise_py_x , Y)\n",
    "#cost = T.nnet.binary_crossentropy(noise_py_x, Y).mean()\n",
    "\n",
    "#stabler Cross Entropy\n",
    "\n",
    "#cost = -T.sum(Y*noise_py_x,axis=1).mean()\n",
    "\n",
    "updates = RMSprop(cost, params, lr=0.0009)\n",
    "\n",
    "grads = T.grad(cost, params)\n",
    "#updates = [ (param_i, param_i - learning_rate * grad_i) for param_i, grad_i in zip(params, grads)]\n",
    "    \n",
    "\n",
    "train = theano.function(inputs=[X, Y], outputs=cost, updates=updates, allow_input_downcast=True)\n",
    "\n",
    "#Predict Loop\n",
    "l0, l1, l2, py_x = model(X, w0, b0, w1, b1, w2, b2, w_o, b_o, 0., 0.)\n",
    "y_x = T.argmax(py_x, axis=1)\n",
    "predict = theano.function(inputs=[X], outputs=y_x, allow_input_downcast=True)"
   ]
  },
  {
   "cell_type": "code",
   "execution_count": 109,
   "metadata": {
    "collapsed": true
   },
   "outputs": [],
   "source": [
    "from sklearn import cross_validation\n",
    "from sklearn.cross_validation import KFold\n",
    "#X_train, X_test, y_train, y_test = cross_validation.train_test_split(reduced_feats, yLabels, test_size=0.2, random_state=0)\n",
    "kf = KFold(features_training.shape[0], n_folds=2)"
   ]
  },
  {
   "cell_type": "code",
   "execution_count": 110,
   "metadata": {
    "collapsed": true
   },
   "outputs": [],
   "source": [
    "logPickle = \"../Logs/LikesPredictionTraining_lognormal.pk\"\n",
    "modelDir = \"../Models/\""
   ]
  },
  {
   "cell_type": "code",
   "execution_count": 111,
   "metadata": {
    "collapsed": false
   },
   "outputs": [
    {
     "name": "stdout",
     "output_type": "stream",
     "text": [
      "('TRAIN:', array([ 7500,  7501,  7502, ..., 14997, 14998, 14999]), 'TEST:', array([   0,    1,    2, ..., 7497, 7498, 7499]))\n",
      "Epoch: 0  Accuracy: 0.9416 Cost: 0.140831824144\n",
      "Epoch: 1  Accuracy: 0.9416 Cost: 0.147379529476\n",
      "Epoch: 2  Accuracy: 0.9416 Cost: 0.148868068059\n",
      "Epoch: 3  Accuracy: 0.9416 Cost: 0.154470515251\n",
      "Epoch: 4  Accuracy: 0.9416 Cost: 0.152214809259\n",
      "Epoch: 5  Accuracy: 0.9416 Cost: 0.157311824958\n",
      "Epoch: 6  Accuracy: 0.9416 Cost: 0.145248317719\n",
      "Epoch: 7  Accuracy: 0.9416 Cost: 0.143637494246\n",
      "Epoch: 8  Accuracy: 0.9416 Cost: 0.149319442113\n",
      "Epoch: 9  Accuracy: 0.9416 Cost: 0.144158685207\n",
      "Epoch: 10  Accuracy: 0.9416 Cost: 0.138185520967\n",
      "Epoch: 11  Accuracy: 0.9416 Cost: 0.14666775465\n",
      "Epoch: 12  Accuracy: 0.9416 Cost: 0.142731352647\n",
      "Epoch: 13  Accuracy: 0.9416 Cost: 0.13698224624\n",
      "Epoch: 14  Accuracy: 0.9416 Cost: 0.151110593478\n",
      "Epoch: 15  Accuracy: 0.9416 Cost: 0.159138786793\n",
      "Epoch: 16  Accuracy: 0.9416 Cost: 0.127555473646\n",
      "Epoch: 17  Accuracy: 0.9416 Cost: 0.12932779789\n",
      "Epoch: 18  Accuracy: 0.9416 Cost: 0.131770706177\n",
      "Epoch: 19  Accuracy: 0.9416 Cost: 0.118396810691\n",
      "Epoch: 20  Accuracy: 0.9416 Cost: 0.120549432437\n",
      "Epoch: 21  Accuracy: 0.9416 Cost: 0.106700325012\n",
      "Epoch: 22  Accuracy: 0.9416 Cost: 0.0922646125158\n",
      "Epoch: 23  Accuracy: 0.9416 Cost: 0.0977368235588\n",
      "Epoch: 24  Accuracy: 0.9416 Cost: 0.0837081988653\n",
      "Epoch: 25  Accuracy: 0.9416 Cost: 0.0715735793114\n",
      "Epoch: 26  Accuracy: 0.9416 Cost: 0.0783301909765\n",
      "Epoch: 27  Accuracy: 0.941466666667 Cost: 0.0698090155919\n",
      "Epoch: 28  Accuracy: 0.9416 Cost: 0.0681358893712\n",
      "Epoch: 29  Accuracy: 0.941466666667 Cost: 0.0515967170397\n",
      "Epoch: 30  Accuracy: 0.941733333333 Cost: 0.0460665106773\n",
      "Epoch: 31  Accuracy: 0.942266666667 Cost: 0.0477207899094\n",
      "Epoch: 32  Accuracy: 0.9432 Cost: 0.0431909283002\n",
      "Epoch: 33  Accuracy: 0.943466666667 Cost: 0.03937018315\n",
      "Epoch: 34  Accuracy: 0.945333333333 Cost: 0.0357011516889\n",
      "Epoch: 35  Accuracy: 0.945466666667 Cost: 0.0327399214109\n",
      "Epoch: 36  Accuracy: 0.946666666667 Cost: 0.0372055451075\n",
      "Epoch: 37  Accuracy: 0.9464 Cost: 0.023016111056\n",
      "Epoch: 38  Accuracy: 0.9472 Cost: 0.0256390333176\n",
      "Epoch: 39  Accuracy: 0.947466666667 Cost: 0.0277849912643\n",
      "Epoch: 40  Accuracy: 0.9488 Cost: 0.0245810230573\n",
      "Epoch: 41  Accuracy: 0.9476 Cost: 0.0236662626266\n",
      "Epoch: 42  Accuracy: 0.9488 Cost: 0.0174741347631\n",
      "Epoch: 43  Accuracy: 0.949733333333 Cost: 0.0275537927945\n",
      "Epoch: 44  Accuracy: 0.95 Cost: 0.024770685037\n",
      "Epoch: 45  Accuracy: 0.950666666667 Cost: 0.0247064550718\n",
      "Epoch: 46  Accuracy: 0.951466666667 Cost: 0.020293200016\n",
      "Epoch: 47  Accuracy: 0.951733333333 Cost: 0.0194827159246\n",
      "Epoch: 48  Accuracy: 0.952 Cost: 0.0175369342168\n",
      "Epoch: 49  Accuracy: 0.9504 Cost: 0.0158707141876\n",
      "Epoch: 50  Accuracy: 0.952 Cost: 0.0157593091329\n",
      "Epoch: 51  Accuracy: 0.952666666667 Cost: 0.0244367361069\n",
      "Epoch: 52  Accuracy: 0.951333333333 Cost: 0.0075957775116\n",
      "Epoch: 53  Accuracy: 0.9552 Cost: 0.0170361359914\n",
      "Epoch: 54  Accuracy: 0.952533333333 Cost: 0.00933034420013\n",
      "Epoch: 55  Accuracy: 0.956533333333 Cost: 0.0221651315689\n",
      "Epoch: 56  Accuracy: 0.953466666667 Cost: 0.0253148317337\n",
      "Epoch: 57  Accuracy: 0.955733333333 Cost: 0.013684630394\n",
      "Epoch: 58  Accuracy: 0.954666666667 Cost: 0.0201404452324\n",
      "Epoch: 59  Accuracy: 0.958133333333 Cost: 0.0204585194588\n",
      "Epoch: 60  Accuracy: 0.9572 Cost: 0.0185683965683\n",
      "Epoch: 61  Accuracy: 0.955333333333 Cost: 0.0119236389796\n",
      "Epoch: 62  Accuracy: 0.958933333333 Cost: 0.0243213574092\n",
      "Epoch: 63  Accuracy: 0.957866666667 Cost: 0.018761797746\n",
      "Epoch: 64  Accuracy: 0.957066666667 Cost: 0.0157379746437\n",
      "Epoch: 65  Accuracy: 0.959466666667 Cost: 0.00836350520452\n",
      "Epoch: 66  Accuracy: 0.958533333333 Cost: 0.0149887402852\n",
      "Epoch: 67  Accuracy: 0.958 Cost: 0.0273033062617\n",
      "Epoch: 68  Accuracy: 0.958 Cost: 0.0222379604975\n",
      "Epoch: 69  Accuracy: 0.958533333333 Cost: 0.0634715954463\n",
      "Epoch: 70  Accuracy: 0.9588 Cost: 0.0150852322578\n",
      "Epoch: 71  Accuracy: 0.958933333333 Cost: 0.0128730535507\n",
      "Epoch: 72  Accuracy: 0.958 Cost: 0.00864462852478\n",
      "Epoch: 73  Accuracy: 0.960133333333 Cost: 0.0494656443596\n",
      "Epoch: 74  Accuracy: 0.956266666667 Cost: 0.00193338394165\n",
      "Epoch: 75  Accuracy: 0.960933333333 Cost: 0.0178467671076\n",
      "Epoch: 76  Accuracy: 0.958533333333 Cost: 0.00949900945028\n",
      "Epoch: 77  Accuracy: 0.9612 Cost: 0.00965957641602\n",
      "Epoch: 78  Accuracy: 0.9592 Cost: 0.00962822437286\n",
      "Epoch: 79  Accuracy: 0.958933333333 Cost: 0.00656971931458\n",
      "Epoch: 80  Accuracy: 0.960533333333 Cost: 0.010691857338\n",
      "Epoch: 81  Accuracy: 0.9576 Cost: 0.0109135866165\n",
      "Epoch: 82  Accuracy: 0.962266666667 Cost: 0.00400353272756\n",
      "Epoch: 83  Accuracy: 0.960666666667 Cost: 0.00569865703583\n",
      "Epoch: 84  Accuracy: 0.961333333333 Cost: 0.00312968889872\n",
      "Epoch: 85  Accuracy: 0.962266666667 Cost: 0.0366032759349\n",
      "Epoch: 86  Accuracy: 0.961466666667 Cost: 0.00364355246226\n",
      "Epoch: 87  Accuracy: 0.962533333333 Cost: 0.00745040575663\n",
      "Epoch: 88  Accuracy: 0.963466666667 Cost: 0.00330310662587\n",
      "Epoch: 89  Accuracy: 0.9616 Cost: 0.00433637301127\n",
      "Epoch: 90  Accuracy: 0.956666666667 Cost: 0.00543746948242\n",
      "Epoch: 91  Accuracy: 0.9636 Cost: 0.041901520888\n",
      "Epoch: 92  Accuracy: 0.9636 Cost: 0.0693769534429\n",
      "Epoch: 93  Accuracy: 0.963466666667 Cost: 0.00898466904958\n",
      "Epoch: 94  Accuracy: 0.963733333333 Cost: 0.0218327641487\n",
      "Epoch: 95  Accuracy: 0.9632 Cost: 0.0409829497337\n",
      "Epoch: 96  Accuracy: 0.964666666667 Cost: 0.00208161671956\n",
      "Epoch: 97  Accuracy: 0.960933333333 Cost: 0.0025838692983\n",
      "Epoch: 98  Accuracy: 0.963333333333 Cost: 0.00638244152069\n",
      "Epoch: 99  Accuracy: 0.964133333333 Cost: 0.00342593193054\n",
      "Epoch: 100  Accuracy: 0.9636 Cost: 0.0162186861038\n",
      "Epoch: 101  Accuracy: 0.964666666667 Cost: 0.0179729064306\n",
      "Epoch: 102  Accuracy: 0.9636 Cost: 0.00299841562907\n",
      "Epoch: 103  Accuracy: 0.9636 Cost: 0.000748443603516\n",
      "Epoch: 104  Accuracy: 0.965466666667 Cost: 0.00260503292084\n",
      "Epoch: 105  Accuracy: 0.9624 Cost: 0.00325032075246\n",
      "Epoch: 106  Accuracy: 0.962 Cost: 0.00400095780691\n",
      "Epoch: 107  Accuracy: 0.9604 Cost: 0.0070760567983\n",
      "Epoch: 108  Accuracy: 0.9656 Cost: 0.0362136006355\n",
      "Epoch: 109  Accuracy: 0.963333333333 Cost: 0.00110669930776\n",
      "Epoch: 110  Accuracy: 0.960533333333 Cost: 0.00399053096771\n",
      "Epoch: 111  Accuracy: 0.963333333333 Cost: 0.00190677642822\n",
      "Epoch: 112  Accuracy: 0.9644 Cost: 0.000752703348796\n",
      "Epoch: 113  Accuracy: 0.9652 Cost: 0.00232577323914\n",
      "Epoch: 114  Accuracy: 0.961466666667 Cost: 0.00125231742859\n",
      "Epoch: 115  Accuracy: 0.963466666667 Cost: 0.00353163878123\n",
      "Epoch: 116  Accuracy: 0.966533333333 Cost: 0.00758515993754\n",
      "Epoch: 117  Accuracy: 0.965466666667 Cost: 0.0120930115382\n",
      "Epoch: 118  Accuracy: 0.966266666667 Cost: 0.000635004043579\n",
      "Epoch: 119  Accuracy: 0.962266666667 Cost: 0.013027660052\n",
      "Epoch: 120  Accuracy: 0.9656 Cost: 0.0520930926005\n",
      "Epoch: 121  Accuracy: 0.961733333333 Cost: 0.0287085652351\n",
      "Epoch: 122  Accuracy: 0.9668 Cost: 0.00260693232218\n",
      "Epoch: 123  Accuracy: 0.962666666667 Cost: 0.00112680594126\n",
      "Epoch: 124  Accuracy: 0.9664 Cost: 0.000474262237549\n",
      "Epoch: 125  Accuracy: 0.9644 Cost: 0.00135564009349\n",
      "Epoch: 126  Accuracy: 0.966133333333 Cost: 0.000554776191711\n",
      "Epoch: 127  Accuracy: 0.965733333333 Cost: 0.000456698735555\n",
      "Epoch: 128  Accuracy: 0.9616 Cost: 0.000593153635661\n",
      "Epoch: 129  Accuracy: 0.965333333333 Cost: 0.00062460899353\n",
      "Epoch: 130  Accuracy: 0.966933333333 Cost: 0.0448845982552\n",
      "Epoch: 131  Accuracy: 0.964133333333 Cost: 0.0105572779973\n",
      "Epoch: 132  Accuracy: 0.9612 Cost: 0.000650024414063\n",
      "Epoch: 133  Accuracy: 0.9656 Cost: 0.000773398081462\n",
      "Epoch: 134  Accuracy: 0.961066666667 Cost: 0.00148480733236\n",
      "Epoch: 135  Accuracy: 0.9644 Cost: 0.000600218772888\n",
      "Epoch: 136  Accuracy: 0.9664 Cost: 0.0389255285263\n",
      "Epoch: 137  Accuracy: 0.9668 Cost: 0.000290417671204\n",
      "Epoch: 138  Accuracy: 0.967333333333 Cost: 0.000251189867655\n",
      "Epoch: 139  Accuracy: 0.966266666667 Cost: 0.000225941340129\n",
      "Epoch: 140  Accuracy: 0.961733333333 Cost: 0.00166467030843\n",
      "Epoch: 141  Accuracy: 0.967733333333 Cost: 0.000125479698181\n",
      "Epoch: 142  Accuracy: 0.965333333333 Cost: 0.000115354855855\n",
      "Epoch: 143  Accuracy: 0.963466666667 Cost: 0.000238585472107\n",
      "Epoch: 144  Accuracy: 0.964133333333 Cost: 0.00116868813833\n",
      "Epoch: 145  Accuracy: 0.965066666667 Cost: 0.00026330947876\n",
      "Epoch: 146  Accuracy: 0.9672 Cost: 0.000308020909627\n",
      "Epoch: 147  Accuracy: 0.963466666667 Cost: 0.000730109214783\n",
      "Epoch: 148  Accuracy: 0.967733333333 Cost: 0.000241184234619\n",
      "Epoch: 149  Accuracy: 0.968533333333 Cost: 0.00012153784434\n",
      "('TRAIN:', array([   0,    1,    2, ..., 7497, 7498, 7499]), 'TEST:', array([ 7500,  7501,  7502, ..., 14997, 14998, 14999]))\n",
      "Epoch: 0  Accuracy: 0.9988 Cost: 0.430771342913\n",
      "Epoch: 1  Accuracy: 0.9908 Cost: 0.337772075335\n",
      "Epoch: 2  Accuracy: 0.997333333333 Cost: 0.302269605796\n",
      "Epoch: 3  Accuracy: 0.9932 Cost: 0.23235450983\n",
      "Epoch: 4  Accuracy: 0.998533333333 Cost: 0.149658322334\n",
      "Epoch: 5  Accuracy: 0.9972 Cost: 0.166471258799\n",
      "Epoch: 6  Accuracy: 0.992666666667 Cost: 0.197542103132\n",
      "Epoch: 7  Accuracy: 0.997066666667 Cost: 0.110204641024\n",
      "Epoch: 8  Accuracy: 0.997066666667 Cost: 0.11439122359\n",
      "Epoch: 9  Accuracy: 0.9864 Cost: 0.219124237696\n",
      "Epoch: 10  Accuracy: 0.993466666667 Cost: 0.0965859572093\n",
      "Epoch: 11  Accuracy: 0.995466666667 Cost: 0.0817199150721\n",
      "Epoch: 12  Accuracy: 0.9956 Cost: 0.114225753148\n",
      "Epoch: 13  Accuracy: 0.988533333333 Cost: 0.165499734879\n",
      "Epoch: 14  Accuracy: 0.994 Cost: 0.15091650486\n",
      "Epoch: 15  Accuracy: 0.9924 Cost: 0.089257756869\n",
      "Epoch: 16  Accuracy: 0.993866666667 Cost: 0.0874946276347\n",
      "Epoch: 17  Accuracy: 0.9932 Cost: 0.0859368642171\n",
      "Epoch: 18  Accuracy: 0.9928 Cost: 0.0946165323257\n",
      "Epoch: 19  Accuracy: 0.989866666667 Cost: 0.133224463463\n",
      "Epoch: 20  Accuracy: 0.992666666667 Cost: 0.102009987831\n",
      "Epoch: 21  Accuracy: 0.9936 Cost: 0.0972668091456\n",
      "Epoch: 22  Accuracy: 0.991866666667 Cost: 0.0698553045591\n",
      "Epoch: 23  Accuracy: 0.987733333333 Cost: 0.0844985485077\n",
      "Epoch: 24  Accuracy: 0.991066666667 Cost: 0.0813977320989\n",
      "Epoch: 25  Accuracy: 0.991066666667 Cost: 0.0953938404719\n",
      "Epoch: 26  Accuracy: 0.990933333333 Cost: 0.0838977972666\n",
      "Epoch: 27  Accuracy: 0.9896 Cost: 0.0706919431686\n",
      "Epoch: 28  Accuracy: 0.990533333333 Cost: 0.0884322245916\n",
      "Epoch: 29  Accuracy: 0.989066666667 Cost: 0.0766128460566\n",
      "Epoch: 30  Accuracy: 0.988266666667 Cost: 0.0484599312147\n",
      "Epoch: 31  Accuracy: 0.989333333333 Cost: 0.0593516508738\n",
      "Epoch: 32  Accuracy: 0.989333333333 Cost: 0.0857769409815\n",
      "Epoch: 33  Accuracy: 0.9912 Cost: 0.0425020535787\n",
      "Epoch: 34  Accuracy: 0.990933333333 Cost: 0.0714516242345\n",
      "Epoch: 35  Accuracy: 0.989466666667 Cost: 0.0461331764857\n",
      "Epoch: 36  Accuracy: 0.989066666667 Cost: 0.0337341149648\n",
      "Epoch: 37  Accuracy: 0.9884 Cost: 0.0451308091482\n",
      "Epoch: 38  Accuracy: 0.988266666667 Cost: 0.0319386720657\n",
      "Epoch: 39  Accuracy: 0.984933333333 Cost: 0.058470137914\n",
      "Epoch: 40  Accuracy: 0.988533333333 Cost: 0.0408045848211\n",
      "Epoch: 41  Accuracy: 0.986666666667 Cost: 0.056431945165\n",
      "Epoch: 42  Accuracy: 0.988533333333 Cost: 0.0383312940598\n",
      "Epoch: 43  Accuracy: 0.9888 Cost: 0.0496681729952\n",
      "Epoch: 44  Accuracy: 0.988933333333 Cost: 0.0485169728597\n",
      "Epoch: 45  Accuracy: 0.9876 Cost: 0.0431464076042\n",
      "Epoch: 46  Accuracy: 0.9876 Cost: 0.0459311564763\n",
      "Epoch: 47  Accuracy: 0.988266666667 Cost: 0.0621441046397\n",
      "Epoch: 48  Accuracy: 0.987866666667 Cost: 0.0557090997696\n",
      "Epoch: 49  Accuracy: 0.9884 Cost: 0.0275754213333\n",
      "Epoch: 50  Accuracy: 0.986133333333 Cost: 0.0344166517258\n",
      "Epoch: 51  Accuracy: 0.9872 Cost: 0.0460679213206\n",
      "Epoch: 52  Accuracy: 0.9872 Cost: 0.0206348657608\n",
      "Epoch: 53  Accuracy: 0.9872 Cost: 0.0488038937251\n",
      "Epoch: 54  Accuracy: 0.9868 Cost: 0.0314738114675\n",
      "Epoch: 55  Accuracy: 0.9876 Cost: 0.0328822930654\n",
      "Epoch: 56  Accuracy: 0.9852 Cost: 0.0332371910413\n",
      "Epoch: 57  Accuracy: 0.9852 Cost: 0.0261683305105\n",
      "Epoch: 58  Accuracy: 0.987866666667 Cost: 0.0294425090154\n",
      "Epoch: 59  Accuracy: 0.9876 Cost: 0.03339518706\n",
      "Epoch: 60  Accuracy: 0.987733333333 Cost: 0.0236835678418\n",
      "Epoch: 61  Accuracy: 0.986133333333 Cost: 0.0277811725934\n",
      "Epoch: 62  Accuracy: 0.986533333333 Cost: 0.0174609780312\n",
      "Epoch: 63  Accuracy: 0.9876 Cost: 0.0195532997449\n",
      "Epoch: 64  Accuracy: 0.9868 Cost: 0.0532485326131\n",
      "Epoch: 65  Accuracy: 0.987333333333 Cost: 0.0195584615072\n",
      "Epoch: 66  Accuracy: 0.984933333333 Cost: 0.0297408302625\n",
      "Epoch: 67  Accuracy: 0.983466666667 Cost: 0.0211252093315\n",
      "Epoch: 68  Accuracy: 0.987066666667 Cost: 0.0360490759214\n",
      "Epoch: 69  Accuracy: 0.985733333333 Cost: 0.0514061292013\n",
      "Epoch: 70  Accuracy: 0.9852 Cost: 0.0278389414152\n",
      "Epoch: 71  Accuracy: 0.984133333333 Cost: 0.0354094545046\n",
      "Epoch: 72  Accuracy: 0.986133333333 Cost: 0.0268939336141\n",
      "Epoch: 73  Accuracy: 0.9868 Cost: 0.0432641665141\n",
      "Epoch: 74  Accuracy: 0.984533333333 Cost: 0.0150998433431\n",
      "Epoch: 75  Accuracy: 0.987066666667 Cost: 0.0220548272133\n",
      "Epoch: 76  Accuracy: 0.984933333333 Cost: 0.0239268700282\n",
      "Epoch: 77  Accuracy: 0.986666666667 Cost: 0.0240463932355\n",
      "Epoch: 78  Accuracy: 0.986133333333 Cost: 0.0166478633881\n",
      "Epoch: 79  Accuracy: 0.983866666667 Cost: 0.0909945726395\n",
      "Epoch: 80  Accuracy: 0.985066666667 Cost: 0.0253809094429\n",
      "Epoch: 81  Accuracy: 0.986 Cost: 0.0581934849421\n",
      "Epoch: 82  Accuracy: 0.984266666667 Cost: 0.011927096049\n",
      "Epoch: 83  Accuracy: 0.9852 Cost: 0.0220832188924\n",
      "Epoch: 84  Accuracy: 0.9804 Cost: 0.0379830996195\n",
      "Epoch: 85  Accuracy: 0.985466666667 Cost: 0.0320647637049\n",
      "Epoch: 86  Accuracy: 0.983733333333 Cost: 0.0463929812113\n",
      "Epoch: 87  Accuracy: 0.984 Cost: 0.0764668623606\n",
      "Epoch: 88  Accuracy: 0.9856 Cost: 0.02686201334\n",
      "Epoch: 89  Accuracy: 0.9852 Cost: 0.0207115491231\n",
      "Epoch: 90  Accuracy: 0.984266666667 Cost: 0.0202186942101\n",
      "Epoch: 91  Accuracy: 0.9836 Cost: 0.0439209143321\n",
      "Epoch: 92  Accuracy: 0.985066666667 Cost: 0.0331441958745\n",
      "Epoch: 93  Accuracy: 0.986133333333 Cost: 0.0264543175697\n",
      "Epoch: 94  Accuracy: 0.9828 Cost: 0.0153244892756\n",
      "Epoch: 95  Accuracy: 0.985333333333 Cost: 0.0350561420123\n",
      "Epoch: 96  Accuracy: 0.985466666667 Cost: 0.0505324482918\n",
      "Epoch: 97  Accuracy: 0.9844 Cost: 0.0311536312103\n",
      "Epoch: 98  Accuracy: 0.984666666667 Cost: 0.0158919533094\n",
      "Epoch: 99  Accuracy: 0.985333333333 Cost: 0.0200147430102\n",
      "Epoch: 100  Accuracy: 0.9848 Cost: 0.00998038053513\n",
      "Epoch: 101  Accuracy: 0.983866666667 Cost: 0.074790875117\n",
      "Epoch: 102  Accuracy: 0.981066666667 Cost: 0.0318800091743\n",
      "Epoch: 103  Accuracy: 0.9824 Cost: 0.0118426322937\n",
      "Epoch: 104  Accuracy: 0.982666666667 Cost: 0.0103896657626\n",
      "Epoch: 105  Accuracy: 0.9852 Cost: 0.0134535749753\n",
      "Epoch: 106  Accuracy: 0.9836 Cost: 0.014869205157\n",
      "Epoch: 107  Accuracy: 0.985066666667 Cost: 0.0298544645309\n",
      "Epoch: 108  Accuracy: 0.980666666667 Cost: 0.0496200521787\n",
      "Epoch: 109  Accuracy: 0.983733333333 Cost: 0.0122434258461\n",
      "Epoch: 110  Accuracy: 0.983333333333 Cost: 0.0199656804403\n",
      "Epoch: 111  Accuracy: 0.983333333333 Cost: 0.0186183253924\n",
      "Epoch: 112  Accuracy: 0.9828 Cost: 0.0183925231298\n",
      "Epoch: 113  Accuracy: 0.984133333333 Cost: 0.00947827498118\n",
      "Epoch: 114  Accuracy: 0.9844 Cost: 0.0423541386922\n",
      "Epoch: 115  Accuracy: 0.9848 Cost: 0.023107790947\n",
      "Epoch: 116  Accuracy: 0.981466666667 Cost: 0.00967157681783\n",
      "Epoch: 117  Accuracy: 0.982133333333 Cost: 0.0185587644577\n",
      "Epoch: 118  Accuracy: 0.985066666667 Cost: 0.00908224980036\n",
      "Epoch: 119  Accuracy: 0.983466666667 Cost: 0.0101160287857\n",
      "Epoch: 120  Accuracy: 0.9848 Cost: 0.0231951872508\n",
      "Epoch: 121  Accuracy: 0.984533333333 Cost: 0.0119404991468\n",
      "Epoch: 122  Accuracy: 0.984666666667 Cost: 0.0593858083089\n",
      "Epoch: 123  Accuracy: 0.984133333333 Cost: 0.0149182955424\n",
      "Epoch: 124  Accuracy: 0.982266666667 Cost: 0.0376713474592\n",
      "Epoch: 125  Accuracy: 0.9836 Cost: 0.0158641854922\n",
      "Epoch: 126  Accuracy: 0.982 Cost: 0.0156383275986\n",
      "Epoch: 127  Accuracy: 0.9824 Cost: 0.0130680720011\n",
      "Epoch: 128  Accuracy: 0.979866666667 Cost: 0.0135454018911\n",
      "Epoch: 129  Accuracy: 0.981066666667 Cost: 0.0282432238261\n",
      "Epoch: 130  Accuracy: 0.982933333333 Cost: 0.0213105281194\n",
      "Epoch: 131  Accuracy: 0.983866666667 Cost: 0.0127353390058\n",
      "Epoch: 132  Accuracy: 0.984666666667 Cost: 0.0204517920812\n",
      "Epoch: 133  Accuracy: 0.981466666667 Cost: 0.0120916207631\n",
      "Epoch: 134  Accuracy: 0.984 Cost: 0.0220981280009\n",
      "Epoch: 135  Accuracy: 0.984 Cost: 0.0227932373683\n",
      "Epoch: 136  Accuracy: 0.9824 Cost: 0.0147135138512\n",
      "Epoch: 137  Accuracy: 0.984933333333 Cost: 0.0149499058723\n",
      "Epoch: 138  Accuracy: 0.984266666667 Cost: 0.0191251754761\n",
      "Epoch: 139  Accuracy: 0.982666666667 Cost: 0.0148877104123\n",
      "Epoch: 140  Accuracy: 0.9824 Cost: 0.0126537044843\n",
      "Epoch: 141  Accuracy: 0.9836 Cost: 0.0178199768066\n",
      "Epoch: 142  Accuracy: 0.985333333333 Cost: 0.00972205003103\n",
      "Epoch: 143  Accuracy: 0.983866666667 Cost: 0.0158345103264\n",
      "Epoch: 144  Accuracy: 0.983333333333 Cost: 0.0100281556447\n",
      "Epoch: 145  Accuracy: 0.982933333333 Cost: 0.0134356657664\n",
      "Epoch: 146  Accuracy: 0.9812 Cost: 0.030292570591\n",
      "Epoch: 147  Accuracy: 0.983866666667 Cost: 0.012880619367\n",
      "Epoch: 148  Accuracy: 0.982533333333 Cost: 0.00873106320699\n",
      "Epoch: 149  Accuracy: 0.982533333333 Cost: 0.0159524957339\n"
     ]
    }
   ],
   "source": [
    "oldError = 0.\n",
    "startError = 0.\n",
    "iterStart = 0\n",
    "iterEnd = 150\n",
    "for train_index, test_index in kf:\n",
    "    print(\"TRAIN:\", train_index, \"TEST:\", test_index)\n",
    "    X_train, X_test = features_training[train_index], features_training[test_index]\n",
    "    y_train, y_test = likes_training[train_index], likes_training[test_index]\n",
    "    #y_train, y_test = reposts_training[train_index], reposts_training[test_index]\n",
    "\n",
    "    for i in range(iterStart,iterEnd):\n",
    "        for start, end in zip(range(0, len(X_train), batch_size), range(batch_size, len(X_train), batch_size)):\n",
    "            cost = train(X_train[start:end], y_train[start:end])\n",
    "        error = np.mean(np.argmax(y_test,axis=1) == predict(X_test))\n",
    "\n",
    "        if(i == iterStart):\n",
    "            oldError = error\n",
    "            startError = error\n",
    "\n",
    "        delta = ((error - oldError)/oldError)*100\n",
    "        improvement = ((startError - error)/startError)*100\n",
    "\n",
    "        if (delta > 2 or (i%100 == 0)):\n",
    "            saveModel(i)\n",
    "        if (improvement > 1.0):\n",
    "            saveModel(i)\n",
    "            startError = error\n",
    "\n",
    "        logline = \"Epoch: \" + str(i) + \"  Accuracy: \" + str(error) + \" Cost: \" + str(cost)\n",
    "        print logline\n",
    "        f = open(logPickle, 'a+')\n",
    "        cPickle.dump(logline , f);\n",
    "        f.close()\n",
    "        oldError = error"
   ]
  },
  {
   "cell_type": "code",
   "execution_count": 112,
   "metadata": {
    "collapsed": false
   },
   "outputs": [],
   "source": [
    "# validate_error = np.mean(np.argmax(reposts_validate,axis=1) == predict(features_validate))\n",
    "# print \"Out of Sample Validating Error %s\" + str(validate_error)"
   ]
  },
  {
   "cell_type": "code",
   "execution_count": 113,
   "metadata": {
    "collapsed": true
   },
   "outputs": [],
   "source": [
    "saveModel(\"final\")"
   ]
  },
  {
   "cell_type": "code",
   "execution_count": 114,
   "metadata": {
    "collapsed": false
   },
   "outputs": [],
   "source": [
    "# modelParams = open(\"../Models/SentibankVinePredictor_repostsfinal.model\")\n",
    "# Params = pickle.load(modelParams)"
   ]
  },
  {
   "cell_type": "code",
   "execution_count": 115,
   "metadata": {
    "collapsed": false
   },
   "outputs": [],
   "source": [
    "#LOAD MODEL\n",
    "# IP = T.fmatrix()\n",
    "# l0, l1, l2, py_x = model(IP, Params[0], Params[1], Params[2], Params[3], Params[4], Params[5], Params[6], Params[7], 0., 0.)\n",
    "# OP = T.argmax(py_x, axis=1)\n",
    "# predict = theano.function(inputs=[IP], outputs=OP, allow_input_downcast=True)"
   ]
  },
  {
   "cell_type": "code",
   "execution_count": 116,
   "metadata": {
    "collapsed": false,
    "scrolled": true
   },
   "outputs": [
    {
     "name": "stdout",
     "output_type": "stream",
     "text": [
      "Out of Sample Validating Error %s0.979358437936\n"
     ]
    }
   ],
   "source": [
    "validate_error = np.mean(np.argmax(likes_validate,axis=1) == predict(features_validate))\n",
    "print \"Out of Sample Validating Error %s\" + str(validate_error)"
   ]
  },
  {
   "cell_type": "code",
   "execution_count": 102,
   "metadata": {
    "collapsed": false
   },
   "outputs": [
    {
     "name": "stdout",
     "output_type": "stream",
     "text": [
      "0.0139470013947 [[ 1.          0.72490716]\n",
      " [ 0.72490716  1.        ]]\n"
     ]
    }
   ],
   "source": [
    "from sklearn.metrics import mean_absolute_error\n",
    "pred = predict(features_validate)\n",
    "MAE = mean_absolute_error(np.argmax(likes_validate,axis=1), pred)\n",
    "corr = np.corrcoef(np.argmax(likes_validate,axis=1), pred)\n",
    "print MAE , corr"
   ]
  },
  {
   "cell_type": "code",
   "execution_count": null,
   "metadata": {
    "collapsed": true
   },
   "outputs": [],
   "source": [
    "# lists = []\n",
    "# infile = open('ErrosCNN7LayersV2.pickle', 'r')\n",
    "# while 1:\n",
    "#     try:\n",
    "#         lists.append(pickle.load(infile))\n",
    "#     except (EOFError):\n",
    "#         break\n",
    "# infile.close()"
   ]
  },
  {
   "cell_type": "code",
   "execution_count": 156,
   "metadata": {
    "collapsed": false
   },
   "outputs": [
    {
     "name": "stdout",
     "output_type": "stream",
     "text": [
      "0.778 0.222 [[ 1.          0.00745114]\n",
      " [ 0.00745114  1.        ]]\n",
      "0.7764 0.2236 [[ 1.         -0.00119778]\n",
      " [-0.00119778  1.        ]]\n",
      "0.776666666667 0.223333333333 [[  1.00000000e+00   2.43707257e-04]\n",
      " [  2.43707257e-04   1.00000000e+00]]\n",
      "0.776666666667 0.223333333333 [[  1.00000000e+00   2.43707257e-04]\n",
      " [  2.43707257e-04   1.00000000e+00]]\n",
      "0.7732 0.2268 [[ 1.         -0.01849561]\n",
      " [-0.01849561  1.        ]]\n",
      "0.776933333333 0.223066666667 [[ 1.          0.00168519]\n",
      " [ 0.00168519  1.        ]]\n",
      "0.774666666667 0.225333333333 [[ 1.         -0.01056744]\n",
      " [-0.01056744  1.        ]]\n",
      "0.7752 0.2248 [[ 1.         -0.00768447]\n",
      " [-0.00768447  1.        ]]\n",
      "0.776666666667 0.223333333333 [[  1.00000000e+00   2.43707257e-04]\n",
      " [  2.43707257e-04   1.00000000e+00]]\n",
      "0.7796 0.2204 [[ 1.          0.01610005]\n",
      " [ 0.01610005  1.        ]]\n",
      "0.7756 0.2244 [[ 1.         -0.00552224]\n",
      " [-0.00552224  1.        ]]\n",
      "0.778133333333 0.221866666667 [[ 1.          0.00817188]\n",
      " [ 0.00817188  1.        ]]\n",
      "0.776 0.224 [[ 1.         -0.00336001]\n",
      " [-0.00336001  1.        ]]\n",
      "0.778666666667 0.221333333333 [[ 1.          0.01105485]\n",
      " [ 0.01105485  1.        ]]\n",
      "0.778133333333 0.221866666667 [[ 1.          0.00817188]\n",
      " [ 0.00817188  1.        ]]\n",
      "0.777733333333 0.222266666667 [[ 1.          0.00600965]\n",
      " [ 0.00600965  1.        ]]\n",
      "0.7768 0.2232 [[  1.00000000e+00   9.64450326e-04]\n",
      " [  9.64450326e-04   1.00000000e+00]]\n",
      "0.7756 0.2244 [[ 1.         -0.00552224]\n",
      " [-0.00552224  1.        ]]\n",
      "0.7764 0.2236 [[ 1.         -0.00119778]\n",
      " [-0.00119778  1.        ]]\n",
      "0.7768 0.2232 [[  1.00000000e+00   9.64450326e-04]\n",
      " [  9.64450326e-04   1.00000000e+00]]\n",
      "0.775066666667 0.224933333333 [[ 1.         -0.00840521]\n",
      " [-0.00840521  1.        ]]\n",
      "0.7748 0.2252 [[ 1.        -0.0098467]\n",
      " [-0.0098467  1.       ]]\n",
      "0.776133333333 0.223866666667 [[ 1.         -0.00263927]\n",
      " [-0.00263927  1.        ]]\n",
      "0.7744 0.2256 [[ 1.         -0.01200892]\n",
      " [-0.01200892  1.        ]]\n",
      "0.777466666667 0.222533333333 [[ 1.          0.00456817]\n",
      " [ 0.00456817  1.        ]]\n",
      "0.7764 0.2236 [[ 1.         -0.00119778]\n",
      " [-0.00119778  1.        ]]\n",
      "0.778666666667 0.221333333333 [[ 1.          0.01105485]\n",
      " [ 0.01105485  1.        ]]\n",
      "0.777866666667 0.222133333333 [[ 1.          0.00673039]\n",
      " [ 0.00673039  1.        ]]\n",
      "0.774666666667 0.225333333333 [[ 1.         -0.01056744]\n",
      " [-0.01056744  1.        ]]\n",
      "0.776266666667 0.223733333333 [[ 1.         -0.00191852]\n",
      " [-0.00191852  1.        ]]\n",
      "0.775066666667 0.224933333333 [[ 1.         -0.00840521]\n",
      " [-0.00840521  1.        ]]\n",
      "0.778666666667 0.221333333333 [[ 1.          0.01105485]\n",
      " [ 0.01105485  1.        ]]\n",
      "0.777066666667 0.222933333333 [[ 1.          0.00240594]\n",
      " [ 0.00240594  1.        ]]\n",
      "0.779733333333 0.220266666667 [[ 1.         0.0168208]\n",
      " [ 0.0168208  1.       ]]\n",
      "0.777733333333 0.222266666667 [[ 1.          0.00600965]\n",
      " [ 0.00600965  1.        ]]\n",
      "0.776666666667 0.223333333333 [[  1.00000000e+00   2.43707257e-04]\n",
      " [  2.43707257e-04   1.00000000e+00]]\n",
      "0.774933333333 0.225066666667 [[ 1.         -0.00912595]\n",
      " [-0.00912595  1.        ]]\n",
      "0.775733333333 0.224266666667 [[ 1.         -0.00480149]\n",
      " [-0.00480149  1.        ]]\n",
      "0.778266666667 0.221733333333 [[ 1.          0.00889262]\n",
      " [ 0.00889262  1.        ]]\n",
      "0.775333333333 0.224666666667 [[ 1.         -0.00696372]\n",
      " [-0.00696372  1.        ]]\n",
      "0.7804 0.2196 [[ 1.          0.02042451]\n",
      " [ 0.02042451  1.        ]]\n",
      "0.779066666667 0.220933333333 [[ 1.          0.01321708]\n",
      " [ 0.01321708  1.        ]]\n",
      "0.776533333333 0.223466666667 [[  1.00000000e+00  -4.77035813e-04]\n",
      " [ -4.77035813e-04   1.00000000e+00]]\n",
      "0.777466666667 0.222533333333 [[ 1.          0.00456817]\n",
      " [ 0.00456817  1.        ]]\n",
      "0.7796 0.2204 [[ 1.          0.01610005]\n",
      " [ 0.01610005  1.        ]]\n",
      "0.776266666667 0.223733333333 [[ 1.         -0.00191852]\n",
      " [-0.00191852  1.        ]]\n",
      "0.776533333333 0.223466666667 [[  1.00000000e+00  -4.77035813e-04]\n",
      " [ -4.77035813e-04   1.00000000e+00]]\n",
      "0.7752 0.2248 [[ 1.         -0.00768447]\n",
      " [-0.00768447  1.        ]]\n",
      "0.774266666667 0.225733333333 [[ 1.         -0.01272967]\n",
      " [-0.01272967  1.        ]]\n",
      "0.774666666667 0.225333333333 [[ 1.         -0.01056744]\n",
      " [-0.01056744  1.        ]]\n",
      "0.774933333333 0.225066666667 [[ 1.         -0.00912595]\n",
      " [-0.00912595  1.        ]]\n",
      "0.777866666667 0.222133333333 [[ 1.          0.00673039]\n",
      " [ 0.00673039  1.        ]]\n",
      "0.775333333333 0.224666666667 [[ 1.         -0.00696372]\n",
      " [-0.00696372  1.        ]]\n",
      "0.775866666667 0.224133333333 [[ 1.         -0.00408075]\n",
      " [-0.00408075  1.        ]]\n",
      "0.775466666667 0.224533333333 [[ 1.         -0.00624298]\n",
      " [-0.00624298  1.        ]]\n",
      "0.778933333333 0.221066666667 [[ 1.          0.01249634]\n",
      " [ 0.01249634  1.        ]]\n",
      "0.776533333333 0.223466666667 [[  1.00000000e+00  -4.77035813e-04]\n",
      " [ -4.77035813e-04   1.00000000e+00]]\n",
      "0.775466666667 0.224533333333 [[ 1.         -0.00624298]\n",
      " [-0.00624298  1.        ]]\n",
      "0.7764 0.2236 [[ 1.         -0.00119778]\n",
      " [-0.00119778  1.        ]]\n",
      "0.777733333333 0.222266666667 [[ 1.          0.00600965]\n",
      " [ 0.00600965  1.        ]]\n",
      "0.773866666667 0.226133333333 [[ 1.        -0.0148919]\n",
      " [-0.0148919  1.       ]]\n",
      "0.7752 0.2248 [[ 1.         -0.00768447]\n",
      " [-0.00768447  1.        ]]\n",
      "0.777066666667 0.222933333333 [[ 1.          0.00240594]\n",
      " [ 0.00240594  1.        ]]\n",
      "0.7772 0.2228 [[ 1.          0.00312668]\n",
      " [ 0.00312668  1.        ]]\n",
      "0.7772 0.2228 [[ 1.          0.00312668]\n",
      " [ 0.00312668  1.        ]]\n",
      "0.777466666667 0.222533333333 [[ 1.          0.00456817]\n",
      " [ 0.00456817  1.        ]]\n",
      "0.775066666667 0.224933333333 [[ 1.         -0.00840521]\n",
      " [-0.00840521  1.        ]]\n",
      "0.778933333333 0.221066666667 [[ 1.          0.01249634]\n",
      " [ 0.01249634  1.        ]]\n",
      "0.778 0.222 [[ 1.          0.00745114]\n",
      " [ 0.00745114  1.        ]]\n",
      "0.776 0.224 [[ 1.         -0.00336001]\n",
      " [-0.00336001  1.        ]]\n",
      "0.775866666667 0.224133333333 [[ 1.         -0.00408075]\n",
      " [-0.00408075  1.        ]]\n",
      "0.777733333333 0.222266666667 [[ 1.          0.00600965]\n",
      " [ 0.00600965  1.        ]]\n",
      "0.774666666667 0.225333333333 [[ 1.         -0.01056744]\n",
      " [-0.01056744  1.        ]]\n",
      "0.776666666667 0.223333333333 [[  1.00000000e+00   2.43707257e-04]\n",
      " [  2.43707257e-04   1.00000000e+00]]\n",
      "0.7772 0.2228 [[ 1.          0.00312668]\n",
      " [ 0.00312668  1.        ]]\n",
      "0.778133333333 0.221866666667 [[ 1.          0.00817188]\n",
      " [ 0.00817188  1.        ]]\n",
      "0.7768 0.2232 [[  1.00000000e+00   9.64450326e-04]\n",
      " [  9.64450326e-04   1.00000000e+00]]\n",
      "0.776 0.224 [[ 1.         -0.00336001]\n",
      " [-0.00336001  1.        ]]\n",
      "0.777466666667 0.222533333333 [[ 1.          0.00456817]\n",
      " [ 0.00456817  1.        ]]\n",
      "0.776266666667 0.223733333333 [[ 1.         -0.00191852]\n",
      " [-0.00191852  1.        ]]\n",
      "0.775466666667 0.224533333333 [[ 1.         -0.00624298]\n",
      " [-0.00624298  1.        ]]\n",
      "0.7756 0.2244 [[ 1.         -0.00552224]\n",
      " [-0.00552224  1.        ]]\n",
      "0.7756 0.2244 [[ 1.         -0.00552224]\n",
      " [-0.00552224  1.        ]]\n",
      "0.776 0.224 [[ 1.         -0.00336001]\n",
      " [-0.00336001  1.        ]]\n",
      "0.775466666667 0.224533333333 [[ 1.         -0.00624298]\n",
      " [-0.00624298  1.        ]]\n",
      "0.776266666667 0.223733333333 [[ 1.         -0.00191852]\n",
      " [-0.00191852  1.        ]]\n",
      "0.779333333333 0.220666666667 [[ 1.          0.01465857]\n",
      " [ 0.01465857  1.        ]]\n",
      "0.775733333333 0.224266666667 [[ 1.         -0.00480149]\n",
      " [-0.00480149  1.        ]]\n",
      "0.776133333333 0.223866666667 [[ 1.         -0.00263927]\n",
      " [-0.00263927  1.        ]]\n",
      "0.7764 0.2236 [[ 1.         -0.00119778]\n",
      " [-0.00119778  1.        ]]\n",
      "0.7776 0.2224 [[ 1.          0.00528891]\n",
      " [ 0.00528891  1.        ]]\n",
      "0.7768 0.2232 [[  1.00000000e+00   9.64450326e-04]\n",
      " [  9.64450326e-04   1.00000000e+00]]\n",
      "0.7764 0.2236 [[ 1.         -0.00119778]\n",
      " [-0.00119778  1.        ]]\n",
      "0.775733333333 0.224266666667 [[ 1.         -0.00480149]\n",
      " [-0.00480149  1.        ]]\n",
      "0.778133333333 0.221866666667 [[ 1.          0.00817188]\n",
      " [ 0.00817188  1.        ]]\n",
      "0.778266666667 0.221733333333 [[ 1.          0.00889262]\n",
      " [ 0.00889262  1.        ]]\n",
      "0.7756 0.2244 [[ 1.         -0.00552224]\n",
      " [-0.00552224  1.        ]]\n",
      "0.776933333333 0.223066666667 [[ 1.          0.00168519]\n",
      " [ 0.00168519  1.        ]]\n",
      "0.774666666667 0.225333333333 [[ 1.         -0.01056744]\n",
      " [-0.01056744  1.        ]]\n",
      "0.776133333333 0.223866666667 [[ 1.         -0.00263927]\n",
      " [-0.00263927  1.        ]]\n"
     ]
    }
   ],
   "source": [
    "Count = np.random.exponential(0.15, 15000)\n",
    "likeCount = np.zeros(len(Count))\n",
    "for i in range(len(Count)):\n",
    "    likeCount[i] = Count[i] * 100000\n",
    "classesLike = np.zeros((likeCount.shape[0],20) , dtype = 'int')\n",
    "for i in range(likeCount.shape[0]):\n",
    "    for j in range(19):\n",
    "        index = 100\n",
    "        if likeCount[i] < likesIndices[j]:\n",
    "            index = j\n",
    "    if index == 100:\n",
    "        index = 19\n",
    "    classesLike[i][index] = 1\n",
    "for count in range(100):\n",
    "    np.random.shuffle(classesLike)\n",
    "    np.random.shuffle(likes_training)\n",
    "    error = np.mean(np.argmax(classesLike,axis=1) == np.argmax(likes_training,axis=1))\n",
    "    MAE = mean_absolute_error(np.argmax(classesLike,axis=1), np.argmax(likes_training,axis=1))\n",
    "    corr = np.corrcoef(np.argmax(classesLike,axis=1), np.argmax(likes_training,axis=1))\n",
    "    print error , MAE , corr"
   ]
  },
  {
   "cell_type": "code",
   "execution_count": 157,
   "metadata": {
    "collapsed": true
   },
   "outputs": [],
   "source": [
    "Count = np.random.exponential(0.15, 15000)\n",
    "repostCount = np.zeros(len(Count))\n",
    "for i in range(len(Count)):\n",
    "    repostCount[i] = Count[i] * 30000"
   ]
  },
  {
   "cell_type": "code",
   "execution_count": 158,
   "metadata": {
    "collapsed": false
   },
   "outputs": [
    {
     "name": "stdout",
     "output_type": "stream",
     "text": [
      "2754.71370571\n"
     ]
    }
   ],
   "source": [
    "print repostCount[0]"
   ]
  },
  {
   "cell_type": "code",
   "execution_count": 159,
   "metadata": {
    "collapsed": false
   },
   "outputs": [
    {
     "name": "stdout",
     "output_type": "stream",
     "text": [
      "0.792266666667 0.207733333333 [[ 1.          0.00288088]\n",
      " [ 0.00288088  1.        ]]\n",
      "0.790933333333 0.209066666667 [[ 1.         -0.00643071]\n",
      " [-0.00643071  1.        ]]\n",
      "0.791733333333 0.208266666667 [[  1.00000000e+00  -8.43754773e-04]\n",
      " [ -8.43754773e-04   1.00000000e+00]]\n",
      "0.7924 0.2076 [[ 1.          0.00381204]\n",
      " [ 0.00381204  1.        ]]\n",
      "0.7904 0.2096 [[ 1.         -0.01015535]\n",
      " [-0.01015535  1.        ]]\n",
      "0.791866666667 0.208133333333 [[  1.00000000e+00   8.74048499e-05]\n",
      " [  8.74048499e-05   1.00000000e+00]]\n",
      "0.792266666667 0.207733333333 [[ 1.          0.00288088]\n",
      " [ 0.00288088  1.        ]]\n",
      "0.791866666667 0.208133333333 [[  1.00000000e+00   8.74048499e-05]\n",
      " [  8.74048499e-05   1.00000000e+00]]\n",
      "0.7912 0.2088 [[ 1.         -0.00456839]\n",
      " [-0.00456839  1.        ]]\n",
      "0.791066666667 0.208933333333 [[ 1.         -0.00549955]\n",
      " [-0.00549955  1.        ]]\n",
      "0.792533333333 0.207466666667 [[ 1.         0.0047432]\n",
      " [ 0.0047432  1.       ]]\n",
      "0.7904 0.2096 [[ 1.         -0.01015535]\n",
      " [-0.01015535  1.        ]]\n",
      "0.791866666667 0.208133333333 [[  1.00000000e+00   8.74048499e-05]\n",
      " [  8.74048499e-05   1.00000000e+00]]\n",
      "0.7924 0.2076 [[ 1.          0.00381204]\n",
      " [ 0.00381204  1.        ]]\n",
      "0.7936 0.2064 [[ 1.          0.01219248]\n",
      " [ 0.01219248  1.        ]]\n",
      "0.791333333333 0.208666666667 [[ 1.         -0.00363723]\n",
      " [-0.00363723  1.        ]]\n",
      "0.792133333333 0.207866666667 [[ 1.          0.00194972]\n",
      " [ 0.00194972  1.        ]]\n",
      "0.792933333333 0.207066666667 [[ 1.          0.00753668]\n",
      " [ 0.00753668  1.        ]]\n",
      "0.790933333333 0.209066666667 [[ 1.         -0.00643071]\n",
      " [-0.00643071  1.        ]]\n",
      "0.791333333333 0.208666666667 [[ 1.         -0.00363723]\n",
      " [-0.00363723  1.        ]]\n",
      "0.791866666667 0.208133333333 [[  1.00000000e+00   8.74048499e-05]\n",
      " [  8.74048499e-05   1.00000000e+00]]\n",
      "0.791866666667 0.208133333333 [[  1.00000000e+00   8.74048499e-05]\n",
      " [  8.74048499e-05   1.00000000e+00]]\n",
      "0.7924 0.2076 [[ 1.          0.00381204]\n",
      " [ 0.00381204  1.        ]]\n",
      "0.7924 0.2076 [[ 1.          0.00381204]\n",
      " [ 0.00381204  1.        ]]\n",
      "0.789866666667 0.210133333333 [[ 1.         -0.01387999]\n",
      " [-0.01387999  1.        ]]\n",
      "0.792133333333 0.207866666667 [[ 1.          0.00194972]\n",
      " [ 0.00194972  1.        ]]\n",
      "0.792266666667 0.207733333333 [[ 1.          0.00288088]\n",
      " [ 0.00288088  1.        ]]\n",
      "0.791066666667 0.208933333333 [[ 1.         -0.00549955]\n",
      " [-0.00549955  1.        ]]\n",
      "0.790533333333 0.209466666667 [[ 1.         -0.00922419]\n",
      " [-0.00922419  1.        ]]\n",
      "0.792533333333 0.207466666667 [[ 1.         0.0047432]\n",
      " [ 0.0047432  1.       ]]\n",
      "0.793066666667 0.206933333333 [[ 1.          0.00846784]\n",
      " [ 0.00846784  1.        ]]\n",
      "0.792133333333 0.207866666667 [[ 1.          0.00194972]\n",
      " [ 0.00194972  1.        ]]\n",
      "0.7924 0.2076 [[ 1.          0.00381204]\n",
      " [ 0.00381204  1.        ]]\n",
      "0.7936 0.2064 [[ 1.          0.01219248]\n",
      " [ 0.01219248  1.        ]]\n",
      "0.793333333333 0.206666666667 [[ 1.          0.01033016]\n",
      " [ 0.01033016  1.        ]]\n",
      "0.792666666667 0.207333333333 [[ 1.          0.00567436]\n",
      " [ 0.00567436  1.        ]]\n",
      "0.790533333333 0.209466666667 [[ 1.         -0.00922419]\n",
      " [-0.00922419  1.        ]]\n",
      "0.791066666667 0.208933333333 [[ 1.         -0.00549955]\n",
      " [-0.00549955  1.        ]]\n",
      "0.7916 0.2084 [[ 1.         -0.00177491]\n",
      " [-0.00177491  1.        ]]\n",
      "0.791466666667 0.208533333333 [[ 1.         -0.00270607]\n",
      " [-0.00270607  1.        ]]\n",
      "0.7936 0.2064 [[ 1.          0.01219248]\n",
      " [ 0.01219248  1.        ]]\n",
      "0.7896 0.2104 [[ 1.         -0.01574231]\n",
      " [-0.01574231  1.        ]]\n",
      "0.791333333333 0.208666666667 [[ 1.         -0.00363723]\n",
      " [-0.00363723  1.        ]]\n",
      "0.790133333333 0.209866666667 [[ 1.         -0.01201767]\n",
      " [-0.01201767  1.        ]]\n",
      "0.7896 0.2104 [[ 1.         -0.01574231]\n",
      " [-0.01574231  1.        ]]\n",
      "0.793733333333 0.206266666667 [[ 1.          0.01312364]\n",
      " [ 0.01312364  1.        ]]\n",
      "0.790666666667 0.209333333333 [[ 1.         -0.00829303]\n",
      " [-0.00829303  1.        ]]\n",
      "0.789466666667 0.210533333333 [[ 1.         -0.01667347]\n",
      " [-0.01667347  1.        ]]\n",
      "0.791866666667 0.208133333333 [[  1.00000000e+00   8.74048499e-05]\n",
      " [  8.74048499e-05   1.00000000e+00]]\n",
      "0.791733333333 0.208266666667 [[  1.00000000e+00  -8.43754773e-04]\n",
      " [ -8.43754773e-04   1.00000000e+00]]\n",
      "0.792 0.208 [[ 1.          0.00101856]\n",
      " [ 0.00101856  1.        ]]\n",
      "0.792533333333 0.207466666667 [[ 1.         0.0047432]\n",
      " [ 0.0047432  1.       ]]\n",
      "0.7924 0.2076 [[ 1.          0.00381204]\n",
      " [ 0.00381204  1.        ]]\n",
      "0.7908 0.2092 [[ 1.         -0.00736187]\n",
      " [-0.00736187  1.        ]]\n",
      "0.792933333333 0.207066666667 [[ 1.          0.00753668]\n",
      " [ 0.00753668  1.        ]]\n",
      "0.793866666667 0.206133333333 [[ 1.         0.0140548]\n",
      " [ 0.0140548  1.       ]]\n",
      "0.791066666667 0.208933333333 [[ 1.         -0.00549955]\n",
      " [-0.00549955  1.        ]]\n",
      "0.791333333333 0.208666666667 [[ 1.         -0.00363723]\n",
      " [-0.00363723  1.        ]]\n",
      "0.792 0.208 [[ 1.          0.00101856]\n",
      " [ 0.00101856  1.        ]]\n",
      "0.790266666667 0.209733333333 [[ 1.         -0.01108651]\n",
      " [-0.01108651  1.        ]]\n",
      "0.791066666667 0.208933333333 [[ 1.         -0.00549955]\n",
      " [-0.00549955  1.        ]]\n",
      "0.791466666667 0.208533333333 [[ 1.         -0.00270607]\n",
      " [-0.00270607  1.        ]]\n",
      "0.789466666667 0.210533333333 [[ 1.         -0.01667347]\n",
      " [-0.01667347  1.        ]]\n",
      "0.790933333333 0.209066666667 [[ 1.         -0.00643071]\n",
      " [-0.00643071  1.        ]]\n",
      "0.7916 0.2084 [[ 1.         -0.00177491]\n",
      " [-0.00177491  1.        ]]\n",
      "0.791066666667 0.208933333333 [[ 1.         -0.00549955]\n",
      " [-0.00549955  1.        ]]\n",
      "0.791066666667 0.208933333333 [[ 1.         -0.00549955]\n",
      " [-0.00549955  1.        ]]\n",
      "0.790666666667 0.209333333333 [[ 1.         -0.00829303]\n",
      " [-0.00829303  1.        ]]\n",
      "0.792 0.208 [[ 1.          0.00101856]\n",
      " [ 0.00101856  1.        ]]\n",
      "0.791466666667 0.208533333333 [[ 1.         -0.00270607]\n",
      " [-0.00270607  1.        ]]\n",
      "0.7904 0.2096 [[ 1.         -0.01015535]\n",
      " [-0.01015535  1.        ]]\n",
      "0.7908 0.2092 [[ 1.         -0.00736187]\n",
      " [-0.00736187  1.        ]]\n",
      "0.792266666667 0.207733333333 [[ 1.          0.00288088]\n",
      " [ 0.00288088  1.        ]]\n",
      "0.792933333333 0.207066666667 [[ 1.          0.00753668]\n",
      " [ 0.00753668  1.        ]]\n",
      "0.791733333333 0.208266666667 [[  1.00000000e+00  -8.43754773e-04]\n",
      " [ -8.43754773e-04   1.00000000e+00]]\n",
      "0.791333333333 0.208666666667 [[ 1.         -0.00363723]\n",
      " [-0.00363723  1.        ]]\n",
      "0.791333333333 0.208666666667 [[ 1.         -0.00363723]\n",
      " [-0.00363723  1.        ]]\n",
      "0.794133333333 0.205866666667 [[ 1.          0.01591712]\n",
      " [ 0.01591712  1.        ]]\n",
      "0.791733333333 0.208266666667 [[  1.00000000e+00  -8.43754773e-04]\n",
      " [ -8.43754773e-04   1.00000000e+00]]\n",
      "0.794 0.206 [[ 1.          0.01498596]\n",
      " [ 0.01498596  1.        ]]\n",
      "0.793066666667 0.206933333333 [[ 1.          0.00846784]\n",
      " [ 0.00846784  1.        ]]\n",
      "0.7912 0.2088 [[ 1.         -0.00456839]\n",
      " [-0.00456839  1.        ]]\n",
      "0.792933333333 0.207066666667 [[ 1.          0.00753668]\n",
      " [ 0.00753668  1.        ]]\n",
      "0.790666666667 0.209333333333 [[ 1.         -0.00829303]\n",
      " [-0.00829303  1.        ]]\n",
      "0.7932 0.2068 [[ 1.        0.009399]\n",
      " [ 0.009399  1.      ]]\n",
      "0.792133333333 0.207866666667 [[ 1.          0.00194972]\n",
      " [ 0.00194972  1.        ]]\n",
      "0.7916 0.2084 [[ 1.         -0.00177491]\n",
      " [-0.00177491  1.        ]]\n",
      "0.7924 0.2076 [[ 1.          0.00381204]\n",
      " [ 0.00381204  1.        ]]\n",
      "0.791733333333 0.208266666667 [[  1.00000000e+00  -8.43754773e-04]\n",
      " [ -8.43754773e-04   1.00000000e+00]]\n",
      "0.79 0.21 [[ 1.         -0.01294883]\n",
      " [-0.01294883  1.        ]]\n",
      "0.790266666667 0.209733333333 [[ 1.         -0.01108651]\n",
      " [-0.01108651  1.        ]]\n",
      "0.791333333333 0.208666666667 [[ 1.         -0.00363723]\n",
      " [-0.00363723  1.        ]]\n",
      "0.792533333333 0.207466666667 [[ 1.         0.0047432]\n",
      " [ 0.0047432  1.       ]]\n",
      "0.7924 0.2076 [[ 1.          0.00381204]\n",
      " [ 0.00381204  1.        ]]\n",
      "0.792533333333 0.207466666667 [[ 1.         0.0047432]\n",
      " [ 0.0047432  1.       ]]\n",
      "0.794666666667 0.205333333333 [[ 1.          0.01964176]\n",
      " [ 0.01964176  1.        ]]\n",
      "0.790533333333 0.209466666667 [[ 1.         -0.00922419]\n",
      " [-0.00922419  1.        ]]\n",
      "0.791466666667 0.208533333333 [[ 1.         -0.00270607]\n",
      " [-0.00270607  1.        ]]\n",
      "0.790933333333 0.209066666667 [[ 1.         -0.00643071]\n",
      " [-0.00643071  1.        ]]\n",
      "0.7916 0.2084 [[ 1.         -0.00177491]\n",
      " [-0.00177491  1.        ]]\n"
     ]
    }
   ],
   "source": [
    "\n",
    "repostLike = np.zeros((likeCount.shape[0],30) , dtype = 'int')\n",
    "for i in range(repostCount.shape[0]):\n",
    "    for j in range(29):\n",
    "        index = 100\n",
    "        if repostCount[i] < repostIndices[j]:\n",
    "            index = j\n",
    "    if index == 100:\n",
    "        index = 29\n",
    "    repostLike[i][index] = 1\n",
    "for count in range(100):\n",
    "    np.random.shuffle(repostLike)\n",
    "    #np.random.shuffle(reposts_training)\n",
    "    error = np.mean(np.argmax(repostLike,axis=1) == np.argmax(reposts_training,axis=1))\n",
    "    MAE = mean_absolute_error(np.argmax(repostLike,axis=1), np.argmax(reposts_training,axis=1))\n",
    "    corr = np.corrcoef(np.argmax(repostLike,axis=1), np.argmax(reposts_training,axis=1))\n",
    "    print error , MAE , corr"
   ]
  },
  {
   "cell_type": "code",
   "execution_count": null,
   "metadata": {
    "collapsed": true
   },
   "outputs": [],
   "source": []
  }
 ],
 "metadata": {
  "kernelspec": {
   "display_name": "Python 2",
   "language": "python",
   "name": "python2"
  },
  "language_info": {
   "codemirror_mode": {
    "name": "ipython",
    "version": 2
   },
   "file_extension": ".py",
   "mimetype": "text/x-python",
   "name": "python",
   "nbconvert_exporter": "python",
   "pygments_lexer": "ipython2",
   "version": "2.7.6"
  }
 },
 "nbformat": 4,
 "nbformat_minor": 0
}
