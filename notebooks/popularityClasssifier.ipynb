{
 "cells": [
  {
   "cell_type": "code",
   "execution_count": null,
   "metadata": {
    "collapsed": true
   },
   "outputs": [],
   "source": [
    "import numpy as np\n",
    "%matplotlib inline\n",
    "import matplotlib.pyplot as plt\n",
    "import matplotlib.cm as cm\n",
    "import json\n",
    "import os\n",
    "import sys\n",
    "sys.path.append(\"../lib\")\n",
    "from dataUtils import *\n",
    "from sentimentTools import UnpopularVids , PopularVids\n",
    "import cPickle as pickle\n",
    "import cv2\n",
    "from collections import Counter\n",
    "from scipy.interpolate import UnivariateSpline\n",
    "from scipy.stats import entropy \n",
    "from scipy.stats import chisquare\n",
    "from scipy.stats import ttest_ind\n"
   ]
  },
  {
   "cell_type": "code",
   "execution_count": null,
   "metadata": {
    "collapsed": true
   },
   "outputs": [],
   "source": [
    "popVidTools = PopularVids()\n",
    "unpopVidTools = UnpopularVids()"
   ]
  },
  {
   "cell_type": "code",
   "execution_count": null,
   "metadata": {
    "collapsed": true
   },
   "outputs": [],
   "source": [
    "popular_color_features = \"../Logs/vine_features_ordered.csv\"\n",
    "unpopular_color_features = \"../Logs/unpopular_vine_features_ordered.csv\"\n",
    "savedSentiments = \"../Logs/sentimentsSaved.csv\"\n"
   ]
  },
  {
   "cell_type": "code",
   "execution_count": null,
   "metadata": {
    "collapsed": true
   },
   "outputs": [],
   "source": [
    "def readFeatureFile(color_features):\n",
    "    with open(color_features) as g:\n",
    "        featureLines = g.readlines()\n",
    "    print len(featureLines)\n",
    "    return featureLines\n",
    "\n",
    "def readAesFeatuers(lines):\n",
    "    features = []\n",
    "    for line in lines:\n",
    "        components = line.strip().split('|')\n",
    "        features.append([float(x) for x in components[1:]])\n",
    "    return features\n",
    "\n",
    "def readFeatures(lines):\n",
    "    ids = []\n",
    "    features = []\n",
    "    feats = []\n",
    "    \n",
    "    components = lines[0].strip().split(',')\n",
    "    ID = components[0].strip().split('_')[0]\n",
    "    \n",
    "    for line in lines:\n",
    "        components = line.strip().split('|')\n",
    "        postId = components[0].strip().split('_')[0]\n",
    "        if postId != ID:\n",
    "            ids.append(postId)\n",
    "            ID = postId\n",
    "            #Take median of all frames in a vine for all the attributes\n",
    "            median = np.median(feats,0)\n",
    "            for i in range(len(median)):\n",
    "                if np.isnan(median[i]):\n",
    "                    median[i] = 0.0\n",
    "            features.append(median)\n",
    "            feats[:] = []\n",
    "            feats.append([float(x) for x in components[1:]]) \n",
    "        else :\n",
    "            feats.append([float(x) for x in components[1:]]) \n",
    "            \n",
    "    return np.asarray(features), ids\n",
    "\n",
    "def readSentiments():\n",
    "    with open(savedSentiments) as f:\n",
    "        sentiDataset = f.readlines()\n",
    "    posts = []\n",
    "    labels = []\n",
    "    sentiments = []\n",
    "    for line in sentiDataset:\n",
    "        comps = line.split(',')\n",
    "        posts.append(comps[0])\n",
    "        labels.append(comps[1])\n",
    "        sentiments.append(comps[2])\n",
    "    return posts, labels , sentiments"
   ]
  },
  {
   "cell_type": "code",
   "execution_count": null,
   "metadata": {
    "collapsed": false
   },
   "outputs": [],
   "source": [
    "pop_features = readFeatureFile(popular_color_features)\n",
    "unpop_features = readFeatureFile(unpopular_color_features)"
   ]
  },
  {
   "cell_type": "code",
   "execution_count": null,
   "metadata": {
    "collapsed": false
   },
   "outputs": [],
   "source": [
    "popfeatures_matrix , popposts = readFeatures(pop_features)"
   ]
  },
  {
   "cell_type": "code",
   "execution_count": null,
   "metadata": {
    "collapsed": false
   },
   "outputs": [],
   "source": [
    "unpopfeatures_matrix , unpopposts = readFeatures(unpop_features)"
   ]
  },
  {
   "cell_type": "code",
   "execution_count": null,
   "metadata": {
    "collapsed": false
   },
   "outputs": [],
   "source": [
    "posts , labels , sentimnets = readSentiments()"
   ]
  },
  {
   "cell_type": "code",
   "execution_count": null,
   "metadata": {
    "collapsed": false
   },
   "outputs": [],
   "source": [
    "print sentiDataset[1] , popfeatures_matrix.shape , unpopfeatures_matrix.shape"
   ]
  },
  {
   "cell_type": "code",
   "execution_count": null,
   "metadata": {
    "collapsed": false
   },
   "outputs": [],
   "source": [
    "print len( list( set(posts)))"
   ]
  },
  {
   "cell_type": "code",
   "execution_count": null,
   "metadata": {
    "collapsed": true
   },
   "outputs": [],
   "source": []
  }
 ],
 "metadata": {
  "kernelspec": {
   "display_name": "Python 2",
   "language": "python",
   "name": "python2"
  },
  "language_info": {
   "codemirror_mode": {
    "name": "ipython",
    "version": 2
   },
   "file_extension": ".py",
   "mimetype": "text/x-python",
   "name": "python",
   "nbconvert_exporter": "python",
   "pygments_lexer": "ipython2",
   "version": "2.7.6"
  }
 },
 "nbformat": 4,
 "nbformat_minor": 0
}
