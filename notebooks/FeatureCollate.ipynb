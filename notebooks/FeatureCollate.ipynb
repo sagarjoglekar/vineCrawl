{
 "cells": [
  {
   "cell_type": "code",
   "execution_count": 1,
   "metadata": {
    "collapsed": true
   },
   "outputs": [],
   "source": [
    "import numpy as np\n",
    "import cPickle as pickle\n",
    "import pandas as pd\n"
   ]
  },
  {
   "cell_type": "code",
   "execution_count": 51,
   "metadata": {
    "collapsed": true
   },
   "outputs": [],
   "source": [
    "meanSentiment = \"../Final_features/median_sentiments.csv\"\n",
    "aesthetic_csv = \"../Final_features/total_aesthetic.pk\"\n",
    "audiopop_csv = \"../Final_features/popAudio_features.csv\"\n",
    "audioUnpop_csv = \"../Final_features/unpopAudioFeatures.csv\"\n",
    "socialFeatures = \"../Final_features/postSocialMetaFeatures.pk\""
   ]
  },
  {
   "cell_type": "code",
   "execution_count": 4,
   "metadata": {
    "collapsed": false
   },
   "outputs": [
    {
     "name": "stdout",
     "output_type": "stream",
     "text": [
      "['1282183367848497152' '-1.10801774134e-14' '8.58375272881'\n",
      " '0.0526322079498' '0.0009765625' '0.00244140625' '0.540988032549'\n",
      " '0.446194058642' '0.850565751465' '0.0610475900012' '0.225965286793' '0.0'\n",
      " '0.0' '0.00567806518798' '-0.463018808309' '0.0122138666405'\n",
      " '0.00352911656145' '0.53609375' '0.00407062926302' '1.0']\n"
     ]
    }
   ],
   "source": [
    "f = open(aesthetic_csv , \"r+\")\n",
    "aesFeats = pickle.load(f)\n",
    "f.close()\n"
   ]
  },
  {
   "cell_type": "code",
   "execution_count": 53,
   "metadata": {
    "collapsed": false
   },
   "outputs": [
    {
     "name": "stdout",
     "output_type": "stream",
     "text": [
      "(18474, 20)\n"
     ]
    }
   ],
   "source": [
    "print aesFeats.shape"
   ]
  },
  {
   "cell_type": "code",
   "execution_count": 58,
   "metadata": {
    "collapsed": false
   },
   "outputs": [
    {
     "name": "stdout",
     "output_type": "stream",
     "text": [
      "1294156026651774976\n"
     ]
    }
   ],
   "source": [
    "f = open(socialFeatures , \"r+\")\n",
    "socialFeats = pickle.load(f)\n",
    "f.close()\n",
    "print socialFeats[104][0]"
   ]
  },
  {
   "cell_type": "code",
   "execution_count": 55,
   "metadata": {
    "collapsed": false
   },
   "outputs": [],
   "source": [
    "def readFeatureFile(color_features):\n",
    "    with open(color_features) as g:\n",
    "        featureLines = g.readlines()\n",
    "    print len(featureLines)\n",
    "    return featureLines\n",
    "\n",
    "\n",
    "def readAudioFeatures(lines):\n",
    "    featureDict = {}\n",
    "    \n",
    "    for line in lines:\n",
    "        components = line.strip().split(',')\n",
    "        postId = components[0].strip().split('.')[0]\n",
    "        feats = [float(x) for x in components[1:]]\n",
    "        cleanFeats = []\n",
    "        for x in feats:\n",
    "            if str(x) != 'nan':\n",
    "                cleanFeats.append(float(x))\n",
    "            else:\n",
    "                cleanFeats.append(0.0)\n",
    "        featureDict[postId] = cleanFeats\n",
    "            \n",
    "    return featureDict\n",
    "\n",
    "def readSentiFeatures(lines):\n",
    "    sentiDict = {}\n",
    "    for line in lines:\n",
    "        comp = line.split(',')\n",
    "        sentiDict[comp[0]] = float(comp[1].strip())\n",
    "    return sentiDict\n",
    "\n",
    "def mergeAllFeatures(aesthetic , sentiment , audio , social):\n",
    "    totalFeatures = []\n",
    "    labelFeatures = []\n",
    "    for aes in aesthetic:\n",
    "        if aes[0] in sentiment:\n",
    "            if aes[0] in audio:\n",
    "                if aes[0] in social[:,0]:\n",
    "                    i = social[0,:].index(aes[0])\n",
    "                    featureList = aes[1:] + audio[aes[0]] + sentiment[aes[0]] + social[i,1:3]\n",
    "                    totalFeatures.append(featureList)\n",
    "                    labelFeatures.append(social[i,3:])\n",
    "    return totalFeatures, labelFeatures"
   ]
  },
  {
   "cell_type": "code",
   "execution_count": 38,
   "metadata": {
    "collapsed": false
   },
   "outputs": [
    {
     "name": "stdout",
     "output_type": "stream",
     "text": [
      "11446\n"
     ]
    }
   ],
   "source": [
    "popAudio_csv = readFeatureFile(audiopop_csv)"
   ]
  },
  {
   "cell_type": "code",
   "execution_count": 39,
   "metadata": {
    "collapsed": false
   },
   "outputs": [
    {
     "name": "stdout",
     "output_type": "stream",
     "text": [
      "11992\n"
     ]
    }
   ],
   "source": [
    "unpopAudio_csv = readFeatureFile(audioUnpop_csv)"
   ]
  },
  {
   "cell_type": "code",
   "execution_count": 40,
   "metadata": {
    "collapsed": false
   },
   "outputs": [],
   "source": [
    "totalFeats = popAudio_csv + unpopAudio_csv\n",
    "audioDict = readAudioFeatures(totalFeats)"
   ]
  },
  {
   "cell_type": "code",
   "execution_count": 41,
   "metadata": {
    "collapsed": false
   },
   "outputs": [],
   "source": [
    "ex =  audioDict['1381729172183040000']"
   ]
  },
  {
   "cell_type": "code",
   "execution_count": 43,
   "metadata": {
    "collapsed": false
   },
   "outputs": [
    {
     "name": "stdout",
     "output_type": "stream",
     "text": [
      "[0.0, 0.16844, 40.915827, 0.10944, 0.7735, 0.333333]\n"
     ]
    }
   ],
   "source": [
    "print ex"
   ]
  },
  {
   "cell_type": "code",
   "execution_count": 45,
   "metadata": {
    "collapsed": false
   },
   "outputs": [
    {
     "name": "stdout",
     "output_type": "stream",
     "text": [
      "23441\n"
     ]
    }
   ],
   "source": [
    "senti_csv = readFeatureFile(meanSentiment)"
   ]
  },
  {
   "cell_type": "code",
   "execution_count": 49,
   "metadata": {
    "collapsed": true
   },
   "outputs": [],
   "source": [
    "sentiDict = readSentiFeatures(senti_csv)"
   ]
  },
  {
   "cell_type": "code",
   "execution_count": 50,
   "metadata": {
    "collapsed": false
   },
   "outputs": [
    {
     "data": {
      "text/plain": [
       "3.6"
      ]
     },
     "execution_count": 50,
     "metadata": {},
     "output_type": "execute_result"
    }
   ],
   "source": [
    "sentiDict['1381729172183040000']"
   ]
  },
  {
   "cell_type": "code",
   "execution_count": 56,
   "metadata": {
    "collapsed": false
   },
   "outputs": [
    {
     "ename": "TypeError",
     "evalue": "string indices must be integers, not tuple",
     "output_type": "error",
     "traceback": [
      "\u001b[1;31m---------------------------------------------------------------------------\u001b[0m",
      "\u001b[1;31mTypeError\u001b[0m                                 Traceback (most recent call last)",
      "\u001b[1;32m<ipython-input-56-0ce487071a9e>\u001b[0m in \u001b[0;36m<module>\u001b[1;34m()\u001b[0m\n\u001b[1;32m----> 1\u001b[1;33m \u001b[0mtrainFeats\u001b[0m\u001b[1;33m,\u001b[0m \u001b[0mlabelFeats\u001b[0m \u001b[1;33m=\u001b[0m \u001b[0mmergeAllFeatures\u001b[0m\u001b[1;33m(\u001b[0m\u001b[0maesFeats\u001b[0m \u001b[1;33m,\u001b[0m \u001b[0msentiDict\u001b[0m \u001b[1;33m,\u001b[0m \u001b[0maudioDict\u001b[0m \u001b[1;33m,\u001b[0m \u001b[0msocialFeatures\u001b[0m\u001b[1;33m)\u001b[0m\u001b[1;33m\u001b[0m\u001b[0m\n\u001b[0m",
      "\u001b[1;32m<ipython-input-55-f99021f271f9>\u001b[0m in \u001b[0;36mmergeAllFeatures\u001b[1;34m(aesthetic, sentiment, audio, social)\u001b[0m\n\u001b[0;32m     36\u001b[0m         \u001b[1;32mif\u001b[0m \u001b[0maes\u001b[0m\u001b[1;33m[\u001b[0m\u001b[1;36m0\u001b[0m\u001b[1;33m]\u001b[0m \u001b[1;32min\u001b[0m \u001b[0msentiment\u001b[0m\u001b[1;33m:\u001b[0m\u001b[1;33m\u001b[0m\u001b[0m\n\u001b[0;32m     37\u001b[0m             \u001b[1;32mif\u001b[0m \u001b[0maes\u001b[0m\u001b[1;33m[\u001b[0m\u001b[1;36m0\u001b[0m\u001b[1;33m]\u001b[0m \u001b[1;32min\u001b[0m \u001b[0maudio\u001b[0m\u001b[1;33m:\u001b[0m\u001b[1;33m\u001b[0m\u001b[0m\n\u001b[1;32m---> 38\u001b[1;33m                 \u001b[1;32mif\u001b[0m \u001b[0maes\u001b[0m\u001b[1;33m[\u001b[0m\u001b[1;36m0\u001b[0m\u001b[1;33m]\u001b[0m \u001b[1;32min\u001b[0m \u001b[0msocial\u001b[0m\u001b[1;33m[\u001b[0m\u001b[1;33m:\u001b[0m\u001b[1;33m,\u001b[0m\u001b[1;36m0\u001b[0m\u001b[1;33m]\u001b[0m\u001b[1;33m:\u001b[0m\u001b[1;33m\u001b[0m\u001b[0m\n\u001b[0m\u001b[0;32m     39\u001b[0m                     \u001b[0mi\u001b[0m \u001b[1;33m=\u001b[0m \u001b[0msocial\u001b[0m\u001b[1;33m[\u001b[0m\u001b[1;36m0\u001b[0m\u001b[1;33m,\u001b[0m\u001b[1;33m:\u001b[0m\u001b[1;33m]\u001b[0m\u001b[1;33m.\u001b[0m\u001b[0mindex\u001b[0m\u001b[1;33m(\u001b[0m\u001b[0maes\u001b[0m\u001b[1;33m[\u001b[0m\u001b[1;36m0\u001b[0m\u001b[1;33m]\u001b[0m\u001b[1;33m)\u001b[0m\u001b[1;33m\u001b[0m\u001b[0m\n\u001b[0;32m     40\u001b[0m                     \u001b[0mfeatureList\u001b[0m \u001b[1;33m=\u001b[0m \u001b[0maes\u001b[0m\u001b[1;33m[\u001b[0m\u001b[1;36m1\u001b[0m\u001b[1;33m:\u001b[0m\u001b[1;33m]\u001b[0m \u001b[1;33m+\u001b[0m \u001b[0maudio\u001b[0m\u001b[1;33m[\u001b[0m\u001b[0maes\u001b[0m\u001b[1;33m[\u001b[0m\u001b[1;36m0\u001b[0m\u001b[1;33m]\u001b[0m\u001b[1;33m]\u001b[0m \u001b[1;33m+\u001b[0m \u001b[0msentiment\u001b[0m\u001b[1;33m[\u001b[0m\u001b[0maes\u001b[0m\u001b[1;33m[\u001b[0m\u001b[1;36m0\u001b[0m\u001b[1;33m]\u001b[0m\u001b[1;33m]\u001b[0m \u001b[1;33m+\u001b[0m \u001b[0msocial\u001b[0m\u001b[1;33m[\u001b[0m\u001b[0mi\u001b[0m\u001b[1;33m,\u001b[0m\u001b[1;36m1\u001b[0m\u001b[1;33m:\u001b[0m\u001b[1;36m3\u001b[0m\u001b[1;33m]\u001b[0m\u001b[1;33m\u001b[0m\u001b[0m\n",
      "\u001b[1;31mTypeError\u001b[0m: string indices must be integers, not tuple"
     ]
    }
   ],
   "source": [
    "trainFeats, labelFeats = mergeAllFeatures(aesFeats , sentiDict , audioDict , socialFeatures)"
   ]
  },
  {
   "cell_type": "code",
   "execution_count": null,
   "metadata": {
    "collapsed": true
   },
   "outputs": [],
   "source": []
  }
 ],
 "metadata": {
  "kernelspec": {
   "display_name": "Python 2",
   "language": "python",
   "name": "python2"
  },
  "language_info": {
   "codemirror_mode": {
    "name": "ipython",
    "version": 2
   },
   "file_extension": ".py",
   "mimetype": "text/x-python",
   "name": "python",
   "nbconvert_exporter": "python",
   "pygments_lexer": "ipython2",
   "version": "2.7.6"
  }
 },
 "nbformat": 4,
 "nbformat_minor": 0
}
