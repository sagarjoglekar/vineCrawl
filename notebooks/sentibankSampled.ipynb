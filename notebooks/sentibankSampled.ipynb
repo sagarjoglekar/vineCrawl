{
 "cells": [
  {
   "cell_type": "code",
   "execution_count": 1,
   "metadata": {
    "collapsed": true
   },
   "outputs": [],
   "source": [
    "import numpy as np\n",
    "%matplotlib inline\n",
    "import matplotlib.pyplot as plt\n",
    "import matplotlib.cm as cm\n",
    "import json\n",
    "import os\n",
    "import cPickle as pickle\n"
   ]
  },
  {
   "cell_type": "code",
   "execution_count": 2,
   "metadata": {
    "collapsed": true
   },
   "outputs": [],
   "source": [
    "def getVisited():\n",
    "    visited = []\n",
    "    f = open(visitedList, 'rb')\n",
    "    visited = pickle.load(f)\n",
    "    return visited\n",
    "\n",
    "\n",
    "def walkLevel1Dir(root):\n",
    "    count = 0\n",
    "    dirList = []\n",
    "    filesList = []\n",
    "    for path, dirs, files in os.walk(root):\n",
    "        if count > 0:\n",
    "            return dirList , fileList\n",
    "        dirList = dirs\n",
    "        fileList = files\n",
    "        count = count + 1\n",
    "\n",
    "\n",
    "def getPopularFile(rootDir):\n",
    "    f = open(rootDir + '/popular.json' ,'r')\n",
    "    data = json.load(f)\n",
    "    return data\n",
    "\n",
    "    \n",
    "    \n",
    "def getPopularPosts(popular , loopThreshold):\n",
    "    records = popular['data']['records']\n",
    "    posts=[]\n",
    "    for i in range (0 , len(records)):\n",
    "        loopCount = records[i]['reposts']['count']\n",
    "        if(loopCount > loopThreshold):\n",
    "            posts.append(records[i])\n",
    "    return posts\n",
    "\n",
    "def getRecords(popular):\n",
    "    records = popular['data']['records']\n",
    "    return records\n",
    "\n",
    "def find(lst, val):\n",
    "    return [i for i, x in enumerate(lst) if x == val]"
   ]
  },
  {
   "cell_type": "code",
   "execution_count": 3,
   "metadata": {
    "collapsed": true
   },
   "outputs": [],
   "source": [
    "ClassFile = \"../Logs/classes.json\"\n",
    "\n",
    "vineScores = \"../Logs/sampledvineSentibankProbs2015_2.csv\"\n",
    "#selfieScores = \"../Logs/selfieSentibankProbs.csv\"\n",
    "\n",
    "vinePaths = \"../Logs/vinePaths2015_2.txt\"\n",
    "#selfiePaths = \"../Logs/selfiePaths.txt\"\n",
    "\n",
    "#selfiePopularityFile = \"../Logs/selfie_dataset.txt\"\n",
    "\n",
    "root = \"../vinedata/Data/\"\n",
    "\n",
    "visitedList = \"../Logs/sampledVids.data\""
   ]
  },
  {
   "cell_type": "code",
   "execution_count": 5,
   "metadata": {
    "collapsed": true
   },
   "outputs": [],
   "source": [
    "#Load the Sentibank scores for both selfies and Vines\n",
    "vineProbs = np.loadtxt(vineScores, delimiter=',')"
   ]
  },
  {
   "cell_type": "code",
   "execution_count": 4,
   "metadata": {
    "collapsed": true
   },
   "outputs": [],
   "source": [
    "f = open(ClassFile ,'r')\n",
    "sentibankClasses = json.load(f)\n",
    "f.close()\n",
    "\n",
    "with open(vinePaths) as g:\n",
    "    vineList = g.readlines()\n"
   ]
  },
  {
   "cell_type": "code",
   "execution_count": null,
   "metadata": {
    "collapsed": true
   },
   "outputs": [],
   "source": [
    "dirs,files = walkLevel1Dir(root)\n",
    "visited = getVisited()\n",
    "selectedPosts = []\n",
    "allPosts = []\n",
    "\n",
    "\n",
    "for d in dirs:\n",
    "    if d in visited:\n",
    "        dataRoot = root + d\n",
    "        popular = getPopularFile(dataRoot)\n",
    "        rec = getRecords(popular)\n",
    "        allPosts += rec"
   ]
  },
  {
   "cell_type": "code",
   "execution_count": null,
   "metadata": {
    "collapsed": true
   },
   "outputs": [],
   "source": [
    "postIds = []\n",
    "for line in vineList:\n",
    "    arr = line.split('/')\n",
    "    i = int(arr[5].split('_')[0])\n",
    "    postIds.append(i)"
   ]
  }
 ],
 "metadata": {
  "kernelspec": {
   "display_name": "Python 2",
   "language": "python",
   "name": "python2"
  },
  "language_info": {
   "codemirror_mode": {
    "name": "ipython",
    "version": 2
   },
   "file_extension": ".py",
   "mimetype": "text/x-python",
   "name": "python",
   "nbconvert_exporter": "python",
   "pygments_lexer": "ipython2",
   "version": "2.7.6"
  }
 },
 "nbformat": 4,
 "nbformat_minor": 0
}
