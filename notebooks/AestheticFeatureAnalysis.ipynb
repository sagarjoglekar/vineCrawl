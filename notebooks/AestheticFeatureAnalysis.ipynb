{
 "cells": [
  {
   "cell_type": "code",
   "execution_count": 1,
   "metadata": {
    "collapsed": false
   },
   "outputs": [],
   "source": [
    "import numpy as np\n",
    "%matplotlib inline\n",
    "import matplotlib.pyplot as plt\n",
    "import matplotlib.cm as cm\n",
    "import json\n",
    "import os\n",
    "import sys\n",
    "sys.path.append(\"../lib\")\n",
    "from dataUtils import *\n",
    "import cPickle as pickle\n",
    "import cv2\n",
    "from collections import Counter\n",
    "from scipy.interpolate import UnivariateSpline\n",
    "from scipy.stats import entropy \n",
    "from scipy.stats import chisquare\n",
    "from scipy.stats import ttest_ind\n"
   ]
  },
  {
   "cell_type": "code",
   "execution_count": 31,
   "metadata": {
    "collapsed": true
   },
   "outputs": [],
   "source": [
    "popular_color_features = \"../Final_features/vine_features_ordered.csv\"\n",
    "unpopular_color_features = \"../Final_features/Unpopular2016_aesthetic_ordered.csv\"\n",
    "aesthetic_color_features = \"../Logs/aesthetic_features_6.csv\"\n",
    "#aesthetic_csv = \"../Final_features/total_aesthetic_thirds.pk\"\n",
    "aesthetic_csv = \"../Final_features/Thirds_aesthetic_thirds.pk\"\n",
    "aesthetic_pop_temporal = \"../Final_features/popTemporalSampledAesthetic.csv\"\n",
    "aesthetic_unpop_temporal = \"../Final_features/unpopTemporalSampledAesthetic.csv\""
   ]
  },
  {
   "cell_type": "code",
   "execution_count": 39,
   "metadata": {
    "collapsed": false
   },
   "outputs": [],
   "source": [
    "def readFeatureFile(color_features):\n",
    "    with open(color_features) as g:\n",
    "        featureLines = g.readlines()\n",
    "    print len(featureLines)\n",
    "    return featureLines\n",
    "\n",
    "def readAesFeatuers(lines):\n",
    "    features = []\n",
    "    for line in lines:\n",
    "        components = line.strip().split('|')\n",
    "        features.append([float(x) for x in components[1:]])\n",
    "    return features\n",
    "\n",
    "def readFeatures(lines):\n",
    "    ids = []\n",
    "    features = []\n",
    "    feats = []\n",
    "    \n",
    "    components = lines[0].strip().split(',')\n",
    "    ID = components[0].strip().split('_')[0]\n",
    "    \n",
    "    for line in lines:\n",
    "        components = line.strip().split('|')\n",
    "        postId = components[0].strip().split('_')[0]\n",
    "        if postId != ID:\n",
    "            ids.append(postId)\n",
    "            ID = postId\n",
    "            #Take median of all frames in a vine for all the attributes\n",
    "            #median = np.median(feats,0)\n",
    "            median = feats[0]\n",
    "            for i in range(len(median)):\n",
    "                if np.isnan(median[i]):\n",
    "                    median[i] = 0.0\n",
    "            features.append(median)\n",
    "            feats[:] = []\n",
    "            feats.append([float(x) for x in components[1:]]) \n",
    "        else :\n",
    "            feats.append([float(x) for x in components[1:]]) \n",
    "            \n",
    "    return features, ids\n",
    "    \n",
    "\n",
    "def readFeaturesAsVector(lines):\n",
    "    ids = []\n",
    "    features = []\n",
    "    feats = []\n",
    "    \n",
    "    components = lines[0].strip().split(',')\n",
    "    ID = components[0].strip().split('_')[0]\n",
    "    \n",
    "    for line in lines:\n",
    "        components = line.strip().split('|')\n",
    "        postId = components[0].strip().split('_')[0]\n",
    "        if postId != ID:\n",
    "            ids.append(postId)\n",
    "            ID = postId\n",
    "            features.append(feats[:7])\n",
    "            feats[:] = []\n",
    "            feats.append([float(x) for x in components[1:]]) \n",
    "        else :\n",
    "            feats.append([float(x) for x in components[1:]]) \n",
    "            \n",
    "    return features, ids\n",
    "\n",
    "def getMaximumHistogram(featureVec , dimension ,function):\n",
    "    classifierCoeefs = np.asarray([ 0.       ,   0.03343475,  0.0218128 ,  0.02341605 , 0.02355142,  0.02526042,\n",
    "  0.02290093,  0.02206709,  0.02891414,  0.02192985,  0.01503583,  0.,\n",
    "  0.02182189,  0.02630779 , 0.02273517,  0.02183237,  0.02532157,  0.02034298,\n",
    "  0.01239432])\n",
    "    \n",
    "    maxClassifierCoefs = np.asarray([[ 0.       ,   0.03453842,  0.02570736,  0.02543318,  0.02516512,  0.02729427,\n",
    "  0.02423508,  0.02827428,  0.02917423,  0.02597833,  0.01458388,  0.,\n",
    "  0.02122234,  0.02544339,  0.02607218,  0.02100649,  0.02610868,  0.02172767,\n",
    "  0.01354962]])\n",
    "    max_hist = np.zeros(7)\n",
    "    for video in featureVec:\n",
    "        vec = [np.dot(maxClassifierCoefs,video[i][:]) for i in range(len(video))]\n",
    "        maxArg = function(np.asarray(vec))\n",
    "        max_hist[maxArg]+=1\n",
    "    return [np.sum(max_hist[:2])/len(featureVec) , np.sum(max_hist[2:4])/len(featureVec) , np.sum(max_hist[4:6])/len(featureVec) ]\n",
    "    "
   ]
  },
  {
   "cell_type": "code",
   "execution_count": 33,
   "metadata": {
    "collapsed": false
   },
   "outputs": [
    {
     "name": "stdout",
     "output_type": "stream",
     "text": [
      "50187\n"
     ]
    }
   ],
   "source": [
    "poptempLines = readFeatureFile(popular_color_features)\n",
    "\n"
   ]
  },
  {
   "cell_type": "code",
   "execution_count": 34,
   "metadata": {
    "collapsed": false
   },
   "outputs": [
    {
     "name": "stdout",
     "output_type": "stream",
     "text": [
      "1210\n"
     ]
    }
   ],
   "source": [
    "unpoptempLines = readFeatureFile(aesthetic_unpop_temporal)"
   ]
  },
  {
   "cell_type": "code",
   "execution_count": 35,
   "metadata": {
    "collapsed": false
   },
   "outputs": [],
   "source": [
    "popFeatureVec , popPosts = readFeaturesAsVector(poptempLines)"
   ]
  },
  {
   "cell_type": "code",
   "execution_count": 24,
   "metadata": {
    "collapsed": true
   },
   "outputs": [],
   "source": [
    "unpopFeatureVec , unpopPosts = readFeaturesAsVector(unpoptempLines)"
   ]
  },
  {
   "cell_type": "code",
   "execution_count": 25,
   "metadata": {
    "collapsed": false
   },
   "outputs": [
    {
     "data": {
      "text/plain": [
       "[7.016868567670068e-14,\n",
       " 0.9342863781728753,\n",
       " 0.06120288725221036,\n",
       " 0.0009765625,\n",
       " 0.001708984375,\n",
       " 0.007748312894398331,\n",
       " 0.011927083333333333,\n",
       " 0.9322843668301549,\n",
       " 0.12840624209239992,\n",
       " 0.833461758025358,\n",
       " 0.0,\n",
       " 0.0,\n",
       " 0.045529575241284544,\n",
       " -0.2780378903535902,\n",
       " 0.03949227827249132,\n",
       " 0.018865434994091226,\n",
       " 0.6472439236111112,\n",
       " 0.03784325697367253,\n",
       " 0.0]"
      ]
     },
     "execution_count": 25,
     "metadata": {},
     "output_type": "execute_result"
    }
   ],
   "source": [
    "unpopFeatureVec[1][0]"
   ]
  },
  {
   "cell_type": "code",
   "execution_count": 28,
   "metadata": {
    "collapsed": false
   },
   "outputs": [],
   "source": [
    "maxPopVec = getMaximumHistogram(popFeatureVec,17 ,np.argmax)\n",
    "\n",
    "maxunPopVec = getMaximumHistogram(unpopFeatureVec,17 ,np.argmax)"
   ]
  },
  {
   "cell_type": "code",
   "execution_count": 51,
   "metadata": {
    "collapsed": false
   },
   "outputs": [
    {
     "name": "stdout",
     "output_type": "stream",
     "text": [
      "[0.31536068730558436, 0.29136424233446895, 0.26810842838098059]\n",
      "[0.36180904522613067, 0.3165829145728643, 0.32160804020100503]\n"
     ]
    }
   ],
   "source": [
    "print maxPopVec\n",
    "print maxunPopVec"
   ]
  },
  {
   "cell_type": "code",
   "execution_count": 30,
   "metadata": {
    "collapsed": false
   },
   "outputs": [
    {
     "data": {
      "image/png": "[encoded data removed]",
      "text/plain": [
       "<matplotlib.figure.Figure at 0x7fa2353ff1d0>"
      ]
     },
     "metadata": {},
     "output_type": "display_data"
    }
   ],
   "source": [
    "fig, ax = plt.subplots()\n",
    "fig.set_size_inches(15, 10)\n",
    "ind = np.arange(1,4) \n",
    "width = 0.1\n",
    "## the bars\n",
    "rects1 = ax.bar(ind, maxPopVec, width,\n",
    "                color='b')\n",
    "#rects2 = ax.bar(ind+width, minPopVec, width,\n",
    "#                color='g')\n",
    "# rects3 = ax.bar(ind+2*width, maxunPopVec, width,\n",
    "#                 color='r')\n",
    "rects4 = ax.bar(ind+width, maxunPopVec, width,\n",
    "                 color='purple')\n",
    "\n",
    "# add some text for labels, title and axes ticks\n",
    "ax.set_ylabel('Cumulative Aesthetic Impact',fontsize=15)\n",
    "ax.set_xlabel('Which Third of the Video',fontsize=15)\n",
    "plt.legend(['Max Cummulative aesthetic occurance - Popular' , 'Max Cummulative aesthetic occurance - Unpopular' ]\n",
    "            , loc='upper right')\n",
    "ax.set_xticks(ind )\n",
    "\n",
    "plt.show()"
   ]
  },
  {
   "cell_type": "code",
   "execution_count": 40,
   "metadata": {
    "collapsed": false
   },
   "outputs": [
    {
     "name": "stdout",
     "output_type": "stream",
     "text": [
      "50187\n",
      "21733\n",
      "1149\n"
     ]
    }
   ],
   "source": [
    "pop_features = readFeatureFile(popular_color_features)\n",
    "unpop_features = readFeatureFile(unpopular_color_features)\n",
    "aesthetic_features = readFeatureFile(aesthetic_color_features)"
   ]
  },
  {
   "cell_type": "code",
   "execution_count": 41,
   "metadata": {
    "collapsed": false
   },
   "outputs": [],
   "source": [
    "popfeatures_matrix , popposts = readFeatures(pop_features)"
   ]
  },
  {
   "cell_type": "code",
   "execution_count": 42,
   "metadata": {
    "collapsed": false
   },
   "outputs": [],
   "source": [
    "unpopfeatures_matrix , unpopposts = readFeatures(unpop_features)"
   ]
  },
  {
   "cell_type": "code",
   "execution_count": 43,
   "metadata": {
    "collapsed": true
   },
   "outputs": [],
   "source": [
    "aes_feature = readAesFeatuers(aesthetic_features)"
   ]
  },
  {
   "cell_type": "code",
   "execution_count": 44,
   "metadata": {
    "collapsed": false
   },
   "outputs": [
    {
     "name": "stdout",
     "output_type": "stream",
     "text": [
      "6751 11723\n"
     ]
    }
   ],
   "source": [
    "print len(popposts) , len(unpopposts)"
   ]
  },
  {
   "cell_type": "code",
   "execution_count": 45,
   "metadata": {
    "collapsed": false
   },
   "outputs": [
    {
     "name": "stdout",
     "output_type": "stream",
     "text": [
      "(18474,)\n",
      "1281874693611532288\n"
     ]
    }
   ],
   "source": [
    "totalPosts = np.asarray(popposts + unpopposts)\n",
    "print totalPosts.shape\n",
    "print totalPosts[1]"
   ]
  },
  {
   "cell_type": "code",
   "execution_count": 46,
   "metadata": {
    "collapsed": false
   },
   "outputs": [
    {
     "name": "stdout",
     "output_type": "stream",
     "text": [
      "(18474, 19)\n",
      "[ -1.97269995e-14   4.29733404e+00   4.35666971e-01   2.49023438e-02\n",
      "   3.80859375e-02   3.13328493e-01   1.90694444e-01   8.86440146e-01\n",
      "   4.61755756e-02   1.27490974e-01   0.00000000e+00   0.00000000e+00\n",
      "   1.20529997e-01  -1.28924876e-02   5.53736062e-02   9.59813807e-02\n",
      "   5.61592882e-01   7.67108616e-02   2.00000000e+00]\n"
     ]
    }
   ],
   "source": [
    "totalFeats = np.asarray(popfeatures_matrix + unpopfeatures_matrix)\n",
    "print totalFeats.shape\n",
    "print totalFeats[15012]"
   ]
  },
  {
   "cell_type": "code",
   "execution_count": 47,
   "metadata": {
    "collapsed": false
   },
   "outputs": [
    {
     "name": "stdout",
     "output_type": "stream",
     "text": [
      "['1384696746931826688' '-1.97269994996e-14' '4.29733404131'\n",
      " '0.435666970725' '0.02490234375' '0.0380859375' '0.313328493495'\n",
      " '0.190694444444' '0.886440145673' '0.0461755756228' '0.12749097429' '0.0'\n",
      " '0.0' '0.120529996543' '-0.0128924876433' '0.0553736062438'\n",
      " '0.0959813807005' '0.561592881944' '0.0767108616108' '2.0']\n"
     ]
    }
   ],
   "source": [
    "totalMap = np.append(totalPosts.reshape((-1,1)),totalFeats , axis=1)\n",
    "print totalMap[15012]"
   ]
  },
  {
   "cell_type": "code",
   "execution_count": 48,
   "metadata": {
    "collapsed": false
   },
   "outputs": [],
   "source": [
    "import pickle\n",
    "f = open(aesthetic_csv , \"w+\")\n",
    "pickle.dump(totalMap, f)\n",
    "f.close()"
   ]
  },
  {
   "cell_type": "code",
   "execution_count": 49,
   "metadata": {
    "collapsed": false
   },
   "outputs": [
    {
     "name": "stdout",
     "output_type": "stream",
     "text": [
      "['1282183367848497152' '-1.25542623279e-15' '12.0761331195'\n",
      " '0.144672389416' '0.001708984375' '0.003173828125' '0.50666930537'\n",
      " '0.780613425926' '0.852124605479' '0.0610475900012' '0.18608915614' '0.0'\n",
      " '0.0' '0.0056325197426' '-0.453948995118' '0.0118355735306'\n",
      " '0.00345532992577' '0.741707175926' '0.00403097359271' '2.0']\n"
     ]
    }
   ],
   "source": [
    "f = open(aesthetic_csv , \"r+\")\n",
    "feats = pickle.load(f)\n",
    "f.close()\n",
    "print feats[104]"
   ]
  },
  {
   "cell_type": "code",
   "execution_count": 50,
   "metadata": {
    "collapsed": false
   },
   "outputs": [
    {
     "name": "stdout",
     "output_type": "stream",
     "text": [
      "(11723, 19) (1149, 19) (6751, 19)\n"
     ]
    }
   ],
   "source": [
    "unpop_aes_features = np.asarray(unpopfeatures_matrix)\n",
    "aes_feats = np.asarray(aes_feature)\n",
    "pop_aes_features = np.asarray(popfeatures_matrix)\n",
    "\n",
    "print unpop_aes_features.shape , aes_feats.shape , pop_aes_features.shape"
   ]
  },
  {
   "cell_type": "code",
   "execution_count": null,
   "metadata": {
    "collapsed": false
   },
   "outputs": [],
   "source": [
    "samples_pop = np.random.choice(pop_aes_features.shape[0],1000)\n",
    "samples_unpop = np.random.choice(unpop_aes_features.shape[0], 1000)\n",
    "samples_aes = np.random.choice(aes_feats.shape[0], 1000)\n",
    "sampledpop_aes_features = pop_aes_features[samples_pop,:]\n",
    "sampledunpop_aes_features = unpop_aes_features[samples_unpop,:]\n",
    "sampled_aes = aes_feats[samples_aes,:]"
   ]
  },
  {
   "cell_type": "code",
   "execution_count": null,
   "metadata": {
    "collapsed": false
   },
   "outputs": [],
   "source": [
    "print sampledpop_aes_features.shape , sampledunpop_aes_features.shape"
   ]
  },
  {
   "cell_type": "code",
   "execution_count": null,
   "metadata": {
    "collapsed": false
   },
   "outputs": [],
   "source": [
    "num = 7\n",
    "fig, ax = plt.subplots()\n",
    "fig.set_size_inches(15, 10)\n",
    "plt.hist(sampledpop_aes_features[:,num], 1000, normed=0,histtype='step', cumulative=True, linewidth = 1.0)\n",
    "plt.hist(sampledunpop_aes_features[:,num], 1000, normed=0,histtype='step', cumulative=True, linewidth = 1.0)\n",
    "plt.hist(sampled_aes[:,num], 1000, normed=0,histtype='step', cumulative=True, linewidth = 1.0)\n",
    "plt.legend(['Popular Posts', 'Unpopular Posts' , 'Aesthetic sample images'])\n",
    "plt.title('Rule of Thirds distribution for unpopular and popular videos', fontsize = 25)\n",
    "plt.show()\n",
    "\n",
    "print np.mean(sampledpop_aes_features[:,num]) , np.var(sampledpop_aes_features[:,num])\n",
    "print np.mean(unpop_aes_features[:,num]) , np.var(unpop_aes_features[:,num])\n",
    "print np.mean(sampled_aes[:,num]) , np.var(sampled_aes[:,num])"
   ]
  },
  {
   "cell_type": "code",
   "execution_count": null,
   "metadata": {
    "collapsed": false
   },
   "outputs": [],
   "source": [
    "num = 4\n",
    "fig, ax = plt.subplots()\n",
    "fig.set_size_inches(15, 10)\n",
    "plt.hist(sampledpop_aes_features[:,num], 1000, normed=1,histtype='step', cumulative=True, linewidth = 1.0)\n",
    "plt.hist(unpop_aes_features[:,num], 1000, normed=1,histtype='step', cumulative=True, linewidth = 1.0)\n",
    "plt.hist(sampled_aes[:,num], 1000, normed=1,histtype='step', cumulative=True, linewidth = 1.0)\n",
    "plt.legend(['Popular Posts', 'Unpopular Posts' , 'Aesthetic Image dataset'])\n",
    "plt.title('Modified Luo Simplicity distribution for unpopular and popular videos', fontsize = 25)\n",
    "plt.show()\n",
    "print np.mean(sampledpop_aes_features[:,num]) , np.var(sampledpop_aes_features[:,num])\n",
    "print np.mean(unpop_aes_features[:,num]) , np.var(unpop_aes_features[:,num])\n",
    "print np.mean(sampled_aes[:,num]) , np.var(sampled_aes[:,num])"
   ]
  },
  {
   "cell_type": "code",
   "execution_count": null,
   "metadata": {
    "collapsed": false
   },
   "outputs": [],
   "source": [
    "for i in range(sampledunpop_aes_features.shape[1]):\n",
    "    print \"Index %d\" %i\n",
    "    print \"Aesthetic images: %0.3f , %0.3f , %0.3f \"%( np.mean(aes_feats[:,i]), np.median(aes_feats[:,i]) , np.var(aes_feats[:,i]) )\n",
    "    print \"Popolar Vines: %0.3f , %0.3f , %0.3f \"%( np.mean(sampledpop_aes_features[:,i]), np.median(sampledpop_aes_features[:,i]) , np.var(sampledpop_aes_features[:,i]) )\n",
    "    print \"Unpopular Vines: %0.3f , %0.3f , %0.3f \"%( np.mean(sampledunpop_aes_features[:,i]), np.median(sampledunpop_aes_features[:,i]) , np.var(sampledunpop_aes_features[:,i]) )\n",
    "    print \"\\n\"\n",
    "                                                                                                  "
   ]
  },
  {
   "cell_type": "code",
   "execution_count": null,
   "metadata": {
    "collapsed": false
   },
   "outputs": [],
   "source": [
    "print entropy(sampledpop_aes_features, sampled_aes, base=None)\n",
    "print entropy(sampledunpop_aes_features, sampled_aes, base=None)\n"
   ]
  },
  {
   "cell_type": "code",
   "execution_count": null,
   "metadata": {
    "collapsed": false
   },
   "outputs": [],
   "source": [
    "num = 16\n",
    "fig, ax = plt.subplots()\n",
    "fig.set_size_inches(15, 10)\n",
    "plt.hist(sampledpop_aes_features[:,num], 1000, normed=1,histtype='step', cumulative=True, linewidth = 1.0 )\n",
    "plt.hist(unpop_aes_features[:,num], 1000, normed=1,histtype='step', cumulative=True, linewidth = 1.0)\n",
    "plt.hist(aes_feats[:,num], 1000, normed=1,histtype='step', cumulative=True, linewidth = 1.0)\n",
    "plt.legend(['Popular Posts', 'Unpopular Posts' ,'Aesthetic Image dataset'])\n",
    "plt.title('Sharp pixel proportion distribution for popular , unpopular videos Vs Top aesthetic images', fontsize = 25)\n",
    "plt.grid()\n",
    "plt.show()\n",
    "print np.mean(sampledpop_aes_features[:,num]) , np.var(sampledpop_aes_features[:,num])\n",
    "print np.mean(unpop_aes_features[:,num]) , np.var(unpop_aes_features[:,num])\n",
    "print np.mean(sampled_aes[:,num]) , np.var(sampled_aes[:,num])"
   ]
  },
  {
   "cell_type": "code",
   "execution_count": null,
   "metadata": {
    "collapsed": false
   },
   "outputs": [],
   "source": [
    "print np.mean(sampledpop_aes_features[:,16]) , np.median(sampledpop_aes_features[:,16])\n",
    "print np.mean(unpop_aes_features[:,16]) , np.median(unpop_aes_features[:,16])\n",
    "print np.mean(aes_feats[:,16]) , np.median(aes_feats[:,16])"
   ]
  },
  {
   "cell_type": "code",
   "execution_count": null,
   "metadata": {
    "collapsed": false
   },
   "outputs": [],
   "source": [
    "fig, ax = plt.subplots()\n",
    "num = 4\n",
    "fig.set_size_inches(15, 10)\n",
    "plt.hist(sampledpop_aes_features[:,num], 500, normed=0,histtype='step', cumulative=True, linewidth = 1.0)\n",
    "plt.hist(sampledunpop_aes_features[:,num], 500, normed=0,histtype='step', cumulative=True, linewidth = 1.0)\n",
    "plt.hist(aes_feats[:,num], 500, normed=0,histtype='step', cumulative=True, linewidth = 1.0)\n",
    "plt.legend(['Popular Posts', 'Unpopular Posts' , 'Aesthetic sample images'])\n",
    "plt.title('Rule of Thirds distribution for unpopular and popular videos', fontsize = 25)\n",
    "plt.show()"
   ]
  },
  {
   "cell_type": "code",
   "execution_count": null,
   "metadata": {
    "collapsed": false
   },
   "outputs": [],
   "source": [
    "fig, ax = plt.subplots()\n",
    "num = 3\n",
    "fig.set_size_inches(15, 10)\n",
    "plt.hist(sampledpop_aes_features[:,num], 100, normed=0,histtype='step', cumulative=False, linewidth = 1.0)\n",
    "plt.hist(sampledunpop_aes_features[:,num], 100, normed=0,histtype='step', cumulative=False, linewidth = 1.0)\n",
    "plt.hist(aes_feats[:,num], 100, normed=0,histtype='step', cumulative=False, linewidth = 1.0)\n",
    "plt.legend(['Popular Posts', 'Unpopular Posts' , 'Aesthetic sample images'])\n",
    "plt.title('Luo Simplicity distribution for different samples', fontsize = 25)\n",
    "plt.show()\n",
    "\n",
    "print np.mean(sampledpop_aes_features[:,num]) , np.median(sampledpop_aes_features[:,num])\n",
    "print np.mean(unpop_aes_features[:,num]) , np.median(unpop_aes_features[:,num])\n",
    "print np.mean(aes_feats[:,num]) , np.median(aes_feats[:,num])\n",
    "t, p = ttest_ind( sampledpop_aes_features[:,num], sampled_aes[:,num])\n",
    "print p\n",
    "t, p = ttest_ind( sampledunpop_aes_features[:,num], sampled_aes[:,num])\n",
    "print p\n"
   ]
  },
  {
   "cell_type": "code",
   "execution_count": null,
   "metadata": {
    "collapsed": false
   },
   "outputs": [],
   "source": [
    "fig, ax = plt.subplots()\n",
    "num = 16\n",
    "fig.set_size_inches(15, 10)\n",
    "plt.hist(sampledpop_aes_features[:,num], 1000, normed=0,histtype='step', cumulative=True, linewidth = 1.0)\n",
    "plt.hist(sampledunpop_aes_features[:,num], 1000, normed=0,histtype='step', cumulative=True, linewidth = 1.0)\n",
    "plt.hist(aes_feats[:,num], 1000, normed=0,histtype='step', cumulative=True, linewidth = 1.0)\n",
    "plt.legend(['Popular Posts', 'Unpopular Posts' , 'Aesthetic sample images'])\n",
    "plt.title('Luo Simplicity distribution for different samples', fontsize = 25)\n",
    "plt.show()\n",
    "\n",
    "print np.mean(sampledpop_aes_features[:,num]) , np.median(sampledpop_aes_features[:,num])\n",
    "print np.mean(unpop_aes_features[:,num]) , np.median(unpop_aes_features[:,num])\n",
    "print np.mean(aes_feats[:,num]) , np.median(aes_feats[:,num])"
   ]
  },
  {
   "cell_type": "code",
   "execution_count": null,
   "metadata": {
    "collapsed": true
   },
   "outputs": [],
   "source": []
  }
 ],
 "metadata": {
  "kernelspec": {
   "display_name": "Python 2",
   "language": "python",
   "name": "python2"
  },
  "language_info": {
   "codemirror_mode": {
    "name": "ipython",
    "version": 2
   },
   "file_extension": ".py",
   "mimetype": "text/x-python",
   "name": "python",
   "nbconvert_exporter": "python",
   "pygments_lexer": "ipython2",
   "version": "2.7.6"
  }
 },
 "nbformat": 4,
 "nbformat_minor": 0
}
