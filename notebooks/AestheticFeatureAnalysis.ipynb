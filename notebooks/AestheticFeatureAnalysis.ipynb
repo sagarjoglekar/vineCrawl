{
 "cells": [
  {
   "cell_type": "code",
   "execution_count": 1,
   "metadata": {
    "collapsed": false
   },
   "outputs": [],
   "source": [
    "import numpy as np\n",
    "%matplotlib inline\n",
    "import matplotlib.pyplot as plt\n",
    "import matplotlib.cm as cm\n",
    "import json\n",
    "import os\n",
    "import sys\n",
    "sys.path.append(\"../lib\")\n",
    "from dataUtils import *\n",
    "import cPickle as pickle\n",
    "import cv2\n",
    "from collections import Counter\n",
    "from scipy.interpolate import UnivariateSpline\n",
    "from scipy.stats import entropy \n",
    "from scipy.stats import chisquare\n",
    "from scipy.stats import ttest_ind\n"
   ]
  },
  {
   "cell_type": "code",
   "execution_count": 2,
   "metadata": {
    "collapsed": true
   },
   "outputs": [],
   "source": [
    "popular_color_features = \"../Final_features/vine_features_ordered.csv\"\n",
    "unpopular_color_features = \"../Final_features/Unpopular2016_aesthetic_ordered.csv\"\n",
    "aesthetic_color_features = \"../Logs/aesthetic_features_6.csv\"\n",
    "#aesthetic_csv = \"../Final_features/total_aesthetic_thirds.pk\"\n",
    "aesthetic_csv = \"../Final_features/Thirds_aesthetic_thirds.pk\"\n",
    "aesthetic_pop_temporal = \"../Final_features/popTemporalSampledAesthetic.csv\"\n",
    "aesthetic_unpop_temporal = \"../Final_features/unpopTemporalSampledAesthetic.csv\"\n",
    "\n",
    "instaAesthetic = \"../Final_features/instaSamplesSorted.csv\""
   ]
  },
  {
   "cell_type": "code",
   "execution_count": 35,
   "metadata": {
    "collapsed": false
   },
   "outputs": [],
   "source": [
    "def readFeatureFile(color_features):\n",
    "    with open(color_features) as g:\n",
    "        featureLines = g.readlines()\n",
    "    print len(featureLines)\n",
    "    return featureLines\n",
    "\n",
    "def readAesFeatuers(lines):\n",
    "    features = []\n",
    "    for line in lines:\n",
    "        components = line.strip().split('|')\n",
    "        features.append([float(x) for x in components[1:]])\n",
    "    return features\n",
    "\n",
    "def readFeatures(lines):\n",
    "    ids = []\n",
    "    features = []\n",
    "    feats = []\n",
    "    \n",
    "    components = lines[0].strip().split(',')\n",
    "    ID = components[0].strip().split('_')[0]\n",
    "    \n",
    "    for line in lines:\n",
    "        components = line.strip().split('|')\n",
    "        postId = components[0].strip().split('_')[0]\n",
    "        if postId != ID:\n",
    "            ids.append(postId)\n",
    "            ID = postId\n",
    "            #Take median of all frames in a vine for all the attributes\n",
    "            #median = np.median(feats,0)\n",
    "            median = feats[0]\n",
    "            for i in range(len(median)):\n",
    "                if np.isnan(median[i]):\n",
    "                    median[i] = 0.0\n",
    "            features.append(median)\n",
    "            feats[:] = []\n",
    "            feats.append([float(x) for x in components[1:]]) \n",
    "        else :\n",
    "            feats.append([float(x) for x in components[1:]]) \n",
    "            \n",
    "    return features, ids\n",
    "    \n",
    "\n",
    "def readFeaturesAsVector(lines):\n",
    "    ids = []\n",
    "    features = []\n",
    "    feats = []\n",
    "    \n",
    "    components = lines[0].strip().split(',')\n",
    "    ID = components[0].strip().split('_')[0]\n",
    "    \n",
    "    for line in lines:\n",
    "        components = line.strip().split('|')\n",
    "        postId = components[0].strip().split('_')[0]\n",
    "        if postId != ID:\n",
    "            ids.append(postId)\n",
    "            ID = postId\n",
    "            features.append(feats)\n",
    "            feats[:] = []\n",
    "            feats.append([float(x) for x in components[1:]]) \n",
    "        else :\n",
    "            feats.append([float(x) for x in components[1:]]) \n",
    "            \n",
    "    return features, ids\n",
    "\n",
    "def readInstaFeaturesAsVector(lines):\n",
    "    ids = []\n",
    "    features = []\n",
    "    feats = dict()\n",
    "    \n",
    "    components = lines[0].strip().split(',')\n",
    "    ID = components[0].strip().split('+')[0]\n",
    "    \n",
    "    for line in lines:\n",
    "        components = line.strip().split('|')\n",
    "        postId = components[0].strip().split('+')[0]\n",
    "        sequence = components[0].strip().split('+')[1].split('.')[0]\n",
    "        if postId != ID:\n",
    "            ids.append(postId)\n",
    "            ID = postId\n",
    "            f = []\n",
    "            #print feats\n",
    "            for i in range(1,len(feats.keys())+1):\n",
    "                try:\n",
    "                    f.append(feats[str(i)])\n",
    "                except KeyError:\n",
    "                    print len(feats.keys()) , i\n",
    "            features.append(f)\n",
    "            feats.clear()\n",
    "            feats[sequence] = [float(x) for x in components[1:]]\n",
    "            #feats.append([float(x) for x in components[1:]])\n",
    "        else :\n",
    "            feats[sequence] = [float(x) for x in components[1:]]\n",
    "            #feats.append([float(x) for x in components[1:]]) \n",
    "            \n",
    "    return features, ids\n",
    "\n",
    "def getMaximumHistogram(featureVec , dimension ,function):\n",
    "    classifierCoeefs = np.asarray([ 0.       ,   0.03343475,  0.0218128 ,  0.02341605 , 0.02355142,  0.02526042,\n",
    "  0.02290093,  0.02206709,  0.02891414,  0.02192985,  0.01503583,  0.,\n",
    "  0.02182189,  0.02630779 , 0.02273517,  0.02183237,  0.02532157,  0.02034298,\n",
    "  0.01239432])\n",
    "    \n",
    "    maxClassifierCoefs = np.asarray([[ 0.       ,   0.03453842,  0.02570736,  0.02543318,  0.02516512,  0.02729427,\n",
    "  0.02423508,  0.02827428,  0.02917423,  0.02597833,  0.01458388,  0.,\n",
    "  0.02122234,  0.02544339,  0.02607218,  0.02100649,  0.02610868,  0.02172767,\n",
    "  0.01354962]])\n",
    "    max_hist = np.zeros(7)\n",
    "    for video in featureVec:\n",
    "        vec = [np.dot(maxClassifierCoefs,video[i][:]) for i in range(len(video))]\n",
    "        maxArg = function(np.asarray(vec))\n",
    "        max_hist[maxArg]+=1\n",
    "    return [np.sum(max_hist[:2])/len(featureVec) , np.sum(max_hist[2:4])/len(featureVec) , np.sum(max_hist[4:6])/len(featureVec) ]\n",
    "\n",
    "def getMaximumHistInsta(features, function):\n",
    "    maxClassifierCoefs = np.asarray([[ 0.       ,   0.03453842,  0.02570736,  0.02543318,  0.02516512,  0.02729427,\n",
    "    0.02423508,  0.02827428,  0.02917423,  0.02597833,  0.01458388,  0.,\n",
    "    0.02122234,  0.02544339,  0.02607218,  0.02100649,  0.02610868,  0.02172767,\n",
    "    0.01354962]])\n",
    "    max_hist = np.zeros(3)\n",
    "    for video in features:\n",
    "        vec = [np.median(video[i][:]) for i in range(len(video))]\n",
    "        maxArg = function(np.asarray(vec))\n",
    "        thirds = (len(video)/3) + 1\n",
    "        max_hist[int(maxArg/thirds)]+=1\n",
    "    return max_hist\n",
    "    "
   ]
  },
  {
   "cell_type": "code",
   "execution_count": 25,
   "metadata": {
    "collapsed": false
   },
   "outputs": [
    {
     "name": "stdout",
     "output_type": "stream",
     "text": [
      "50187\n"
     ]
    }
   ],
   "source": [
    "poptempLines = readFeatureFile(popular_color_features)\n",
    "\n"
   ]
  },
  {
   "cell_type": "code",
   "execution_count": 26,
   "metadata": {
    "collapsed": false
   },
   "outputs": [
    {
     "name": "stdout",
     "output_type": "stream",
     "text": [
      "1210\n"
     ]
    }
   ],
   "source": [
    "unpoptempLines = readFeatureFile(aesthetic_unpop_temporal)"
   ]
  },
  {
   "cell_type": "code",
   "execution_count": 27,
   "metadata": {
    "collapsed": false
   },
   "outputs": [
    {
     "name": "stdout",
     "output_type": "stream",
     "text": [
      "3780\n"
     ]
    }
   ],
   "source": [
    "instaLines = readFeatureFile(instaAesthetic)"
   ]
  },
  {
   "cell_type": "code",
   "execution_count": null,
   "metadata": {
    "collapsed": false
   },
   "outputs": [],
   "source": []
  },
  {
   "cell_type": "code",
   "execution_count": 28,
   "metadata": {
    "collapsed": false
   },
   "outputs": [],
   "source": [
    "instaFeatureVec , instaPosts = readInstaFeaturesAsVector(instaLines)"
   ]
  },
  {
   "cell_type": "code",
   "execution_count": 29,
   "metadata": {
    "collapsed": false
   },
   "outputs": [],
   "source": [
    "popFeatureVec , popPosts = readFeaturesAsVector(poptempLines)"
   ]
  },
  {
   "cell_type": "code",
   "execution_count": 30,
   "metadata": {
    "collapsed": true
   },
   "outputs": [],
   "source": [
    "unpopFeatureVec , unpopPosts = readFeaturesAsVector(unpoptempLines)"
   ]
  },
  {
   "cell_type": "code",
   "execution_count": 31,
   "metadata": {
    "collapsed": false
   },
   "outputs": [
    {
     "data": {
      "text/plain": [
       "199"
      ]
     },
     "execution_count": 31,
     "metadata": {},
     "output_type": "execute_result"
    }
   ],
   "source": [
    "len(instaFeatureVec)"
   ]
  },
  {
   "cell_type": "code",
   "execution_count": 32,
   "metadata": {
    "collapsed": false
   },
   "outputs": [],
   "source": [
    "maxPopVec = getMaximumHistogram(popFeatureVec,17 ,np.argmax)\n",
    "\n",
    "maxunPopVec = getMaximumHistogram(unpopFeatureVec,17 ,np.argmax)"
   ]
  },
  {
   "cell_type": "code",
   "execution_count": 36,
   "metadata": {
    "collapsed": false
   },
   "outputs": [
    {
     "name": "stderr",
     "output_type": "stream",
     "text": [
      "/usr/local/lib/python2.7/dist-packages/numpy/lib/function_base.py:3569: RuntimeWarning: Invalid value encountered in median\n",
      "  RuntimeWarning)\n"
     ]
    }
   ],
   "source": [
    "maxInstaVec = getMaximumHistInsta(instaFeatureVec , np.argmax)"
   ]
  },
  {
   "cell_type": "code",
   "execution_count": 37,
   "metadata": {
    "collapsed": false
   },
   "outputs": [
    {
     "name": "stdout",
     "output_type": "stream",
     "text": [
      "[0.0, 1.0, 0.0]\n",
      "[0.0, 0.0, 1.0]\n",
      "[ 89.  77.  33.]\n"
     ]
    }
   ],
   "source": [
    "print maxPopVec\n",
    "print maxunPopVec\n",
    "print maxInstaVec"
   ]
  },
  {
   "cell_type": "code",
   "execution_count": null,
   "metadata": {
    "collapsed": false
   },
   "outputs": [],
   "source": [
    "fig, ax = plt.subplots()\n",
    "fig.set_size_inches(15, 10)\n",
    "ind = np.arange(1,4) \n",
    "width = 0.1\n",
    "## the bars\n",
    "rects1 = ax.bar(ind, maxPopVec, width,\n",
    "                color='b')\n",
    "#rects2 = ax.bar(ind+width, minPopVec, width,\n",
    "#                color='g')\n",
    "# rects3 = ax.bar(ind+2*width, maxunPopVec, width,\n",
    "#                 color='r')\n",
    "rects4 = ax.bar(ind+width, maxunPopVec, width,\n",
    "                 color='purple')\n",
    "\n",
    "# add some text for labels, title and axes ticks\n",
    "ax.set_ylabel('Cumulative Aesthetic Impact',fontsize=15)\n",
    "ax.set_xlabel('Which Third of the Video',fontsize=15)\n",
    "plt.legend(['Max Cummulative aesthetic occurance - Popular' , 'Max Cummulative aesthetic occurance - Unpopular' ]\n",
    "            , loc='upper right')\n",
    "ax.set_xticks(ind )\n",
    "\n",
    "plt.show()"
   ]
  },
  {
   "cell_type": "code",
   "execution_count": null,
   "metadata": {
    "collapsed": false
   },
   "outputs": [],
   "source": [
    "pop_features = readFeatureFile(popular_color_features)\n",
    "unpop_features = readFeatureFile(unpopular_color_features)\n",
    "aesthetic_features = readFeatureFile(aesthetic_color_features)"
   ]
  },
  {
   "cell_type": "code",
   "execution_count": null,
   "metadata": {
    "collapsed": false
   },
   "outputs": [],
   "source": [
    "popfeatures_matrix , popposts = readFeatures(pop_features)"
   ]
  },
  {
   "cell_type": "code",
   "execution_count": null,
   "metadata": {
    "collapsed": false
   },
   "outputs": [],
   "source": [
    "unpopfeatures_matrix , unpopposts = readFeatures(unpop_features)"
   ]
  },
  {
   "cell_type": "code",
   "execution_count": null,
   "metadata": {
    "collapsed": true
   },
   "outputs": [],
   "source": [
    "aes_feature = readAesFeatuers(aesthetic_features)"
   ]
  },
  {
   "cell_type": "code",
   "execution_count": null,
   "metadata": {
    "collapsed": false
   },
   "outputs": [],
   "source": [
    "print len(popposts) , len(unpopposts)"
   ]
  },
  {
   "cell_type": "code",
   "execution_count": null,
   "metadata": {
    "collapsed": false
   },
   "outputs": [],
   "source": [
    "totalPosts = np.asarray(popposts + unpopposts)\n",
    "print totalPosts.shape\n",
    "print totalPosts[1]"
   ]
  },
  {
   "cell_type": "code",
   "execution_count": null,
   "metadata": {
    "collapsed": false
   },
   "outputs": [],
   "source": [
    "totalFeats = np.asarray(popfeatures_matrix + unpopfeatures_matrix)\n",
    "print totalFeats.shape\n",
    "print totalFeats[15012]"
   ]
  },
  {
   "cell_type": "code",
   "execution_count": null,
   "metadata": {
    "collapsed": false
   },
   "outputs": [],
   "source": [
    "totalMap = np.append(totalPosts.reshape((-1,1)),totalFeats , axis=1)\n",
    "print totalMap[15012]"
   ]
  },
  {
   "cell_type": "code",
   "execution_count": null,
   "metadata": {
    "collapsed": false
   },
   "outputs": [],
   "source": [
    "import pickle\n",
    "f = open(aesthetic_csv , \"w+\")\n",
    "pickle.dump(totalMap, f)\n",
    "f.close()"
   ]
  },
  {
   "cell_type": "code",
   "execution_count": null,
   "metadata": {
    "collapsed": false
   },
   "outputs": [],
   "source": [
    "f = open(aesthetic_csv , \"r+\")\n",
    "feats = pickle.load(f)\n",
    "f.close()\n",
    "print feats[104]"
   ]
  },
  {
   "cell_type": "code",
   "execution_count": null,
   "metadata": {
    "collapsed": false
   },
   "outputs": [],
   "source": [
    "unpop_aes_features = np.asarray(unpopfeatures_matrix)\n",
    "aes_feats = np.asarray(aes_feature)\n",
    "pop_aes_features = np.asarray(popfeatures_matrix)\n",
    "\n",
    "print unpop_aes_features.shape , aes_feats.shape , pop_aes_features.shape"
   ]
  },
  {
   "cell_type": "code",
   "execution_count": null,
   "metadata": {
    "collapsed": false
   },
   "outputs": [],
   "source": [
    "samples_pop = np.random.choice(pop_aes_features.shape[0],1000)\n",
    "samples_unpop = np.random.choice(unpop_aes_features.shape[0], 1000)\n",
    "samples_aes = np.random.choice(aes_feats.shape[0], 1000)\n",
    "sampledpop_aes_features = pop_aes_features[samples_pop,:]\n",
    "sampledunpop_aes_features = unpop_aes_features[samples_unpop,:]\n",
    "sampled_aes = aes_feats[samples_aes,:]"
   ]
  },
  {
   "cell_type": "code",
   "execution_count": null,
   "metadata": {
    "collapsed": false
   },
   "outputs": [],
   "source": [
    "print sampledpop_aes_features.shape , sampledunpop_aes_features.shape"
   ]
  },
  {
   "cell_type": "code",
   "execution_count": null,
   "metadata": {
    "collapsed": false
   },
   "outputs": [],
   "source": [
    "num = 7\n",
    "fig, ax = plt.subplots()\n",
    "fig.set_size_inches(15, 10)\n",
    "plt.hist(sampledpop_aes_features[:,num], 1000, normed=0,histtype='step', cumulative=True, linewidth = 1.0)\n",
    "plt.hist(sampledunpop_aes_features[:,num], 1000, normed=0,histtype='step', cumulative=True, linewidth = 1.0)\n",
    "plt.hist(sampled_aes[:,num], 1000, normed=0,histtype='step', cumulative=True, linewidth = 1.0)\n",
    "plt.legend(['Popular Posts', 'Unpopular Posts' , 'Aesthetic sample images'])\n",
    "plt.title('Rule of Thirds distribution for unpopular and popular videos', fontsize = 25)\n",
    "plt.show()\n",
    "\n",
    "print np.mean(sampledpop_aes_features[:,num]) , np.var(sampledpop_aes_features[:,num])\n",
    "print np.mean(unpop_aes_features[:,num]) , np.var(unpop_aes_features[:,num])\n",
    "print np.mean(sampled_aes[:,num]) , np.var(sampled_aes[:,num])"
   ]
  },
  {
   "cell_type": "code",
   "execution_count": null,
   "metadata": {
    "collapsed": false
   },
   "outputs": [],
   "source": [
    "num = 4\n",
    "fig, ax = plt.subplots()\n",
    "fig.set_size_inches(15, 10)\n",
    "plt.hist(sampledpop_aes_features[:,num], 1000, normed=1,histtype='step', cumulative=True, linewidth = 1.0)\n",
    "plt.hist(unpop_aes_features[:,num], 1000, normed=1,histtype='step', cumulative=True, linewidth = 1.0)\n",
    "plt.hist(sampled_aes[:,num], 1000, normed=1,histtype='step', cumulative=True, linewidth = 1.0)\n",
    "plt.legend(['Popular Posts', 'Unpopular Posts' , 'Aesthetic Image dataset'])\n",
    "plt.title('Modified Luo Simplicity distribution for unpopular and popular videos', fontsize = 25)\n",
    "plt.show()\n",
    "print np.mean(sampledpop_aes_features[:,num]) , np.var(sampledpop_aes_features[:,num])\n",
    "print np.mean(unpop_aes_features[:,num]) , np.var(unpop_aes_features[:,num])\n",
    "print np.mean(sampled_aes[:,num]) , np.var(sampled_aes[:,num])"
   ]
  },
  {
   "cell_type": "code",
   "execution_count": null,
   "metadata": {
    "collapsed": false
   },
   "outputs": [],
   "source": [
    "for i in range(sampledunpop_aes_features.shape[1]):\n",
    "    print \"Index %d\" %i\n",
    "    print \"Aesthetic images: %0.3f , %0.3f , %0.3f \"%( np.mean(aes_feats[:,i]), np.median(aes_feats[:,i]) , np.var(aes_feats[:,i]) )\n",
    "    print \"Popolar Vines: %0.3f , %0.3f , %0.3f \"%( np.mean(sampledpop_aes_features[:,i]), np.median(sampledpop_aes_features[:,i]) , np.var(sampledpop_aes_features[:,i]) )\n",
    "    print \"Unpopular Vines: %0.3f , %0.3f , %0.3f \"%( np.mean(sampledunpop_aes_features[:,i]), np.median(sampledunpop_aes_features[:,i]) , np.var(sampledunpop_aes_features[:,i]) )\n",
    "    print \"\\n\"\n",
    "                                                                                                  "
   ]
  },
  {
   "cell_type": "code",
   "execution_count": null,
   "metadata": {
    "collapsed": false
   },
   "outputs": [],
   "source": [
    "print entropy(sampledpop_aes_features, sampled_aes, base=None)\n",
    "print entropy(sampledunpop_aes_features, sampled_aes, base=None)\n"
   ]
  },
  {
   "cell_type": "code",
   "execution_count": null,
   "metadata": {
    "collapsed": false
   },
   "outputs": [],
   "source": [
    "num = 16\n",
    "fig, ax = plt.subplots()\n",
    "fig.set_size_inches(15, 10)\n",
    "plt.hist(sampledpop_aes_features[:,num], 1000, normed=1,histtype='step', cumulative=True, linewidth = 1.0 )\n",
    "plt.hist(unpop_aes_features[:,num], 1000, normed=1,histtype='step', cumulative=True, linewidth = 1.0)\n",
    "plt.hist(aes_feats[:,num], 1000, normed=1,histtype='step', cumulative=True, linewidth = 1.0)\n",
    "plt.legend(['Popular Posts', 'Unpopular Posts' ,'Aesthetic Image dataset'])\n",
    "plt.title('Sharp pixel proportion distribution for popular , unpopular videos Vs Top aesthetic images', fontsize = 25)\n",
    "plt.grid()\n",
    "plt.show()\n",
    "print np.mean(sampledpop_aes_features[:,num]) , np.var(sampledpop_aes_features[:,num])\n",
    "print np.mean(unpop_aes_features[:,num]) , np.var(unpop_aes_features[:,num])\n",
    "print np.mean(sampled_aes[:,num]) , np.var(sampled_aes[:,num])"
   ]
  },
  {
   "cell_type": "code",
   "execution_count": null,
   "metadata": {
    "collapsed": false
   },
   "outputs": [],
   "source": [
    "print np.mean(sampledpop_aes_features[:,16]) , np.median(sampledpop_aes_features[:,16])\n",
    "print np.mean(unpop_aes_features[:,16]) , np.median(unpop_aes_features[:,16])\n",
    "print np.mean(aes_feats[:,16]) , np.median(aes_feats[:,16])"
   ]
  },
  {
   "cell_type": "code",
   "execution_count": null,
   "metadata": {
    "collapsed": false
   },
   "outputs": [],
   "source": [
    "fig, ax = plt.subplots()\n",
    "num = 4\n",
    "fig.set_size_inches(15, 10)\n",
    "plt.hist(sampledpop_aes_features[:,num], 500, normed=0,histtype='step', cumulative=True, linewidth = 1.0)\n",
    "plt.hist(sampledunpop_aes_features[:,num], 500, normed=0,histtype='step', cumulative=True, linewidth = 1.0)\n",
    "plt.hist(aes_feats[:,num], 500, normed=0,histtype='step', cumulative=True, linewidth = 1.0)\n",
    "plt.legend(['Popular Posts', 'Unpopular Posts' , 'Aesthetic sample images'])\n",
    "plt.title('Rule of Thirds distribution for unpopular and popular videos', fontsize = 25)\n",
    "plt.show()"
   ]
  },
  {
   "cell_type": "code",
   "execution_count": null,
   "metadata": {
    "collapsed": false
   },
   "outputs": [],
   "source": [
    "fig, ax = plt.subplots()\n",
    "num = 3\n",
    "fig.set_size_inches(15, 10)\n",
    "plt.hist(sampledpop_aes_features[:,num], 100, normed=0,histtype='step', cumulative=False, linewidth = 1.0)\n",
    "plt.hist(sampledunpop_aes_features[:,num], 100, normed=0,histtype='step', cumulative=False, linewidth = 1.0)\n",
    "plt.hist(aes_feats[:,num], 100, normed=0,histtype='step', cumulative=False, linewidth = 1.0)\n",
    "plt.legend(['Popular Posts', 'Unpopular Posts' , 'Aesthetic sample images'])\n",
    "plt.title('Luo Simplicity distribution for different samples', fontsize = 25)\n",
    "plt.show()\n",
    "\n",
    "print np.mean(sampledpop_aes_features[:,num]) , np.median(sampledpop_aes_features[:,num])\n",
    "print np.mean(unpop_aes_features[:,num]) , np.median(unpop_aes_features[:,num])\n",
    "print np.mean(aes_feats[:,num]) , np.median(aes_feats[:,num])\n",
    "t, p = ttest_ind( sampledpop_aes_features[:,num], sampled_aes[:,num])\n",
    "print p\n",
    "t, p = ttest_ind( sampledunpop_aes_features[:,num], sampled_aes[:,num])\n",
    "print p\n"
   ]
  },
  {
   "cell_type": "code",
   "execution_count": null,
   "metadata": {
    "collapsed": false
   },
   "outputs": [],
   "source": [
    "fig, ax = plt.subplots()\n",
    "num = 16\n",
    "fig.set_size_inches(15, 10)\n",
    "plt.hist(sampledpop_aes_features[:,num], 1000, normed=0,histtype='step', cumulative=True, linewidth = 1.0)\n",
    "plt.hist(sampledunpop_aes_features[:,num], 1000, normed=0,histtype='step', cumulative=True, linewidth = 1.0)\n",
    "plt.hist(aes_feats[:,num], 1000, normed=0,histtype='step', cumulative=True, linewidth = 1.0)\n",
    "plt.legend(['Popular Posts', 'Unpopular Posts' , 'Aesthetic sample images'])\n",
    "plt.title('Luo Simplicity distribution for different samples', fontsize = 25)\n",
    "plt.show()\n",
    "\n",
    "print np.mean(sampledpop_aes_features[:,num]) , np.median(sampledpop_aes_features[:,num])\n",
    "print np.mean(unpop_aes_features[:,num]) , np.median(unpop_aes_features[:,num])\n",
    "print np.mean(aes_feats[:,num]) , np.median(aes_feats[:,num])"
   ]
  },
  {
   "cell_type": "code",
   "execution_count": null,
   "metadata": {
    "collapsed": true
   },
   "outputs": [],
   "source": []
  }
 ],
 "metadata": {
  "kernelspec": {
   "display_name": "Python 2",
   "language": "python",
   "name": "python2"
  },
  "language_info": {
   "codemirror_mode": {
    "name": "ipython",
    "version": 2
   },
   "file_extension": ".py",
   "mimetype": "text/x-python",
   "name": "python",
   "nbconvert_exporter": "python",
   "pygments_lexer": "ipython2",
   "version": "2.7.6"
  }
 },
 "nbformat": 4,
 "nbformat_minor": 0
}
