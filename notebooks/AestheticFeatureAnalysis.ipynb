{
 "cells": [
  {
   "cell_type": "code",
   "execution_count": 1,
   "metadata": {
    "collapsed": false
   },
   "outputs": [],
   "source": [
    "import numpy as np\n",
    "%matplotlib inline\n",
    "import matplotlib.pyplot as plt\n",
    "import matplotlib.cm as cm\n",
    "import json\n",
    "import os\n",
    "import sys\n",
    "sys.path.append(\"../lib\")\n",
    "from dataUtils import *\n",
    "import cPickle as pickle\n",
    "import cv2\n",
    "from collections import Counter\n",
    "from scipy.interpolate import UnivariateSpline\n",
    "from scipy.stats import entropy \n",
    "from scipy.stats import chisquare\n",
    "from scipy.stats import ttest_ind\n"
   ]
  },
  {
   "cell_type": "code",
   "execution_count": 2,
   "metadata": {
    "collapsed": true
   },
   "outputs": [],
   "source": [
    "popular_color_features = \"../Logs/vine_features_ordered.csv\"\n",
    "unpopular_color_features = \"../Logs/unpopular_vine_features_ordered.csv\"\n",
    "aesthetic_color_features = \"../Logs/aesthetic_features_6.csv\""
   ]
  },
  {
   "cell_type": "code",
   "execution_count": 3,
   "metadata": {
    "collapsed": true
   },
   "outputs": [],
   "source": [
    "def readFeatureFile(color_features):\n",
    "    with open(color_features) as g:\n",
    "        featureLines = g.readlines()\n",
    "    print len(featureLines)\n",
    "    return featureLines\n",
    "\n",
    "def readAesFeatuers(lines):\n",
    "    features = []\n",
    "    for line in lines:\n",
    "        components = line.strip().split('|')\n",
    "        features.append([float(x) for x in components[1:]])\n",
    "    return features\n",
    "\n",
    "def readFeatures(lines):\n",
    "    ids = []\n",
    "    features = []\n",
    "    feats = []\n",
    "    \n",
    "    components = lines[0].strip().split(',')\n",
    "    ID = components[0].strip().split('_')[0]\n",
    "    \n",
    "    for line in lines:\n",
    "        components = line.strip().split('|')\n",
    "        postId = components[0].strip().split('_')[0]\n",
    "        if postId != ID:\n",
    "            ids.append(postId)\n",
    "            ID = postId\n",
    "            #Take median of all frames in a vine for all the attributes\n",
    "            median = np.median(feats,0)\n",
    "            for i in range(len(median)):\n",
    "                if np.isnan(median[i]):\n",
    "                    median[i] = 0.0\n",
    "            features.append(median)\n",
    "            feats[:] = []\n",
    "            feats.append([float(x) for x in components[1:]]) \n",
    "        else :\n",
    "            feats.append([float(x) for x in components[1:]]) \n",
    "            \n",
    "    return features, ids\n",
    "    "
   ]
  },
  {
   "cell_type": "code",
   "execution_count": 4,
   "metadata": {
    "collapsed": false
   },
   "outputs": [
    {
     "name": "stdout",
     "output_type": "stream",
     "text": [
      "50187\n",
      "5367\n",
      "1149\n"
     ]
    }
   ],
   "source": [
    "pop_features = readFeatureFile(popular_color_features)\n",
    "unpop_features = readFeatureFile(unpopular_color_features)\n",
    "aesthetic_features = readFeatureFile(aesthetic_color_features)"
   ]
  },
  {
   "cell_type": "code",
   "execution_count": 5,
   "metadata": {
    "collapsed": false
   },
   "outputs": [
    {
     "name": "stderr",
     "output_type": "stream",
     "text": [
      "/usr/local/lib/python2.7/dist-packages/numpy/lib/function_base.py:3567: RuntimeWarning: Invalid value encountered in median for 3 results\n",
      "  RuntimeWarning)\n"
     ]
    }
   ],
   "source": [
    "popfeatures_matrix , popposts = readFeatures(pop_features)"
   ]
  },
  {
   "cell_type": "code",
   "execution_count": 6,
   "metadata": {
    "collapsed": false
   },
   "outputs": [
    {
     "name": "stderr",
     "output_type": "stream",
     "text": [
      "/usr/local/lib/python2.7/dist-packages/numpy/lib/function_base.py:3567: RuntimeWarning: Invalid value encountered in median for 1 results\n",
      "  RuntimeWarning)\n"
     ]
    }
   ],
   "source": [
    "unpopfeatures_matrix , unpopposts = readFeatures(unpop_features)"
   ]
  },
  {
   "cell_type": "code",
   "execution_count": 7,
   "metadata": {
    "collapsed": true
   },
   "outputs": [],
   "source": [
    "aes_feature = readAesFeatuers(aesthetic_features)"
   ]
  },
  {
   "cell_type": "code",
   "execution_count": 8,
   "metadata": {
    "collapsed": false
   },
   "outputs": [
    {
     "name": "stdout",
     "output_type": "stream",
     "text": [
      "2939 2939\n"
     ]
    }
   ],
   "source": [
    "print len(unpopfeatures_matrix) , len(unpopposts)"
   ]
  },
  {
   "cell_type": "code",
   "execution_count": null,
   "metadata": {
    "collapsed": false
   },
   "outputs": [],
   "source": [
    "unpop_aes_features = np.asarray(unpopfeatures_matrix)\n",
    "aes_feats = np.asarray(aes_feature)\n",
    "pop_aes_features = np.asarray(popfeatures_matrix)\n",
    "\n",
    "print unpop_aes_features.shape , aes_feats.shape , pop_aes_features.shape"
   ]
  },
  {
   "cell_type": "code",
   "execution_count": null,
   "metadata": {
    "collapsed": false
   },
   "outputs": [],
   "source": [
    "samples_pop = np.random.choice(pop_aes_features.shape[0],1000)\n",
    "samples_unpop = np.random.choice(unpop_aes_features.shape[0], 1000)\n",
    "samples_aes = np.random.choice(aes_feats.shape[0], 1000)\n",
    "sampledpop_aes_features = pop_aes_features[samples_pop,:]\n",
    "sampledunpop_aes_features = unpop_aes_features[samples_unpop,:]\n",
    "sampled_aes = aes_feats[samples_aes,:]"
   ]
  },
  {
   "cell_type": "code",
   "execution_count": null,
   "metadata": {
    "collapsed": false
   },
   "outputs": [],
   "source": [
    "print sampledpop_aes_features.shape , sampledunpop_aes_features.shape"
   ]
  },
  {
   "cell_type": "code",
   "execution_count": null,
   "metadata": {
    "collapsed": false
   },
   "outputs": [],
   "source": [
    "num = 7\n",
    "fig, ax = plt.subplots()\n",
    "fig.set_size_inches(15, 10)\n",
    "plt.hist(sampledpop_aes_features[:,num], 1000, normed=0,histtype='step', cumulative=True, linewidth = 1.0)\n",
    "plt.hist(sampledunpop_aes_features[:,num], 1000, normed=0,histtype='step', cumulative=True, linewidth = 1.0)\n",
    "plt.hist(sampled_aes[:,num], 1000, normed=0,histtype='step', cumulative=True, linewidth = 1.0)\n",
    "plt.legend(['Popular Posts', 'Unpopular Posts' , 'Aesthetic sample images'])\n",
    "plt.title('Rule of Thirds distribution for unpopular and popular videos', fontsize = 25)\n",
    "plt.show()\n",
    "\n",
    "print np.mean(sampledpop_aes_features[:,num]) , np.var(sampledpop_aes_features[:,num])\n",
    "print np.mean(unpop_aes_features[:,num]) , np.var(unpop_aes_features[:,num])\n",
    "print np.mean(sampled_aes[:,num]) , np.var(sampled_aes[:,num])"
   ]
  },
  {
   "cell_type": "code",
   "execution_count": null,
   "metadata": {
    "collapsed": false
   },
   "outputs": [],
   "source": [
    "num = 4\n",
    "fig, ax = plt.subplots()\n",
    "fig.set_size_inches(15, 10)\n",
    "plt.hist(sampledpop_aes_features[:,num], 1000, normed=1,histtype='step', cumulative=True, linewidth = 1.0)\n",
    "plt.hist(unpop_aes_features[:,num], 1000, normed=1,histtype='step', cumulative=True, linewidth = 1.0)\n",
    "plt.hist(sampled_aes[:,num], 1000, normed=1,histtype='step', cumulative=True, linewidth = 1.0)\n",
    "plt.legend(['Popular Posts', 'Unpopular Posts' , 'Aesthetic Image dataset'])\n",
    "plt.title('Modified Luo Simplicity distribution for unpopular and popular videos', fontsize = 25)\n",
    "plt.show()\n",
    "print np.mean(sampledpop_aes_features[:,num]) , np.var(sampledpop_aes_features[:,num])\n",
    "print np.mean(unpop_aes_features[:,num]) , np.var(unpop_aes_features[:,num])\n",
    "print np.mean(sampled_aes[:,num]) , np.var(sampled_aes[:,num])"
   ]
  },
  {
   "cell_type": "code",
   "execution_count": null,
   "metadata": {
    "collapsed": false
   },
   "outputs": [],
   "source": [
    "for i in range(sampledunpop_aes_features.shape[1]):\n",
    "    print \"Index %d\" %i\n",
    "    print \"Aesthetic images: %0.3f , %0.3f , %0.3f \"%( np.mean(aes_feats[:,i]), np.median(aes_feats[:,i]) , np.var(aes_feats[:,i]) )\n",
    "    print \"Popolar Vines: %0.3f , %0.3f , %0.3f \"%( np.mean(sampledpop_aes_features[:,i]), np.median(sampledpop_aes_features[:,i]) , np.var(sampledpop_aes_features[:,i]) )\n",
    "    print \"Unpopular Vines: %0.3f , %0.3f , %0.3f \"%( np.mean(sampledunpop_aes_features[:,i]), np.median(sampledunpop_aes_features[:,i]) , np.var(sampledunpop_aes_features[:,i]) )\n",
    "    print \"\\n\"\n",
    "                                                                                                  "
   ]
  },
  {
   "cell_type": "code",
   "execution_count": null,
   "metadata": {
    "collapsed": false
   },
   "outputs": [],
   "source": [
    "print entropy(sampledpop_aes_features, sampled_aes, base=None)\n",
    "print entropy(sampledunpop_aes_features, sampled_aes, base=None)\n"
   ]
  },
  {
   "cell_type": "code",
   "execution_count": null,
   "metadata": {
    "collapsed": false
   },
   "outputs": [],
   "source": [
    "num = 16\n",
    "fig, ax = plt.subplots()\n",
    "fig.set_size_inches(15, 10)\n",
    "plt.hist(sampledpop_aes_features[:,num], 1000, normed=1,histtype='step', cumulative=True, linewidth = 1.0 )\n",
    "plt.hist(unpop_aes_features[:,num], 1000, normed=1,histtype='step', cumulative=True, linewidth = 1.0)\n",
    "plt.hist(aes_feats[:,num], 1000, normed=1,histtype='step', cumulative=True, linewidth = 1.0)\n",
    "plt.legend(['Popular Posts', 'Unpopular Posts' ,'Aesthetic Image dataset'])\n",
    "plt.title('Sharp pixel proportion distribution for popular , unpopular videos Vs Top aesthetic images', fontsize = 25)\n",
    "plt.grid()\n",
    "plt.show()\n",
    "print np.mean(sampledpop_aes_features[:,num]) , np.var(sampledpop_aes_features[:,num])\n",
    "print np.mean(unpop_aes_features[:,num]) , np.var(unpop_aes_features[:,num])\n",
    "print np.mean(sampled_aes[:,num]) , np.var(sampled_aes[:,num])"
   ]
  },
  {
   "cell_type": "code",
   "execution_count": null,
   "metadata": {
    "collapsed": false
   },
   "outputs": [],
   "source": [
    "print np.mean(sampledpop_aes_features[:,16]) , np.median(sampledpop_aes_features[:,16])\n",
    "print np.mean(unpop_aes_features[:,16]) , np.median(unpop_aes_features[:,16])\n",
    "print np.mean(aes_feats[:,16]) , np.median(aes_feats[:,16])"
   ]
  },
  {
   "cell_type": "code",
   "execution_count": null,
   "metadata": {
    "collapsed": false
   },
   "outputs": [],
   "source": [
    "fig, ax = plt.subplots()\n",
    "num = 4\n",
    "fig.set_size_inches(15, 10)\n",
    "plt.hist(sampledpop_aes_features[:,num], 500, normed=0,histtype='step', cumulative=True, linewidth = 1.0)\n",
    "plt.hist(sampledunpop_aes_features[:,num], 500, normed=0,histtype='step', cumulative=True, linewidth = 1.0)\n",
    "plt.hist(aes_feats[:,num], 500, normed=0,histtype='step', cumulative=True, linewidth = 1.0)\n",
    "plt.legend(['Popular Posts', 'Unpopular Posts' , 'Aesthetic sample images'])\n",
    "plt.title('Rule of Thirds distribution for unpopular and popular videos', fontsize = 25)\n",
    "plt.show()"
   ]
  },
  {
   "cell_type": "code",
   "execution_count": null,
   "metadata": {
    "collapsed": false
   },
   "outputs": [],
   "source": [
    "fig, ax = plt.subplots()\n",
    "num = 3\n",
    "fig.set_size_inches(15, 10)\n",
    "plt.hist(sampledpop_aes_features[:,num], 100, normed=0,histtype='step', cumulative=False, linewidth = 1.0)\n",
    "plt.hist(sampledunpop_aes_features[:,num], 100, normed=0,histtype='step', cumulative=False, linewidth = 1.0)\n",
    "plt.hist(aes_feats[:,num], 100, normed=0,histtype='step', cumulative=False, linewidth = 1.0)\n",
    "plt.legend(['Popular Posts', 'Unpopular Posts' , 'Aesthetic sample images'])\n",
    "plt.title('Luo Simplicity distribution for different samples', fontsize = 25)\n",
    "plt.show()\n",
    "\n",
    "print np.mean(sampledpop_aes_features[:,num]) , np.median(sampledpop_aes_features[:,num])\n",
    "print np.mean(unpop_aes_features[:,num]) , np.median(unpop_aes_features[:,num])\n",
    "print np.mean(aes_feats[:,num]) , np.median(aes_feats[:,num])\n",
    "t, p = ttest_ind( sampledpop_aes_features[:,num], sampled_aes[:,num])\n",
    "print p\n",
    "t, p = ttest_ind( sampledunpop_aes_features[:,num], sampled_aes[:,num])\n",
    "print p\n"
   ]
  },
  {
   "cell_type": "code",
   "execution_count": null,
   "metadata": {
    "collapsed": false
   },
   "outputs": [],
   "source": [
    "fig, ax = plt.subplots()\n",
    "num = 16\n",
    "fig.set_size_inches(15, 10)\n",
    "plt.hist(sampledpop_aes_features[:,num], 1000, normed=0,histtype='step', cumulative=True, linewidth = 1.0)\n",
    "plt.hist(sampledunpop_aes_features[:,num], 1000, normed=0,histtype='step', cumulative=True, linewidth = 1.0)\n",
    "plt.hist(aes_feats[:,num], 1000, normed=0,histtype='step', cumulative=True, linewidth = 1.0)\n",
    "plt.legend(['Popular Posts', 'Unpopular Posts' , 'Aesthetic sample images'])\n",
    "plt.title('Luo Simplicity distribution for different samples', fontsize = 25)\n",
    "plt.show()\n",
    "\n",
    "print np.mean(sampledpop_aes_features[:,num]) , np.median(sampledpop_aes_features[:,num])\n",
    "print np.mean(unpop_aes_features[:,num]) , np.median(unpop_aes_features[:,num])\n",
    "print np.mean(aes_feats[:,num]) , np.median(aes_feats[:,num])"
   ]
  },
  {
   "cell_type": "code",
   "execution_count": null,
   "metadata": {
    "collapsed": true
   },
   "outputs": [],
   "source": []
  }
 ],
 "metadata": {
  "kernelspec": {
   "display_name": "Python 2",
   "language": "python",
   "name": "python2"
  },
  "language_info": {
   "codemirror_mode": {
    "name": "ipython",
    "version": 2
   },
   "file_extension": ".py",
   "mimetype": "text/x-python",
   "name": "python",
   "nbconvert_exporter": "python",
   "pygments_lexer": "ipython2",
   "version": "2.7.6"
  }
 },
 "nbformat": 4,
 "nbformat_minor": 0
}
