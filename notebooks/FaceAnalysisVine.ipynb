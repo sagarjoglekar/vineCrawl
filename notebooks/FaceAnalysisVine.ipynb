{
 "cells": [
  {
   "cell_type": "code",
   "execution_count": 1,
   "metadata": {
    "collapsed": false
   },
   "outputs": [],
   "source": [
    "import numpy as np\n",
    "import cv2\n",
    "import cPickle as pickle\n",
    "%matplotlib inline\n",
    "import matplotlib.pyplot as plt\n",
    "import matplotlib.cm as cm\n",
    "import matplotlib.figure\n",
    "from matplotlib import mlab\n",
    "import os\n",
    "import json\n",
    "import sys "
   ]
  },
  {
   "cell_type": "code",
   "execution_count": 2,
   "metadata": {
    "collapsed": true
   },
   "outputs": [],
   "source": [
    "popularFile = \"../Logs/faceCounts.pk\"\n",
    "unpopularFile = \"../Logs/unpopularFaceCounts.pk\"\n"
   ]
  },
  {
   "cell_type": "code",
   "execution_count": 3,
   "metadata": {
    "collapsed": false
   },
   "outputs": [],
   "source": [
    "def readFaceCounts(fileName):\n",
    "    lists = []\n",
    "    infile = open(fileName, 'rb')\n",
    "    while True:\n",
    "        try:\n",
    "            lists.append(pickle.load(infile))\n",
    "        except EOFError:\n",
    "            infile.close()\n",
    "            break\n",
    "    return lists\n",
    "\n",
    "def removeDuplicatesAndSplit(lines):\n",
    "    posts = []\n",
    "    totFrames = []\n",
    "    faceFrames = []\n",
    "    profiles = []\n",
    "    frontals = []\n",
    "    for l in lines:\n",
    "        postId = l.split(',')[0]\n",
    "        if postId not in posts:\n",
    "            comps = l.split(',')\n",
    "            if int(comps[1]) == 0:\n",
    "                break\n",
    "            else:\n",
    "                posts.append(postId)\n",
    "                totFrames.append(int(comps[1]))\n",
    "                faceFrames.append(int(comps[2]))\n",
    "                profiles.append(int(comps[3]))\n",
    "                frontals.append(int(comps[3]))\n",
    "    return totFrames, faceFrames , posts\n",
    "            "
   ]
  },
  {
   "cell_type": "code",
   "execution_count": 5,
   "metadata": {
    "collapsed": false
   },
   "outputs": [
    {
     "name": "stdout",
     "output_type": "stream",
     "text": [
      "16316\n"
     ]
    }
   ],
   "source": [
    "popLines = readFaceCounts(popularFile)\n",
    "print len(popLines)\n"
   ]
  },
  {
   "cell_type": "code",
   "execution_count": 6,
   "metadata": {
    "collapsed": false
   },
   "outputs": [
    {
     "name": "stdout",
     "output_type": "stream",
     "text": [
      "3000\n"
     ]
    }
   ],
   "source": [
    "unpopLines = readFaceCounts(unpopularFile)\n",
    "print len(unpopLines)"
   ]
  },
  {
   "cell_type": "code",
   "execution_count": null,
   "metadata": {
    "collapsed": true
   },
   "outputs": [],
   "source": [
    "samples = np.random.choice(len(Lines) , len(unpopLines))"
   ]
  },
  {
   "cell_type": "code",
   "execution_count": null,
   "metadata": {
    "collapsed": false
   },
   "outputs": [],
   "source": [
    "popLines = [Lines[i] for i in samples]"
   ]
  },
  {
   "cell_type": "code",
   "execution_count": null,
   "metadata": {
    "collapsed": false
   },
   "outputs": [],
   "source": [
    "popTotFrames , popFaceFrames = removeDuplicatesAndSplit(popLines)\n",
    "facePercentages = np.zeros((len(popTotFrames),1))\n",
    "for i in range(len(facePercentages)):\n",
    "    facePercentages[i] = float(float(popFaceFrames[i])/float(popTotFrames[i]))"
   ]
  },
  {
   "cell_type": "code",
   "execution_count": null,
   "metadata": {
    "collapsed": false
   },
   "outputs": [],
   "source": [
    "unpopTotFrames , unpopFaceFrames = removeDuplicatesAndSplit(unpopLines)\n"
   ]
  },
  {
   "cell_type": "code",
   "execution_count": null,
   "metadata": {
    "collapsed": false
   },
   "outputs": [],
   "source": [
    "print len "
   ]
  },
  {
   "cell_type": "code",
   "execution_count": null,
   "metadata": {
    "collapsed": false
   },
   "outputs": [],
   "source": [
    "unpopfacePercentages = np.zeros((len(unpopTotFrames),1))\n",
    "for i in range(len(unpopfacePercentages)):\n",
    "    unpopfacePercentages[i] = float(float(unpopFaceFrames[i])/float(unpopTotFrames[i]))"
   ]
  },
  {
   "cell_type": "code",
   "execution_count": null,
   "metadata": {
    "collapsed": false
   },
   "outputs": [],
   "source": [
    "fig, ax = plt.subplots()\n",
    "fig.set_size_inches(20, 10)\n",
    "plt.rc('xtick', labelsize=20) \n",
    "plt.rc('ytick', labelsize=20)\n",
    "plt.hist(facePercentages , 1000 , normed =1 , histtype='step' , cumulative=True ,linewidth = 2.0)\n",
    "plt.hist(unpopfacePercentages , 1000 , normed =1 , histtype='step' , cumulative=True ,linewidth = 2.0)\n",
    "plt.title(\"Distribution of Frames with faces for popular and unpopular videos\",fontsize = 25)\n",
    "plt.xlabel(\"Fraction of Frames to TotalFrames that contain Faces\",fontsize = 25)\n",
    "plt.ylabel(\"CDF\",fontsize = 25)\n",
    "plt.legend(['Popular Videos', ' Unpopualar Videos'])\n",
    "plt.grid(True)\n",
    "plt.show()\n"
   ]
  },
  {
   "cell_type": "code",
   "execution_count": null,
   "metadata": {
    "collapsed": false
   },
   "outputs": [],
   "source": [
    "print np.mean(facePercentages) , np.median(facePercentages) , np.mean(unpopfacePercentages) , np.median(unpopfacePercentages)"
   ]
  },
  {
   "cell_type": "code",
   "execution_count": null,
   "metadata": {
    "collapsed": false
   },
   "outputs": [],
   "source": [
    "fig, ax = plt.subplots()\n",
    "fig.set_size_inches(20, 10)\n",
    "plt.rc('xtick', labelsize=20) \n",
    "plt.rc('ytick', labelsize=20)\n",
    "plt.hist(popTotFrames , 100 , normed =1 , histtype='step' , cumulative=True ,linewidth = 2.0)\n",
    "plt.hist(unpopTotFrames , 100 , normed =1 , histtype='step' , cumulative=True ,linewidth = 2.0)\n",
    "plt.title(\"Distribution of total frames in a Vine video (peaks at around 190)\",fontsize = 25)\n",
    "plt.legend(['Popular Videos', ' Unpopualar Videos'])\n",
    "plt.xlabel(\"Number of frames\",fontsize = 25)\n",
    "plt.ylabel(\"Frequency\",fontsize = 25)\n",
    "plt.show()\n"
   ]
  },
  {
   "cell_type": "code",
   "execution_count": null,
   "metadata": {
    "collapsed": false
   },
   "outputs": [],
   "source": [
    "print np.mean(popTotFrames) , np.median(popTotFrames) , np.mean(unpopTotFrames) , np.median(unpopTotFrames)"
   ]
  },
  {
   "cell_type": "code",
   "execution_count": null,
   "metadata": {
    "collapsed": false
   },
   "outputs": [],
   "source": [
    "\n",
    "fig, ax = plt.subplots()\n",
    "fig.set_size_inches(20, 10)\n",
    "plt.hist(frontalPercentages, 1000, normed=1,histtype='step', cumulative=True,linewidth = 3.0,linestyle='dashed')\n",
    "plt.hist(profilePercentages, 1000, normed=1,histtype='step', cumulative=True,linewidth = 3.0)\n",
    "plt.hist(facePercentages, 1000, normed=1,histtype='step', cumulative=True, linewidth = 3.0,linestyle='dotted')\n",
    "plt.title(\"CDF for Face to Frame ratio across  Vine dataset\", fontsize = 25)\n",
    "plt.xlabel(\"Ratio of Face frames to Total frames\",fontsize = 25)\n",
    "plt.ylabel(\"Probability\",fontsize = 25)\n",
    "plt.legend(['Frontal Faces', 'Profile/Sideways Faces' , 'Max of both'])\n",
    "plt.show()\n"
   ]
  },
  {
   "cell_type": "code",
   "execution_count": null,
   "metadata": {
    "collapsed": false
   },
   "outputs": [],
   "source": [
    "print np.mean(facePercentages)\n",
    "print np.median(facePercentages)\n",
    "print np.var(facePercentages)\n",
    "print np.mean(frontalPercentages)\n",
    "print np.median(frontalPercentages)\n",
    "print np.var(frontalPercentages)\n",
    "print np.mean(profilePercentages)\n",
    "print np.median(profilePercentages)\n",
    "print np.var(profilePercentages)"
   ]
  },
  {
   "cell_type": "code",
   "execution_count": null,
   "metadata": {
    "collapsed": true
   },
   "outputs": [],
   "source": [
    "\n",
    "def getVisited():\n",
    "    visited = []\n",
    "    f = open(visitedList, 'rb')\n",
    "    visited = pickle.load(f)\n",
    "    return visited\n",
    "\n",
    "\n",
    "def walkLevel1Dir(root):\n",
    "    count = 0\n",
    "    dirList = []\n",
    "    filesList = []\n",
    "    for path, dirs, files in os.walk(root):\n",
    "        if count > 0:\n",
    "            return dirList , fileList\n",
    "        dirList = dirs\n",
    "        fileList = files\n",
    "        count = count + 1\n",
    "\n",
    "\n",
    "def getPopularFile(rootDir):\n",
    "    f = open(rootDir + '/popular.json' ,'r')\n",
    "    data = json.load(f)\n",
    "    return data\n",
    "\n",
    "    \n",
    "    \n",
    "def getPopularPosts(popular , loopThreshold):\n",
    "    records = popular['data']['records']\n",
    "    posts=[]\n",
    "    for i in range (0 , len(records)):\n",
    "        loopCount = records[i]['reposts']['count']\n",
    "        if(loopCount > loopThreshold):\n",
    "            posts.append(records[i])\n",
    "    return posts\n",
    "\n",
    "def getRecords(popular):\n",
    "    records = popular['data']['records']\n",
    "    return records"
   ]
  },
  {
   "cell_type": "code",
   "execution_count": null,
   "metadata": {
    "collapsed": false
   },
   "outputs": [],
   "source": [
    "root = \"../vinedata/Data/\"\n",
    "dirs,files = walkLevel1Dir(root)\n",
    "visited = getVisited()\n",
    "selectedPosts = []\n",
    "allPosts = []\n",
    "\n",
    "\n",
    "for d in dirs:\n",
    "    if d in visited:\n",
    "        dataRoot = root + d\n",
    "        print \"Visiting: \" + dataRoot\n",
    "        popular = getPopularFile(dataRoot)\n",
    "        popposts = getPopularPosts(popular , 1000)\n",
    "        selectedPosts += popposts\n",
    "        rec = getRecords(popular)\n",
    "        allPosts += rec\n",
    "        #\n"
   ]
  },
  {
   "cell_type": "code",
   "execution_count": null,
   "metadata": {
    "collapsed": false
   },
   "outputs": [],
   "source": [
    "print len(selectedPosts)\n",
    "print len(allPosts)"
   ]
  },
  {
   "cell_type": "code",
   "execution_count": null,
   "metadata": {
    "collapsed": false
   },
   "outputs": [],
   "source": [
    "selectedIDs = np.zeros((len(selectedPosts),1),dtype='i8')\n",
    "for i in range(len(selectedPosts)):\n",
    "    selectedIDs[i] = int(selectedPosts[i]['postId'])"
   ]
  },
  {
   "cell_type": "code",
   "execution_count": null,
   "metadata": {
    "collapsed": true
   },
   "outputs": [],
   "source": [
    "likeCount = np.zeros((len(allPosts),1))\n",
    "repostCount = np.zeros((len(allPosts),1))\n",
    "for i in range(len(allPosts)):\n",
    "    likeCount[i] = allPosts[i]['likes']['count']\n",
    "    repostCount[i] = allPosts[i]['reposts']['count']\n"
   ]
  },
  {
   "cell_type": "code",
   "execution_count": null,
   "metadata": {
    "collapsed": false
   },
   "outputs": [],
   "source": [
    "print likeCount.shape"
   ]
  },
  {
   "cell_type": "code",
   "execution_count": null,
   "metadata": {
    "collapsed": false
   },
   "outputs": [],
   "source": [
    "#test = np.random.gamma(0.1, 5, 1000)\n",
    "test = np.random.exponential(0.15, 6541)\n",
    "test = test * 30000"
   ]
  },
  {
   "cell_type": "code",
   "execution_count": null,
   "metadata": {
    "collapsed": false
   },
   "outputs": [],
   "source": [
    "print test [999]\n",
    "print test.max() , test.min()"
   ]
  },
  {
   "cell_type": "code",
   "execution_count": null,
   "metadata": {
    "collapsed": true
   },
   "outputs": [],
   "source": []
  },
  {
   "cell_type": "code",
   "execution_count": null,
   "metadata": {
    "collapsed": false
   },
   "outputs": [],
   "source": [
    "fig, ax = plt.subplots()\n",
    "fig.set_size_inches(20, 10)\n",
    "plt.hist(test , 1000 , normed =1 , histtype='step' , cumulative=True , linewidth = 3.0,)\n",
    "plt.hist(repostCount , 1000 , normed =1 , histtype='step' , cumulative=True , linewidth = 3.0,linestyle='dashed')\n",
    "plt.hist(likeCount , 1000 , normed =1 , histtype='step' , cumulative=True, linewidth = 3.0)\n",
    "plt.xticks(np.arange(0, max(likeCount), 10000))\n",
    "plt.title(\"CDFs for all collected Vines\" , fontsize = 25)\n",
    "plt.xlabel(\"Count (Reposts , Likes)\" , fontsize = 25)\n",
    "plt.ylabel(\"Probability\", fontsize = 25)\n",
    "plt.legend(['exponential','Repost Count', 'Like Count'] , fontsize = 15)\n",
    "plt.show()"
   ]
  },
  {
   "cell_type": "markdown",
   "metadata": {
    "collapsed": false
   },
   "source": [
    "print np.mean(likeCount)\n",
    "print np.median(likeCount)\n",
    "print np.mean(repostCount)\n",
    "print np.median(repostCount)"
   ]
  },
  {
   "cell_type": "code",
   "execution_count": null,
   "metadata": {
    "collapsed": false
   },
   "outputs": [],
   "source": [
    "intersection = np.in1d(selectedIDs, PostID )\n",
    "# indices = []\n",
    "# for p in selectedPosts:\n",
    "#     for i in range(len(posts)):\n",
    "#         if p['postId'] in posts:\n",
    "#             indices.append(posts.index(p['postId']))\n",
    "#             break\n",
    "\n",
    "indices = []\n",
    "for i in range(len(intersection)):\n",
    "    if(intersection[i]):\n",
    "        indices.append(i)\n",
    "\n",
    "#print indices"
   ]
  },
  {
   "cell_type": "code",
   "execution_count": null,
   "metadata": {
    "collapsed": false
   },
   "outputs": [],
   "source": [
    "print len(selectedPosts)\n",
    "print len(indices)\n",
    "print PostID.shape\n",
    "print selectedIDs.shape"
   ]
  },
  {
   "cell_type": "code",
   "execution_count": null,
   "metadata": {
    "collapsed": false
   },
   "outputs": [],
   "source": [
    "\n",
    "selPercentages = np.zeros((len(indices),1))\n",
    "selFrontalPercentages = np.zeros((len(indices),1))\n",
    "selProfilePercentages = np.zeros((len(indices),1))\n",
    "\n",
    "for i in range(len(indices)):\n",
    "    selPercentages[i] = facePercentages[i]\n",
    "    selProfilePercentages[i] = float(profileFrames[i])/float(totFrames[indices[i]])\n",
    "    selFrontalPercentages[i] = float(faceFrames[i])/float(totFrames[indices[i]])\n",
    "\n",
    "selRepost = np.zeros((len(indices),1))\n",
    "selLikes = np.zeros((len(indices),1))\n",
    "\n",
    "for i in range(len(indices)):\n",
    "    selRepost[i] = allPosts[indices[i]]['reposts']['count']\n",
    "    selLikes[i] = allPosts[indices[i]]['likes']['count']"
   ]
  },
  {
   "cell_type": "code",
   "execution_count": null,
   "metadata": {
    "collapsed": false
   },
   "outputs": [],
   "source": [
    "print min(selRepost)\n",
    "print min(selLikes)\n"
   ]
  },
  {
   "cell_type": "code",
   "execution_count": null,
   "metadata": {
    "collapsed": false
   },
   "outputs": [],
   "source": [
    "likesNormed = selLikes / selLikes.max(axis=0)\n",
    "repostNormed = selRepost / selRepost.max(axis=0)"
   ]
  },
  {
   "cell_type": "code",
   "execution_count": null,
   "metadata": {
    "collapsed": false
   },
   "outputs": [],
   "source": [
    "fig, ax = plt.subplots()\n",
    "fig.set_size_inches(20, 10)\n",
    "#plt.plot(likesNormed , selPercentages,'*g' )\n",
    "plt.plot(selRepost , selPercentages , '^r' )\n",
    "\n",
    "plt.xlabel('Number of Likes/Reposts Normalized',fontsize = 25)\n",
    "plt.ylabel('Face to Frames ratio', fontsize = 25)\n",
    "plt.legend(['Repost Count'])\n",
    "plt.show()"
   ]
  },
  {
   "cell_type": "code",
   "execution_count": null,
   "metadata": {
    "collapsed": false,
    "scrolled": true
   },
   "outputs": [],
   "source": [
    "fig, ax = plt.subplots()\n",
    "fig.set_size_inches(20, 10)\n",
    "plt.hist(selPercentages , 100 , normed =1 , histtype='step' , cumulative=False)\n",
    "plt.title(\"Distribution of Face/Total Frames ratio across vines with 5k+ reposts\")\n",
    "plt.xlabel(\"Ratio\")\n",
    "plt.ylabel(\"Frequency\")\n",
    "plt.show()\n"
   ]
  },
  {
   "cell_type": "code",
   "execution_count": null,
   "metadata": {
    "collapsed": false
   },
   "outputs": [],
   "source": [
    "fig, ax = plt.subplots()\n",
    "fig.set_size_inches(20, 10)\n",
    "hist1 = plt.hist(selPercentages, 1000, normed=1,histtype='step', cumulative=True ,color='r')\n",
    "hist2 = plt.hist(facePercentages, 1000, normed=1,histtype='step', cumulative=True , color='b')\n",
    "\n",
    "\n",
    "plt.title(\"CDF face frames to total frame ratio for Vines\")\n",
    "plt.xlabel(\"Ratio of Face frames to total frames\")\n",
    "plt.ylabel(\"Probability\")\n",
    "plt.legend(['Posts with more than 5K reposts', 'Across all posts'])\n",
    "plt.show()"
   ]
  },
  {
   "cell_type": "code",
   "execution_count": null,
   "metadata": {
    "collapsed": false
   },
   "outputs": [],
   "source": [
    "print np.mean(selPercentages)\n",
    "print np.median(selPercentages)\n",
    "print np.var(selPercentages)"
   ]
  },
  {
   "cell_type": "code",
   "execution_count": null,
   "metadata": {
    "collapsed": true
   },
   "outputs": [],
   "source": []
  }
 ],
 "metadata": {
  "kernelspec": {
   "display_name": "Python 2",
   "language": "python",
   "name": "python2"
  },
  "language_info": {
   "codemirror_mode": {
    "name": "ipython",
    "version": 2
   },
   "file_extension": ".py",
   "mimetype": "text/x-python",
   "name": "python",
   "nbconvert_exporter": "python",
   "pygments_lexer": "ipython2",
   "version": "2.7.6"
  }
 },
 "nbformat": 4,
 "nbformat_minor": 0
}
