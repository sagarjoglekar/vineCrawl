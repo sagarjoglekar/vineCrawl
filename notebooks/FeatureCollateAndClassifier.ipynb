{
 "cells": [
  {
   "cell_type": "code",
   "execution_count": 219,
   "metadata": {
    "collapsed": true
   },
   "outputs": [],
   "source": [
    "import numpy as np\n",
    "import cPickle as pickle\n",
    "import pandas as pd\n",
    "from sklearn import cross_validation\n",
    "from sklearn.cross_validation import KFold\n",
    "from sklearn.metrics import mean_squared_error\n",
    "from sklearn.ensemble import RandomForestClassifier \n",
    "from sklearn.cross_validation import cross_val_score\n",
    "from sklearn.metrics import f1_score\n",
    "%matplotlib inline\n",
    "import matplotlib.pyplot as plt\n"
   ]
  },
  {
   "cell_type": "code",
   "execution_count": 2,
   "metadata": {
    "collapsed": true
   },
   "outputs": [],
   "source": [
    "meanSentiment = \"../Final_features/median_sentiments.csv\"\n",
    "aesthetic_csv = \"../Final_features/total_aesthetic.pk\"\n",
    "audiopop_csv = \"../Final_features/popAudio_features.csv\"\n",
    "audioUnpop_csv = \"../Final_features/unpopAudioFeatures.csv\"\n",
    "socialFeatures = \"../Final_features/postSocialMetaFeatures.pk\""
   ]
  },
  {
   "cell_type": "code",
   "execution_count": 57,
   "metadata": {
    "collapsed": false
   },
   "outputs": [],
   "source": [
    "def readFeatureFile(color_features):\n",
    "    with open(color_features) as g:\n",
    "        featureLines = g.readlines()\n",
    "    print len(featureLines)\n",
    "    return featureLines\n",
    "\n",
    "\n",
    "def readAudioFeatures(lines):\n",
    "    featureDict = {}\n",
    "    \n",
    "    for line in lines:\n",
    "        components = line.strip().split(',')\n",
    "        postId = components[0].strip().split('.')[0]\n",
    "        feats = [float(x) for x in components[1:]]\n",
    "        cleanFeats = []\n",
    "        for x in feats:\n",
    "            if str(x) != 'nan':\n",
    "                cleanFeats.append(float(x))\n",
    "            else:\n",
    "                cleanFeats.append(0.0)\n",
    "        featureDict[postId] = cleanFeats\n",
    "            \n",
    "    return featureDict\n",
    "\n",
    "def readSentiFeatures(lines):\n",
    "    sentiDict = {}\n",
    "    for line in lines:\n",
    "        comp = line.split(',')\n",
    "        sentiDict[comp[0]] = float(comp[1].strip())\n",
    "    return sentiDict\n",
    "\n",
    "def mergeAllFeatures(aesthetic , sentiment , audio , social):\n",
    "    totalMatrix = []\n",
    "    for aes in aesthetic:\n",
    "        if aes[0] in sentiment:\n",
    "            if aes[0] in audio:\n",
    "                if aes[0] in social:\n",
    "                    postid = aes[0]\n",
    "                    aesVec = np.asarray(map(lambda x: float(x),aes[1:]) , dtype = \"float32\").reshape((1,-1))\n",
    "                    audioVec = np.asarray(map(lambda x: float(x),audio[postid]) , dtype = \"float32\").reshape((1,-1))\n",
    "                    sentimentVec = np.asarray(map(lambda x: float(x),[sentiment[postid]]) , dtype = \"float32\").reshape((1,-1))\n",
    "                    socialVec = np.asarray(map(lambda x: int(x),social[postid]) , dtype = \"int32\" ).reshape((1,-1))\n",
    "                    \n",
    "                    finalFeatureVec = np.concatenate((aesVec,audioVec,sentimentVec,socialVec), axis = 1)\n",
    "                    totalMatrix.append(finalFeatureVec)\n",
    "    print len(totalMatrix)\n",
    "    return np.vstack(totalMatrix)\n",
    "\n",
    "def convertToDict(social):\n",
    "    socialDict = {}\n",
    "    print len(social)\n",
    "    for i in social:\n",
    "        social_feats = i[1:]\n",
    "        key = i[0]\n",
    "        socialDict[key] = social_feats \n",
    "    return socialDict\n",
    "        "
   ]
  },
  {
   "cell_type": "code",
   "execution_count": 6,
   "metadata": {
    "collapsed": false
   },
   "outputs": [],
   "source": [
    "f = open(aesthetic_csv , \"r+\")\n",
    "aesFeats = pickle.load(f)\n",
    "f.close()\n"
   ]
  },
  {
   "cell_type": "code",
   "execution_count": 7,
   "metadata": {
    "collapsed": false
   },
   "outputs": [
    {
     "name": "stdout",
     "output_type": "stream",
     "text": [
      "(18474, 20)\n",
      "(18474, 20)\n"
     ]
    }
   ],
   "source": [
    "print aesFeats.shape"
   ]
  },
  {
   "cell_type": "code",
   "execution_count": 8,
   "metadata": {
    "collapsed": false
   },
   "outputs": [
    {
     "name": "stdout",
     "output_type": "stream",
     "text": [
      "['1294156026651774976', 835975, 241, 568489.0, 18158, 5979]\n",
      "['1294156026651774976', 835975, 241, 568489.0, 18158, 5979]\n"
     ]
    }
   ],
   "source": [
    "f = open(socialFeatures , \"r+\")\n",
    "socialFeats = pickle.load(f)\n",
    "f.close()\n",
    "print socialFeats[104]"
   ]
  },
  {
   "cell_type": "code",
   "execution_count": 9,
   "metadata": {
    "collapsed": false
   },
   "outputs": [
    {
     "name": "stdout",
     "output_type": "stream",
     "text": [
      "11446\n",
      "11446\n"
     ]
    }
   ],
   "source": [
    "popAudio_csv = readFeatureFile(audiopop_csv)"
   ]
  },
  {
   "cell_type": "code",
   "execution_count": 10,
   "metadata": {
    "collapsed": false
   },
   "outputs": [
    {
     "name": "stdout",
     "output_type": "stream",
     "text": [
      "11992\n",
      "11992\n"
     ]
    }
   ],
   "source": [
    "unpopAudio_csv = readFeatureFile(audioUnpop_csv)"
   ]
  },
  {
   "cell_type": "code",
   "execution_count": 11,
   "metadata": {
    "collapsed": false
   },
   "outputs": [],
   "source": [
    "totalFeats = popAudio_csv + unpopAudio_csv\n",
    "audioDict = readAudioFeatures(totalFeats)"
   ]
  },
  {
   "cell_type": "code",
   "execution_count": 12,
   "metadata": {
    "collapsed": false
   },
   "outputs": [],
   "source": [
    "ex =  audioDict['1381729172183040000']"
   ]
  },
  {
   "cell_type": "code",
   "execution_count": 13,
   "metadata": {
    "collapsed": false
   },
   "outputs": [
    {
     "name": "stdout",
     "output_type": "stream",
     "text": [
      "[0.0, 0.16844, 40.915827, 0.10944, 0.7735, 0.333333]\n",
      "[0.0, 0.16844, 40.915827, 0.10944, 0.7735, 0.333333]\n"
     ]
    }
   ],
   "source": [
    "print ex"
   ]
  },
  {
   "cell_type": "code",
   "execution_count": 14,
   "metadata": {
    "collapsed": false
   },
   "outputs": [
    {
     "name": "stdout",
     "output_type": "stream",
     "text": [
      "23441\n",
      "23441\n"
     ]
    }
   ],
   "source": [
    "senti_csv = readFeatureFile(meanSentiment)"
   ]
  },
  {
   "cell_type": "code",
   "execution_count": 15,
   "metadata": {
    "collapsed": true
   },
   "outputs": [],
   "source": [
    "sentiDict = readSentiFeatures(senti_csv)"
   ]
  },
  {
   "cell_type": "code",
   "execution_count": 16,
   "metadata": {
    "collapsed": false
   },
   "outputs": [
    {
     "data": {
      "text/plain": [
       "3.6"
      ]
     },
     "execution_count": 16,
     "metadata": {},
     "output_type": "execute_result"
    },
    {
     "data": {
      "text/plain": [
       "3.6"
      ]
     },
     "execution_count": 16,
     "metadata": {},
     "output_type": "execute_result"
    }
   ],
   "source": [
    "sentiDict['1381729172183040000']"
   ]
  },
  {
   "cell_type": "code",
   "execution_count": 17,
   "metadata": {
    "collapsed": false
   },
   "outputs": [
    {
     "name": "stdout",
     "output_type": "stream",
     "text": [
      "[['1379007357325344768', 33, 258, 18.0, 2, 0], ['1384812946315706368', 183, 86, 14.0, 1, 0], ['1380550788883312640', 0, 1, 4.0, 0, 0], ['1381683778946232320', 113, 57, 6.0, 0, 0], ['1379179530505383936', 175, 174, 3.0, 1, 0], ['1386151370364739584', 427, 105, 3.0, 0, 0], ['1286103711319764992', 51027, 389, 673549.0, 21849, 8150], ['1382613942450405376', 136, 167, 14.0, 1, 0], ['1380365152318537728', 4, 11, 5.0, 0, 0]]\n",
      "[['1379007357325344768', 33, 258, 18.0, 2, 0], ['1384812946315706368', 183, 86, 14.0, 1, 0], ['1380550788883312640', 0, 1, 4.0, 0, 0], ['1381683778946232320', 113, 57, 6.0, 0, 0], ['1379179530505383936', 175, 174, 3.0, 1, 0], ['1386151370364739584', 427, 105, 3.0, 0, 0], ['1286103711319764992', 51027, 389, 673549.0, 21849, 8150], ['1382613942450405376', 136, 167, 14.0, 1, 0], ['1380365152318537728', 4, 11, 5.0, 0, 0]]\n"
     ]
    }
   ],
   "source": [
    "print socialFeats[1:10]"
   ]
  },
  {
   "cell_type": "code",
   "execution_count": 58,
   "metadata": {
    "collapsed": false
   },
   "outputs": [
    {
     "name": "stdout",
     "output_type": "stream",
     "text": [
      "22192\n",
      "22192\n"
     ]
    }
   ],
   "source": [
    "socialDict = convertToDict(socialFeats)"
   ]
  },
  {
   "cell_type": "code",
   "execution_count": 59,
   "metadata": {
    "collapsed": false
   },
   "outputs": [
    {
     "name": "stdout",
     "output_type": "stream",
     "text": [
      "[152, 78, 3.0, 0, 0]\n",
      "[152, 78, 3.0, 0, 0]\n"
     ]
    }
   ],
   "source": [
    "print socialDict[socialDict.keys()[1]]"
   ]
  },
  {
   "cell_type": "code",
   "execution_count": 60,
   "metadata": {
    "collapsed": false
   },
   "outputs": [
    {
     "name": "stdout",
     "output_type": "stream",
     "text": [
      "16431\n",
      "16431\n"
     ]
    }
   ],
   "source": [
    "totMatrix = mergeAllFeatures(aesFeats , sentiDict , audioDict , socialDict)"
   ]
  },
  {
   "cell_type": "code",
   "execution_count": 61,
   "metadata": {
    "collapsed": false
   },
   "outputs": [
    {
     "data": {
      "text/plain": [
       "(16431, 31)"
      ]
     },
     "execution_count": 61,
     "metadata": {},
     "output_type": "execute_result"
    },
    {
     "data": {
      "text/plain": [
       "(16431, 31)"
      ]
     },
     "execution_count": 61,
     "metadata": {},
     "output_type": "execute_result"
    }
   ],
   "source": [
    "totMatrix.shape"
   ]
  },
  {
   "cell_type": "code",
   "execution_count": 62,
   "metadata": {
    "collapsed": true
   },
   "outputs": [],
   "source": [
    "FeatureMatrix = totMatrix[:,:-3] \n",
    "labelNumbers = totMatrix[:,-3:]"
   ]
  },
  {
   "cell_type": "code",
   "execution_count": 63,
   "metadata": {
    "collapsed": false
   },
   "outputs": [
    {
     "name": "stdout",
     "output_type": "stream",
     "text": [
      "(16431, 28) (16431, 3)\n",
      "(16431, 28) (16431, 3)\n"
     ]
    }
   ],
   "source": [
    "print FeatureMatrix.shape , labelNumbers.shape"
   ]
  },
  {
   "cell_type": "code",
   "execution_count": 72,
   "metadata": {
    "collapsed": false
   },
   "outputs": [
    {
     "name": "stdout",
     "output_type": "stream",
     "text": [
      "237084.271073\n",
      "237084.271073\n"
     ]
    }
   ],
   "source": [
    "print np.mean(labelNumbers[:,0])"
   ]
  },
  {
   "cell_type": "code",
   "execution_count": 73,
   "metadata": {
    "collapsed": true
   },
   "outputs": [],
   "source": [
    "medianPopReposts = 2173.0\n",
    "meanPopReposts = 16064.0\n",
    "\n",
    "medianPopLikes = 7544.0\n",
    "meanPopLikes = 42521.0\n",
    "\n",
    "medianPopLoops = 318566.0\n",
    "meanPopLoops = 2405671.0"
   ]
  },
  {
   "cell_type": "code",
   "execution_count": 247,
   "metadata": {
    "collapsed": false
   },
   "outputs": [],
   "source": [
    "def createLabels(labelNumbers , variable , threshold , scalar):\n",
    "    Labels = np.zeros(labelNumbers.shape[0])\n",
    "    for i in range(labelNumbers.shape[0]):\n",
    "        if labelNumbers[i][variable] > (scalar*threshold):\n",
    "            Labels[i] = 1\n",
    "    return Labels\n",
    "\n",
    "def iterateTraining(FeatureMatrix , labelNumbers , variable , start , stop , steps):\n",
    "    intervals = (stop-start)/steps\n",
    "    divisions = np.arange(start, stop , intervals )\n",
    "    fscores = []\n",
    "    feature_importance = []\n",
    "    accuracies = []\n",
    "    errors = []\n",
    "    for d in divisions: \n",
    "        LoopLabels = createLabels(labelNumbers ,  variable , d , 1)\n",
    "        X_train, X_test, y_train, y_test = cross_validation.train_test_split(FeatureMatrix, LoopLabels, test_size=0.3, random_state=0)\n",
    "        clfRF = RandomForestClassifier(n_estimators=28)\n",
    "        clfRF.fit(X_train, y_train)\n",
    "        RF_predict = clfRF.predict(X_test)\n",
    "        \n",
    "        print \"Videos Classified as Popular %f \"%(np.sum(LoopLabels)/LoopLabels.shape[0])\n",
    "        \n",
    "        error_RF = mean_squared_error(y_test, RF_predict)\n",
    "        errors.append(error_RF)\n",
    "        \n",
    "        accuracy = np.mean(y_test == RF_predict)\n",
    "        accuracies.append(accuracy)\n",
    "        \n",
    "        feature_importance.append(clfRF.feature_importances_)\n",
    "        \n",
    "        fscore = f1_score(y_test, RF_predict, average='binary')\n",
    "        fscores.append(fscore)\n",
    "    return accuracies, errors , fscores,  np.vstack(feature_importance)"
   ]
  },
  {
   "cell_type": "code",
   "execution_count": 201,
   "metadata": {
    "collapsed": false
   },
   "outputs": [],
   "source": [
    "LoopLabels = createLabels(labelNumbers , 2 , medianPopReposts , 1)"
   ]
  },
  {
   "cell_type": "code",
   "execution_count": 202,
   "metadata": {
    "collapsed": false
   },
   "outputs": [
    {
     "name": "stdout",
     "output_type": "stream",
     "text": [
      "0.11180086422\n"
     ]
    }
   ],
   "source": [
    "print (np.sum(LoopLabels)/LoopLabels.shape[0])"
   ]
  },
  {
   "cell_type": "code",
   "execution_count": 204,
   "metadata": {
    "collapsed": true
   },
   "outputs": [],
   "source": [
    "X_train, X_test, y_train, y_test = cross_validation.train_test_split(FeatureMatrix, LoopLabels, test_size=0.3, random_state=0)"
   ]
  },
  {
   "cell_type": "code",
   "execution_count": 205,
   "metadata": {
    "collapsed": false
   },
   "outputs": [],
   "source": [
    "\n",
    "clfRF = RandomForestClassifier(n_estimators=28)\n",
    "clfRF.fit(X_train, y_train)\n",
    "RF_predict = clfRF.predict(X_test)\n"
   ]
  },
  {
   "cell_type": "code",
   "execution_count": 206,
   "metadata": {
    "collapsed": false
   },
   "outputs": [
    {
     "name": "stdout",
     "output_type": "stream",
     "text": [
      "0.089046653144\n"
     ]
    }
   ],
   "source": [
    "error_RF = mean_squared_error(y_test, RF_predict)\n",
    "print error_RF"
   ]
  },
  {
   "cell_type": "code",
   "execution_count": 207,
   "metadata": {
    "collapsed": false
   },
   "outputs": [
    {
     "name": "stdout",
     "output_type": "stream",
     "text": [
      "0.910953346856\n"
     ]
    }
   ],
   "source": [
    "print np.mean(y_test == RF_predict)"
   ]
  },
  {
   "cell_type": "code",
   "execution_count": 208,
   "metadata": {
    "collapsed": false
   },
   "outputs": [
    {
     "name": "stdout",
     "output_type": "stream",
     "text": [
      "[ 0.          0.03379933  0.02536298  0.02234019  0.02347883  0.02617789\n",
      "  0.02684348  0.02543979  0.02662519  0.02288994  0.01625699  0.\n",
      "  0.02359906  0.02738487  0.02626645  0.02271969  0.02559568  0.0224741\n",
      "  0.01405975  0.02348834  0.03183248  0.02927121  0.02924884  0.028959\n",
      "  0.01870575  0.01886877  0.34136511  0.06694628]\n",
      "28\n"
     ]
    }
   ],
   "source": [
    "print clfRF.feature_importances_\n",
    "print clfRF.n_features_"
   ]
  },
  {
   "cell_type": "code",
   "execution_count": 200,
   "metadata": {
    "collapsed": false
   },
   "outputs": [
    {
     "data": {
      "text/plain": [
       "0.9161246148579254"
      ]
     },
     "execution_count": 200,
     "metadata": {},
     "output_type": "execute_result"
    }
   ],
   "source": [
    "f1_score(y_test, RF_predict, average='binary')"
   ]
  },
  {
   "cell_type": "code",
   "execution_count": 259,
   "metadata": {
    "collapsed": false
   },
   "outputs": [
    {
     "name": "stdout",
     "output_type": "stream",
     "text": [
      "Videos Classified as Popular 0.306433 \n",
      "Videos Classified as Popular 0.286166 \n",
      "Videos Classified as Popular 0.265778 \n",
      "Videos Classified as Popular 0.251841 \n",
      "Videos Classified as Popular 0.240460 \n",
      "Videos Classified as Popular 0.230296 \n",
      "Videos Classified as Popular 0.220620 \n",
      "Videos Classified as Popular 0.211734 \n",
      "Videos Classified as Popular 0.204370 \n",
      "Videos Classified as Popular 0.197067 \n",
      "Videos Classified as Popular 0.188242 \n",
      "Videos Classified as Popular 0.181304 \n",
      "Videos Classified as Popular 0.174305 \n",
      "Videos Classified as Popular 0.168158 \n",
      "Videos Classified as Popular 0.161585 \n",
      "Videos Classified as Popular 0.156777 \n",
      "Videos Classified as Popular 0.151665 \n",
      "Videos Classified as Popular 0.147283 \n",
      "Videos Classified as Popular 0.143205 \n",
      "Videos Classified as Popular 0.138762 \n",
      "Videos Classified as Popular 0.134867 \n",
      "Videos Classified as Popular 0.131763 \n",
      "Videos Classified as Popular 0.127746 \n",
      "Videos Classified as Popular 0.124582 \n",
      "Videos Classified as Popular 0.122147 \n"
     ]
    }
   ],
   "source": [
    "accuracies_total, errors_total , fscores_total, feature_importance_total  = iterateTraining(FeatureMatrix , labelNumbers , 1 , 0.1*medianPopLikes , medianPopLikes , 25)"
   ]
  },
  {
   "cell_type": "code",
   "execution_count": 260,
   "metadata": {
    "collapsed": false
   },
   "outputs": [
    {
     "name": "stdout",
     "output_type": "stream",
     "text": [
      "25\n"
     ]
    },
    {
     "data": {
      "image/png": "[encoded data removed]",
      "text/plain": [
       "<matplotlib.figure.Figure at 0x7f94b5b92050>"
      ]
     },
     "metadata": {},
     "output_type": "display_data"
    }
   ],
   "source": [
    "fig, ax = plt.subplots()\n",
    "fig.set_size_inches(15, 10)\n",
    "plt.title(\"Variation of importance of social features With respect to change in popularity threshold\", fontsize = 15)\n",
    "plt.xlabel(\"Popularity threshold Ranging from 0.1*Median Likes to Median Likes \",fontsize = 15)\n",
    "plt.ylabel(\"Value\",fontsize = 15)\n",
    "\n",
    "content_feature_importance = [np.sum(feature_importance_total[i,:26]) for i in range(feature_importance_total.shape[0])]\n",
    "print len(content_feature_importance)\n",
    "x = np.array(np.arange(0.1 , 1 , 0.9/25))\n",
    "plt.plot(x , feature_importance_total[:,26],linewidth = 1.5)\n",
    "plt.plot(x , feature_importance_total[:,27],linewidth = 1.5)\n",
    "plt.plot(x , content_feature_importance,linewidth = 1.5)\n",
    "\n",
    "plt.xticks( x )\n",
    "\n",
    "plt.legend(['Number of Followers', 'Number of past Posts' ,'Sum of all content Features'  \n",
    "           ])\n",
    "plt.show()"
   ]
  },
  {
   "cell_type": "code",
   "execution_count": 261,
   "metadata": {
    "collapsed": false
   },
   "outputs": [
    {
     "data": {
      "image/png": "[encoded data removed]",
      "text/plain": [
       "<matplotlib.figure.Figure at 0x7f94d80e2550>"
      ]
     },
     "metadata": {},
     "output_type": "display_data"
    }
   ],
   "source": [
    "fig, ax = plt.subplots()\n",
    "fig.set_size_inches(15, 10)\n",
    "plt.title(\"Variation of importance of Accuracy, f-score and error with respect to change in popularity threshold\", fontsize = 15)\n",
    "plt.xlabel(\"Popularity threshold Ranging from 0.1*Median Likes to Median Likes \",fontsize = 15)\n",
    "plt.ylabel(\"Value\",fontsize = 15)\n",
    "plt.plot(accuracies_total,linewidth = 1.5)\n",
    "plt.plot(errors_total,linewidth = 1.5)\n",
    "plt.plot(fscores_total,linewidth = 1.5)\n",
    "\n",
    "plt.legend(['Accuracy of Classifier', 'Mean square Error', 'F1 -score'   \n",
    "           ])\n",
    "plt.show()"
   ]
  },
  {
   "cell_type": "code",
   "execution_count": null,
   "metadata": {
    "collapsed": true
   },
   "outputs": [],
   "source": []
  }
 ],
 "metadata": {
  "kernelspec": {
   "display_name": "Python 2",
   "language": "python",
   "name": "python2"
  },
  "language_info": {
   "codemirror_mode": {
    "name": "ipython",
    "version": 2
   },
   "file_extension": ".py",
   "mimetype": "text/x-python",
   "name": "python",
   "nbconvert_exporter": "python",
   "pygments_lexer": "ipython2",
   "version": "2.7.6"
  }
 },
 "nbformat": 4,
 "nbformat_minor": 0
}
