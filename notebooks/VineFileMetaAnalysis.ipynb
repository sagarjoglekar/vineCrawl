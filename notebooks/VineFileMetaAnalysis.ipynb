{
 "cells": [
  {
   "cell_type": "code",
   "execution_count": 1,
   "metadata": {
    "collapsed": true
   },
   "outputs": [],
   "source": [
    "import numpy as np\n",
    "%matplotlib inline\n",
    "import matplotlib.pyplot as plt\n",
    "import matplotlib.cm as cm\n",
    "import json\n",
    "import os\n",
    "import cPickle as pickle\n",
    "from datetime import datetime\n",
    "import platform\n",
    "import collections"
   ]
  },
  {
   "cell_type": "code",
   "execution_count": 73,
   "metadata": {
    "collapsed": true
   },
   "outputs": [],
   "source": [
    "recentRoot = \"/datasets/sagarj/vine2016/Dataset/\"\n",
    "Meta = \"Meta/\"\n",
    "tracked = \"/postTracking/Day53/\""
   ]
  },
  {
   "cell_type": "code",
   "execution_count": 96,
   "metadata": {
    "collapsed": true
   },
   "outputs": [],
   "source": [
    "medianPopReposts = 2173.0\n",
    "meanPopReposts = 16064.0\n",
    "\n",
    "medianPopLikes = 7544.0\n",
    "meanPopLikes = 42521.0\n",
    "\n",
    "medianPopLoops = 318566.0\n",
    "meanPopLoops = 2405671.0"
   ]
  },
  {
   "cell_type": "code",
   "execution_count": 91,
   "metadata": {
    "collapsed": false
   },
   "outputs": [],
   "source": [
    "def readJson(path):\n",
    "    f = open(path)\n",
    "    data = json.loads(f.read())\n",
    "    return data\n",
    "\n",
    "def getCrawled(root , postDir):\n",
    "    crawledDir = root + postDir\n",
    "    crawledPosts = os.listdir(crawledDir)\n",
    "    print len(crawledPosts)\n",
    "    posts = []\n",
    "    postDict = {}\n",
    "    for post in crawledPosts:\n",
    "        postid = post.split('.')[0]\n",
    "        record = readJson(crawledDir + post)\n",
    "        p = record['data']\n",
    "        if isinstance(p,dict):\n",
    "            posts.append(p['records'][0])\n",
    "            postDict[postid] = p['records'][0]\n",
    "    print len(postDict.keys())\n",
    "    return postDict\n",
    "\n",
    "def getChannelMetas(channelNumber):\n",
    "    MetaDir = recentRoot + Meta\n",
    "    MetaEntries = os.listdir(MetaDir)\n",
    "    posts = {}\n",
    "    for entry in MetaEntries:\n",
    "        if entry.split('_')[1].split('.')[0].strip() == str(channelNumber):\n",
    "            creationTime = datetime.fromtimestamp(os.path.getctime(MetaDir + entry)).strftime(\"%Y-%m-%d %H:%M:%S\")\n",
    "            record = readJson(MetaDir + entry)\n",
    "            p = record['data']\n",
    "            if isinstance(p,dict):\n",
    "                posts[creationTime] = p\n",
    "    od = collections.OrderedDict(sorted(posts.items()))\n",
    "    return od\n",
    "\n",
    "def findUniq(od ):\n",
    "    uniquePosts = []\n",
    "    crawledPosts = []\n",
    "    totalPosts = []\n",
    "    for k, v in od.items():\n",
    "        records = v['records']\n",
    "        if isinstance(records,list):\n",
    "            u = 0\n",
    "            for i in range (0 , len(records)):\n",
    "                subRecord = records[i]\n",
    "                postid = subRecord['postId']\n",
    "                if postid in totalPosts:\n",
    "                    break\n",
    "                else:\n",
    "                    totalPosts.append(postid)\n",
    "                    u+=1\n",
    "            uniquePosts.append(u)\n",
    "            crawledPosts.append(len(records))\n",
    "    return uniquePosts, crawledPosts\n",
    "\n",
    "def channelPostDict(MetaDir , trackedPosts):\n",
    "    channelPost = {}\n",
    "    MetaEntries = os.listdir(MetaDir)\n",
    "    for entry in MetaEntries:\n",
    "        channelNumber = entry.split('_')[1].split('.')[0].strip()\n",
    "        #print entry\n",
    "        record = readJson(MetaDir + entry)\n",
    "        p = record['data']\n",
    "        if isinstance(p,dict):\n",
    "            records = p['records']\n",
    "            if isinstance(records,list):        \n",
    "                for rec in records:\n",
    "                    ID = str(rec['postId'])\n",
    "                    if ID in trackedPosts.keys():\n",
    "                        channelPost[ID] = {}\n",
    "                        channelPost[ID]['Channel'] = channelNumber \n",
    "                        channelPost[ID]['Loops'] = trackedPosts[ID]['loops']['count']\n",
    "                        channelPost[ID]['Likes'] = trackedPosts[ID]['likes']['count']\n",
    "                        channelPost[ID]['Reposts'] = trackedPosts[ID]['reposts']['count']\n",
    "    return channelPost\n",
    "\n"
   ]
  },
  {
   "cell_type": "code",
   "execution_count": 77,
   "metadata": {
    "collapsed": false
   },
   "outputs": [
    {
     "name": "stdout",
     "output_type": "stream",
     "text": [
      "106396\n",
      "74948\n"
     ]
    }
   ],
   "source": [
    "trackedDict = getCrawled(recentRoot , tracked )"
   ]
  },
  {
   "cell_type": "code",
   "execution_count": 88,
   "metadata": {
    "collapsed": false
   },
   "outputs": [
    {
     "name": "stdout",
     "output_type": "stream",
     "text": [
      "{u'liked': 0, u'videoDashUrl': u'http://v.cdn.vine.co/r/videos_dashhd/9AEA7C8E3E1384687956081672192_5cfb7b90854.33.0.2373774F-E34E-4C7B-AA36-0543485F4950.mp4?versionId=1YbMJCY4OxuBGTPuG3dEwZxb1g79UhmZ', u'foursquareVenueId': u'', u'userId': 1378568208465981440, u'private': 0, u'videoWebmUrl': None, u'loops': {u'count': 71.0, u'velocity': 0.0, u'onFire': 0}, u'thumbnailUrl': u'http://v.cdn.vine.co/r/thumbs/9AEA7C8E3E1384687956081672192_5cfb7b90854.33.0.2373774F-E34E-4C7B-AA36-0543485F4950.mp4.jpg?versionId=x0cSmP9sBShqJ8eNXkd7ql.4UkBXtAW4', u'explicitContent': 0, u'vanityUrls': [], u'verified': 0, u'avatarUrl': u'http://v.cdn.vine.co/r/avatars/76A62150B41388989253144510464_57000a23818.35.1.jpg?versionId=QsVHx_cQKOJJ7hJrvl2.hPSHfnGqw0M7', u'comments': {u'count': 0, u'anchorStr': u'', u'records': [], u'previousPage': None, u'backAnchor': u'', u'anchor': None, u'nextPage': None, u'size': 0}, u'entities': [{u'type': u'tag', u'range': [0, 21], u'link': u'vine://tag/chocolatechipwaffles', u'id': 909535822028738560, u'title': u'chocolatechipwaffles'}, {u'type': u'tag', u'range': [22, 30], u'link': u'vine://tag/waffles', u'id': 906324438704984064, u'title': u'waffles'}, {u'type': u'tag', u'range': [31, 39], u'link': u'vine://tag/cooking', u'id': 906292690914910208, u'title': u'cooking'}], u'videoLowURL': u'http://v.cdn.vine.co/r/videos_r2/9AEA7C8E3E1384687956081672192_5cfb7b90854.33.0.2373774F-E34E-4C7B-AA36-0543485F4950.mp4?versionId=.KvyOMe1KqE8GCNls1SHGU6tSYXBVlLP', u'blocked': 0, u'username': u'Luke', u'description': u'#chocolatechipwaffles #waffles #cooking how to make chocolate chip waffles.', u'tags': [], u'permalinkUrl': u'https://vine.co/v/55imigrtBQi', u'promoted': 0, u'postId': 1384688261045334016, u'profileBackground': u'0x68bf60', u'videoUrl': u'http://v.cdn.vine.co/r/videos/9AEA7C8E3E1384687956081672192_5cfb7b90854.33.0.2373774F-E34E-4C7B-AA36-0543485F4950.mp4?versionId=mPO.UytW5delo0qCJeuGYMQ.XQukWZah', u'followRequested': 0, u'created': u'2016-09-05T21:07:01.000000', u'hasSimilarPosts': 0, u'shareUrl': u'https://vine.co/v/55imigrtBQi', u'myRepostId': 0, u'following': 0, u'reposts': {u'count': 0, u'anchorStr': u'', u'records': [], u'previousPage': None, u'backAnchor': u'', u'anchor': None, u'nextPage': None, u'size': 0}, u'likes': {u'count': 0, u'anchorStr': u'', u'records': [], u'previousPage': None, u'backAnchor': u'', u'anchor': None, u'nextPage': None, u'size': 0}}\n"
     ]
    }
   ],
   "source": [
    "print trackedDict[trackedDict.keys()[1]]"
   ]
  },
  {
   "cell_type": "code",
   "execution_count": null,
   "metadata": {
    "collapsed": false
   },
   "outputs": [],
   "source": [
    "channelPost = channelPostDict(recentRoot + Meta , trackedDict)"
   ]
  },
  {
   "cell_type": "code",
   "execution_count": 95,
   "metadata": {
    "collapsed": false
   },
   "outputs": [
    {
     "name": "stdout",
     "output_type": "stream",
     "text": [
      "74948\n"
     ]
    }
   ],
   "source": [
    "print len(channelPost.keys())"
   ]
  },
  {
   "cell_type": "code",
   "execution_count": 99,
   "metadata": {
    "collapsed": true
   },
   "outputs": [],
   "source": [
    "popCount = np.zeros(19)\n",
    "for k in channelPost.keys():\n",
    "    if channelPost[k]['Loops'] > medianPopLoops or channelPost[k]['Likes'] > medianPopLikes or channelPost[k]['Reposts'] > medianPopReposts:\n",
    "        popCount[int(channelPost[k]['Channel'])] += 1\n",
    "    "
   ]
  },
  {
   "cell_type": "code",
   "execution_count": 100,
   "metadata": {
    "collapsed": true
   },
   "outputs": [],
   "source": [
    "channelCount = np.zeros(19)\n",
    "for k in channelPost.keys():\n",
    "    channelCount[int(channelPost[k]['Channel'])] += 1"
   ]
  },
  {
   "cell_type": "code",
   "execution_count": 103,
   "metadata": {
    "collapsed": true
   },
   "outputs": [],
   "source": [
    "channelCount = channelCount + 1"
   ]
  },
  {
   "cell_type": "code",
   "execution_count": 104,
   "metadata": {
    "collapsed": false
   },
   "outputs": [
    {
     "name": "stdout",
     "output_type": "stream",
     "text": [
      "[   0.   66.   22.    0.    0.   13.    0.    8.    0.  329.    8.    8.\n",
      "    7.    0.   68.    9.    0.   57.    0.] [  1.00000000e+00   1.25590000e+04   6.78800000e+03   1.00000000e+00\n",
      "   2.00000000e+00   5.50000000e+03   1.00000000e+00   5.30000000e+01\n",
      "   1.00000000e+00   1.18710000e+04   4.47000000e+03   1.44340000e+04\n",
      "   1.11000000e+02   1.00000000e+00   4.01700000e+03   1.28000000e+02\n",
      "   4.80000000e+01   1.49800000e+04   1.00000000e+00]\n"
     ]
    }
   ],
   "source": [
    "print popCount , channelCount"
   ]
  },
  {
   "cell_type": "code",
   "execution_count": 114,
   "metadata": {
    "collapsed": false
   },
   "outputs": [
    {
     "name": "stdout",
     "output_type": "stream",
     "text": [
      "[  0.           0.52551955   0.32410136   0.           0.           0.23636364\n",
      "   0.          15.09433962   0.           2.77145986   0.17897092\n",
      "   0.05542469   6.30630631   0.           1.69280558   7.03125      0.\n",
      "   0.38050734   0.        ]\n"
     ]
    }
   ],
   "source": [
    "percentPopular = (popCount/channelCount)*100\n",
    "print percentPopular"
   ]
  },
  {
   "cell_type": "code",
   "execution_count": 124,
   "metadata": {
    "collapsed": false
   },
   "outputs": [
    {
     "data": {
      "image/png": "[encoded data removed]",
      "text/plain": [
       "<matplotlib.figure.Figure at 0x7f9d9b5662d0>"
      ]
     },
     "metadata": {},
     "output_type": "display_data"
    }
   ],
   "source": [
    "fig, ax = plt.subplots()\n",
    "fig.set_size_inches(15, 10)\n",
    "\n",
    "width = 0.50    \n",
    "\n",
    "ind = np.arange(1 , len(percentPopular) - 2)\n",
    "\n",
    "rects1 = ax.bar(ind , percentPopular[1:17] , width, color='b')\n",
    "#rects2 = ax.bar(ind , channelCount[1:17] , width, color='r')\n",
    "\n",
    "plt.tight_layout()\n",
    "\n",
    "ax.set_xticks(ind)\n",
    "ax.set_xticklabels(('Comedy', 'art-and-experimental', 'cats', 'dogs', 'nature' , 'urban', 'family' ,'special-fx' ,\n",
    "                    'sports', 'food', 'music', 'beauty-and-fashion', 'health-and-fitness', 'news-and-politics',\n",
    "                    'weird', 'scary', 'animals') , rotation=45)\n",
    "\n",
    "plt.title(\"Plot of percentage of videos posted on a Channel, which end up in popular\", fontsize = 20)\n",
    "plt.xlabel(\"Channel Name\",fontsize = 20)\n",
    "plt.ylabel(\"Percentage\",fontsize = 20)\n",
    "plt.grid()\n",
    "plt.show()"
   ]
  },
  {
   "cell_type": "code",
   "execution_count": 44,
   "metadata": {
    "collapsed": false
   },
   "outputs": [
    {
     "name": "stdout",
     "output_type": "stream",
     "text": [
      "Working with channel 1\n",
      "Working with channel 2\n",
      "Working with channel 3\n",
      "Working with channel 4\n",
      "Working with channel 5\n",
      "Working with channel 6\n",
      "Working with channel 7\n",
      "Working with channel 8\n",
      "Working with channel 9\n",
      "Working with channel 10\n",
      "Working with channel 11\n",
      "Working with channel 12\n",
      "Working with channel 13\n",
      "Working with channel 14\n",
      "Working with channel 15\n"
     ]
    }
   ],
   "source": [
    "crawledChannels = []\n",
    "uniqueChannels = []\n",
    "\n",
    "for i in range(1,16):\n",
    "    print \"Working with channel %d\" %i\n",
    "    Channel = getChannelMetas(i)\n",
    "    unique , crawled = findUniq(Channel)\n",
    "    crawledChannels.append(crawled)\n",
    "    uniqueChannels.append(unique)"
   ]
  },
  {
   "cell_type": "code",
   "execution_count": 58,
   "metadata": {
    "collapsed": false
   },
   "outputs": [],
   "source": [
    "ComedyPercentage = [float(uniqueChannels[0][i])/float(crawledChannels[0][i]) for i in range(len(crawledChannels[0]))]"
   ]
  },
  {
   "cell_type": "code",
   "execution_count": 59,
   "metadata": {
    "collapsed": false
   },
   "outputs": [
    {
     "data": {
      "text/plain": [
       "[1.0,\n",
       " 1.0,\n",
       " 1.0,\n",
       " 1.0,\n",
       " 1.0,\n",
       " 1.0,\n",
       " 1.0,\n",
       " 1.0,\n",
       " 1.0,\n",
       " 1.0,\n",
       " 1.0,\n",
       " 1.0,\n",
       " 1.0,\n",
       " 1.0,\n",
       " 1.0,\n",
       " 1.0,\n",
       " 1.0,\n",
       " 1.0,\n",
       " 1.0,\n",
       " 1.0,\n",
       " 1.0,\n",
       " 1.0,\n",
       " 1.0,\n",
       " 1.0,\n",
       " 1.0,\n",
       " 1.0,\n",
       " 1.0,\n",
       " 1.0,\n",
       " 1.0,\n",
       " 1.0,\n",
       " 1.0,\n",
       " 1.0,\n",
       " 1.0,\n",
       " 1.0,\n",
       " 1.0,\n",
       " 1.0,\n",
       " 1.0,\n",
       " 1.0,\n",
       " 1.0,\n",
       " 1.0,\n",
       " 1.0,\n",
       " 1.0,\n",
       " 1.0,\n",
       " 1.0,\n",
       " 1.0,\n",
       " 1.0,\n",
       " 1.0,\n",
       " 1.0,\n",
       " 1.0,\n",
       " 1.0,\n",
       " 1.0,\n",
       " 1.0,\n",
       " 1.0,\n",
       " 1.0,\n",
       " 1.0,\n",
       " 1.0,\n",
       " 1.0,\n",
       " 1.0,\n",
       " 1.0,\n",
       " 1.0,\n",
       " 1.0,\n",
       " 1.0,\n",
       " 1.0,\n",
       " 1.0,\n",
       " 1.0,\n",
       " 1.0,\n",
       " 1.0,\n",
       " 1.0,\n",
       " 1.0,\n",
       " 1.0,\n",
       " 1.0,\n",
       " 1.0,\n",
       " 1.0,\n",
       " 1.0,\n",
       " 1.0,\n",
       " 1.0,\n",
       " 1.0,\n",
       " 1.0,\n",
       " 1.0,\n",
       " 1.0,\n",
       " 1.0,\n",
       " 1.0,\n",
       " 1.0,\n",
       " 1.0,\n",
       " 1.0,\n",
       " 1.0,\n",
       " 1.0,\n",
       " 1.0,\n",
       " 1.0,\n",
       " 1.0,\n",
       " 1.0,\n",
       " 1.0,\n",
       " 1.0,\n",
       " 1.0,\n",
       " 1.0,\n",
       " 1.0,\n",
       " 1.0,\n",
       " 1.0,\n",
       " 1.0,\n",
       " 1.0,\n",
       " 1.0,\n",
       " 1.0,\n",
       " 1.0,\n",
       " 1.0,\n",
       " 1.0,\n",
       " 1.0,\n",
       " 1.0,\n",
       " 1.0,\n",
       " 1.0,\n",
       " 1.0,\n",
       " 1.0,\n",
       " 1.0,\n",
       " 1.0,\n",
       " 1.0,\n",
       " 1.0,\n",
       " 1.0,\n",
       " 1.0,\n",
       " 1.0,\n",
       " 1.0,\n",
       " 1.0,\n",
       " 1.0,\n",
       " 1.0,\n",
       " 1.0,\n",
       " 1.0,\n",
       " 1.0,\n",
       " 1.0,\n",
       " 1.0,\n",
       " 1.0,\n",
       " 1.0,\n",
       " 1.0,\n",
       " 1.0,\n",
       " 1.0,\n",
       " 1.0,\n",
       " 1.0,\n",
       " 1.0,\n",
       " 1.0,\n",
       " 1.0,\n",
       " 1.0,\n",
       " 1.0,\n",
       " 1.0,\n",
       " 1.0,\n",
       " 1.0,\n",
       " 1.0,\n",
       " 1.0,\n",
       " 1.0,\n",
       " 1.0,\n",
       " 1.0,\n",
       " 1.0,\n",
       " 1.0,\n",
       " 1.0,\n",
       " 1.0,\n",
       " 1.0,\n",
       " 1.0,\n",
       " 1.0,\n",
       " 1.0,\n",
       " 1.0,\n",
       " 1.0,\n",
       " 1.0,\n",
       " 1.0,\n",
       " 1.0,\n",
       " 1.0,\n",
       " 1.0,\n",
       " 1.0,\n",
       " 1.0,\n",
       " 1.0,\n",
       " 1.0,\n",
       " 1.0,\n",
       " 1.0,\n",
       " 1.0,\n",
       " 1.0,\n",
       " 1.0,\n",
       " 1.0,\n",
       " 1.0,\n",
       " 1.0,\n",
       " 1.0,\n",
       " 1.0,\n",
       " 1.0,\n",
       " 1.0,\n",
       " 1.0,\n",
       " 1.0,\n",
       " 1.0,\n",
       " 1.0,\n",
       " 1.0,\n",
       " 1.0,\n",
       " 1.0,\n",
       " 1.0,\n",
       " 1.0,\n",
       " 1.0,\n",
       " 1.0,\n",
       " 1.0,\n",
       " 1.0,\n",
       " 1.0,\n",
       " 1.0,\n",
       " 1.0,\n",
       " 1.0,\n",
       " 1.0,\n",
       " 1.0,\n",
       " 1.0,\n",
       " 1.0,\n",
       " 1.0,\n",
       " 1.0,\n",
       " 1.0,\n",
       " 1.0,\n",
       " 1.0,\n",
       " 1.0,\n",
       " 1.0,\n",
       " 1.0,\n",
       " 1.0,\n",
       " 1.0,\n",
       " 1.0,\n",
       " 1.0,\n",
       " 1.0,\n",
       " 1.0,\n",
       " 1.0,\n",
       " 1.0,\n",
       " 1.0,\n",
       " 1.0,\n",
       " 1.0,\n",
       " 1.0,\n",
       " 1.0,\n",
       " 1.0,\n",
       " 1.0,\n",
       " 1.0,\n",
       " 1.0,\n",
       " 1.0,\n",
       " 1.0,\n",
       " 1.0,\n",
       " 1.0,\n",
       " 1.0,\n",
       " 1.0]"
      ]
     },
     "execution_count": 59,
     "metadata": {},
     "output_type": "execute_result"
    }
   ],
   "source": [
    "ComedyPercentage"
   ]
  },
  {
   "cell_type": "code",
   "execution_count": 55,
   "metadata": {
    "collapsed": false
   },
   "outputs": [],
   "source": [
    "totalCrawled = list(crawledChannels[0])\n",
    "totalDownloaded = list(uniqueChannels[0])\n",
    "for i in range(1,15):\n",
    "    c = crawledChannels[i]\n",
    "    d = uniqueChannels[i]\n",
    "    for i in range(len(c)):\n",
    "        totalCrawled[i] = totalCrawled[i] + c[i]\n",
    "    for i in range(len(d)):\n",
    "        totalDownloaded[i] = totalDownloaded[i] + d[i]\n",
    "        \n",
    "fraction = []\n",
    "for i in range(len(totalDownloaded)):\n",
    "    fraction.append(float(totalDownloaded[i])/float(totalCrawled[i]))\n",
    "    \n",
    "    "
   ]
  },
  {
   "cell_type": "code",
   "execution_count": 70,
   "metadata": {
    "collapsed": false
   },
   "outputs": [
    {
     "name": "stdout",
     "output_type": "stream",
     "text": [
      "[1155, 1152, 1162, 1160, 1063, 1106, 1074, 1091, 1117, 1130, 1125, 1089, 1130, 1122, 1129, 1142, 1147, 1147, 1145, 1157, 1153, 1153, 1147, 1156, 1154, 1156, 1153, 1156, 1155, 1146, 1147, 1155, 1154, 1158, 1150, 1147, 1156, 1098, 1066, 1085, 1092, 1116, 1122, 1116, 1124, 1132, 1135, 1158, 1156, 1162, 1156, 1163, 1153, 1151, 1146, 1144, 1155, 1143, 1138, 1146, 1151, 1147, 1145, 1144, 1145, 1134, 1141, 1147, 1147, 1144, 1147, 1151, 1151, 1151, 1147, 1150, 1149, 1151, 1154, 1156, 1150, 1150, 1155, 1154, 1154, 1147, 1151, 1148, 1145, 1145, 1149, 1149, 1147, 1152, 1155, 1155, 1152, 1153, 1149, 1150, 1151, 1152, 1152, 1153, 1155, 1151, 1150, 1153, 1151, 1142, 1149, 1149, 1152, 1151, 1150, 1155, 1156, 1157, 1154, 1155, 1151, 1155, 1154, 1157, 1165, 1168, 1165, 1168, 1167, 1165, 1166, 1166, 1165, 1160, 1161, 1169, 901, 1023, 1162, 1165, 1142, 1157, 1168, 1168, 1166, 1164, 1172, 1171, 1170, 1167, 1164, 1168, 1159, 1164, 1167, 1166, 1158, 1164, 1164, 1166, 1162, 1167, 1164, 1165, 1163, 1164, 1164, 1167, 1167, 1167, 1166, 1168, 1165, 1164, 1164, 1169, 1164, 1169, 1167, 1162, 1162, 1165, 1164, 1168, 1166, 1166, 1166, 1170, 1171, 1169, 1169, 1167, 1163, 1163, 1166, 1164, 1165, 1166, 1170, 1172, 1171, 1170, 1163, 1175, 1174, 1173, 1174, 1170, 1176, 1176, 1175, 1176, 1174, 1172, 1173, 1173, 1172, 1174, 1173, 1170, 1170, 1168, 1169, 1167, 1167, 1171, 1172, 1175, 286, 100]\n"
     ]
    }
   ],
   "source": [
    "print totalCrawled"
   ]
  },
  {
   "cell_type": "code",
   "execution_count": 72,
   "metadata": {
    "collapsed": false,
    "scrolled": true
   },
   "outputs": [
    {
     "data": {
      "image/png": "[encoded data removed]",
      "text/plain": [
       "<matplotlib.figure.Figure at 0x7f9e05424210>"
      ]
     },
     "metadata": {},
     "output_type": "display_data"
    }
   ],
   "source": [
    "fig, ax = plt.subplots()\n",
    "fig.set_size_inches(15, 10)\n",
    "plt.title(\" Fraction of new videos found at every crawl iteration. \", fontsize = 15)\n",
    "plt.xlabel(\"Crawl iteration\",fontsize = 15)\n",
    "plt.ylabel(\"Fraction of new posts\",fontsize = 15)\n",
    "\n",
    "plt.plot(fraction[1:-1],linewidth = 2)\n",
    "plt.plot(ComedyPercentage[1:-1],linewidth = 2)\n",
    "\n",
    "plt.grid(True)\n",
    "plt.legend(['For All channels', 'For Comedy channels'   \n",
    "           ])\n",
    "ax.set_ylim(0,1.2)\n",
    "plt.show()"
   ]
  },
  {
   "cell_type": "code",
   "execution_count": null,
   "metadata": {
    "collapsed": false
   },
   "outputs": [],
   "source": [
    "fig, ax = plt.subplots()\n",
    "fig.set_size_inches(15, 10)\n",
    "plt.title(\"Comparison of Total recent posts found Vs Unique posts Downloaded \", fontsize = 15)\n",
    "plt.xlabel(\"Iteration Cycle\",fontsize = 15)\n",
    "plt.ylabel(\"Number of posts\",fontsize = 15)\n",
    "\n",
    "plt.plot(fraction,linewidth = 1.5)\n",
    "# plt.plot(totalDownloaded,linewidth = 1.5)\n",
    "\n",
    "plt.grid(True)\n",
    "plt.legend(['Posts Found', 'Unique Posts Downloaded'   \n",
    "           ])\n",
    "plt.show()"
   ]
  },
  {
   "cell_type": "code",
   "execution_count": null,
   "metadata": {
    "collapsed": true
   },
   "outputs": [],
   "source": []
  }
 ],
 "metadata": {
  "kernelspec": {
   "display_name": "Python 2",
   "language": "python",
   "name": "python2"
  },
  "language_info": {
   "codemirror_mode": {
    "name": "ipython",
    "version": 2
   },
   "file_extension": ".py",
   "mimetype": "text/x-python",
   "name": "python",
   "nbconvert_exporter": "python",
   "pygments_lexer": "ipython2",
   "version": "2.7.6"
  }
 },
 "nbformat": 4,
 "nbformat_minor": 0
}
