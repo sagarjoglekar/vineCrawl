{
 "cells": [
  {
   "cell_type": "code",
   "execution_count": 10,
   "metadata": {
    "collapsed": false
   },
   "outputs": [],
   "source": [
    "import numpy\n",
    "import timeit\n",
    "import theano\n",
    "import theano.tensor as T\n",
    "import os\n",
    "import matplotlib.pyplot as plt\n",
    "import matplotlib.image as mpimg\n",
    "try:\n",
    "    import PIL.Image as Image\n",
    "except ImportError:\n",
    "    import Image\n",
    "    \n",
    "from theano.tensor.shared_randomstreams import RandomStreams"
   ]
  },
  {
   "cell_type": "code",
   "execution_count": null,
   "metadata": {
    "collapsed": true
   },
   "outputs": [],
   "source": [
    "visitedList = \"Curated.data\"\n",
    "root =\"../vinedata/Channels/\"\n",
    "\n",
    "def now_time():\n",
    "    now=dt.datetime.now()\n",
    "    return int(time.mktime(now.timetuple()))\n",
    "\n",
    "def getVisited():\n",
    "\tvisited = []\n",
    "\ttry:\n",
    "\t\tf = open(visitedList, 'rb')\n",
    "\t\tvisited = pickle.load(f)\n",
    "\texcept IOError:\n",
    "\t\tf = open(visitedList,\"a+\")\n",
    "\t\tpickle.dump([],f)\n",
    "\treturn visited\n",
    "\n",
    "\n",
    "def updateVisited(visited):\n",
    "\twith open(visitedList, 'wb') as f:\n",
    "\t\tpickle.dump(visited, f)\n",
    "\n",
    "\n",
    "def walkLevel1Dir(root):\n",
    "\tcount = 0\n",
    "\tdirList = []\n",
    "\tfilesList = []\n",
    "\tfor path, dirs, files in os.walk(root):\n",
    "\t\tif count > 0:\n",
    "\t\t\treturn dirList , fileList\n",
    "\t\tdirList = dirs\n",
    "\t\tfileList = files\n",
    "\t\tcount = count + 1\n",
    "\n"
   ]
  },
  {
   "cell_type": "code",
   "execution_count": null,
   "metadata": {
    "collapsed": false
   },
   "outputs": [],
   "source": []
  },
  {
   "cell_type": "code",
   "execution_count": null,
   "metadata": {
    "collapsed": false
   },
   "outputs": [],
   "source": []
  },
  {
   "cell_type": "code",
   "execution_count": null,
   "metadata": {
    "collapsed": true
   },
   "outputs": [],
   "source": []
  }
 ],
 "metadata": {
  "kernelspec": {
   "display_name": "Python 2",
   "language": "python",
   "name": "python2"
  },
  "language_info": {
   "codemirror_mode": {
    "name": "ipython",
    "version": 2
   },
   "file_extension": ".py",
   "mimetype": "text/x-python",
   "name": "python",
   "nbconvert_exporter": "python",
   "pygments_lexer": "ipython2",
   "version": "2.7.6"
  }
 },
 "nbformat": 4,
 "nbformat_minor": 0
}
