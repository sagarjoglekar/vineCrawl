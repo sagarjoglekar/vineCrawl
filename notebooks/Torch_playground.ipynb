{
 "cells": [
  {
   "cell_type": "code",
   "execution_count": 4,
   "metadata": {
    "collapsed": false
   },
   "outputs": [],
   "source": [
    "require 'nn'\n",
    "require 'cunn'\n",
    "require 'cudnn'\n",
    "require 'cutorch'"
   ]
  },
  {
   "cell_type": "code",
   "execution_count": 5,
   "metadata": {
    "collapsed": false
   },
   "outputs": [
    {
     "data": {
      "text/plain": [
       "Fri Feb  5 11:01:52 2016       \n",
       "+------------------------------------------------------+                       \n",
       "| NVIDIA-SMI 358.16     Driver Version: 358.16         |                       \n",
       "|-------------------------------+----------------------+----------------------+\n",
       "| GPU  Name        Persistence-M| Bus-Id        Disp.A | Volatile Uncorr. ECC |\n",
       "| Fan  Temp  Perf  Pwr:Usage/Cap|         Memory-Usage | GPU-Util  Compute M. |\n",
       "|===============================+======================+======================|\n"
      ]
     },
     "execution_count": 5,
     "metadata": {},
     "output_type": "execute_result"
    },
    {
     "data": {
      "text/plain": [
       "|   0  GeForce GTX 980     Off  | 0000:04:00.0      On |                  N/A |\n",
       "| 30%   30C    P8    13W / 180W |    245MiB /  4095MiB |      0%      Default |\n",
       "+-------------------------------+----------------------+----------------------+\n",
       "                                                                               \n",
       "+-----------------------------------------------------------------------------+\n",
       "| Processes:                                                       GPU Memory |\n",
       "|  GPU       PID  Type  Process name                               Usage      |\n",
       "|=============================================================================|\n",
       "|    0      2418    G   /usr/bin/X                                      36MiB |\n",
       "|    0     20427    C   /usr/bin/python                                 75MiB |\n",
       "|    0     33974    C   /work/sagarj/torch/install/bin/qlua            113MiB |\n",
       "+-----------------------------------------------------------------------------+\n"
      ]
     },
     "execution_count": 5,
     "metadata": {},
     "output_type": "execute_result"
    },
    {
     "data": {
      "text/plain": [
       "true\texit\t0\t\n"
      ]
     },
     "execution_count": 5,
     "metadata": {},
     "output_type": "execute_result"
    }
   ],
   "source": [
    "os.execute(\"nvidia-smi\")"
   ]
  },
  {
   "cell_type": "code",
   "execution_count": 6,
   "metadata": {
    "collapsed": false
   },
   "outputs": [
    {
     "data": {
      "text/plain": [
       "{\n",
       "  computeMode : 0\n",
       "  memPitch : 2147483647\n",
       "  canMapHostMemory : 1\n",
       "  warpSize : 32\n",
       "  pciDeviceID : 0\n",
       " "
      ]
     },
     "execution_count": 6,
     "metadata": {},
     "output_type": "execute_result"
    },
    {
     "data": {
      "text/plain": [
       " pciBusID : 4\n",
       "  totalConstMem : 65536\n",
       "  pciDomainID : 0\n",
       "  integrated : 0\n",
       "  deviceOverlap : 1\n",
       "  maxThreadsPerBlock : 1024\n",
       "  clockRate : 1215500\n",
       "  maxTexture1D : 65536\n",
       "  minor : 2\n",
       "  name : GeForce GTX 980\n",
       "  freeGlobalMem : 4029026304\n",
       "  maxTexture1DLinear : 134217728\n",
       "  kernelExecTimeoutEnabled : 1\n",
       "  sharedMemPerBlock : 49152\n",
       "  major : 5\n",
       "  totalGlobalMem : 4294246400\n",
       "  regsPerBlock : 65536\n",
       "  textureAlignment : 512\n",
       "  multiProcessorCount : 16\n",
       "}\n"
      ]
     },
     "execution_count": 6,
     "metadata": {},
     "output_type": "execute_result"
    }
   ],
   "source": [
    "print(  cutorch.getDeviceProperties(cutorch.getDevice()) )"
   ]
  },
  {
   "cell_type": "code",
   "execution_count": null,
   "metadata": {
    "collapsed": true
   },
   "outputs": [],
   "source": []
  }
 ],
 "metadata": {
  "kernelspec": {
   "display_name": "iTorch",
   "language": "lua",
   "name": "itorch"
  },
  "language_info": {
   "name": "lua",
   "version": "20100"
  }
 },
 "nbformat": 4,
 "nbformat_minor": 0
}
