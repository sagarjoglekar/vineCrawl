{
 "cells": [
  {
   "cell_type": "code",
   "execution_count": 1,
   "metadata": {
    "collapsed": true
   },
   "outputs": [],
   "source": [
    "import json\n",
    "import os\n",
    "import sys\n",
    "import cv2 \n",
    "import cv\n",
    "from subprocess import call\n",
    "import cPickle"
   ]
  },
  {
   "cell_type": "code",
   "execution_count": 2,
   "metadata": {
    "collapsed": true
   },
   "outputs": [],
   "source": [
    "viral_meta = \"../Logs/viral_meta.csv\"\n",
    "youtube_prefix = \"https://www.youtube.com/watch?v=\"\n",
    "youtube_dir = \"../Youtube_videos\"\n",
    "samples_dir = \"../Youtube_videos/sampled_frames\"\n",
    "sampledLog = \"../Logs/viral_sample.pk\""
   ]
  },
  {
   "cell_type": "code",
   "execution_count": 3,
   "metadata": {
    "collapsed": true
   },
   "outputs": [],
   "source": [
    "with open(viral_meta) as g:\n",
    "    metaLines = g.readlines()"
   ]
  },
  {
   "cell_type": "code",
   "execution_count": 4,
   "metadata": {
    "collapsed": true
   },
   "outputs": [],
   "source": [
    "def dequote(s):\n",
    "    \"\"\"\n",
    "    If a string has single or double quotes around it, remove them.\n",
    "    Make sure the pair of quotes match.\n",
    "    If a matching pair of quotes is not found, return the string unchanged.\n",
    "    \"\"\"\n",
    "    if (s[0] == s[-1]) and s.startswith((\"'\", '\"')):\n",
    "        return s[1:-1]\n",
    "    return s"
   ]
  },
  {
   "cell_type": "code",
   "execution_count": 5,
   "metadata": {
    "collapsed": false
   },
   "outputs": [
    {
     "name": "stdout",
     "output_type": "stream",
     "text": [
      "\"-_49VS4nuao\",\"Elmo and Cookie Monster have some Adult Fun\",\"1313791\",\"Comedy\",\"42\",\"2008-12-28T21:57:55.000Z\",\"01/18/13\",\"4.921736\",\"5.0\",\"1.0\",\"9864\",\"193\",\"9671\",\"ZcSyg9WKALBO4r97-pjmAg\",\"Dan Wilson\",\"https://gdata.youtube.com/feeds/api/users/danielbwilson\",\"Discovered completely by accident by putting the toys away, it just had to be recorded and shared. Alone these toys seem innocent, but together, it is just wrong. Elmo Live and Tickle Me Extreme Cookie Monster.\"\n",
      "\n",
      "True\n"
     ]
    }
   ],
   "source": [
    "print metaLines[1]\n",
    "print dequote(metaLines[1].split(',')[3].strip()) == 'Comedy'"
   ]
  },
  {
   "cell_type": "code",
   "execution_count": 6,
   "metadata": {
    "collapsed": false
   },
   "outputs": [],
   "source": [
    "comedyIds = []\n",
    "comedyMeta = []\n",
    "for line in metaLines:\n",
    "    if dequote(line.split(',')[3]) =='Comedy':\n",
    "        comedyMeta.append(line)\n",
    "        comedyIds.append(dequote(line.split(',')[0]))\n",
    "    "
   ]
  },
  {
   "cell_type": "code",
   "execution_count": 7,
   "metadata": {
    "collapsed": false
   },
   "outputs": [
    {
     "name": "stdout",
     "output_type": "stream",
     "text": [
      "['-_49VS4nuao', '__dUlY0JpSc', '_BMT6BfxR7w', '_JmA2ClUvUY', '_OBlgSz8sSM', '_VtTzI69hvw', '0_eR0PmDXfs', '0Au_8GMUxVs', '0bomkgXeDkE', '0rbMHLDY1pA', '0sRXkKe9SJk', '1P0yfq2wDvU', '23Te7QAsH6w', '3D5o3PYcJoM', '3dJy_fV2Wzg', '3kalRfn9h_A', '4faSs0mg_pI', '4wbLdYeZvoc', '4YBxeDN4tbk', '5ZBTNENUaOU', '6gPJo25sb80', '6pYtxD92SpY', '6QVzKihKiYI', '6wMmNm8StK4', '8Qt95KUOX_8', '9_EcybyLJS8', '9iLaoEhrkDc', 'a1Y73sPHKxw', 'AEPvSo8bE2I', 'agV4s3O7Ysg', 'AKEQwvaYI_k', 'AkPT2TOqSjI', 'aMS0O3kknvk', 'ay5AOSxHqFU', 'bG8Y4BUKF3I', 'bmTxB5nXlzk', 'BPnP_zlYU44', 'bPNyK7XTy6o', 'BujoOxjB3b4', 'CBQuPs5n8Wo', 'cdPGXClOE5g', 'cMsGOgDQrAs', 'd5mK7dzyUkM', 'dMH0bHeiRNg', 'doH_YUgwNXw', 'DziF2L-3epk', 'ERCpTrcmWrg', 'EYoJTAUK0UM', 'FJ3oHpup-pk', 'flMYR_qeyNc', 'fS1uDnIPTvo', 'FuuUR515xDM', 'fVWUaH2mCt4', 'FzRH3iTQPrk', 'g3jOlQqDPzQ', 'GI6CfKcMhjY', 'GJnn0sy_jDo', 'glii-kazad8', 'gnagemulucw', 'gwUX4cSwrRk', 'h_K4mAD8xnc', 'Hhz9Aa6tDwk', 'hx10K3n5_Oc', 'I4S2Gu7ZDT0', 'Ig-pZ4OyidY', 'iu6yofL8m4o', 'J---aiyznGQ', 'J04WGGIAjDE', 'LbNl3J8HXw4', 'LJ0sDES7Dpc', 'llHKUzjggg4', 'LN-Tn0_Wj7w', 'LQ0S0BUE0zg', 'lvD8WcrdK5o', 'lwDHK0REuMs', 'm71U2jJp09w', 'MyZwDcLGknU', 'N9oxmRT2YWw', 'NPGUIpv-JxI', 'nzOJ7-LQFHo', 'olLp8Cssh_M', 'oS3Olh9DnaE', 'ovEDhFfgdOo', 'oXsTexVtnMQ', 'Pa1pIO4_lUY', 'Pb8UBl_rWwk', 'PH7XaZvidvw', 'Q5im0Ssyyus', 'qaIFr3M67vI', 'QH2-TGUlwu4', 'qRUan6Evr0g', 'qwyZ0ji1GRU', 'r6tlw-oPDBM', 'RP4abiHdQpc', 'rTZXRS0a51o', 'S0-z5ywDc0A', 'sh6oGwOMVeY', 'TFMs2w9Qexg', 'tJZyvpu3WVQ', 'tLPZmPaHme0', 'TpR_B8D4saE', 'TugslL45aXk', 'Tx1XIm6q4r4', 'txqiwrbYGrs', 'ufdlOj1SbVo', 'UPKb9z4l7eM', 'V5e73Gk2lLg', 'vJTXLuu7_0Y', 'Vppxu70Wojo', 'wCF3ywukQYA', 'WJq4jWSQNd8', 'WqfXBhsM5ME', 'WSUs0LhYMaU', 'wueL_SOx4QM', 'XkFaIpDg194', 'XOBbmdJTLdE', 'xOBikMoItV8', 'xyXplN23ALM', 'y7FJRbSGb5c', 'y9HiJVBA0CE', 'yDnlvDqKvQs', 'YersIyzsOpc', 'YKSIaeQHV94', 'yzytYXzFK7c', 'Z-IYk7YVW80', 'Z3pEANxjaq0', 'zd7c5tQCs1I', 'zTi_Zpl9MFk']\n"
     ]
    }
   ],
   "source": [
    "print comedyIds"
   ]
  },
  {
   "cell_type": "code",
   "execution_count": 8,
   "metadata": {
    "collapsed": false
   },
   "outputs": [],
   "source": [
    "def sampleVideo(videoPath , facesPath , postID):\n",
    "    cap = cv2.VideoCapture(videoPath)\n",
    "    #print videoPath\n",
    "    totFrames = 0\n",
    "    i = 0\n",
    "    framesRead = 0\n",
    "    framesSaved = 0\n",
    "    frameRate = cap.get(cv2.cv.CV_CAP_PROP_FPS)\n",
    "    while True:\n",
    "        ret, frame = cap.read()\n",
    "        if ret:\n",
    "            framesRead += 1\n",
    "            procs = []\n",
    "            totFrames += 1\n",
    "            cv2.waitKey(20)\n",
    "            if totFrames%frameRate == 0:\n",
    "                i = int(totFrames/frameRate)\n",
    "                framesSaved +=1\n",
    "                imageName = facesPath + \"/\" + str(postID) + \"^\" + str(i) + \".jpg\"\n",
    "                cv2.imwrite( imageName , frame)\n",
    "                logline = str(postID) + \",\" + imageName\n",
    "                #print logline\n",
    "                logfile = open(sampledLog, 'a+')\n",
    "                cPickle.dump(logline , logfile);\n",
    "                logfile.close()\n",
    "                \n",
    "        else:\n",
    "            print \"Done processing Post: %s with %d frames Read  and %d saved at %d FPS\" %(postID,framesRead,framesSaved,frameRate)\n",
    "            return framesSaved"
   ]
  },
  {
   "cell_type": "code",
   "execution_count": 9,
   "metadata": {
    "collapsed": false
   },
   "outputs": [
    {
     "name": "stdout",
     "output_type": "stream",
     "text": [
      "['FzRH3iTQPrk.mp4', 'GJnn0sy_jDo.mp4', 'flMYR_qeyNc.mp4', 'yzytYXzFK7c.mp4', 'bG8Y4BUKF3I.mp4', 'd5mK7dzyUkM.mp4', 'BPnP_zlYU44.mp4', 'Z3pEANxjaq0.mp4', '_OBlgSz8sSM.mp4', 'WSUs0LhYMaU.mp4', 'AkPT2TOqSjI.mp4', 'LQ0S0BUE0zg.mp4', 'FuuUR515xDM.mp4', 'GI6CfKcMhjY.mp4', 'CBQuPs5n8Wo.mp4', '9iLaoEhrkDc.mp4', 'TpR_B8D4saE.mp4', '_BMT6BfxR7w.mp4', 'Hhz9Aa6tDwk.mp4', 'lvD8WcrdK5o.mp4', '23Te7QAsH6w.mp4', '0sRXkKe9SJk.mp4', 'AEPvSo8bE2I.mp4', 'RP4abiHdQpc.mp4', 'tLPZmPaHme0.mp4', 'iu6yofL8m4o.mp4', 'sh6oGwOMVeY.mp4', 'llHKUzjggg4.mp4', 'xyXplN23ALM.mp4', '4wbLdYeZvoc.mp4', 'UPKb9z4l7eM.mp4', 'MyZwDcLGknU.mp4', 'DziF2L-3epk.mp4', '6gPJo25sb80.mp4', 'J---aiyznGQ.mp4', 'qwyZ0ji1GRU.mp4', 'XOBbmdJTLdE.mp4', 'Vppxu70Wojo.mp4', 'oS3Olh9DnaE.mp4', '3dJy_fV2Wzg.mp4', 'TFMs2w9Qexg.mp4', 'yDnlvDqKvQs.mp4', 'WJq4jWSQNd8.mp4', 'agV4s3O7Ysg.mp4', 'TugslL45aXk.mp4', 'S0-z5ywDc0A.mp4', 'sampled_frames', 'YersIyzsOpc.mp4', 'm71U2jJp09w.mp4', 'Pa1pIO4_lUY.mp4', 'ERCpTrcmWrg.mp4', '-_49VS4nuao.mp4', 'oXsTexVtnMQ.mp4', 'zTi_Zpl9MFk.mp4', '_JmA2ClUvUY.mp4', 'ay5AOSxHqFU.mp4', 'g3jOlQqDPzQ.mp4', 'LbNl3J8HXw4.mp4', 'N9oxmRT2YWw.mp4', 'gwUX4cSwrRk.mp4', 'xOBikMoItV8.mp4', 'cMsGOgDQrAs.mp4', 'Ig-pZ4OyidY.mp4', 'qaIFr3M67vI.mp4', 'rTZXRS0a51o.mp4', '3D5o3PYcJoM.mp4', '0_eR0PmDXfs.mp4', 'wueL_SOx4QM.mp4', 'nzOJ7-LQFHo.mp4', 'aMS0O3kknvk.mp4', 'y7FJRbSGb5c.mp4', 'zd7c5tQCs1I.mp4', 'J04WGGIAjDE.mp4', 'cdPGXClOE5g.mp4', '9_EcybyLJS8.mp4', 'WqfXBhsM5ME.mp4', 'BujoOxjB3b4.mp4', 'Pb8UBl_rWwk.mp4', 'gnagemulucw.mp4', 'vJTXLuu7_0Y.mp4', 'glii-kazad8.mp4', '8Qt95KUOX_8.mp4', 'ufdlOj1SbVo.mp4', '1P0yfq2wDvU.mp4', 'tJZyvpu3WVQ.mp4', 'a1Y73sPHKxw.mp4', 'Q5im0Ssyyus.mp4', '_VtTzI69hvw.mp4', '4faSs0mg_pI.mp4', 'txqiwrbYGrs.mp4', 'I4S2Gu7ZDT0.mp4', 'XkFaIpDg194.mp4', 'olLp8Cssh_M.mp4', 'fVWUaH2mCt4.mp4', 'AKEQwvaYI_k.mp4', 'V5e73Gk2lLg.mp4', '6QVzKihKiYI.mp4', 'doH_YUgwNXw.mp4', 'LJ0sDES7Dpc.mp4', '6wMmNm8StK4.mp4', '__dUlY0JpSc.mp4', 'Tx1XIm6q4r4.mp4', 'r6tlw-oPDBM.mp4', '4YBxeDN4tbk.mp4', 'EYoJTAUK0UM.mp4', 'y9HiJVBA0CE.mp4', 'bmTxB5nXlzk.mp4', 'lwDHK0REuMs.mp4', '0Au_8GMUxVs.mp4', '0bomkgXeDkE.mp4', 'wCF3ywukQYA.mp4']\n"
     ]
    }
   ],
   "source": [
    "files = os.listdir(youtube_dir)\n",
    "print files"
   ]
  },
  {
   "cell_type": "code",
   "execution_count": 10,
   "metadata": {
    "collapsed": false
   },
   "outputs": [
    {
     "name": "stdout",
     "output_type": "stream",
     "text": [
      "Done processing Post: FzRH3iTQPrk with 466 frames Read  and 16 saved at 29 FPS\n",
      "Done processing Post: GJnn0sy_jDo with 530 frames Read  and 17 saved at 30 FPS\n",
      "Done processing Post: flMYR_qeyNc with 802 frames Read  and 0 saved at 29 FPS\n",
      "Done processing Post: yzytYXzFK7c with 1993 frames Read  and 66 saved at 30 FPS\n",
      "Done processing Post: bG8Y4BUKF3I with 1612 frames Read  and 64 saved at 25 FPS\n",
      "Done processing Post: d5mK7dzyUkM with 1026 frames Read  and 0 saved at 29 FPS\n",
      "Done processing Post: BPnP_zlYU44 with 3601 frames Read  and 144 saved at 25 FPS\n",
      "Done processing Post: Z3pEANxjaq0 with 634 frames Read  and 0 saved at 29 FPS\n",
      "Done processing Post: _OBlgSz8sSM with 1669 frames Read  and 0 saved at 29 FPS\n",
      "Done processing Post: WSUs0LhYMaU with 7109 frames Read  and 296 saved at 24 FPS\n",
      "Done processing Post: AkPT2TOqSjI with 1500 frames Read  and 0 saved at 29 FPS\n",
      "Done processing Post: LQ0S0BUE0zg with 8547 frames Read  and 0 saved at 29 FPS\n",
      "Done processing Post: FuuUR515xDM with 671 frames Read  and 22 saved at 30 FPS\n",
      "Done processing Post: GI6CfKcMhjY with 4717 frames Read  and 0 saved at 23 FPS\n",
      "Done processing Post: CBQuPs5n8Wo with 344 frames Read  and 0 saved at 29 FPS\n",
      "Done processing Post: 9iLaoEhrkDc with 4024 frames Read  and 134 saved at 30 FPS\n",
      "Done processing Post: TpR_B8D4saE with 1673 frames Read  and 0 saved at 29 FPS\n",
      "Done processing Post: _BMT6BfxR7w with 1554 frames Read  and 62 saved at 25 FPS\n",
      "Done processing Post: Hhz9Aa6tDwk with 519 frames Read  and 20 saved at 25 FPS\n",
      "Done processing Post: lvD8WcrdK5o with 829 frames Read  and 27 saved at 30 FPS\n",
      "Done processing Post: 23Te7QAsH6w with 4408 frames Read  and 146 saved at 30 FPS\n",
      "Done processing Post: 0sRXkKe9SJk with 7050 frames Read  and 235 saved at 30 FPS\n",
      "Done processing Post: AEPvSo8bE2I with 344 frames Read  and 13 saved at 25 FPS\n",
      "Done processing Post: RP4abiHdQpc with 3106 frames Read  and 103 saved at 30 FPS\n",
      "Done processing Post: tLPZmPaHme0 with 3938 frames Read  and 0 saved at 23 FPS\n",
      "Done processing Post: iu6yofL8m4o with 1198 frames Read  and 47 saved at 25 FPS\n",
      "Done processing Post: sh6oGwOMVeY with 19528 frames Read  and 0 saved at 29 FPS\n",
      "Done processing Post: llHKUzjggg4 with 2902 frames Read  and 0 saved at 29 FPS\n",
      "Done processing Post: xyXplN23ALM with 1665 frames Read  and 0 saved at 29 FPS\n",
      "Done processing Post: 4wbLdYeZvoc with 425 frames Read  and 28 saved at 15 FPS\n",
      "Done processing Post: UPKb9z4l7eM with 386 frames Read  and 12 saved at 30 FPS\n",
      "Done processing Post: MyZwDcLGknU with 1111 frames Read  and 37 saved at 30 FPS\n",
      "Done processing Post: DziF2L-3epk with 582 frames Read  and 38 saved at 15 FPS\n",
      "Done processing Post: 6gPJo25sb80 with 800 frames Read  and 26 saved at 30 FPS\n",
      "Done processing Post: J---aiyznGQ with 816 frames Read  and 0 saved at 14 FPS\n",
      "Done processing Post: qwyZ0ji1GRU with 1338 frames Read  and 44 saved at 30 FPS\n",
      "Done processing Post: XOBbmdJTLdE with 2634 frames Read  and 0 saved at 23 FPS\n",
      "Done processing Post: Vppxu70Wojo with 2562 frames Read  and 0 saved at 29 FPS\n",
      "Done processing Post: oS3Olh9DnaE with 4263 frames Read  and 0 saved at 29 FPS\n",
      "Done processing Post: 3dJy_fV2Wzg with 616 frames Read  and 20 saved at 30 FPS\n",
      "Done processing Post: TFMs2w9Qexg with 2755 frames Read  and 137 saved at 20 FPS\n",
      "Done processing Post: yDnlvDqKvQs with 819 frames Read  and 27 saved at 30 FPS\n",
      "Done processing Post: WJq4jWSQNd8 with 61 frames Read  and 2 saved at 25 FPS\n",
      "Done processing Post: agV4s3O7Ysg with 284 frames Read  and 11 saved at 25 FPS\n",
      "Done processing Post: TugslL45aXk with 2237 frames Read  and 89 saved at 25 FPS\n",
      "Done processing Post: S0-z5ywDc0A with 152 frames Read  and 0 saved at 27 FPS\n",
      "Done processing Post: YersIyzsOpc with 3801 frames Read  and 126 saved at 30 FPS\n",
      "Done processing Post: m71U2jJp09w with 2314 frames Read  and 77 saved at 30 FPS\n",
      "Done processing Post: Pa1pIO4_lUY with 1483 frames Read  and 49 saved at 30 FPS\n",
      "Done processing Post: ERCpTrcmWrg with 1931 frames Read  and 80 saved at 24 FPS\n",
      "Done processing Post: -_49VS4nuao with 1242 frames Read  and 0 saved at 29 FPS\n",
      "Done processing Post: oXsTexVtnMQ with 8101 frames Read  and 0 saved at 29 FPS\n",
      "Done processing Post: zTi_Zpl9MFk with 1371 frames Read  and 0 saved at 29 FPS\n",
      "Done processing Post: _JmA2ClUvUY with 3837 frames Read  and 127 saved at 30 FPS\n",
      "Done processing Post: ay5AOSxHqFU with 1948 frames Read  and 0 saved at 29 FPS\n",
      "Done processing Post: g3jOlQqDPzQ with 887 frames Read  and 29 saved at 30 FPS\n",
      "Done processing Post: LbNl3J8HXw4 with 795 frames Read  and 26 saved at 30 FPS\n",
      "Done processing Post: N9oxmRT2YWw with 1764 frames Read  and 58 saved at 30 FPS\n",
      "Done processing Post: gwUX4cSwrRk with 8806 frames Read  and 0 saved at 23 FPS\n",
      "Done processing Post: xOBikMoItV8 with 390 frames Read  and 13 saved at 30 FPS\n",
      "Done processing Post: cMsGOgDQrAs with 922 frames Read  and 30 saved at 30 FPS\n",
      "Done processing Post: Ig-pZ4OyidY with 17998 frames Read  and 0 saved at 29 FPS\n",
      "Done processing Post: qaIFr3M67vI with 1051 frames Read  and 70 saved at 15 FPS\n",
      "Done processing Post: rTZXRS0a51o with 3341 frames Read  and 0 saved at 29 FPS\n",
      "Done processing Post: 3D5o3PYcJoM with 4588 frames Read  and 0 saved at 29 FPS\n",
      "Done processing Post: 0_eR0PmDXfs with 4257 frames Read  and 0 saved at 29 FPS\n",
      "Done processing Post: wueL_SOx4QM with 1131 frames Read  and 37 saved at 30 FPS\n",
      "Done processing Post: nzOJ7-LQFHo with 1208 frames Read  and 40 saved at 30 FPS\n",
      "Done processing Post: aMS0O3kknvk with 2587 frames Read  and 86 saved at 30 FPS\n",
      "Done processing Post: y7FJRbSGb5c with 874 frames Read  and 0 saved at 29 FPS\n",
      "Done processing Post: zd7c5tQCs1I with 2355 frames Read  and 78 saved at 30 FPS\n",
      "Done processing Post: J04WGGIAjDE with 22081 frames Read  and 0 saved at 29 FPS\n",
      "Done processing Post: cdPGXClOE5g with 946 frames Read  and 37 saved at 25 FPS\n",
      "Done processing Post: 9_EcybyLJS8 with 7177 frames Read  and 0 saved at 29 FPS\n",
      "Done processing Post: WqfXBhsM5ME with 376 frames Read  and 15 saved at 25 FPS\n",
      "Done processing Post: BujoOxjB3b4 with 1039 frames Read  and 41 saved at 25 FPS\n",
      "Done processing Post: Pb8UBl_rWwk with 8612 frames Read  and 287 saved at 30 FPS\n",
      "Done processing Post: gnagemulucw with 1774 frames Read  and 59 saved at 30 FPS\n",
      "Done processing Post: vJTXLuu7_0Y with 2438 frames Read  and 97 saved at 25 FPS\n",
      "Done processing Post: glii-kazad8 with 2763 frames Read  and 92 saved at 30 FPS\n",
      "Done processing Post: 8Qt95KUOX_8 with 2029 frames Read  and 81 saved at 25 FPS\n",
      "Done processing Post: ufdlOj1SbVo with 1941 frames Read  and 64 saved at 30 FPS\n",
      "Done processing Post: 1P0yfq2wDvU with 2037 frames Read  and 67 saved at 30 FPS\n",
      "Done processing Post: tJZyvpu3WVQ with 2407 frames Read  and 80 saved at 30 FPS\n",
      "Done processing Post: a1Y73sPHKxw with 133 frames Read  and 5 saved at 25 FPS\n",
      "Done processing Post: Q5im0Ssyyus with 3387 frames Read  and 225 saved at 15 FPS\n",
      "Done processing Post: _VtTzI69hvw with 1450 frames Read  and 58 saved at 25 FPS\n",
      "Done processing Post: 4faSs0mg_pI with 5573 frames Read  and 185 saved at 30 FPS\n",
      "Done processing Post: txqiwrbYGrs with 3565 frames Read  and 118 saved at 30 FPS\n",
      "Done processing Post: I4S2Gu7ZDT0 with 911 frames Read  and 30 saved at 30 FPS\n",
      "Done processing Post: XkFaIpDg194 with 4679 frames Read  and 155 saved at 30 FPS\n",
      "Done processing Post: olLp8Cssh_M with 821 frames Read  and 32 saved at 25 FPS\n",
      "Done processing Post: fVWUaH2mCt4 with 213 frames Read  and 8 saved at 25 FPS\n",
      "Done processing Post: AKEQwvaYI_k with 8330 frames Read  and 0 saved at 29 FPS\n",
      "Done processing Post: V5e73Gk2lLg with 1278 frames Read  and 42 saved at 30 FPS\n",
      "Done processing Post: 6QVzKihKiYI with 1862 frames Read  and 74 saved at 25 FPS\n",
      "Done processing Post: doH_YUgwNXw with 2437 frames Read  and 0 saved at 29 FPS\n",
      "Done processing Post: LJ0sDES7Dpc with 501 frames Read  and 16 saved at 30 FPS\n",
      "Done processing Post: 6wMmNm8StK4 with 2097 frames Read  and 0 saved at 29 FPS\n",
      "Done processing Post: __dUlY0JpSc with 3009 frames Read  and 100 saved at 30 FPS\n",
      "Done processing Post: Tx1XIm6q4r4 with 3785 frames Read  and 0 saved at 29 FPS\n",
      "Done processing Post: r6tlw-oPDBM with 2610 frames Read  and 87 saved at 30 FPS\n",
      "Done processing Post: 4YBxeDN4tbk with 3873 frames Read  and 0 saved at 29 FPS\n",
      "Done processing Post: EYoJTAUK0UM with 92 frames Read  and 6 saved at 15 FPS\n",
      "Done processing Post: y9HiJVBA0CE with 3139 frames Read  and 0 saved at 29 FPS\n",
      "Done processing Post: bmTxB5nXlzk with 1921 frames Read  and 0 saved at 29 FPS\n",
      "Done processing Post: lwDHK0REuMs with 1176 frames Read  and 0 saved at 23 FPS\n",
      "Done processing Post: 0Au_8GMUxVs with 2953 frames Read  and 98 saved at 30 FPS\n",
      "Done processing Post: 0bomkgXeDkE with 7888 frames Read  and 262 saved at 30 FPS\n",
      "Done processing Post: wCF3ywukQYA with 7216 frames Read  and 0 saved at 29 FPS\n"
     ]
    }
   ],
   "source": [
    "sampledIds = []\n",
    "for f in files:\n",
    "    ID = f.split('.')[0]\n",
    "    if ID in comedyIds:\n",
    "        sampled = sampleVideo(youtube_dir +\"/\"+ f , samples_dir, ID )\n",
    "        if sampled > 0:\n",
    "            sampledIds.append(ID)"
   ]
  },
  {
   "cell_type": "code",
   "execution_count": 11,
   "metadata": {
    "collapsed": false
   },
   "outputs": [
    {
     "name": "stdout",
     "output_type": "stream",
     "text": [
      "['FzRH3iTQPrk', 'GJnn0sy_jDo', 'yzytYXzFK7c', 'bG8Y4BUKF3I', 'BPnP_zlYU44', 'WSUs0LhYMaU', 'FuuUR515xDM', '9iLaoEhrkDc', '_BMT6BfxR7w', 'Hhz9Aa6tDwk', 'lvD8WcrdK5o', '23Te7QAsH6w', '0sRXkKe9SJk', 'AEPvSo8bE2I', 'RP4abiHdQpc', 'iu6yofL8m4o', '4wbLdYeZvoc', 'UPKb9z4l7eM', 'MyZwDcLGknU', 'DziF2L-3epk', '6gPJo25sb80', 'qwyZ0ji1GRU', '3dJy_fV2Wzg', 'TFMs2w9Qexg', 'yDnlvDqKvQs', 'WJq4jWSQNd8', 'agV4s3O7Ysg', 'TugslL45aXk', 'YersIyzsOpc', 'm71U2jJp09w', 'Pa1pIO4_lUY', 'ERCpTrcmWrg', '_JmA2ClUvUY', 'g3jOlQqDPzQ', 'LbNl3J8HXw4', 'N9oxmRT2YWw', 'xOBikMoItV8', 'cMsGOgDQrAs', 'qaIFr3M67vI', 'wueL_SOx4QM', 'nzOJ7-LQFHo', 'aMS0O3kknvk', 'zd7c5tQCs1I', 'cdPGXClOE5g', 'WqfXBhsM5ME', 'BujoOxjB3b4', 'Pb8UBl_rWwk', 'gnagemulucw', 'vJTXLuu7_0Y', 'glii-kazad8', '8Qt95KUOX_8', 'ufdlOj1SbVo', '1P0yfq2wDvU', 'tJZyvpu3WVQ', 'a1Y73sPHKxw', 'Q5im0Ssyyus', '_VtTzI69hvw', '4faSs0mg_pI', 'txqiwrbYGrs', 'I4S2Gu7ZDT0', 'XkFaIpDg194', 'olLp8Cssh_M', 'fVWUaH2mCt4', 'V5e73Gk2lLg', '6QVzKihKiYI', 'LJ0sDES7Dpc', '__dUlY0JpSc', 'r6tlw-oPDBM', 'EYoJTAUK0UM', '0Au_8GMUxVs', '0bomkgXeDkE'] 71\n"
     ]
    }
   ],
   "source": [
    "print sampledIds , len(sampledIds)"
   ]
  },
  {
   "cell_type": "code",
   "execution_count": null,
   "metadata": {
    "collapsed": true
   },
   "outputs": [],
   "source": []
  }
 ],
 "metadata": {
  "kernelspec": {
   "display_name": "Python 2",
   "language": "python",
   "name": "python2"
  },
  "language_info": {
   "codemirror_mode": {
    "name": "ipython",
    "version": 2
   },
   "file_extension": ".py",
   "mimetype": "text/x-python",
   "name": "python",
   "nbconvert_exporter": "python",
   "pygments_lexer": "ipython2",
   "version": "2.7.6"
  }
 },
 "nbformat": 4,
 "nbformat_minor": 0
}
