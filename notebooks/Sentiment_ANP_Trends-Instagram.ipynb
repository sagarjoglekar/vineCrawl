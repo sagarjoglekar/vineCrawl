{
 "cells": [
  {
   "cell_type": "code",
   "execution_count": 1,
   "metadata": {
    "collapsed": false
   },
   "outputs": [],
   "source": [
    "import numpy as np\n",
    "%matplotlib inline\n",
    "import matplotlib.pyplot as plt\n",
    "import matplotlib.cm as cm\n",
    "import json\n",
    "import os\n",
    "import sys\n",
    "sys.path.append(\"../lib\")\n",
    "from dataUtils import *\n",
    "import cPickle as pickle\n",
    "import cv2\n",
    "from collections import Counter\n",
    "from scipy.interpolate import UnivariateSpline\n"
   ]
  },
  {
   "cell_type": "code",
   "execution_count": 13,
   "metadata": {
    "collapsed": true
   },
   "outputs": [],
   "source": [
    "#ClassFile = \"../Logs/classes.json\"\n",
    "ClassFile = \"../Logs/english_label.txt\"\n",
    "\n",
    "#vineScores = \"../Logs/sampled_vine_sentibank_final.csv\"\n",
    "vineScores = \"/work/sagarj/Work/InstaCrawl/Logs/insta6000_probs.csv\"\n",
    "#\"../Logs/insta2016_probs.csv\"\n",
    "#selfieScores = \"../Logs/selfieSentibankProbs.csv\"\n",
    "sentibank_scores = \"../Logs/sentibank_baseline_final.csv\"\n",
    "\n",
    "#vineANPs = \"../Logs/sampled_vine_ANPS_final.pk\"\n",
    "vineANPs = \"/work/sagarj/Work/work_ipython/instaCrawl/Logs/insta6000_ANPs.pk\"\n",
    "#\"../Logs/insta2016_ANPs.pk\"\n",
    "#selfiePaths = \"../Logs/selfiePaths.txt\"\n",
    "\n",
    "imageNetObjs = \"../Logs/sampledvineImagenetObjs2015_1.pk\"\n",
    "\n",
    "#selfiePopularityFile = \"../Logs/selfie_dataset.txt\"\n",
    "\n",
    "root = \"../vinedata/Data/\"\n",
    "\n",
    "visitedList = \"../Logs/sampledVids.data\"\n",
    "\n",
    "# sentimentFile = \"../Logs/ANP_Sentiments.txt\"\n",
    "\n",
    "color_features = \"../Logs/color_features_sampled_ordered.csv\"\n",
    "\n",
    "sampled_img_list = \"../Logs/sampled_sentibank_image.txt\"\n",
    "\n",
    "revisedSentimentFile = \"../Logs/revised_ANP_sentiments.csv\""
   ]
  },
  {
   "cell_type": "code",
   "execution_count": 5,
   "metadata": {
    "collapsed": false
   },
   "outputs": [],
   "source": [
    "#Load the Sentibank scores for both selfies and Vines\n",
    "vineProbs = np.loadtxt(vineScores, delimiter=',')\n",
    "sentibank_baseline = np.loadtxt(sentibank_scores, delimiter=',')"
   ]
  },
  {
   "cell_type": "code",
   "execution_count": 6,
   "metadata": {
    "collapsed": false
   },
   "outputs": [
    {
     "name": "stdout",
     "output_type": "stream",
     "text": [
      "(51422, 4342) (5000, 2089)\n"
     ]
    }
   ],
   "source": [
    "print vineProbs.shape , sentibank_baseline.shape"
   ]
  },
  {
   "cell_type": "code",
   "execution_count": 7,
   "metadata": {
    "collapsed": false
   },
   "outputs": [],
   "source": [
    "def get_ANP_ID_List(pickleList):\n",
    "    ANPs = []\n",
    "    IDs = []\n",
    "    for line in pickleList:\n",
    "        ids = line.split(',')[0].split('/')[5].split('+')[0]\n",
    "        IDs.append(ids)\n",
    "        ANPs.append(line.split(',')[1])\n",
    "    return IDs , ANPs\n",
    "\n",
    "def get_vid_senti(pickle , index):\n",
    "    oldId = pickle[index].split(',')[0].split('/')[5].split('+')[0]\n",
    "    seqDict = dict()\n",
    "    indexList = []\n",
    "    sequence = pickle[index].split(',')[0].split('/')[5].split('+')[-1].split('.')[0]\n",
    "    seqDict[int(sequence)] = str(pickle[index].split(',')[1])\n",
    "    indexList.append(index)\n",
    "    index+=1\n",
    "    #print index\n",
    "    while (index < len(pickle) and (pickle[index].split(',')[0].split('/')[5].split('+')[0] == oldId)):\n",
    "        sequence = pickle[index].split(',')[0].split('/')[5].split('+')[1].split('.')[0]\n",
    "        seqDict[int(sequence)] = str(pickle[index].split(',')[1])\n",
    "        indexList.append(index)\n",
    "        index += 1\n",
    "    seqDict['indexList'] = indexList\n",
    "    return seqDict , oldId , index\n",
    "    \n",
    "def get_VID_ANP_List(pickle):\n",
    "    megaDict = dict()\n",
    "    i = 0\n",
    "    print len(pickle)\n",
    "    while i < len(pickle):           \n",
    "        subDict , postId , i = get_vid_senti(pickle , i)\n",
    "        megaDict[postId] = subDict\n",
    "    return megaDict\n",
    "\n",
    "\n",
    "def pruneMegaDict(megadict , filterindices):\n",
    "    filteredList = dict()\n",
    "    for entry in megadict:\n",
    "        commns = set(megadict[entry]['indexList']).intersection(filterindices)\n",
    "        #if len(commns) >= 4:\n",
    "        filteredList[entry] = megadict[entry]\n",
    "    return filteredList\n"
   ]
  },
  {
   "cell_type": "code",
   "execution_count": 8,
   "metadata": {
    "collapsed": false
   },
   "outputs": [],
   "source": [
    "image_list =[]\n",
    "with open(sampled_img_list) as f:\n",
    "    image_list = f.readlines()\n",
    "\n",
    "true_labels = []\n",
    "for line in image_list:\n",
    "    label = line.split('/')[5]\n",
    "    true_labels.append(label)\n",
    "    \n",
    "# f = open(ClassFile ,'r')\n",
    "# sentibankClasses = json.load(f)\n",
    "# f.close()\n",
    "\n",
    "f = open(ClassFile ,'r')\n",
    "sentibankClasses = f.readlines()\n",
    "f.close()"
   ]
  },
  {
   "cell_type": "code",
   "execution_count": 9,
   "metadata": {
    "collapsed": false
   },
   "outputs": [
    {
     "name": "stdout",
     "output_type": "stream",
     "text": [
      "0.0718716159463 0.0234088881327 0.125452709451\n"
     ]
    }
   ],
   "source": [
    "sentibank_probs = np.zeros(len(sentibank_baseline))\n",
    "detected_labels = []\n",
    "for i in range(sentibank_probs.shape[0]):\n",
    "    sentibank_probs[i] = sentibank_baseline[i].max()\n",
    "    detected_labels.append(str(sentibankClasses[np.argmax(sentibank_baseline[i])]))\n",
    "    \n",
    "print np.median(sentibank_probs), sentibank_probs.var(), sentibank_probs.mean()"
   ]
  },
  {
   "cell_type": "code",
   "execution_count": 10,
   "metadata": {
    "collapsed": false
   },
   "outputs": [
    {
     "name": "stdout",
     "output_type": "stream",
     "text": [
      "0.0219929797195 0.0156378522515 0.000550136769749\n"
     ]
    }
   ],
   "source": [
    "maxVecs = np.zeros(len(vineProbs))\n",
    "for i in range(len(vineProbs)):\n",
    "    maxVecs[i] = np.max(vineProbs[i])\n",
    "print np.mean(maxVecs) , np.median(maxVecs) , np.var(maxVecs)"
   ]
  },
  {
   "cell_type": "code",
   "execution_count": 11,
   "metadata": {
    "collapsed": false
   },
   "outputs": [
    {
     "name": "stdout",
     "output_type": "stream",
     "text": [
      "51422\n"
     ]
    }
   ],
   "source": [
    "curatedProbs_index = []\n",
    "for i in range(len(vineProbs)):\n",
    "    if (vineProbs[i].max() > 0.00001):\n",
    "        curatedProbs_index.append(i)\n",
    "\n",
    "        \n",
    "print len(curatedProbs_index)"
   ]
  },
  {
   "cell_type": "code",
   "execution_count": 14,
   "metadata": {
    "collapsed": false
   },
   "outputs": [
    {
     "name": "stdout",
     "output_type": "stream",
     "text": [
      "/datasets/sagarj/instaSample6000/finesamples/02rK6Zod25+10.jpg,global_business,0.010672,great_performance,0.00892509,interactive_media,0.00888701,funny_jokes,0.00871502,global_impact,0.0083625\n"
     ]
    }
   ],
   "source": [
    "\n",
    "vineList = readLists(vineANPs)\n",
    "objList = readLists(imageNetObjs)\n",
    "print vineList[1000]"
   ]
  },
  {
   "cell_type": "code",
   "execution_count": 15,
   "metadata": {
    "collapsed": false
   },
   "outputs": [],
   "source": [
    "idList, anpList = get_ANP_ID_List(vineList)"
   ]
  },
  {
   "cell_type": "code",
   "execution_count": 16,
   "metadata": {
    "collapsed": false
   },
   "outputs": [
    {
     "name": "stdout",
     "output_type": "stream",
     "text": [
      "02rK6Zod25 global_business\n"
     ]
    }
   ],
   "source": [
    "print idList[1000] , anpList [1000]"
   ]
  },
  {
   "cell_type": "code",
   "execution_count": 17,
   "metadata": {
    "collapsed": false
   },
   "outputs": [],
   "source": [
    "sentidict0 = readSentiments()\n",
    "sentidict = readRevisedSentiments()"
   ]
  },
  {
   "cell_type": "code",
   "execution_count": 18,
   "metadata": {
    "collapsed": false
   },
   "outputs": [
    {
     "name": "stdout",
     "output_type": "stream",
     "text": [
      "4421\n"
     ]
    }
   ],
   "source": [
    "print len(sentidict)"
   ]
  },
  {
   "cell_type": "code",
   "execution_count": 19,
   "metadata": {
    "collapsed": false
   },
   "outputs": [],
   "source": [
    "# f = open('sentibankANP.csv', 'wb')\n",
    "# for k,v in sentidict0.iteritems():\n",
    "#     f.write(k+','+str(v)+'\\n')\n",
    "#     #print k , v\n",
    "# f.close()"
   ]
  },
  {
   "cell_type": "code",
   "execution_count": 20,
   "metadata": {
    "collapsed": false
   },
   "outputs": [
    {
     "name": "stdout",
     "output_type": "stream",
     "text": [
      "51422\n"
     ]
    }
   ],
   "source": [
    "megaDict = get_VID_ANP_List(vineList)"
   ]
  },
  {
   "cell_type": "code",
   "execution_count": 21,
   "metadata": {
    "collapsed": false
   },
   "outputs": [],
   "source": [
    "#megaDict[1281867050901532672]['indexList']"
   ]
  },
  {
   "cell_type": "code",
   "execution_count": 22,
   "metadata": {
    "collapsed": false
   },
   "outputs": [],
   "source": [
    "filteredDict = pruneMegaDict(megaDict, curatedProbs_index)"
   ]
  },
  {
   "cell_type": "code",
   "execution_count": 23,
   "metadata": {
    "collapsed": false
   },
   "outputs": [
    {
     "name": "stdout",
     "output_type": "stream",
     "text": [
      "6411\n"
     ]
    }
   ],
   "source": [
    "print len(filteredDict)"
   ]
  },
  {
   "cell_type": "code",
   "execution_count": 81,
   "metadata": {
    "collapsed": false,
    "scrolled": true
   },
   "outputs": [
    {
     "data": {
      "text/plain": [
       "'wmst8TEsZF'"
      ]
     },
     "execution_count": 81,
     "metadata": {},
     "output_type": "execute_result"
    }
   ],
   "source": [
    "filteredDict.keys()[1]"
   ]
  },
  {
   "cell_type": "code",
   "execution_count": 25,
   "metadata": {
    "collapsed": false
   },
   "outputs": [],
   "source": [
    "postIds = []\n",
    "for line in vineList:\n",
    "    arr = line.split('/')\n",
    "    postIds.append(arr[5].split('+')[0])"
   ]
  },
  {
   "cell_type": "code",
   "execution_count": 26,
   "metadata": {
    "collapsed": false
   },
   "outputs": [],
   "source": [
    "letter_counts = Counter(postIds)"
   ]
  },
  {
   "cell_type": "code",
   "execution_count": 78,
   "metadata": {
    "collapsed": false
   },
   "outputs": [
    {
     "data": {
      "text/plain": [
       "'0AfI_KPQft'"
      ]
     },
     "execution_count": 78,
     "metadata": {},
     "output_type": "execute_result"
    }
   ],
   "source": []
  },
  {
   "cell_type": "code",
   "execution_count": 27,
   "metadata": {
    "collapsed": false
   },
   "outputs": [
    {
     "data": {
      "text/plain": [
       "6411"
      ]
     },
     "execution_count": 27,
     "metadata": {},
     "output_type": "execute_result"
    }
   ],
   "source": [
    "len(letter_counts)"
   ]
  },
  {
   "cell_type": "code",
   "execution_count": 82,
   "metadata": {
    "collapsed": false
   },
   "outputs": [],
   "source": [
    "#Vectors for filtered videos\n",
    "sentiList = []\n",
    "medianSenti = dict()\n",
    "for entry in filteredDict:\n",
    "    senti = []\n",
    "    indexRange = len(filteredDict[entry]['indexList']) + 1\n",
    "    for i in range(1 , indexRange):\n",
    "        senti.append(sentidict[filteredDict[entry][i]] if (filteredDict[entry][i] in sentidict) else 0.0)\n",
    "    medianSenti[entry] = np.median(senti)\n",
    "    sentiList.append(senti)"
   ]
  },
  {
   "cell_type": "code",
   "execution_count": 88,
   "metadata": {
    "collapsed": false
   },
   "outputs": [],
   "source": [
    "# with open(\"instaMedianSenti.csv\", 'wb') as f:\n",
    "#     for k in medianSenti:\n",
    "#         line = k + \",\" + str(medianSenti[k]) + '\\n'\n",
    "#         f.write(line)    \n",
    "# f.close()\n",
    "        "
   ]
  },
  {
   "cell_type": "code",
   "execution_count": 29,
   "metadata": {
    "collapsed": false
   },
   "outputs": [],
   "source": [
    "a = [len(x) for x in sentiList ]"
   ]
  },
  {
   "cell_type": "code",
   "execution_count": 30,
   "metadata": {
    "collapsed": false
   },
   "outputs": [
    {
     "data": {
      "text/plain": [
       "[3.0, 4.4, 4.8, 3.2, 3.2, 3.2]"
      ]
     },
     "execution_count": 30,
     "metadata": {},
     "output_type": "execute_result"
    }
   ],
   "source": [
    "sentiList[1]"
   ]
  },
  {
   "cell_type": "code",
   "execution_count": 32,
   "metadata": {
    "collapsed": false
   },
   "outputs": [
    {
     "name": "stdout",
     "output_type": "stream",
     "text": [
      "6.0\n"
     ]
    }
   ],
   "source": [
    "print np.median(a)"
   ]
  },
  {
   "cell_type": "code",
   "execution_count": 33,
   "metadata": {
    "collapsed": true
   },
   "outputs": [],
   "source": [
    "thirdsMatrix = np.zeros((len(sentiList),3))"
   ]
  },
  {
   "cell_type": "code",
   "execution_count": 34,
   "metadata": {
    "collapsed": true
   },
   "outputs": [],
   "source": [
    "thirdsMax = [0 , 0 , 0]\n",
    "thirdsMin = [0 , 0 , 0 ]"
   ]
  },
  {
   "cell_type": "code",
   "execution_count": 35,
   "metadata": {
    "collapsed": false
   },
   "outputs": [
    {
     "name": "stderr",
     "output_type": "stream",
     "text": [
      "/usr/local/lib/python2.7/dist-packages/numpy/core/fromnumeric.py:2889: RuntimeWarning: Mean of empty slice.\n",
      "  out=out, **kwargs)\n",
      "/usr/local/lib/python2.7/dist-packages/numpy/core/_methods.py:80: RuntimeWarning: invalid value encountered in double_scalars\n",
      "  ret = ret.dtype.type(ret / rcount)\n"
     ]
    }
   ],
   "source": [
    "for i in range(len(sentiList)):\n",
    "    quo = int(len(sentiList[i])/3)\n",
    "    thirdsMatrix[i][0] = np.median(sentiList[i][:1*quo])\n",
    "    thirdsMatrix[i][1] = np.median(sentiList[i][1*quo:2*quo])\n",
    "    thirdsMatrix[i][2] = np.median(sentiList[i][2*quo:])\n",
    "    aMax = np.argmax(thirdsMatrix[i])\n",
    "    aMin = np.argmin(thirdsMatrix[i])\n",
    "    if aMax != aMin:\n",
    "        thirdsMax[aMax]+=1\n",
    "        thirdsMin[aMin]+=1"
   ]
  },
  {
   "cell_type": "code",
   "execution_count": 36,
   "metadata": {
    "collapsed": false
   },
   "outputs": [
    {
     "name": "stdout",
     "output_type": "stream",
     "text": [
      "[2176, 1504, 1446] [2044, 1619, 1463]\n"
     ]
    }
   ],
   "source": [
    "print thirdsMax , thirdsMin"
   ]
  },
  {
   "cell_type": "code",
   "execution_count": 37,
   "metadata": {
    "collapsed": false
   },
   "outputs": [
    {
     "data": {
      "text/plain": [
       "[<matplotlib.lines.Line2D at 0x7f7346b55e10>]"
      ]
     },
     "execution_count": 37,
     "metadata": {},
     "output_type": "execute_result"
    },
    {
     "data": {
      "image/png": "[encoded data removed]",
      "text/plain": [
       "<matplotlib.figure.Figure at 0x7f7348eb4390>"
      ]
     },
     "metadata": {},
     "output_type": "display_data"
    }
   ],
   "source": [
    "plt.plot(thirdsMax)"
   ]
  },
  {
   "cell_type": "code",
   "execution_count": 38,
   "metadata": {
    "collapsed": false
   },
   "outputs": [
    {
     "data": {
      "text/plain": [
       "6.0"
      ]
     },
     "execution_count": 38,
     "metadata": {},
     "output_type": "execute_result"
    }
   ],
   "source": [
    "np.median([len(vec) for vec in sentiList])"
   ]
  },
  {
   "cell_type": "code",
   "execution_count": 76,
   "metadata": {
    "collapsed": false
   },
   "outputs": [
    {
     "data": {
      "text/plain": [
       "[3.8,\n",
       " 1.8,\n",
       " 4.2,\n",
       " 4.8,\n",
       " 3.8,\n",
       " 4.4,\n",
       " 5.0,\n",
       " 3.8,\n",
       " 5.0,\n",
       " 4.2,\n",
       " 4.2,\n",
       " 4.2,\n",
       " 4.2,\n",
       " 4.2,\n",
       " 4.2,\n",
       " 4.2,\n",
       " 4.2,\n",
       " 4.2]"
      ]
     },
     "execution_count": 76,
     "metadata": {},
     "output_type": "execute_result"
    }
   ],
   "source": [
    "sentiList[1000]"
   ]
  },
  {
   "cell_type": "code",
   "execution_count": 70,
   "metadata": {
    "collapsed": true
   },
   "outputs": [],
   "source": [
    "#Normalize Youtube video lengths to 10 seconds\n",
    "sentiMatrix = []\n",
    "dims = 2\n",
    "for element in sentiList: \n",
    "    if len(element) > dims:\n",
    "        temp = []\n",
    "        quo = len(element)/dims\n",
    "        mod = len(element)%dims\n",
    "        if mod >= dims/2:\n",
    "            newVec = [element[-1] for x in range(dims - mod)]\n",
    "            element.extend(newVec)\n",
    "        else:\n",
    "            element = element[:quo*dims]\n",
    "        quo = len(element)/dims\n",
    "        mod = len(element)%dims\n",
    "        starts = [a*quo for a in range(0,4)]\n",
    "        ends = [b*quo for b in range(1,5)]\n",
    "        for start, end in zip(starts , ends):\n",
    "            temp.append(np.median(element[start:end]))\n",
    "        sentiMatrix.append(temp)"
   ]
  },
  {
   "cell_type": "code",
   "execution_count": 71,
   "metadata": {
    "collapsed": false
   },
   "outputs": [],
   "source": [
    "a = [len(x) for x in sentiMatrix ]\n",
    "#print a"
   ]
  },
  {
   "cell_type": "code",
   "execution_count": 72,
   "metadata": {
    "collapsed": false
   },
   "outputs": [
    {
     "name": "stdout",
     "output_type": "stream",
     "text": [
      "(6391, 4)\n"
     ]
    }
   ],
   "source": [
    "senti_matrix = np.asarray(sentiMatrix)\n",
    "print senti_matrix.shape"
   ]
  },
  {
   "cell_type": "code",
   "execution_count": 51,
   "metadata": {
    "collapsed": false
   },
   "outputs": [],
   "source": [
    "from scipy.cluster.vq import kmeans,vq\n",
    "from scipy.spatial.distance import minkowski"
   ]
  },
  {
   "cell_type": "code",
   "execution_count": 53,
   "metadata": {
    "collapsed": false
   },
   "outputs": [],
   "source": [
    "centroid_list = []\n",
    "id_list = []\n",
    "for i in range(1 , 12):\n",
    "    centroids,_ = kmeans(senti_matrix,i)\n",
    "    idx,_ = vq(senti_matrix,centroids)\n",
    "    centroid_list.append(centroids)\n",
    "    id_list.append(idx)"
   ]
  },
  {
   "cell_type": "code",
   "execution_count": 54,
   "metadata": {
    "collapsed": false
   },
   "outputs": [],
   "source": [
    "SSE_values = np.zeros(len(id_list))\n",
    "for i in range(len(centroid_list)):\n",
    "    for j in range(len(centroid_list[i])):\n",
    "        vecs = senti_matrix[id_list[i]==j,:]\n",
    "        #print vecs.shape\n",
    "        cent = centroid_list[i][j]\n",
    "        SSE_1 = 0.0\n",
    "        for vec in vecs:\n",
    "            SSE_1 = SSE_1 + minkowski(vec,cent,2)\n",
    "        SSE_values[j] = SSE_values[j] + SSE_1\n",
    "for i in range(len(SSE_values)):\n",
    "    SSE_values[i] = SSE_values[i]/(i+1)"
   ]
  },
  {
   "cell_type": "code",
   "execution_count": 55,
   "metadata": {
    "collapsed": false
   },
   "outputs": [
    {
     "data": {
      "image/png": "[encoded data removed]",
      "text/plain": [
       "<matplotlib.figure.Figure at 0x7f7346977210>"
      ]
     },
     "metadata": {},
     "output_type": "display_data"
    }
   ],
   "source": [
    "fig, ax = plt.subplots()\n",
    "fig.set_size_inches(20, 15)\n",
    "plt.rc('xtick', labelsize=20) \n",
    "plt.rc('ytick', labelsize=20)\n",
    "x = np.arange(1,11)\n",
    "plt.plot(x,SSE_values[:10] ,linewidth = 3.0)\n",
    "plt.xlabel(\"Number of Clusters\", fontsize = 25)\n",
    "plt.ylabel(\"Mean Minkowski distance from cluster centroids\", fontsize = 25)\n",
    "plt.show()"
   ]
  },
  {
   "cell_type": "code",
   "execution_count": 56,
   "metadata": {
    "collapsed": true
   },
   "outputs": [],
   "source": [
    "centroid_final,_ = kmeans(senti_matrix,3)\n",
    "idx_final,_ = vq(senti_matrix,centroid_final)"
   ]
  },
  {
   "cell_type": "code",
   "execution_count": 57,
   "metadata": {
    "collapsed": false
   },
   "outputs": [],
   "source": [
    "vecs1 = senti_matrix[idx_final==0,:]\n",
    "vecs2 = senti_matrix[idx_final==1,:]\n",
    "vecs3 = senti_matrix[idx_final==2,:]\n",
    "vecs4 = senti_matrix[idx_final==3,:]\n",
    "vecs5 = senti_matrix[idx_final==4,:]\n",
    "vecs6 = senti_matrix[idx_final==5,:]\n",
    "vecs7 = senti_matrix[idx_final==6,:]\n",
    "#senti_matrix[idx_final==0]"
   ]
  },
  {
   "cell_type": "code",
   "execution_count": 58,
   "metadata": {
    "collapsed": false
   },
   "outputs": [
    {
     "name": "stdout",
     "output_type": "stream",
     "text": [
      "2118\n",
      "1103\n",
      "2840\n",
      "0\n",
      "0\n",
      "0\n"
     ]
    }
   ],
   "source": [
    "print len(vecs1)\n",
    "print len(vecs2)\n",
    "print len(vecs3)\n",
    "print len(vecs4)\n",
    "print len(vecs5)\n",
    "print len(vecs6)\n"
   ]
  },
  {
   "cell_type": "code",
   "execution_count": 59,
   "metadata": {
    "collapsed": false
   },
   "outputs": [
    {
     "name": "stdout",
     "output_type": "stream",
     "text": [
      "[[ 4.29550062  4.29442707  4.44270594  4.47283354]\n",
      " [ 2.98500213  2.89237445  2.54226202  2.34809385]\n",
      " [ 3.496281    3.50318135  3.55928851  3.60464928]]\n"
     ]
    }
   ],
   "source": [
    "print centroid_final"
   ]
  },
  {
   "cell_type": "code",
   "execution_count": 60,
   "metadata": {
    "collapsed": false
   },
   "outputs": [
    {
     "data": {
      "image/png": "[encoded data removed]",
      "text/plain": [
       "<matplotlib.figure.Figure at 0x7f7346aba050>"
      ]
     },
     "metadata": {},
     "output_type": "display_data"
    }
   ],
   "source": [
    "fig, ax = plt.subplots()\n",
    "fig.set_size_inches(20, 15)\n",
    "plt.rc('xtick', labelsize=20) \n",
    "plt.rc('ytick', labelsize=20)\n",
    "plt.title(\"Sentiment transition graphs for all cluster centroids\", fontsize = 25)\n",
    "plt.plot(centroid_final[0], linewidth = 2.0)\n",
    "plt.plot(centroid_final[1], linewidth = 2.0)\n",
    "plt.plot(centroid_final[2], linewidth = 2.0)\n",
    "# plt.plot(centroid_final[3], linewidth = 2.0)\n",
    "#plt.plot(centroid_final[4], linewidth = 2.0 )\n",
    "#plt.plot(centroid_final[5], linewidth = 2.0 )\n",
    "\n",
    "plt.xlabel(\"nth second into the video\", fontsize = 25)\n",
    "plt.ylabel(\"Sentiment\", fontsize = 25)\n",
    "plt.legend(['Cluster 1', 'Cluster 2' , 'Cluster 3' \n",
    "            ,'Cluster 4'\n",
    "            ,'Cluster 5'\n",
    "            ,'Cluster 6'\n",
    "            ,'Cluster 7'\n",
    "            \n",
    "           ])\n",
    "plt.show()"
   ]
  },
  {
   "cell_type": "code",
   "execution_count": 77,
   "metadata": {
    "collapsed": false
   },
   "outputs": [
    {
     "data": {
      "text/plain": [
       "{1: 'electric_cars',\n",
       " 2: 'cool_office',\n",
       " 3: 'blessed_life',\n",
       " 4: 'fit_club',\n",
       " 5: 'fit_club',\n",
       " 6: 'fit_club',\n",
       " 'indexList': [47014, 47015, 47016, 47017, 47018, 47019]}"
      ]
     },
     "execution_count": 77,
     "metadata": {},
     "output_type": "execute_result"
    }
   ],
   "source": [
    "filteredDict[filteredDict.keys()[1]]"
   ]
  },
  {
   "cell_type": "code",
   "execution_count": null,
   "metadata": {
    "collapsed": true
   },
   "outputs": [],
   "source": []
  }
 ],
 "metadata": {
  "kernelspec": {
   "display_name": "Python 2",
   "language": "python",
   "name": "python2"
  },
  "language_info": {
   "codemirror_mode": {
    "name": "ipython",
    "version": 2
   },
   "file_extension": ".py",
   "mimetype": "text/x-python",
   "name": "python",
   "nbconvert_exporter": "python",
   "pygments_lexer": "ipython2",
   "version": "2.7.6"
  }
 },
 "nbformat": 4,
 "nbformat_minor": 0
}
