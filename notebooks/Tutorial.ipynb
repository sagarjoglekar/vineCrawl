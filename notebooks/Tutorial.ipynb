{
 "cells": [
  {
   "cell_type": "code",
   "execution_count": 12,
   "metadata": {
    "collapsed": false
   },
   "outputs": [],
   "source": [
    "import theano\n",
    "from theano import tensor as T\n",
    "import numpy as np\n",
    "import sys\n",
    "sys.path.append(\"../lib\")\n",
    "from load import mnist"
   ]
  },
  {
   "cell_type": "markdown",
   "metadata": {},
   "source": [
    "Simple Compiled function example"
   ]
  },
  {
   "cell_type": "code",
   "execution_count": 2,
   "metadata": {
    "collapsed": false
   },
   "outputs": [
    {
     "name": "stdout",
     "output_type": "stream",
     "text": [
      "2.0\n",
      "9.0\n"
     ]
    }
   ],
   "source": [
    "a = T.scalar()\n",
    "b = T.scalar()\n",
    "\n",
    "y = a * b\n",
    "\n",
    "multiply = theano.function(inputs=[a, b], outputs=y)\n",
    "\n",
    "print multiply(1, 2) #2\n",
    "print multiply(3, 3) #9"
   ]
  },
  {
   "cell_type": "code",
   "execution_count": 3,
   "metadata": {
    "collapsed": false
   },
   "outputs": [
    {
     "name": "stdout",
     "output_type": "stream",
     "text": [
      "(101,)\n",
      "<TensorType(float32, scalar)>\n",
      "<TensorType(float32, scalar)>\n"
     ]
    }
   ],
   "source": [
    "trX = np.linspace(-1, 1, 101)\n",
    "trY = 2 * trX + np.random.randn(*trX.shape) * 0.33\n",
    "print trY.shape\n",
    "\n",
    "X = T.scalar()\n",
    "print X\n",
    "Y = T.scalar()\n",
    "print Y\n"
   ]
  },
  {
   "cell_type": "code",
   "execution_count": 14,
   "metadata": {
    "collapsed": true
   },
   "outputs": [],
   "source": [
    "def model1(X, w):\n",
    "    return X * w\n",
    "\n",
    "def floatX(X):\n",
    "    return np.asarray(X, dtype=theano.config.floatX)\n",
    "\n",
    "def init_weights(shape):\n",
    "    return theano.shared(floatX(np.random.randn(*shape) * 0.01))\n",
    "\n",
    "def model2(X, w):\n",
    "    return T.nnet.softmax(T.dot(X, w))"
   ]
  },
  {
   "cell_type": "code",
   "execution_count": 6,
   "metadata": {
    "collapsed": false
   },
   "outputs": [],
   "source": [
    "w = theano.shared(np.asarray(0., dtype=theano.config.floatX))\n",
    "y = model1(X, w)\n",
    "\n",
    "cost = T.mean(T.sqr(y - Y))\n",
    "gradient = T.grad(cost=cost, wrt=w)\n",
    "updates = [[w, w - gradient * 0.01]]\n",
    "\n",
    "train = theano.function(inputs=[X, Y], outputs=cost, updates=updates, allow_input_downcast=True)\n"
   ]
  },
  {
   "cell_type": "code",
   "execution_count": 8,
   "metadata": {
    "collapsed": false
   },
   "outputs": [
    {
     "name": "stdout",
     "output_type": "stream",
     "text": [
      "1.8994102478\n"
     ]
    }
   ],
   "source": [
    "for i in range(100):\n",
    "    for x, y in zip(trX, trY):\n",
    "        train(x, y)\n",
    "        \n",
    "print w.get_value() #something around 2"
   ]
  },
  {
   "cell_type": "markdown",
   "metadata": {},
   "source": [
    "Logistic Regression"
   ]
  },
  {
   "cell_type": "code",
   "execution_count": 16,
   "metadata": {
    "collapsed": false
   },
   "outputs": [],
   "source": [
    "trX, teX, trY, teY = mnist(onehot=True)\n",
    "\n",
    "X = T.fmatrix()\n",
    "Y = T.fmatrix()\n",
    "\n",
    "w = init_weights((784, 10))\n",
    "\n",
    "py_x = model2(X, w)\n",
    "y_pred = T.argmax(py_x, axis=1)\n",
    "\n",
    "cost = T.mean(T.nnet.categorical_crossentropy(py_x, Y))\n",
    "gradient = T.grad(cost=cost, wrt=w)\n",
    "update = [[w, w - gradient * 0.05]]"
   ]
  },
  {
   "cell_type": "code",
   "execution_count": 17,
   "metadata": {
    "collapsed": true
   },
   "outputs": [],
   "source": [
    "train = theano.function(inputs=[X, Y], outputs=cost, updates=update, allow_input_downcast=True)\n",
    "predict = theano.function(inputs=[X], outputs=y_pred, allow_input_downcast=True)"
   ]
  },
  {
   "cell_type": "code",
   "execution_count": 18,
   "metadata": {
    "collapsed": false
   },
   "outputs": [
    {
     "name": "stdout",
     "output_type": "stream",
     "text": [
      "0 0.8859\n",
      "1 0.8976\n",
      "2 0.9049\n",
      "3 0.9085\n",
      "4 0.9098\n",
      "5 0.9112\n",
      "6 0.9132\n",
      "7 0.9141\n",
      "8 0.9153\n",
      "9 0.9156\n",
      "10 0.9158\n",
      "11 0.9165\n",
      "12 0.917\n",
      "13 0.9174\n",
      "14 0.9178\n",
      "15 0.9179\n",
      "16 0.9181\n",
      "17 0.9186\n",
      "18 0.919\n",
      "19 0.9195\n",
      "20 0.9195\n",
      "21 0.92\n",
      "22 0.9204\n",
      "23 0.9203\n",
      "24 0.9203\n",
      "25 0.9204\n",
      "26 0.9205\n",
      "27 0.9204\n",
      "28 0.9205\n",
      "29 0.9206\n",
      "30 0.9209\n",
      "31 0.921\n",
      "32 0.9214\n",
      "33 0.9213\n",
      "34 0.9214\n",
      "35 0.9216\n",
      "36 0.9217\n",
      "37 0.9219\n",
      "38 0.9216\n",
      "39 0.9217\n",
      "40 0.9217\n",
      "41 0.9218\n",
      "42 0.9221\n",
      "43 0.922\n",
      "44 0.922\n",
      "45 0.9222\n",
      "46 0.9224\n",
      "47 0.9224\n",
      "48 0.9225\n",
      "49 0.9229\n",
      "50 0.9227\n",
      "51 0.9228\n",
      "52 0.9231\n",
      "53 0.9231\n",
      "54 0.9232\n",
      "55 0.9231\n",
      "56 0.9231\n",
      "57 0.9231\n",
      "58 0.9233\n",
      "59 0.9235\n",
      "60 0.9237\n",
      "61 0.9237\n",
      "62 0.9239\n",
      "63 0.9241\n",
      "64 0.9242\n",
      "65 0.9241\n",
      "66 0.9241\n",
      "67 0.9239\n",
      "68 0.924\n",
      "69 0.924\n",
      "70 0.9239\n",
      "71 0.9239\n",
      "72 0.9243\n",
      "73 0.9243\n",
      "74 0.9245\n",
      "75 0.9245\n",
      "76 0.9246\n",
      "77 0.9243\n",
      "78 0.9241\n",
      "79 0.9241\n",
      "80 0.9243\n",
      "81 0.9243\n",
      "82 0.9242\n",
      "83 0.9244\n",
      "84 0.9245\n",
      "85 0.9245\n",
      "86 0.9245\n",
      "87 0.9244\n",
      "88 0.9245\n",
      "89 0.9245\n",
      "90 0.9246\n",
      "91 0.9246\n",
      "92 0.9246\n",
      "93 0.9249\n",
      "94 0.925\n",
      "95 0.9251\n",
      "96 0.925\n",
      "97 0.925\n",
      "98 0.925\n",
      "99 0.9247\n"
     ]
    }
   ],
   "source": [
    "for i in range(100):\n",
    "    for start, end in zip(range(0, len(trX), 128), range(128, len(trX), 128)):\n",
    "        cost = train(trX[start:end], trY[start:end])\n",
    "    print i, np.mean(np.argmax(teY, axis=1) == predict(teX))"
   ]
  },
  {
   "cell_type": "code",
   "execution_count": null,
   "metadata": {
    "collapsed": true
   },
   "outputs": [],
   "source": []
  }
 ],
 "metadata": {
  "kernelspec": {
   "display_name": "Python 2",
   "language": "python",
   "name": "python2"
  },
  "language_info": {
   "codemirror_mode": {
    "name": "ipython",
    "version": 2
   },
   "file_extension": ".py",
   "mimetype": "text/x-python",
   "name": "python",
   "nbconvert_exporter": "python",
   "pygments_lexer": "ipython2",
   "version": "2.7.6"
  }
 },
 "nbformat": 4,
 "nbformat_minor": 0
}
