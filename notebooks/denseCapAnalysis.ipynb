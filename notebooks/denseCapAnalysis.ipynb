{
 "cells": [
  {
   "cell_type": "code",
   "execution_count": 1,
   "metadata": {
    "collapsed": true
   },
   "outputs": [],
   "source": [
    "import numpy as np\n",
    "%matplotlib inline\n",
    "import matplotlib.pyplot as plt\n",
    "import matplotlib.cm as cm\n",
    "import matplotlib.figure\n",
    "from matplotlib import mlab\n",
    "import os\n",
    "import json\n",
    "import sys \n"
   ]
  },
  {
   "cell_type": "code",
   "execution_count": 2,
   "metadata": {
    "collapsed": true
   },
   "outputs": [],
   "source": [
    "vineDenseCap = \"../Logs/denseCap_vine.json\"\n",
    "SelfieDenseCap = \"../Logs/denseCap_selfie.json\""
   ]
  },
  {
   "cell_type": "code",
   "execution_count": 3,
   "metadata": {
    "collapsed": false
   },
   "outputs": [],
   "source": [
    "f = open(vineDenseCap ,'r')\n",
    "vineData = json.load(f)\n",
    "f.close()\n",
    "vineResults = vineData[\"results\"]\n",
    "\n",
    "f = open(SelfieDenseCap ,'r')\n",
    "selfieData = json.load(f)\n",
    "f.close()\n",
    "selfieResults = selfieData[\"results\"]"
   ]
  },
  {
   "cell_type": "code",
   "execution_count": 4,
   "metadata": {
    "collapsed": false
   },
   "outputs": [
    {
     "name": "stdout",
     "output_type": "stream",
     "text": [
      "1000\n",
      "1000\n"
     ]
    }
   ],
   "source": [
    "print len(vineResults)\n",
    "print len(selfieResults)"
   ]
  },
  {
   "cell_type": "code",
   "execution_count": 5,
   "metadata": {
    "collapsed": false
   },
   "outputs": [],
   "source": [
    "#print vineResults[100]"
   ]
  },
  {
   "cell_type": "code",
   "execution_count": 6,
   "metadata": {
    "collapsed": false
   },
   "outputs": [
    {
     "name": "stdout",
     "output_type": "stream",
     "text": [
      "69726\n"
     ]
    }
   ],
   "source": [
    "\n",
    "vineCaptions = []\n",
    "for res in vineResults:\n",
    "    captions = res['captions']\n",
    "    for caption in captions:\n",
    "        vineCaptions.append(caption)\n",
    "print len(vineCaptions)"
   ]
  },
  {
   "cell_type": "code",
   "execution_count": 7,
   "metadata": {
    "collapsed": false
   },
   "outputs": [
    {
     "name": "stdout",
     "output_type": "stream",
     "text": [
      "68622\n"
     ]
    }
   ],
   "source": [
    "selfieCaptions = []\n",
    "for res in selfieResults:\n",
    "    captions = res['captions']\n",
    "    for caption in captions:\n",
    "        selfieCaptions.append(caption)\n",
    "print len(selfieCaptions)"
   ]
  },
  {
   "cell_type": "code",
   "execution_count": 8,
   "metadata": {
    "collapsed": true
   },
   "outputs": [],
   "source": [
    "import nltk"
   ]
  },
  {
   "cell_type": "code",
   "execution_count": 9,
   "metadata": {
    "collapsed": true
   },
   "outputs": [],
   "source": [
    "tokenizer = nltk.tokenize.TreebankWordTokenizer()"
   ]
  },
  {
   "cell_type": "code",
   "execution_count": 10,
   "metadata": {
    "collapsed": false
   },
   "outputs": [],
   "source": [
    "tokenized_vine_sentences = [tokenizer.tokenize(sent) for sent in vineCaptions]\n",
    "tokenized_selfie_sentences = [tokenizer.tokenize(sent) for sent in selfieCaptions]"
   ]
  },
  {
   "cell_type": "code",
   "execution_count": 14,
   "metadata": {
    "collapsed": false
   },
   "outputs": [],
   "source": [
    "Nouns_vine = []\n",
    "Adjective_vine = []\n",
    "\n",
    "for tokVine in tokenized_vine_sentences:\n",
    "    \n",
    "    tags = nltk.pos_tag(tokVine)\n",
    "    for tag in  tags:\n",
    "        if tag[1] == 'NN':\n",
    "            Nouns_vine.append(tag[0])\n",
    "        if tag[1] == 'JJ':\n",
    "            Adjective_vine.append(tag[0])\n",
    "print len(Nouns_vine)\n",
    "print len(Adjective_vine)"
   ]
  },
  {
   "cell_type": "code",
   "execution_count": 22,
   "metadata": {
    "collapsed": false
   },
   "outputs": [],
   "source": [
    "\n",
    "import collections\n",
    "\n",
    "Vine_Noun_counts = collections.Counter(Nouns_vine)\n",
    "Vine_Adj_counts = collections.Counter(Adjective_vine)\n"
   ]
  },
  {
   "cell_type": "code",
   "execution_count": 23,
   "metadata": {
    "collapsed": false
   },
   "outputs": [
    {
     "name": "stdout",
     "output_type": "stream",
     "text": [
      "Counter({u'man': 15170, u'shirt': 9546, u'wall': 8239, u'woman': 6092, u'hair': 5432, u'sky': 5405, u'person': 2866, u'background': 2763, u'sign': 2069, u'table': 1874, u'blue': 1593, u'beard': 1553, u'hat': 1531, u'window': 1439, u'word': 1436, u'nose': 1317, u'hand': 1281, u'door': 1088, u'ear': 965, u'cat': 964, u'>': 902, u'light': 879, u'bag': 829, u'building': 822, u'tree': 797, u'eye': 755, u'floor': 754, u'pink': 749, u'chair': 729, u'ground': 714, u'head': 714, u'part': 681, u'tie': 671, u'jacket': 613, u'mouth': 598, u'picture': 598, u'car': 591, u'plate': 587, u'photo': 573, u'paper': 539, u'curtain': 532, u'necklace': 526, u'dog': 502, u'metal': 497, u'towel': 495, u'ceiling': 488, u'arm': 471, u'bed': 440, u'side': 426, u'letter': 379, u'phone': 367, u'line': 366, u'back': 363, u'brown': 359, u'handle': 354, u'piece': 352, u'pillow': 346, u'pole': 324, u'wooden': 312, u'room': 309, u'flower': 300, u'snow': 300, u'shadow': 300, u'dress': 299, u'toothbrush': 285, u'face': 280, u'box': 272, u'camera': 269, u'silver': 269, u'bottle': 260, u'girl': 259, u'pair': 258, u'tile': 234, u'bird': 233, u'bear': 233, u'water': 228, u'leg': 227, u'spot': 225, u'wood': 224, u'grass': 215, u'toilet': 214, u'shelf': 210, u'boy': 207, u'strap': 192, u'road': 192, u'umbrella': 183, u'plastic': 183, u'shoe': 182, u'vase': 181, u'fence': 181, u'reflection': 176, u'cell': 174, u'glass': 171, u'collar': 169, u'cake': 163, u'laptop': 160, u'design': 158, u'screen': 158, u'mirror': 152, u'blanket': 147, u'lamp': 146, u'bathroom': 144, u'cup': 142, u'horse': 135, u'sun': 132, u'frame': 131, u'cloth': 131, u'street': 130, u'brick': 128, u'couch': 125, u'cabinet': 121, u'tennis': 117, u'train': 115, u'top': 113, u'yellow': 111, u'napkin': 111, u'knife': 110, u'tv': 109, u'plant': 105, u'sidewalk': 103, u'leather': 102, u'counter': 98, u'wii': 92, u'neck': 91, u'sink': 90, u'leaf': 90, u'button': 89, u'distance': 88, u'wine': 87, u'front': 87, u'banana': 86, u'blurry': 85, u'wearing': 84, u'controller': 83, u'bus': 83, u'coat': 79, u'thumb': 78, u'kitchen': 78, u'pizza': 75, u'dark': 74, u'number': 72, u'book': 72, u'watch': 71, u'fur': 71, u'game': 71, u'trunk': 69, u'donut': 69, u'keyboard': 69, u'logo': 68, u'shade': 66, u'food': 65, u'rock': 65, u'ring': 65, u'writing': 64, u'tail': 63, u'roof': 63, u'bench': 63, u'suit': 63, u'color': 62, u'cord': 61, u'fork': 61, u'racket': 60, u'bar': 59, u'bowl': 57, u'plane': 55, u'orange': 53, u'refrigerator': 53, u'cloud': 52, u'microwave': 52, u'stone': 52, u'remote': 52, u'baby': 51, u'suitcase': 51, u'patch': 50, u'computer': 48, u'group': 47, u'air': 46, u'coffee': 45, u'pattern': 45, u'bike': 44, u'scarf': 44, u'apple': 43, u'object': 43, u'clock': 42, u'seat': 41, u'pot': 41, u'sleeve': 39, u'bottom': 39, u'switch': 38, u'skateboard': 38, u'bush': 37, u'court': 36, u'railing': 35, u'sticker': 35, u'sheet': 34, u'smile': 33, u'wrist': 33, u'container': 33, u'daytime': 32, u'child': 32, u'frisbee': 32, u'elephant': 31, u'faucet': 31, u'rack': 31, u'finger': 31, u'cow': 31, u'sauce': 30, u'house': 29, u'stove': 29, u'row': 28, u'kite': 28, u'helmet': 28, u'giraffe': 27, u'day': 27, u'flag': 26, u'oven': 26, u'carpet': 25, u'motorcycle': 25, u'boat': 25, u'baseball': 24, u'band': 24, u'soap': 24, u'stack': 24, u'desk': 24, u'trouser': 24, u'body': 23, u'dirt': 23, u'board': 23, u'knob': 23, u'rug': 23, u'trash': 23, u'maker': 22, u'animal': 22, u'shower': 22, u'tank': 21, u'headboard': 21, u'legs': 21, u'fan': 19, u'hydrant': 19, u'paint': 19, u'label': 19, u'teddy': 19, u'field': 19, u'wheel': 18, u'truck': 17, u'fire': 17, u'concrete': 17, u'crowd': 17, u'stuffed': 16, u'monitor': 16, u'vent': 16, u'stripe': 16, u'stand': 16, u'chain': 15, u'tablecloth': 15, u'fixture': 15, u'store': 15, u'mountain': 15, u'poster': 15, u'tire': 15, u'player': 15, u'ball': 15, u'slice': 15, u'spoon': 13, u'frosting': 13, u'zebra': 13, u'scene': 13, u'bat': 13, u'shoulder': 13, u'video': 12, u'control': 12, u'drawer': 12, u'hill': 12, u'graffiti': 12, u'clouds': 11, u'round': 11, u'sweater': 11, u'cap': 11, u'tag': 11, u'grey': 11, u'circle': 11, u'plaid': 11, u'rope': 11, u'chocolate': 10, u'hole': 10, u'basket': 10, u'edge': 10, u'traffic': 10, u'post': 10, u'holder': 9, u'surfboard': 9, u'crust': 8, u'beach': 8, u'backpack': 8, u'city': 8, u'wire': 8, u'paw': 8, u'speaker': 8, u'propeller': 8, u'branch': 8, u'tomato': 7, u'green': 7, u'pad': 7, u'meat': 7, u'base': 7, u'park': 7, u'bedroom': 7, u'pocket': 7, u'view': 7, u'belt': 7, u'fruit': 7, u'left': 7, u'pile': 7, u'bread': 7, u'fridge': 7, u'tshirt': 7, u'skirt': 6, u'wing': 6, u'windshield': 6, u'corner': 6, u'surface': 6, u'mouse': 6, u'lot': 6, u'display': 6, u'fireplace': 5, u'cloudy': 5, u'smoke': 5, u'sandwich': 5, u'television': 5, u'ocean': 5, u'lit': 5, u'cone': 5, u'christmas': 5, u'bicycle': 4, u'uniform': 4, u'middle': 4, u'carrot': 4, u'<': 4, u'framed': 4, u'toy': 4, u'dispenser': 4, u'pipe': 4, u'gold': 4, u'gray': 4, u'parking': 4, u'blonde': 4, u'ski': 4, u'right': 4, u'palm': 4, u'pepper': 4, u'roll': 4, u'sand': 3, u'luggage': 3, u'snowboard': 3, u'bunch': 3, u'arrow': 3, u'broccoli': 3, u'cheese': 3, u'lid': 3, u'knobs': 3, u'painting': 3, u'outlet': 3, u'striped': 3, u'ramp': 3, u'mane': 3, u'crack': 3, u'bathtub': 3, u'wet': 3, u'glove': 3, u'candle': 3, u'icing': 2, u'hanging': 2, u'grassy': 2, u'stop': 2, u'egg': 2, u'mustache': 2, u'platform': 2, u'pan': 2, u'tray': 2, u'living': 2, u'foreground': 2, u'statue': 2, u'sheep': 2, u'playing': 2, u'catcher': 2, u'wetsuit': 2, u'tub': 2, u'restaurant': 2, u'jersey': 2, u'purse': 2, u'foot': 2, u'match': 2, u'lady': 2, u'purple': 2, u'power': 2, u'van': 2, u'area': 2, u'link': 2, u'grate': 2, u'trim': 2, u'dresser': 2, u'skis': 1, u'ribbon': 1, u'section': 1, u'path': 1, u'cardboard': 1, u'stick': 1, u'airplane': 1, u'gate': 1, u'ladder': 1, u'arch': 1, u'meter': 1, u'cart': 1, u'place': 1, u'hood': 1, u'girls': 1, u'iron': 1, u'juice': 1, u'knee': 1, u'jar': 1, u'rice': 1, u'beam': 1, u'wedding': 1, u'banner': 1, u'lettering': 1, u'hardwood': 1, u'mug': 1, u'tent': 1, u'outfit': 1, u'stadium': 1, u'engine': 1, u'case': 1, u'rail': 1, u'advertisement': 1, u'doughnut': 1, u'spread': 1, u'cooler': 1, u'bracelet': 1, u'night': 1, u'tower': 1, u'range': 1, u'bath': 1, u'harness': 1, u'bucket': 1, u'tip': 1, u'ponytail': 1})\n"
     ]
    }
   ],
   "source": [
    "print Vine_Noun_counts"
   ]
  },
  {
   "cell_type": "code",
   "execution_count": 24,
   "metadata": {
    "collapsed": false
   },
   "outputs": [
    {
     "name": "stdout",
     "output_type": "stream",
     "text": [
      "113149\n",
      "57778\n"
     ]
    }
   ],
   "source": [
    "Nouns_selfie = []\n",
    "Adjective_selfie = []\n",
    "\n",
    "for tokSelfie in tokenized_selfie_sentences:\n",
    "    \n",
    "    tags = nltk.pos_tag(tokSelfie)\n",
    "    for tag in  tags:\n",
    "        if tag[1] == 'NN':\n",
    "            Nouns_selfie.append(tag[0])\n",
    "        if tag[1] == 'JJ':\n",
    "            Adjective_selfie.append(tag[0])\n",
    "print len(Nouns_vine)\n",
    "print len(Adjective_vine)\n",
    "        "
   ]
  },
  {
   "cell_type": "code",
   "execution_count": 25,
   "metadata": {
    "collapsed": false
   },
   "outputs": [],
   "source": [
    "Selfie_Noun_counts = collections.Counter(Nouns_selfie)\n",
    "Selfie_Adj_counts = collections.Counter(Adjective_selfie)\n"
   ]
  },
  {
   "cell_type": "code",
   "execution_count": 26,
   "metadata": {
    "collapsed": false,
    "scrolled": true
   },
   "outputs": [
    {
     "name": "stdout",
     "output_type": "stream",
     "text": [
      "Counter({u'man': 10713, u'hair': 9089, u'shirt': 9014, u'woman': 8076, u'wall': 7050, u'sky': 3420, u'cat': 2832, u'blue': 2395, u'person': 2362, u'table': 2158, u'eye': 2121, u'nose': 2023, u'ear': 1681, u'background': 1598, u'part': 1422, u'dog': 1287, u'beard': 1204, u'hand': 1173, u'tie': 1159, u'floor': 1083, u'window': 1036, u'sign': 1014, u'door': 895, u'arm': 806, u'bed': 796, u'hat': 769, u'head': 768, u'pink': 766, u'mouth': 764, u'curtain': 755, u'pillow': 741, u'chair': 717, u'towel': 640, u'paper': 630, u'back': 607, u'plate': 595, u'necklace': 563, u'ground': 559, u'line': 546, u'brown': 529, u'tree': 524, u'bag': 516, u'horse': 494, u'building': 467, u'phone': 465, u'blanket': 460, u'light': 436, u'girl': 433, u'picture': 418, u'tile': 405, u'handle': 403, u'flower': 398, u'collar': 394, u'spot': 370, u'shadow': 356, u'fur': 352, u'wooden': 350, u'photo': 347, u'side': 341, u'design': 326, u'metal': 320, u'bear': 308, u'jacket': 304, u'face': 301, u'toothbrush': 300, u'piece': 270, u'word': 261, u'strap': 252, u'pair': 248, u'snow': 240, u'leg': 237, u'car': 235, u'cell': 232, u'toilet': 227, u'wood': 212, u'tail': 209, u'couch': 208, u'neck': 204, u'dress': 201, u'box': 198, u'umbrella': 198, u'room': 193, u'silver': 188, u'letter': 185, u'pole': 183, u'bird': 181, u'vase': 177, u'grass': 176, u'reflection': 175, u'cloth': 162, u'banana': 158, u'water': 153, u'camera': 152, u'road': 152, u'>': 151, u'cake': 151, u'shoe': 145, u'glass': 143, u'mirror': 142, u'fence': 141, u'sun': 133, u'ceiling': 129, u'shade': 127, u'button': 126, u'yellow': 113, u'plastic': 113, u'screen': 113, u'bottle': 110, u'top': 109, u'frame': 109, u'napkin': 106, u'boy': 105, u'body': 100, u'logo': 99, u'thumb': 95, u'cord': 95, u'orange': 92, u'distance': 92, u'giraffe': 84, u'bathroom': 82, u'tennis': 82, u'brick': 81, u'pattern': 80, u'cup': 80, u'baby': 77, u'leather': 77, u'sleeve': 74, u'color': 74, u'smile': 72, u'lamp': 69, u'shelf': 69, u'bowl': 69, u'leaf': 69, u'book': 69, u'scarf': 67, u'train': 65, u'remote': 65, u'watch': 64, u'knife': 64, u'stripe': 63, u'laptop': 63, u'cabinet': 62, u'patch': 60, u'rock': 57, u'coat': 56, u'clock': 54, u'wii': 53, u'pizza': 53, u'controller': 52, u'trunk': 50, u'sheet': 50, u'suitcase': 50, u'zebra': 49, u'ring': 49, u'sticker': 49, u'roof': 48, u'plant': 48, u'bottom': 48, u'carpet': 47, u'writing': 47, u'wearing': 45, u'sidewalk': 44, u'sink': 44, u'wrist': 44, u'counter': 44, u'wine': 44, u'bench': 44, u'rug': 44, u'cloud': 43, u'bush': 43, u'bar': 43, u'trouser': 43, u'fork': 42, u'seat': 41, u'front': 40, u'racket': 38, u'donut': 37, u'apple': 36, u'object': 35, u'board': 35, u'tv': 34, u'elephant': 34, u'number': 33, u'cow': 33, u'railing': 32, u'dirt': 32, u'mane': 32, u'dark': 32, u'food': 31, u'kitchen': 31, u'rack': 30, u'bus': 30, u'finger': 29, u'microwave': 27, u'chain': 26, u'keyboard': 26, u'house': 26, u'tablecloth': 25, u'refrigerator': 25, u'court': 24, u'sauce': 24, u'street': 23, u'tag': 23, u'skateboard': 22, u'field': 22, u'bike': 21, u'tank': 21, u'sweater': 21, u'hill': 21, u'shower': 21, u'paw': 21, u'switch': 20, u'kite': 20, u'rope': 20, u'clouds': 19, u'frosting': 19, u'faucet': 19, u'mountain': 19, u'child': 19, u'air': 19, u'band': 18, u'headboard': 18, u'boat': 17, u'stack': 17, u'shoulder': 17, u'round': 16, u'knob': 16, u'suit': 16, u'spoon': 15, u'flag': 15, u'control': 15, u'plane': 15, u'truck': 15, u'bread': 15, u'row': 14, u'drawer': 14, u'motorcycle': 14, u'post': 14, u'stone': 14, u'crust': 13, u'baseball': 13, u'container': 13, u'sheep': 13, u'grey': 13, u'label': 13, u'edge': 13, u'blurry': 12, u'animal': 12, u'oven': 12, u'pocket': 12, u'computer': 12, u'surface': 12, u'slice': 12, u'group': 11, u'arrow': 11, u'circle': 11, u'pot': 11, u'wheel': 11, u'frisbee': 11, u'coffee': 10, u'hydrant': 10, u'stove': 10, u'teddy': 10, u'skirt': 9, u'beach': 9, u'vent': 9, u'helmet': 9, u'concrete': 9, u'framed': 9, u'wire': 8, u'statue': 8, u'ocean': 8, u'left': 8, u'trash': 8, u'fireplace': 7, u'hole': 7, u'toy': 7, u'soap': 7, u'monitor': 7, u'belt': 7, u'fire': 7, u'hanging': 6, u'cap': 6, u'basket': 6, u'legs': 6, u'holder': 6, u'tire': 6, u'outlet': 6, u'bat': 6, u'blonde': 6, u'case': 6, u'player': 6, u'mouse': 6, u'day': 6, u'game': 6, u'lettuce': 5, u'paint': 5, u'gold': 5, u'speaker': 5, u'ball': 5, u'pile': 5, u'right': 5, u'daytime': 5, u'poster': 5, u'bun': 5, u'sand': 4, u'path': 4, u'middle': 4, u'sandwich': 4, u'bunch': 4, u'backpack': 4, u'fixture': 4, u'stuffed': 4, u'video': 4, u'lid': 4, u'green': 4, u'link': 4, u'wedding': 4, u'spread': 4, u'branch': 4, u'fan': 3, u'carrot': 3, u'wave': 3, u'wing': 3, u'mustache': 3, u'base': 3, u'cheese': 3, u'store': 3, u'surfboard': 3, u'juice': 3, u'bedroom': 3, u'striped': 3, u'gray': 3, u'view': 3, u'tent': 3, u'plaid': 3, u'bathtub': 3, u'pillar': 3, u'stem': 3, u'van': 3, u'lot': 3, u'display': 3, u'trim': 3, u'skis': 2, u'icing': 2, u'cloudy': 2, u'luggage': 2, u'skin': 2, u'snowboard': 2, u'standing': 2, u'chocolate': 2, u'ladder': 2, u'meat': 2, u'foreground': 2, u'porcelain': 2, u'scene': 2, u'graffiti': 2, u'zebras': 2, u'knee': 2, u'cone': 2, u'desk': 2, u'glove': 2, u'maker': 2, u'pepper': 2, u'stand': 2, u'grate': 2, u'tshirt': 2, u'roll': 2, u'rod': 1, u'dish': 1, u'p': 1, u'bicycle': 1, u'bow': 1, u'grill': 1, u'salad': 1, u'grassy': 1, u'soup': 1, u'tan': 1, u'stop': 1, u'lap': 1, u'tomato': 1, u'beak': 1, u'windshield': 1, u'<': 1, u'apron': 1, u'tray': 1, u'living': 1, u'cart': 1, u'comforter': 1, u'hood': 1, u'city': 1, u'station': 1, u'park': 1, u'television': 1, u'dispenser': 1, u'bridge': 1, u'pipe': 1, u'painting': 1, u'beam': 1, u'set': 1, u'parking': 1, u'key': 1, u'tub': 1, u'ramp': 1, u'purse': 1, u'pan': 1, u'foam': 1, u'fruit': 1, u'fridge': 1, u'traffic': 1, u'tarp': 1, u'bracelet': 1, u'candle': 1, u'purple': 1, u'ornate': 1, u'column': 1, u'area': 1, u'balcony': 1, u'ponytail': 1, u'dresser': 1})\n"
     ]
    }
   ],
   "source": [
    "print Selfie_Noun_counts"
   ]
  },
  {
   "cell_type": "code",
   "execution_count": null,
   "metadata": {
    "collapsed": true
   },
   "outputs": [],
   "source": [
    "tokens = []\n",
    "for news in californiaArticles:\n",
    "    utfnews = news['text'].encode('utf-8')\n",
    "    tokens = Tokenizer.tokenize(utfnews)\n",
    "    for token in tokens:\n",
    "        USACaliNewsCorpus.append(token)\n"
   ]
  },
  {
   "cell_type": "code",
   "execution_count": 30,
   "metadata": {
    "collapsed": false
   },
   "outputs": [
    {
     "data": {
      "text/plain": [
       "[(u'a baby in a pink shirt', u'a blue and white cloud'),\n",
       " (u'a baby with a pink nose', u'pink and white face of a teddy bear'),\n",
       " (u'a bag of food', u'a basket of a glass'),\n",
       " (u'a bathroom', u'a metal bar on a stand'),\n",
       " (u'a bear with a black hat', u'a white face of a banana'),\n",
       " (u'a bird on the side of a car', u'a black spot on a table'),\n",
       " (u'a black and silver bottle', u'a blue and silver box'),\n",
       " (u'a black and white cloth', u'a large white animal'),\n",
       " (u'a black and white design on a shirt', u'a red and white striped tie'),\n",
       " (u'a black and white logo on the shirt', u'a blue and white board')]"
      ]
     },
     "execution_count": 30,
     "metadata": {},
     "output_type": "execute_result"
    }
   ],
   "source": [
    "from nltk.collocations import *\n",
    "\n",
    "\n",
    "bigram_measures = nltk.collocations.BigramAssocMeasures()\n",
    "finder = BigramCollocationFinder.from_words(vineCaptions, window_size = 2)\n",
    "finder.nbest(bigram_measures.pmi, 10) tokenized_vine_sentences"
   ]
  },
  {
   "cell_type": "code",
   "execution_count": null,
   "metadata": {
    "collapsed": true
   },
   "outputs": [],
   "source": []
  }
 ],
 "metadata": {
  "kernelspec": {
   "display_name": "Python 2",
   "language": "python",
   "name": "python2"
  },
  "language_info": {
   "codemirror_mode": {
    "name": "ipython",
    "version": 2
   },
   "file_extension": ".py",
   "mimetype": "text/x-python",
   "name": "python",
   "nbconvert_exporter": "python",
   "pygments_lexer": "ipython2",
   "version": "2.7.6"
  }
 },
 "nbformat": 4,
 "nbformat_minor": 0
}
