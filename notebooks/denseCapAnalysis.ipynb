{
 "cells": [
  {
   "cell_type": "code",
   "execution_count": 1,
   "metadata": {
    "collapsed": true
   },
   "outputs": [],
   "source": [
    "import numpy as np\n",
    "%matplotlib inline\n",
    "import matplotlib.pyplot as plt\n",
    "import matplotlib.cm as cm\n",
    "import matplotlib.figure\n",
    "from matplotlib import mlab\n",
    "import os\n",
    "import json\n",
    "import sys \n",
    "import nltk\n",
    "import collections\n",
    "from nltk.collocations import *\n"
   ]
  },
  {
   "cell_type": "code",
   "execution_count": 2,
   "metadata": {
    "collapsed": true
   },
   "outputs": [],
   "source": [
    "vineDenseCap = \"../Logs/denseCap_vine.json\"\n",
    "SelfieDenseCap = \"../Logs/denseCap_selfie.json\""
   ]
  },
  {
   "cell_type": "code",
   "execution_count": 9,
   "metadata": {
    "collapsed": true
   },
   "outputs": [],
   "source": [
    "def getJsonResults(filename):\n",
    "    f = open(filename ,'r')\n",
    "    vineData = json.load(f)\n",
    "    f.close()\n",
    "    return vineData[\"results\"]\n",
    "\n",
    "def getCaptions(records):\n",
    "    captions = []\n",
    "    for res in records:\n",
    "        capList = res['captions']\n",
    "        for cap in capList:\n",
    "            captions.append(cap)\n",
    "    return captions\n",
    "\n",
    "def tokenizeList(captions):\n",
    "    tokens = []\n",
    "    tokenizer = nltk.tokenize.TreebankWordTokenizer()\n",
    "    for sent in captions:\n",
    "        t = tokenizer.tokenize(sent)\n",
    "        for token in t:\n",
    "            tokens.append(token)\n",
    "    return tokens\n",
    "\n",
    "def getNounsAdj(tokens):\n",
    "    Nouns = []\n",
    "    Adjective = []\n",
    "    Adj_noun = []\n",
    "    tags = nltk.pos_tag(tokens)\n",
    "    for tag in  tags:\n",
    "\n",
    "        if tag[1] == 'NN':\n",
    "            Nouns.append(tag[0])\n",
    "            Adj_noun.append(tag[0])\n",
    "       \n",
    "        if tag[1] == 'JJ':\n",
    "            Adjective.append(tag[0])\n",
    "            Adj_noun.append(tag[0])\n",
    "    return Nouns, Adjective, Adj_noun\n",
    "\n",
    "def getANP(sentences):\n",
    "    ANP = []\n",
    "    tokenizer = nltk.tokenize.TreebankWordTokenizer()\n",
    "    for s in sentences:\n",
    "        nounFlag = 0\n",
    "        adjFlag = 0\n",
    "        ANP_dict = {'Adj':'','NN':''}\n",
    "        t = tokenizer.tokenize(s)\n",
    "        tags = nltk.pos_tag(t)\n",
    "        for tag in tags:\n",
    "            if tag[1] == 'NN':\n",
    "                if nounFlag < 1:\n",
    "                    ANP_dict['NN'] = tag[0]\n",
    "                    nounFlag += 1\n",
    "            if tag[1] == 'JJ':\n",
    "                if adjFlag < 1:\n",
    "                    ANP_dict['Adj'] = tag[0]\n",
    "                    adjFlag += 1\n",
    "        ANP.append(ANP_dict['Adj'] + \"_\" + ANP_dict['NN'])\n",
    "    return ANP\n"
   ]
  },
  {
   "cell_type": "code",
   "execution_count": 4,
   "metadata": {
    "collapsed": false
   },
   "outputs": [],
   "source": [
    "vineResults = getJsonResults(vineDenseCap)\n",
    "\n",
    "selfieResults = getJsonResults(SelfieDenseCap)"
   ]
  },
  {
   "cell_type": "code",
   "execution_count": 5,
   "metadata": {
    "collapsed": false
   },
   "outputs": [
    {
     "name": "stdout",
     "output_type": "stream",
     "text": [
      "1000\n",
      "1000\n"
     ]
    }
   ],
   "source": [
    "print len(vineResults)\n",
    "print len(selfieResults)"
   ]
  },
  {
   "cell_type": "code",
   "execution_count": 6,
   "metadata": {
    "collapsed": false
   },
   "outputs": [
    {
     "name": "stdout",
     "output_type": "stream",
     "text": [
      "69726\n"
     ]
    }
   ],
   "source": [
    "\n",
    "vineCaptions = getCaptions(vineResults)\n",
    "print len(vineCaptions)"
   ]
  },
  {
   "cell_type": "code",
   "execution_count": 7,
   "metadata": {
    "collapsed": false
   },
   "outputs": [
    {
     "name": "stdout",
     "output_type": "stream",
     "text": [
      "68622\n"
     ]
    }
   ],
   "source": [
    "selfieCaptions = getCaptions(selfieResults)\n",
    "print len(selfieCaptions)"
   ]
  },
  {
   "cell_type": "code",
   "execution_count": 11,
   "metadata": {
    "collapsed": false
   },
   "outputs": [],
   "source": [
    "ANP_Vine = getANP(vineCaptions)"
   ]
  },
  {
   "cell_type": "code",
   "execution_count": 12,
   "metadata": {
    "collapsed": true
   },
   "outputs": [],
   "source": [
    "ANP_Selfie = getANP(selfieCaptions)"
   ]
  },
  {
   "cell_type": "code",
   "execution_count": 15,
   "metadata": {
    "collapsed": false
   },
   "outputs": [],
   "source": [
    "Vine_AdjNoun_counts = collections.Counter(ANP_Vine)\n",
    "Selfie_AdjNoun_counts = collections.Counter(ANP_Selfie)"
   ]
  },
  {
   "cell_type": "code",
   "execution_count": 16,
   "metadata": {
    "collapsed": false
   },
   "outputs": [
    {
     "name": "stdout",
     "output_type": "stream",
     "text": [
      "Counter({u'white_wall': 3419, u'_man': 3338, u'brown_hair': 3215, u'white_sky': 2970, u'_woman': 2537, u'white_shirt': 2192, u'_eye': 2102, u'_hair': 1798, u'white_blue': 1705, u'_nose': 1640, u'black_shirt': 1518, u'_ear': 1471, u'black_hair': 1280, u'_hand': 922, u'black_cat': 829, u'_part': 777, u'_arm': 733, u'_mouth': 704, u'blue_shirt': 628, u'black_man': 542, u'white_line': 519, u'red_shirt': 488, u'black_woman': 437, u'_window': 435, u'white_woman': 409, u'_head': 389, u'_wall': 389, u'white_pillow': 385, u'_person': 380, u'_shadow': 355, u'white_door': 352, u'white_paper': 331, u'long_woman': 320, u'white_cat': 318, u'white_towel': 309, u'black_background': 302, u'white_man': 299, u'white_curtain': 297, u'white_part': 295, u'white_tile': 295, u'white_hair': 290, u'black_wall': 274, u'white_plate': 270, u'short_man': 267, u'_picture': 261, u'white_pink': 261, u'_word': 260, u'white_sign': 257, u'white_brown': 252, u'black_photo': 246, u'brown_woman': 237, u'brown_wooden': 234, u'_leg': 221, u'_light': 218, u'black_tie': 216, u'white_background': 209, u'black_strap': 209, u'_girl': 209, u'_tree': 207, u'black_part': 206, u'white_table': 203, u'_blue': 200, u'blue_sky': 197, u'white_window': 189, '_': 188, u'_pink': 180, u'brown_wall': 175, u'_reflection': 173, u'black_dog': 171, u'_cat': 171, u'white_snow': 165, u'black_table': 165, u'_face': 161, u'black_sign': 160, u'white_tie': 159, u'black_bag': 158, u'red_wall': 156, u'_silver': 151, u'green_tree': 149, u'black_': 149, u'white_spot': 148, u'_back': 140, u'brown_spot': 132, u'white_fur': 132, u'_pair': 131, u'black_person': 126, u'brown_chair': 124, u'blonde_hair': 123, u'_sun': 123, u'_tail': 122, u'white_blanket': 119, u'red_sign': 118, u'red_tie': 117, u'black_metal': 116, u'black_fur': 116, u'_floor': 112, u'green_shirt': 112, u'_collar': 112, u'white_light': 109, u'_dog': 108, u'white_dog': 103, u'long_hair': 103, u'black_back': 102, u'black_door': 101, u'black_jacket': 100, u'black_handle': 99, u'black_chair': 99, u'brown_table': 99, u'clear_sky': 99, u'white_letter': 98, u'black_hat': 96, u'white_napkin': 95, u'green_grass': 94, u'blue_tie': 94, u'brown_floor': 93, u'_flower': 92, u'white_plastic': 92, u'_thumb': 91, u'_metal': 90, u'_piece': 89, u'brown_door': 89, u'wooden_door': 89, u'red_pillow': 87, u'white_toilet': 86, u'red_table': 86, u'white_design': 85, u'black_curtain': 84, u'blue_part': 84, u'black_picture': 83, u'white_handle': 83, u'white_bag': 83, u'_body': 82, u'white_': 80, u'red_woman': 80, u'red_curtain': 78, u'_handle': 76, u'open_': 76, u'white_box': 75, u'brown_man': 75, u'blue_blanket': 74, u'black_yellow': 74, u'red_man': 73, u'_wooden': 71, u'red_background': 70, u'gray_shirt': 70, u'black_shoe': 69, u'right_hand': 69, u'blue_man': 68, u'_neck': 68, u'black_tile': 68, u'_brown': 65, u'green_wall': 64, u'black_ear': 64, u'white_button': 63, u'white_flower': 63, u'red_hair': 61, u'black_spot': 60, u'white_person': 60, u'green_leaf': 59, u'_shirt': 59, u'brown_shirt': 58, u'_pillow': 58, u'black_pillow': 57, u'blurry_background': 57, u'red_blanket': 57, u'dark_man': 56, u'white_building': 56, u'_letter': 53, u'white_cord': 53, u'_curtain': 53, u'red_hat': 52, u'red_design': 51, u'white_chair': 51, u'yellow_wall': 51, u'yellow_banana': 50, u'_sign': 50, u'white_bird': 49, u'long_sleeve': 49, u'_table': 48, u'red_flower': 48, u'white_sheet': 47, u'brown_fur': 47, u'blonde_woman': 47, u'_glass': 46, u'black_dress': 45, u'black_pair': 45, u'short_hair': 45, u'_boy': 44, u'wooden_table': 44, u'black_coat': 43, u'small_piece': 43, u'_brick': 43, u'black_nose': 42, u'white_toothbrush': 42, u'black_design': 41, u'dark_hair': 41, u'white_bed': 41, u'brown_': 41, u'black_floor': 41, u'black_bear': 41, u'white_collar': 40, u'light_wall': 40, u'black_cord': 40, u'white_shoe': 39, u'_necklace': 39, u'red_chair': 39, u'dark_sky': 39, u'white_ceiling': 38, u'blue_pillow': 38, u'black_leather': 38, u'blue_wall': 38, u'brown_leather': 38, u'white_floor': 38, u'right_arm': 38, u'blue_pair': 37, u'brown_dog': 37, u'dark_blue': 37, u'white_orange': 37, u'red_bag': 36, u'white_piece': 36, u'white_cloud': 36, u'blue_chair': 36, u'_design': 36, u'brown_light': 36, u'_background': 36, u'red_person': 36, u'black_phone': 35, u'small_patch': 35, u'white_hat': 35, u'white_umbrella': 35, u'_screen': 35, u'red_umbrella': 35, u'brown_fence': 34, u'red_part': 34, u'wooden_fence': 34, u'blue_curtain': 34, u'white_dress': 34, u'_snow': 34, u'pink_shirt': 34, u'small_brown': 34, u'clear_glass': 33, u'tree_trunk': 33, u'_baby': 33, u'white_lamp': 33, u'white_car': 33, u'_building': 33, u'right_ear': 33, u'white_ear': 33, u'_tie': 32, u'black_umbrella': 32, u'blue_towel': 32, u'black_button': 32, u'black_toothbrush': 32, u'blue_': 32, u'white_metal': 32, u'_number': 32, u'red_cat': 31, u'_top': 31, u'red_toothbrush': 31, u'short_woman': 31, u'_bottom': 31, u'brown_horse': 30, u'brown_cat': 30, u'_mirror': 29, u'red_brick': 29, u'red_collar': 29, u'black_towel': 29, u'yellow_shirt': 29, u'white_bowl': 28, u'white_pair': 28, u'large_rock': 28, u'small_tree': 28, u'small_wall': 28, u'blue_water': 28, u'white_stripe': 27, u'light_blue': 27, u'wooden_chair': 27, u'black_car': 27, u'black_window': 27, u'large_tree': 27, u'red_towel': 27, u'_door': 27, u'red_paper': 27, u'black_bird': 27, u'red_scarf': 27, u'_bottle': 27, u'white_cabinet': 26, u'_blanket': 25, u'dark_brown': 25, u'white_vase': 25, u'blue_collar': 25, u'white_bottle': 25, u'_fence': 25, u'black_letter': 25, u'yellow_sign': 25, u'red_logo': 24, u'white_back': 24, u'black_blanket': 24, u'green_bush': 24, u'white_nose': 24, u'_towel': 24, u'open_window': 23, u'green_': 23, u'black_pole': 23, u'white_cup': 23, u'open_door': 23, u'black_collar': 23, u'brown_girl': 23, u'red_': 23, u'white_girl': 23, u'white_neck': 23, u'_orange': 22, u'white_picture': 22, u'light_ceiling': 22, u'red_plate': 22, u'black_cell': 22, u'floral_pattern': 22, u'white_necklace': 22, u'white_side': 21, u'blue_table': 21, u'green_blanket': 21, u'green_ground': 21, u'_bed': 21, u'_dark': 21, u'_plant': 21, u'green_pillow': 21, u'black_suitcase': 20, u'white_horse': 20, u'red_door': 20, u'small_table': 20, u'dark_woman': 20, u'small_box': 20, u'small_dog': 20, u'black_plate': 19, u'white_wooden': 19, u'white_hand': 19, u'pink_hair': 19, u'brown_curtain': 19, u'large_window': 19, u'teddy_bear': 19, u'small_plate': 19, u'white_logo': 19, u'yellow_bag': 18, u'red_apple': 18, u'green_pink': 18, u'black_girl': 18, u'open_man': 18, u'small_bird': 18, u'red_jacket': 18, u'black_zebra': 18, u'_car': 18, u'red_sauce': 18, u'white_color': 18, u'red_cloth': 18, u'large_brown': 17, u'brown_piece': 17, u'brown_bear': 17, u'white_cake': 17, u'long_girl': 17, u'light_table': 17, u'red_light': 17, u'_rug': 17, u'white_sink': 17, u'black_piece': 17, u'yellow_line': 17, u'red_carpet': 17, u'black_laptop': 17, u'brown_dirt': 17, u'green_towel': 17, u'_patch': 16, u'red_car': 16, u'blue_jacket': 16, u'closed_': 16, u'nose_woman': 16, u'open_woman': 16, u'white_bear': 16, u'blue_woman': 16, u'_box': 16, u'red_sticker': 16, u'_ground': 16, u'black_box': 16, u'_logo': 16, u'small_window': 16, u'_shelf': 16, u'small_ear': 16, u'black_silver': 16, u'brown_part': 16, u'_stack': 16, u'_chair': 16, u'light_window': 16, u'black_lamp': 16, u'green_plant': 16, u'black_watch': 16, u'_hat': 16, u'small_door': 15, u'black_horse': 15, u'white_remote': 15, u'blue_pattern': 15, u'clear_water': 15, u'black_head': 15, u'black_keyboard': 15, u'wooden_shelf': 15, u'white_wii': 15, u'long_curtain': 15, u'_paw': 15, u'green_sign': 15, u'young_boy': 15, u'_bag': 15, u'wooden_floor': 15, u'black_necklace': 15, u'white_face': 14, u'black_screen': 14, u'blue_screen': 14, u'green_curtain': 14, u'large_background': 14, u'brown_bag': 14, u'_row': 14, u'red_picture': 14, u'brown_tie': 14, u'white_ground': 14, u'wooden_cabinet': 14, u'white_yellow': 14, u'white_strap': 14, u'white_refrigerator': 14, u'black_pattern': 14, u'white_pole': 14, u'brown_blanket': 13, u'_rock': 13, u'_vase': 13, u'_lamp': 13, u'teddy_head': 13, u'_strap': 13, u'ear_': 13, u'red_box': 13, u'white_top': 13, u'red_dog': 13, u'white_tennis': 13, u'white_cloth': 13, u'small_umbrella': 13, u'_cell': 13, u'small_chair': 13, u'blue_person': 13, u'blue_light': 13, u'green_flower': 13, u'brown_pillow': 13, u'black_seat': 13, u'silver_door': 13, u'young_girl': 13, u'black_tail': 13, u'green_light': 13, u'_mountain': 13, u'brown_couch': 13, u'brown_neck': 13, u'brown_brown': 12, u'white_microwave': 12, u'_bench': 12, u'green_tie': 12, u'_roof': 12, u'white_clock': 12, u'brown_banana': 12, u'black_tv': 12, u'small_building': 12, u'white_water': 12, u'_blurry': 12, u'large_building': 12, u'_chain': 12, u'brown_carpet': 12, u'black_tennis': 12, u'white_wrist': 12, u'_mane': 12, u'green_bag': 11, u'red_rug': 11, u'red_tennis': 11, u'yellow_flower': 11, u'small_sign': 11, u'black_light': 11, u'blue_sign': 11, u'gray_man': 11, u'small_wooden': 11, u'light_brown': 11, u'red_tile': 11, u'red_tablecloth': 11, u'_grass': 11, u'striped_shirt': 11, u'green_toothbrush': 11, u'black_book': 11, u'white_tail': 11, u'gray_blanket': 11, u'black_blue': 11, u'white_glass': 11, u'_pocket': 11, u'metal_bar': 11, u'silver_metal': 11, u'brown_ground': 11, u'light_pole': 11, u'red_book': 10, u'_banana': 10, u'gray_jacket': 10, u'brown_tile': 10, u'blue_button': 10, u'black_top': 10, u'white_laptop': 10, u'brown_cabinet': 10, u'brown_giraffe': 10, u'_slice': 10, u'white_object': 10, u'red_window': 10, u'green_dark': 10, u'brown_tree': 10, u'small_round': 10, u'blue_bag': 10, u'<_>': 10, u'black_eye': 10, u'brown_board': 10, u'black_arm': 10, u'red_shoe': 10, u'green_box': 10, u'red_girl': 10, u'_house': 10, u'small_bush': 10, u'yellow_blue': 10, u'black_clock': 10, u'green_chair': 10, u'black_writing': 10, u'red_bird': 10, u'_group': 10, u'white_road': 10, u'blue_background': 10, u'wooden_pole': 9, u'white_arrow': 9, u'open_mouth': 9, u'_distance': 9, u'wooden_headboard': 9, u'green_patch': 9, u'blue_plate': 9, u'small_hill': 9, u'white_shower': 9, u'_bird': 9, u'large_wall': 9, u'blue_hair': 9, u'_button': 9, u'small_cat': 9, u'white_frosting': 9, u'_water': 9, u'black_rug': 9, u'wooden_bench': 9, u'small_object': 9, u'black_framed': 9, u'blue_pink': 9, u'long_tail': 9, u'teddy_nose': 9, u'black_microwave': 8, u'small_flower': 8, u'red_dress': 8, u'_tv': 8, u'long_man': 8, u'black_hand': 8, u'white_vent': 8, u'_fork': 8, u'long_neck': 8, u'green_background': 8, u'black_body': 8, u'green_woman': 8, u'black_bike': 8, u'large_piece': 8, u'black_scarf': 8, u'_bear': 8, u'dark_background': 8, u'black_suit': 8, u'red_phone': 8, u'black_carpet': 8, u'_book': 8, u'gray_sweater': 8, u'blonde_girl': 8, u'_child': 8, u'white_pattern': 8, u'red_ear': 8, u'blue_stripe': 8, u'black_sticker': 8, u'_photo': 8, u'white_boy': 7, u'yellow_tag': 7, u'small_child': 7, u'black_stove': 7, u'white_truck': 7, u'_crust': 7, u'_statue': 7, u'_front': 7, u'green_yellow': 7, u'_pattern': 7, u'white_bathroom': 7, u'wooden_board': 7, u'blue_top': 7, u'black_boy': 7, u'grey_floor': 7, u'_watch': 7, u'white_book': 7, u'yellow_woman': 7, u'brown_grass': 7, u'white_phone': 7, u'yellow_cat': 7, u'_yellow': 7, u'red_side': 7, u'black_toilet': 7, u'nose_girl': 7, u'red_object': 7, u'red_letter': 7, u'large_shirt': 7, u'white_teddy': 7, u'red_piece': 7, u'small_pillow': 7, u'wooden_frame': 7, u'_giraffe': 7, u'white_house': 7, u'black_sky': 7, u'white_ring': 7, u'white_circle': 7, u'black_camera': 7, u'black_side': 7, u'yellow_orange': 6, u'_legs': 6, u'green_tennis': 6, u'white_writing': 6, u'wooden_handle': 6, u'red_blue': 6, u'green_table': 6, u'blue_dog': 6, u'small_shelf': 6, u'black_mirror': 6, u'white_scarf': 6, u'red_floor': 6, u'black_knife': 6, u'red_necklace': 6, u'brown_ear': 6, u'white_arm': 6, u'nose_cat': 6, u'green_paper': 6, u'_plate': 6, u'large_pillow': 6, u'white_outlet': 6, u'white_couch': 6, u'hot_hand': 6, u'brown_headboard': 6, u'red_rope': 6, u'red_pole': 6, u'brown_brick': 6, u'blue_bed': 6, u'calm_water': 6, u'_drawer': 6, u'teddy_ear': 6, u'black_cow': 6, u'large_sign': 6, u'large_bear': 6, u'small_lamp': 6, u'black_plastic': 6, u'blue_metal': 6, u'green_metal': 5, u'white_flag': 5, u'red_yellow': 5, u'_pole': 5, u'nose_dog': 5, u'large_blue': 5, u'black_coffee': 5, u'mans_shirt': 5, u'blue_floor': 5, u'blue_window': 5, u'white_sleeve': 5, u'small_hole': 5, u'white_tree': 5, u'black_tire': 5, u'black_snow': 5, u'red_cake': 5, u'_cup': 5, u'green_door': 5, u'white_label': 5, u'brown_boy': 5, u'metal_door': 5, u'black_brown': 5, u'yellow_man': 5, u'large_picture': 5, u'small_towel': 5, u'clear_blue': 5, u'_dirt': 5, u'hot_dog': 5, u'green_person': 5, u'blue_umbrella': 5, u'long_brown': 5, u'green_bottle': 5, u'white_shelf': 5, u'white_seat': 5, u'_edge': 5, u'brown_hat': 5, u'_board': 5, u'small_bear': 5, u'green_man': 5, u'_cake': 5, u'brown_crust': 5, u'tree_': 5, u'light_switch': 5, u'white_train': 5, u'_zebra': 5, u'white_apple': 5, u'yellow_umbrella': 5, u'small_car': 5, u'red_vase': 5, u'yellow_pillow': 5, u'black_object': 5, u'green_part': 5, u'light_sky': 5, u'_side': 5, u'white_banana': 5, u'blue_cat': 5, u'red_tag': 5, u'red_napkin': 5, u'black_vase': 5, u'blue_hat': 5, u'red_back': 5, u'white_sticker': 5, u'_tile': 5, u'_bush': 5, u'black_bed': 5, u'long_horse': 5, u'black_sleeve': 5, u'white_kitchen': 5, u'light_side': 5, u'_shower': 5, u'brown_head': 5, u'large_bag': 5, u'_jacket': 4, u'green_hat': 4, u'dark_wall': 4, u'grey_concrete': 4, u'red_cell': 4, u'black_bottle': 4, u'red_handle': 4, u'brown_paper': 4, u'black_logo': 4, u'white_edge': 4, u'pink_blanket': 4, u'blue_girl': 4, u'dark_water': 4, u'black_napkin': 4, u'large_metal': 4, u'red_pattern': 4, u'brown_rock': 4, u'blue_carpet': 4, u'white_keyboard': 4, u'_pile': 4, u'red_boy': 4, u'brown_strap': 4, u'pink_pink': 4, u'white_ocean': 4, u'brown_coat': 4, u'brown_collar': 4, u'_phone': 4, u'gray_couch': 4, u'green_floor': 4, u'tall_building': 4, u'black_neck': 4, u'brown_box': 4, u'green_plastic': 4, u'_trunk': 4, u'pink_umbrella': 4, u'blue_door': 4, u'white_tank': 4, u'blue_tile': 4, u'light_fixture': 4, u'dark_grey': 4, u'table_blue': 4, u'_toilet': 4, u'wooden_wall': 4, u'_stone': 4, u'blue_piece': 4, u'large_umbrella': 4, u'blue_couch': 4, u'brown_mane': 4, u'black_speaker': 4, u'white_rug': 4, u'green_design': 4, u'light_cat': 4, u'gray_cat': 4, u'striped_woman': 4, u'_round': 4, u'red_spot': 4, u'small_shirt': 4, u'red_horse': 4, u'red_strap': 4, u'red_frosting': 4, u'light_background': 4, u'green_cat': 4, u'pink_baby': 4, u'white_computer': 4, u'wooden_post': 4, u'yellow_grass': 4, u'white_bottom': 4, u'striped_man': 4, u'black_rope': 4, u'white_stone': 4, u'brown_arm': 4, u'brown_towel': 4, u'clear_plastic': 4, u'white_drawer': 4, u'black_tag': 4, u'small_house': 4, u'purple_vase': 4, u'yellow_light': 4, u'large_flower': 4, u'white_rope': 4, u'black_mouse': 4, u'black_oven': 4, u'red_bottle': 4, u'black_cabinet': 4, u'black_wrist': 4, u'blue_body': 4, u'white_leg': 4, u'black_stripe': 4, u'_bunch': 4, u'green_umbrella': 4, u'black_tank': 4, u'black_wheel': 3, u'blurry_cat': 3, u'long_elephant': 3, u'brown_top': 3, u'yellow_door': 3, u'red_bear': 3, u'gray_floor': 3, u'black_remote': 3, u'black_motorcycle': 3, u'black_couch': 3, u'grey_road': 3, u'red_train': 3, u'little_girl': 3, u'red_kite': 3, u'blue_strap': 3, u'tall_tree': 3, u'light_hair': 3, u'large_chair': 3, u'white_frame': 3, u'brown_color': 3, u'small_suitcase': 3, u'black_helmet': 3, u'brown_orange': 3, u'short_girl': 3, u'decorative_design': 3, u'white_giraffe': 3, u'red_roof': 3, u'white_wedding': 3, u'green_hair': 3, u'white_bathtub': 3, u'green_plate': 3, u'blue_cloth': 3, u'white_van': 3, u'red_building': 3, u'white_baby': 3, u'yellow_piece': 3, u'white_paw': 3, u'black_computer': 3, u'black_belt': 3, u'large_bottle': 3, u'white_body': 3, u'black_flower': 3, u'teddy_woman': 3, u'black_wooden': 3, u'red_nose': 3, u'small_tv': 3, u'white_base': 3, u'long_shirt': 3, u'green_kite': 3, u'red_flag': 3, u'wooden_kitchen': 3, u'silver_watch': 3, u'_hill': 3, u'big_elephant': 3, u'_sidewalk': 3, u'black_frame': 3, u'blue_dress': 3, u'white_head': 3, u'small_book': 3, u'gray_pillow': 3, u'_apple': 3, u'young_man': 3, u'blue_back': 3, u'red_pair': 3, u'striped_blanket': 3, u'left_hand': 3, u'small_cabinet': 3, u'red_baseball': 3, u'black_cloth': 3, u'red_paint': 3, u'brown_wood': 3, u'orange_orange': 3, u'long_dog': 3, u'white_boat': 3, u'black_baseball': 3, u'yellow_tie': 3, u'small_rock': 3, u'teddy_hand': 3, u'_refrigerator': 3, u'blue_handle': 3, u'long_tree': 3, u'black_trash': 3, u'_umbrella': 3, u'_donut': 3, u'red_tail': 3, u'white_tv': 3, u'concrete_sidewalk': 3, u'green_top': 3, u'yellow_tree': 3, u'_wing': 3, u'black_circle': 3, u'white_cell': 3, u'cloudy_sky': 3, u'black_beard': 3, u'white_cheese': 3, u'black_roof': 3, u'gray_back': 3, u'small_boat': 3, u'striped_striped': 3, u'_street': 3, u'blue_car': 3, u'_camera': 3, u'_remote': 3, u'open_girl': 3, u'gray_tie': 3, u'white_roof': 3, u'yellow_paper': 3, u'black_bottom': 3, u'black_face': 3, u'black_mane': 3, u'facial_man': 3, u'small_nose': 3, u'wet_road': 3, u'small_green': 3, u'womans_shirt': 3, u'yellow_background': 3, u'yellow_hat': 3, u'red_bed': 3, u'black_backpack': 3, u'red_face': 3, u'brown_yellow': 3, u'green_water': 3, u'_beach': 3, u'yellow_apple': 3, u'_kitchen': 3, u'_bathroom': 3, u'white_switch': 2, u'small_bike': 2, u'gray_woman': 2, u'floral_woman': 2, u'large_hill': 2, u'small_cloud': 2, u'light_': 2, u'green_jacket': 2, u'_knife': 2, u'_grey': 2, u'<_screen': 2, u'tall_grass': 2, u'white_mirror': 2, u'white_porcelain': 2, u'<_picture': 2, u'white_sheep': 2, u'black_fireplace': 2, u'red_grass': 2, u'blue_seat': 2, u'red_hand': 2, u'_clock': 2, u'green_scarf': 2, u'black_ceiling': 2, u'green_tablecloth': 2, u'green_brown': 2, u'brown_pair': 2, u'dark_spot': 2, u'blue_eye': 2, u'gray_part': 2, u'white_fence': 2, u'large_dog': 2, u'long_blonde': 2, u'white_donut': 2, u'yellow_pink': 2, u'wooden_wooden': 2, u'black_fence': 2, u'large_mirror': 2, u'black_counter': 2, u'small_toilet': 2, u'yellow_bear': 2, u'_sky': 2, u'black_train': 2, u'yellow_blanket': 2, u'_finger': 2, u'_gold': 2, u'red_shelf': 2, u'white_mane': 2, u'brown_trunk': 2, u'_poster': 2, u'pink_table': 2, u'large_object': 2, u'orange_wall': 2, u'red_cup': 2, u'small_spot': 2, u'_display': 2, u'light_sun': 2, u'silver_sink': 2, u'small_background': 2, u'long_bush': 2, u'gray_concrete': 2, u'red_toy': 2, u'large_couch': 2, u'_ring': 2, u'green_piece': 2, u'gray_water': 2, u'long_giraffe': 2, u'black_kitchen': 2, u'pink_phone': 2, u'gray_roof': 2, u'black_shower': 2, u'_cabinet': 2, u'dark_fence': 2, u'large_plate': 2, u'_sink': 2, u'yellow_baby': 2, u'blue_toothbrush': 2, u'black_faucet': 2, u'_room': 2, u'brown_side': 2, u'wooden_window': 2, u'green_window': 2, u'black_animal': 2, u'red_boat': 2, u'brown_roof': 2, u'black_arrow': 2, u'green_book': 2, u'small_': 2, u'green_blue': 2, u'yellow_bottom': 2, u'black_fork': 2, u'small_glass': 2, u'large_glass': 2, u'_graffiti': 2, u'_fireplace': 2, u'blue_cake': 2, u'white_sauce': 2, u'_roll': 2, u'_trash': 2, u'blue_sweater': 2, u'blue_vase': 2, u'red_wine': 2, u'small_wave': 2, u'black_wire': 2, u'long_coat': 2, u'brown_handle': 2, u'blue_bird': 2, u'_basket': 2, u'green_bird': 2, u'large_clock': 2, u'left_ear': 2, u'green_banana': 2, u'black_cap': 2, u'silver_handle': 2, u'yellow_plate': 2, u'_microwave': 2, u'teddy_leg': 2, u'pink_girl': 2, u'green_vase': 2, u'large_animal': 2, u'right_leg': 2, u'white_screen': 2, u'wet_water': 2, u'red_writing': 2, u'brown_donut': 2, u'blue_letter': 2, u'black_paper': 2, u'black_rock': 2, u'short_boy': 2, u'orange_donut': 2, u'yellow_nose': 2, u'yellow_ear': 2, u'pink_tie': 2, u'brown_plate': 2, u'gray_rock': 2, u'small_mouth': 2, u'blue_plastic': 2, u'small_fence': 2, u'black_wii': 2, u'_wire': 2, u'small_giraffe': 2, u'metal_rack': 2, u'white_bus': 2, u'<_book': 2, u'long_wooden': 2, u'white_mouse': 2, u'green_side': 2, u'red_bowl': 2, u'many_building': 2, u'white_watch': 2, u'_wheel': 2, u'black_sweater': 2, u'wii_remote': 2, u'light_reflection': 2, u'_wrist': 2, u'white_tent': 2, u'red_metal': 2, u'large_truck': 2, u'large_grey': 2, u'black_knee': 2, u'_label': 2, u'blue_cup': 2, u'dead_tree': 2, u'brown_nose': 2, u'large_horse': 2, u'_dress': 2, u'silver_silver': 2, u'red_suitcase': 2, u'blue_frisbee': 2, u'_cow': 2, u'teddy_mouth': 2, u'long_line': 2, u'yellow_table': 2, u'yellow_toy': 2, u'wooden_part': 2, u'blue_flower': 2, u'wii_man': 2, u'gray_stone': 2, u'green_stem': 2, u'light_floor': 2, u'yellow_pole': 2, u'large_elephant': 2, u'large_blanket': 2, u'small_handle': 2, u'red_teddy': 2, u'blue_pole': 2, u'yellow_stripe': 2, u'little_bear': 2, u'dark_floor': 2, u'snow_mountain': 2, u'red_plastic': 2, u'light_top': 2, u'white_>': 2, u'red_clock': 2, u'large_mountain': 2, u'white_chain': 2, u'pink_flower': 2, u'white_tablecloth': 2, u'silver_laptop': 2, u'white_baseball': 2, u'_train': 2, u'remote_control': 2, u'large_screen': 2, u'black_ring': 2, u'_concrete': 2, u'_couch': 2, u'womans_hair': 2, u'small_bag': 2, u'young_woman': 2, u'purple_flower': 2, u'white_skateboard': 2, u'colorful_pillow': 2, u'pink_curtain': 2, u'gray_gray': 2, u'blue_suitcase': 2, u'_zebras': 2, u'yellow_curtain': 2, u'white_frisbee': 2, u'yellow_stuffed': 2, u'white_wire': 2, u'white_photo': 2, u'red_photo': 2, u'_leaf': 2, u'brown_leg': 2, u'red_color': 2, u'snow_tree': 2, u'gray_metal': 2, u'light_wooden': 2, u'small_phone': 2, u'_computer': 2, u'small_horse': 2, u'red_pizza': 2, u'red_head': 2, u'gray_stripe': 2, u'teddy_man': 2, u'large_door': 1, u'large_wheel': 1, u'green_orange': 1, u'black_dish': 1, u'_grill': 1, u'white_headboard': 1, u'dark_bird': 1, u'_windshield': 1, u'white_fan': 1, u'top_light': 1, u'_field': 1, u'black_key': 1, u'black_glass': 1, u'mans_hair': 1, u'black_edge': 1, u'yellow_jacket': 1, u'long_leaf': 1, u'plastic_bottle': 1, u'black_bedroom': 1, u'light_post': 1, u'white_oven': 1, u'red_bus': 1, u'striped_baby': 1, u'red_fur': 1, u'blue_logo': 1, u'wii_hand': 1, u'_wii': 1, u'bare_': 1, u'black_shelf': 1, u'gray_towel': 1, u'green_grassy': 1, u'green_toilet': 1, u'yellow_bed': 1, u'green_pole': 1, u'light_chair': 1, u'white_stack': 1, u'small_apple': 1, u'long_person': 1, u'wooden_bed': 1, u'red_band': 1, u'dark_table': 1, u'brown_water': 1, u'white_trash': 1, u'_seat': 1, u'black_banana': 1, u'white_plane': 1, u'white_plant': 1, u'wooden_beam': 1, u'black_glove': 1, u'yellow_label': 1, u'small_grass': 1, u'large_tv': 1, u'white_eye': 1, u'blonde_man': 1, u'white_rock': 1, u'_luggage': 1, u'dark_person': 1, u'tall_wooden': 1, u'green_apple': 1, u'black_skateboard': 1, u'_cloth': 1, u'black_surfboard': 1, u'green_rope': 1, u'white_icing': 1, u'yellow_surfboard': 1, u'<_part': 1, u'yellow_toothbrush': 1, u'long_trunk': 1, u'large_bush': 1, u'yellow_plastic': 1, u'large_round': 1, u'_road': 1, u'white_bicycle': 1, u'_bridge': 1, u'black_kite': 1, u'grey_shirt': 1, u'light_color': 1, u'_set': 1, u'brown_leaf': 1, u'wooden_wood': 1, u'white_board': 1, u'small_toothbrush': 1, u'small_bottle': 1, u'_horse': 1, u'top_': 1, u'green_ear': 1, u'large_fence': 1, u'_salad': 1, u'yellow_bowl': 1, u'wooden_railing': 1, u'black_round': 1, u'light_wood': 1, u'paved_road': 1, u'brown_person': 1, u'yellow_fire': 1, u'small_ring': 1, u'large_fireplace': 1, u'brown_cake': 1, u'_rope': 1, u'white_poster': 1, u'teddy_paw': 1, u'red_laptop': 1, u'metal_pole': 1, u'_ramp': 1, u'_paper': 1, u'light_bed': 1, u'red_sleeve': 1, u'_shoe': 1, u'small_hand': 1, u'round_orange': 1, u'red_fridge': 1, u'white_grey': 1, u'brown_sand': 1, u'small_truck': 1, u'red_couch': 1, u'yellow_handle': 1, u'large_table': 1, u'white_kite': 1, u'_hanging': 1, u'blue_donut': 1, u'nose_giraffe': 1, u'green_bed': 1, u'white_bike': 1, u'black_wood': 1, u'gray_wall': 1, u'black_pot': 1, u'yellow_frisbee': 1, u'red_truck': 1, u'small_fireplace': 1, u'green_carpet': 1, u'_soap': 1, u'blonde_child': 1, u'blue_toilet': 1, u'pink_pillow': 1, u'red_sweater': 1, u'black_toy': 1, u'_fur': 1, u'black_sidewalk': 1, u'brown_sweater': 1, u'open_umbrella': 1, u'_ceiling': 1, u'white_tire': 1, u'yellow_logo': 1, u'red_glass': 1, u'black_label': 1, u'blue_>': 1, u'white_paint': 1, u'pink_hand': 1, u'nose_boy': 1, u'green_pile': 1, u'yellow_tank': 1, u'black_pipe': 1, u'pink_button': 1, u'_circle': 1, u'small_refrigerator': 1, u'_plaid': 1, u'large_photo': 1, u'white_stove': 1, u'brown_rope': 1, u'red_helmet': 1, u'long_mane': 1, u'brown_shoe': 1, u'brown_window': 1, u'_fruit': 1, u'large_stone': 1, u'black_shadow': 1, u'black_spoon': 1, u'white_ball': 1, u'_wave': 1, u'red_knife': 1, u'large_cat': 1, u'yellow_traffic': 1, u'yellow_bottle': 1, u'green_fence': 1, u'yellow_towel': 1, u'wii_woman': 1, u'green_edge': 1, u'white_counter': 1, u'dark_suitcase': 1, u'pink_': 1, u'mans_jacket': 1, u'white_elephant': 1, u'brown_rug': 1, u'red_ring': 1, u'wooden_fireplace': 1, u'blue_tarp': 1, u'_branch': 1, u'empty_wine': 1, u'blue_design': 1, u'gray_elephant': 1, u'yellow_glass': 1, u'_bus': 1, u'tall_bush': 1, u'black_headboard': 1, u'rear_view': 1, u'red_cone': 1, u'green_dog': 1, u'gray_tile': 1, u'red_candle': 1, u'white_bread': 1, u'blue_street': 1, u'white_zebra': 1, u'_sand': 1, u'_scene': 1, u'green_napkin': 1, u'pink_dress': 1, u'small_board': 1, u'yellow_button': 1, u'_ball': 1, u'small_plane': 1, u'small_plant': 1, u'large_kite': 1, u'red_pot': 1, u'black_chain': 1, u'dark_light': 1, u'red_counter': 1, u'yellow_design': 1, u'white_beard': 1, u'small_cake': 1, u'blue_edge': 1, u'grassy_area': 1, u'brown_vase': 1, u'blue_box': 1, u'blue_boy': 1, u'brown_cloth': 1, u'yellow_sweater': 1, u'large_floor': 1, u'_balcony': 1, u'red_arm': 1, u'silver_knife': 1, u'white_leaf': 1, u'long_banana': 1, u'blue_yellow': 1, u'black_sheet': 1, u'white_clouds': 1, u'white_apron': 1, u'teddy_book': 1, u'white_sweater': 1, u'_flag': 1, u'yellow_': 1, u'small_sticker': 1, u'small_fan': 1, u'gray_blue': 1, u'black_flag': 1, u'red_animal': 1, u'red_bike': 1, u'_bowl': 1, u'red_chain': 1, u'womans_tank': 1, u'red_fork': 1, u'yellow_tennis': 1, u'black_desk': 1, u'black_tshirt': 1, u'dark_mountain': 1, u'light_car': 1, u'black_purse': 1, u'green_screen': 1, u'red_line': 1, u'_tan': 1, u'bare_tree': 1, u'brown_jacket': 1, u'large_leaf': 1, u'_spoon': 1, u'red_surfboard': 1, u'white_coffee': 1, u'tall_metal': 1, u'large_cloth': 1, u'parked_car': 1, u'pink_fur': 1, u'large_snow': 1, u'mans_shoe': 1, u'blue_shelf': 1, u'red_cord': 1, u'green_bowl': 1, u'brown_bed': 1, u'small_stone': 1, u'brown_back': 1, u'blue_flag': 1, u'orange_skin': 1, u'white_wine': 1, u'large_design': 1, u'red_silver': 1, u'white_column': 1, u'dark_cat': 1, u'dark_dark': 1, u'green_photo': 1, u'next_giraffe': 1, u'yellow_vase': 1, u'small_bench': 1, u'small_rug': 1, u'small_orange': 1, u'yellow_paint': 1, u'large_cow': 1, u'light_headboard': 1, u'blue_ear': 1, u'red_shower': 1, u'red_lamp': 1, u'black_skis': 1, u'brown_drawer': 1, u'gray_head': 1, u'white_pillar': 1, u'white_foam': 1, u'red_poster': 1, u'<_logo': 1, u'yellow_brown': 1, u'silver_mirror': 1, u'_cloudy': 1, u'brown_dress': 1, u'small_metal': 1, u'small_cloth': 1, u'green_toy': 1, u'metal_vent': 1, u'white_carpet': 1, u'teddy_girl': 1, u'brown_suitcase': 1, u'green_button': 1, u'large_group': 1, u'hot_man': 1, u'large_plant': 1, u'silver_bracelet': 1, u'large_plane': 1, u'long_grass': 1, u'green_tag': 1, u'_wine': 1, u'yellow_dog': 1, u'blue_neck': 1, u'brick_brick': 1, u'sheep_standing': 1, u'pink_cake': 1, u'red_stripe': 1, u'small_blue': 1, u'green_microwave': 1, u'large_orange': 1, u'colorful_kite': 1, u'white_basket': 1, u'yellow_shoe': 1, u'long_cord': 1, u'grey_sky': 1, u'black_leg': 1, u'_helmet': 1, u'small_clock': 1, u'small_paper': 1, u'green_horse': 1, u'yellow_sauce': 1, u'long_floor': 1, u'black_skirt': 1, u'white_sand': 1, u'white_tshirt': 1, u'red_tomato': 1, u'gray_': 1, u'brown_shower': 1, u'red_mouth': 1, u'white_gold': 1, u'small_cart': 1, u'_bedroom': 1, u'yellow_girl': 1, u'large_body': 1, u'green_logo': 1, u'yellow_box': 1, u'open_wall': 1, u'black_bus': 1, u'teddy_pink': 1, u'large_board': 1, u'black_tree': 1, u'black_clouds': 1, u'white_word': 1, u'dark_door': 1, u'black_number': 1, u'_baseball': 1, u'large_bird': 1, u'red_wheel': 1, u'small_toy': 1, u'small_top': 1, u'white_coat': 1, u'small_mirror': 1, u'black_tablecloth': 1, u'small_water': 1, u'white_thumb': 1, u'white_<': 1, u'_stem': 1, u'black_ground': 1, u'large_bus': 1, u'blue_bottle': 1, u'small_pole': 1, u'red_skis': 1, u'large_ornate': 1, u'large_curtain': 1, u'green_field': 1, u'_faucet': 1, u'_store': 1, u'wooden_leg': 1, u'long_wall': 1, u'small_microwave': 1, u'brown_hand': 1, u'red_frisbee': 1, u'brown_tag': 1, u'large_spot': 1, u'long_bird': 1, u'light_ground': 1, u'_tennis': 1, u'womans_ear': 1, u'small_television': 1, u'red_field': 1, u'brown_bowl': 1, u'pink_toothbrush': 1, u'green_hand': 1, u'large_wooden': 1, u'yellow_cabinet': 1, u'gray_person': 1, u'white_speaker': 1, u'brown_frame': 1, u'toilet_paper': 1, u'small_eye': 1, u'concrete_floor': 1, u'blurry_view': 1, u'remote_button': 1, u'red_edge': 1, u'floral_cake': 1, u'green_snow': 1, u'green_suitcase': 1, u'green_shoe': 1, u'large_gray': 1, u'brown_bottom': 1, u'yellow_donut': 1, u'_painting': 1, u'red_trash': 1, u'red_baby': 1, u'<_face': 1, u'wooden_room': 1, u'tall_street': 1, u'back_wheel': 1, u'gray_hair': 1, u'yellow_cake': 1, u'blurry_picture': 1, u'wooden_background': 1, u'_sheep': 1, u'white_helmet': 1, u'small_wheel': 1, u'red_button': 1, u'red_ball': 1, u'brown_basket': 1, u'small_leaf': 1, u'small_stove': 1, u'yellow_cup': 1, u'small_floor': 1, u'green_label': 1, u'red_ground': 1, u'white_motorcycle': 1, u'yellow_yellow': 1, u'white_skin': 1, u'red_coat': 1, u'yellow_chair': 1, u'black_line': 1, u'small_yellow': 1, u'green_shower': 1, u'white_brick': 1, u'black_baby': 1, u'_purple': 1, u'teddy_collar': 1, u'light_tree': 1, u'green_lettuce': 1, u'small_button': 1})\n"
     ]
    }
   ],
   "source": [
    "print Selfie_AdjNoun_counts"
   ]
  },
  {
   "cell_type": "code",
   "execution_count": 17,
   "metadata": {
    "collapsed": false
   },
   "outputs": [
    {
     "name": "stdout",
     "output_type": "stream",
     "text": [
      "Counter({u'_man': 5517, u'white_sky': 4698, u'white_wall': 3730, u'_woman': 2041, u'black_man': 1691, u'white_shirt': 1587, u'black_shirt': 1584, u'_word': 1432, u'brown_hair': 1278, u'_nose': 1184, u'_hand': 1055, u'_hair': 1042, u'white_blue': 891, u'_ear': 854, u'_eye': 755, u'short_man': 755, u'_person': 741, u'_wall': 714, u'black_background': 688, u'_window': 686, u'white_man': 661, u'black_hair': 607, u'_mouth': 553, u'black_woman': 539, u'_light': 534, u'white_sign': 497, u'white_door': 476, u'_head': 454, u'red_shirt': 425, u'white_woman': 423, u'_arm': 410, u'_picture': 401, u'blue_shirt': 389, u'_part': 381, u'white_line': 347, u'_tree': 339, u'clear_sky': 338, u'black_cat': 336, u'black_wall': 334, u'black_photo': 332, u'black_bag': 307, u'red_sign': 306, u'_shadow': 296, u'white_window': 291, u'black_person': 287, u'white_paper': 277, u'white_towel': 275, u'white_table': 274, u'white_curtain': 270, u'white_letter': 265, u'white_plate': 257, u'red_man': 247, u'black_sign': 236, u'white_background': 235, u'_sign': 229, u'long_woman': 227, u'white_pink': 225, u'green_tree': 220, u'_leg': 215, u'_silver': 213, u'white_snow': 210, u'_pink': 203, u'black_jacket': 198, u'_face': 196, u'white_light': 185, u'green_shirt': 183, u'white_pillow': 180, u'red_woman': 179, u'brown_wooden': 167, u'black_metal': 167, u'_reflection': 164, u'black_strap': 164, u'blurry_background': 155, u'white_tile': 154, u'white_person': 152, u'red_wall': 150, u'white_part': 146, u'blue_sky': 144, u'white_ceiling': 143, u'brown_woman': 142, u'dark_man': 141, u'green_grass': 141, u'white_plastic': 141, u'black_table': 137, u'white_car': 133, u'_piece': 131, u'_metal': 131, u'_blue': 131, u'black_hat': 131, u'brown_wall': 130, u'black_door': 122, u'_sun': 122, u'black_shoe': 120, u'_girl': 116, u'white_box': 115, u'green_wall': 115, u'red_background': 115, u'black_tie': 115, u'_background': 115, u'black_part': 113, u'black_chair': 112, u'white_bag': 112, u'_wooden': 109, u'white_cat': 108, u'black_': 107, u'_table': 106, u'black_handle': 105, u'_boy': 102, u'black_dog': 101, u'_floor': 101, u'white_napkin': 99, u'black_back': 99, u'_car': 98, '_': 96, u'red_person': 96, u'white_toilet': 95, u'black_picture': 95, u'black_car': 95, u'brown_man': 94, u'white_chair': 90, u'brown_chair': 90, u'white_spot': 84, u'_letter': 83, u'white_brown': 83, u'white_bird': 83, u'black_pair': 82, u'red_curtain': 81, u'red_hat': 79, u'_blurry': 79, u'white_building': 79, u'green_leaf': 77, u'_thumb': 76, u'brown_floor': 75, u'white_tie': 75, u'_collar': 75, u'white_': 74, u'white_hair': 73, u'black_leather': 72, u'red_tie': 72, u'short_woman': 72, u'_back': 71, u'brown_door': 71, u'dark_sky': 70, u'_number': 70, u'red_flower': 69, u'red_bag': 69, u'red_': 66, u'right_hand': 63, u'green_man': 63, u'blue_man': 63, u'_pair': 61, u'white_cabinet': 61, u'black_yellow': 61, u'_bottle': 61, u'light_wall': 60, u'_building': 60, u'wooden_door': 60, u'red_brick': 59, u'black_curtain': 59, u'black_spot': 58, u'black_coat': 58, u'small_wall': 58, u'small_piece': 58, u'brown_spot': 57, u'green_plant': 57, u'white_flower': 56, u'white_pair': 56, u'black_tv': 56, u'white_dress': 56, u'_shelf': 55, u'red_light': 55, u'white_handle': 55, u'white_button': 54, u'white_lamp': 54, u'_brown': 54, u'large_window': 54, u'blonde_hair': 52, u'_glass': 52, u'white_design': 51, u'large_tree': 50, u'_fence': 50, u'blue_pair': 49, u'dark_brown': 48, u'dark_hair': 48, u'yellow_shirt': 48, u'white_dog': 47, u'wooden_chair': 46, u'_dark': 46, u'dark_woman': 46, u'_game': 46, u'white_blanket': 45, u'black_bird': 45, u'_group': 45, u'_brick': 45, u'red_towel': 44, u'_door': 44, u'red_pillow': 43, u'red_umbrella': 43, u'black_tile': 43, u'red_bottle': 43, u'blue_tie': 42, u'black_dress': 42, u'yellow_banana': 42, u'white_floor': 42, u'_chair': 42, u'white_metal': 42, u'green_sign': 42, u'_dog': 42, u'black_ear': 42, u'red_table': 42, u'light_ceiling': 41, u'light_blue': 40, u'blue_sign': 40, u'white_piece': 40, u'white_sink': 40, u'red_chair': 40, u'white_shoe': 39, u'black_umbrella': 39, u'black_bear': 39, u'short_hair': 39, u'white_cloud': 38, u'white_refrigerator': 38, u'green_': 37, u'_top': 37, u'_ground': 37, u'white_toothbrush': 37, u'large_building': 37, u'red_window': 36, u'black_nose': 36, u'wooden_fence': 36, u'_screen': 36, u'small_table': 36, u'black_pillow': 35, u'white_bottle': 35, u'_plant': 35, u'white_sheet': 34, u'tree_trunk': 34, u'red_apple': 34, u'white_hat': 34, u'blue_wall': 34, u'_photo': 34, u'_box': 33, u'green_woman': 33, u'red_jacket': 33, u'dark_blue': 33, u'white_cord': 33, u'black_laptop': 33, u'black_lamp': 33, u'right_arm': 33, u'_neck': 33, u'black_necklace': 33, u'_lamp': 32, u'_tv': 32, u'white_microwave': 32, u'black_pole': 32, u'white_shelf': 32, u'black_sky': 32, u'red_car': 31, u'_handle': 31, u'_mirror': 31, u'black_toothbrush': 31, u'wooden_cabinet': 31, u'_design': 31, u'_snow': 31, u'small_plate': 31, u'yellow_bag': 30, u'_flower': 30, u'brown_table': 30, u'blonde_woman': 30, u'small_brown': 30, u'clear_glass': 29, u'white_back': 29, u'white_cup': 29, u'_ceiling': 29, u'_shirt': 29, u'white_fur': 29, u'gray_shirt': 29, u'red_cup': 28, u'brown_': 28, u'white_vase': 28, u'white_umbrella': 28, u'_stone': 28, u'black_piece': 28, u'black_letter': 28, u'green_bag': 27, u'_vase': 27, u'black_keyboard': 27, u'large_rock': 27, u'black_silver': 27, u'white_tennis': 27, u'wooden_shelf': 27, u'black_cord': 27, u'open_': 27, u'red_blanket': 27, u'young_boy': 27, u'_row': 27, u'open_window': 26, u'brown_shirt': 26, u'_tail': 26, u'large_background': 26, u'brown_leather': 26, u'green_ground': 26, u'large_brown': 25, u'white_laptop': 25, u'red_plate': 25, u'black_fur': 25, u'red_sauce': 25, u'red_box': 24, u'_necklace': 24, u'red_toothbrush': 24, u'open_door': 24, u'black_towel': 24, u'_curtain': 24, u'pink_shirt': 24, u'black_plate': 23, u'_room': 23, u'black_design': 23, u'_stack': 23, u'silver_door': 23, u'small_box': 23, u'yellow_wall': 23, u'_pillow': 23, u'_patch': 22, u'black_phone': 22, u'_sidewalk': 22, u'white_wii': 22, u'wooden_table': 22, u'_cat': 22, u'red_vase': 22, u'blue_water': 22, u'small_patch': 21, u'_baby': 21, u'small_window': 21, u'blue_': 21, u'_water': 21, u'white_hand': 21, u'brown_ground': 21, u'white_pole': 21, u'blue_blanket': 20, u'red_tree': 20, u'large_wall': 20, u'red_door': 20, u'black_floor': 20, u'white_girl': 20, u'yellow_sign': 20, u'_legs': 19, u'_front': 19, u'small_bird': 19, u'black_computer': 19, u'open_man': 19, u'clear_water': 19, u'white_orange': 19, u'_street': 19, u'floral_pattern': 19, u'white_logo': 19, u'white_collar': 18, u'white_picture': 18, u'_body': 18, u'green_pink': 18, u'right_ear': 18, u'_grass': 18, u'white_wooden': 18, u'white_yellow': 18, u'striped_man': 18, u'long_hair': 18, u'wooden_floor': 18, u'black_camera': 18, u'red_dress': 17, u'red_logo': 17, u'white_fence': 17, u'white_bowl': 17, u'long_man': 17, u'red_sticker': 17, u'brown_bear': 17, u'small_shelf': 17, u'white_horse': 17, u'_trunk': 17, u'black_blanket': 17, u'striped_shirt': 17, u'white_ear': 17, u'white_coffee': 17, u'green_light': 17, u'white_bathroom': 17, u'large_sign': 17, u'green_person': 17, u'teddy_bear': 17, u'_tie': 16, u'white_cake': 16, u'brown_cabinet': 16, u'black_button': 16, u'dark_water': 16, u'yellow_line': 16, u'blue_part': 16, u'_book': 16, u'_bottom': 16, u'yellow_blue': 16, u'silver_metal': 16, u'small_door': 15, u'black_bottle': 15, u'_pole': 15, u'brown_piece': 15, u'black_coffee': 15, u'black_light': 15, u'gray_man': 15, u'light_fixture': 15, u'white_water': 15, u'green_bottle': 15, u'brown_tree': 15, u'dark_background': 15, u'brown_pillow': 15, u'brown_dirt': 15, u'red_hair': 15, u'small_bush': 15, u'white_kitchen': 15, u'small_child': 14, u'blue_jacket': 14, u'black_shelf': 14, u'brown_fence': 14, u'_keyboard': 14, u'little_girl': 14, u'black_snow': 14, u'red_building': 14, u'yellow_plate': 14, u'light_window': 14, u'_crowd': 14, u'_side': 14, u'small_chair': 14, u'small_object': 14, u'white_house': 14, u'small_dog': 14, u'white_frisbee': 14, u'light_pole': 14, u'long_sleeve': 14, u'_orange': 13, u'white_bear': 13, u'_bench': 13, u'black_boy': 13, u'_logo': 13, u'_bird': 13, u'black_bike': 13, u'black_window': 13, u'red_piece': 13, u'green_dark': 13, u'green_toothbrush': 13, u'black_collar': 13, u'black_tail': 13, u'white_necklace': 13, u'white_road': 13, u'dark_wall': 12, u'red_design': 12, u'white_side': 12, u'black_suitcase': 12, u'_poster': 12, u'black_helmet': 12, u'white_shower': 12, u'small_sign': 12, u'blue_pillow': 12, u'light_brown': 12, u'white_top': 12, u'green_plate': 12, u'black_box': 12, u'_graffiti': 12, u'black_scarf': 12, u'white_bed': 12, u'_slice': 12, u'small_tree': 12, u'blue_curtain': 12, u'red_collar': 12, u'blue_chair': 12, u'cloudy_sky': 12, u'young_girl': 12, u'_hat': 12, u'black_wrist': 12, u'_towel': 12, u'black_microwave': 11, u'green_jacket': 11, u'black_stove': 11, u'_couch': 11, u'_roof': 11, u'yellow_man': 11, u'small_wooden': 11, u'red_flag': 11, u'red_wine': 11, u'black_head': 11, u'red_tile': 11, u'green_background': 11, u'red_paint': 11, u'red_girl': 11, u'brown_carpet': 11, u'white_glass': 11, u'white_strap': 11, u'red_plastic': 11, u'pink_hair': 11, u'green_bush': 11, u'_kitchen': 11, u'white_wrist': 11, u'red_bird': 11, u'black_oven': 11, u'large_door': 10, u'_rock': 10, u'white_face': 10, u'wooden_headboard': 10, u'green_curtain': 10, u'red_tennis': 10, u'red_part': 10, u'long_girl': 10, u'large_glass': 10, u'large_picture': 10, u'white_book': 10, u'small_ear': 10, u'young_man': 10, u'brown_tile': 10, u'small_car': 10, u'small_umbrella': 10, u'blue_person': 10, u'small_metal': 10, u'red_paper': 10, u'black_blue': 10, u'black_object': 10, u'_mountain': 10, u'white_roof': 10, u'calm_water': 10, u'black_cow': 10, u'red_scarf': 10, u'yellow_hat': 10, u'black_pattern': 10, u'white_neck': 10, u'red_label': 10, u'blue_background': 10, u'white_switch': 9, u'white_plane': 9, u'red_shelf': 9, u'_vent': 9, u'black_hand': 9, u'black_tire': 9, u'red_boy': 9, u'tall_building': 9, u'white_clock': 9, u'small_building': 9, u'red_picture': 9, u'white_screen': 9, u'_yellow': 9, u'gray_rock': 9, u'blue_plastic': 9, u'brown_part': 9, u'_video': 9, u'striped_woman': 9, u'light_reflection': 9, u'dark_dark': 9, u'red_lamp': 9, u'red_shoe': 9, u'black_horse': 9, u'white_teddy': 9, u'_house': 9, u'brown_girl': 9, u'black_watch': 9, u'small_lamp': 9, u'laptop_computer': 9, u'large_bag': 9, u'white_jacket': 9, u'white_flag': 8, u'red_book': 8, u'red_fire': 8, u'red_cat': 8, u'open_mouth': 8, u'red_rug': 8, u'black_logo': 8, u'_seat': 8, u'blue_screen': 8, u'blue_woman': 8, u'blue_table': 8, u'_sky': 8, u'_laptop': 8, u'brown_horse': 8, u'black_knife': 8, u'white_paint': 8, u'light_table': 8, u'_plaid': 8, u'_plate': 8, u'white_counter': 8, u'_cake': 8, u'red_tablecloth': 8, u'white_cloth': 8, u'_bed': 8, u'<_>': 8, u'_button': 8, u'concrete_sidewalk': 8, u'white_container': 8, u'_chain': 8, u'black_tennis': 8, u'black_roof': 8, u'white_bottom': 8, u'black_vase': 8, u'white_circle': 8, u'light_side': 8, u'grey_ground': 8, u'black_cabinet': 8, u'red_cloth': 8, u'white_boy': 7, u'wooden_pole': 7, u'black_couch': 7, u'red_yellow': 7, u'green_tennis': 7, u'white_donut': 7, u'green_patch': 7, u'large_bush': 7, u'large_object': 7, u'_pile': 7, u'pink_pink': 7, u'_cup': 7, u'black_flower': 7, u'white_vent': 7, u'_toilet': 7, u'yellow_woman': 7, u'_scene': 7, u'short_boy': 7, u'large_umbrella': 7, u'black_speaker': 7, u'white_ground': 7, u'black_suit': 7, u'brown_jacket': 7, u'small_cat': 7, u'red_object': 7, u'red_pole': 7, u'_wine': 7, u'blonde_girl': 7, u'_plane': 7, u'small_boat': 7, u'_pocket': 7, u'white_pattern': 7, u'large_screen': 7, u'white_stone': 7, u'metal_bar': 7, u'white_sticker': 7, u'red_ear': 7, u'black_clock': 7, u'_tennis': 7, u'brown_light': 7, u'large_metal': 7, u'green_chair': 7, u'brown_curtain': 7, u'white_helmet': 7, u'black_sticker': 7, u'red_photo': 7, u'green_water': 7, u'_blanket': 6, u'_windshield': 6, u'light_': 6, u'_wii': 6, u'_strap': 6, u'_city': 6, u'black_screen': 6, u'blue_trash': 6, u'red_kite': 6, u'white_writing': 6, u'large_blue': 6, u'white_frame': 6, u'blue_plate': 6, u'blue_towel': 6, u'wine_glass': 6, u'_phone': 6, u'green_tie': 6, u'white_label': 6, u'brown_roof': 6, u'brown_dog': 6, u'brown_boy': 6, u'brown_bag': 6, u'next_': 6, u'_watch': 6, u'black_wire': 6, u'black_wii': 6, u'_bus': 6, u'brown_headboard': 6, u'_bear': 6, u'black_shower': 6, u'white_bus': 6, u'black_toilet': 6, u'black_baseball': 6, u'black_desk': 6, u'blue_light': 6, u'brown_fur': 6, u'light_switch': 6, u'black_seat': 6, u'black_sink': 6, u'gray_stone': 6, u'black_leg': 6, u'red_carpet': 6, u'white_computer': 6, u'_child': 6, u'wooden_bench': 6, u'red_back': 6, u'small_bag': 6, u'blue_yellow': 6, u'white_ring': 6, u'large_flower': 6, u'yellow_curtain': 6, u'small_vase': 6, u'white_photo': 6, u'_knife': 5, u'small_flower': 5, u'green_hat': 5, u'red_handle': 5, u'nose_woman': 5, u'red_train': 5, u'tall_tree': 5, u'black_skateboard': 5, u'white_keyboard': 5, u'_display': 5, u'bright_light': 5, u'light_sun': 5, u'green_yellow': 5, u'_fork': 5, u'red_cake': 5, u'_plastic': 5, u'_base': 5, u'wet_ground': 5, u'black_animal': 5, u'black_neck': 5, u'black_girl': 5, u'white_tank': 5, u'white_stove': 5, u'dark_grey': 5, u'wooden_kitchen': 5, u'_rug': 5, u'metal_pole': 5, u'red_dog': 5, u'wet_water': 5, u'small_cup': 5, u'small_round': 5, u'metal_rack': 5, u'blue_bag': 5, u'small_rock': 5, u'black_tshirt': 5, u'large_snow': 5, u'black_trash': 5, u'brown_crust': 5, u'_cell': 5, u'red_metal': 5, u'red_spot': 5, u'_donut': 5, u'white_train': 5, u'small_shirt': 5, u'red_suitcase': 5, u'white_tail': 5, u'large_cloud': 5, u'green_box': 5, u'large_shirt': 5, u'red_tomato': 5, u'yellow_box': 5, u'brown_brick': 5, u'green_part': 5, u'white_frosting': 5, u'tree_': 5, u'blue_car': 5, u'_camera': 5, u'white_baseball': 5, u'_drawer': 5, u'mans_shirt': 5, u'brown_neck': 5, u'yellow_background': 5, u'black_bed': 5, u'small_house': 5, u'green_laptop': 5, u'black_plastic': 5, u'black_writing': 5, u'green_towel': 5, u'white_leg': 5, u'_bathroom': 5, u'teddy_arm': 5, u'black_wheel': 4, u'small_light': 4, u'yellow_orange': 4, u'open_woman': 4, u'_chocolate': 4, u'white_stripe': 4, u'_store': 4, u'gray_jacket': 4, u'large_mirror': 4, u'<_sign': 4, u'small_bottle': 4, u'black_cake': 4, u'orange_wall': 4, u'yellow_flower': 4, u'small_pink': 4, u'_hill': 4, u'green_piece': 4, u'red_roof': 4, u'black_mirror': 4, u'_wing': 4, u'black_belt': 4, u'white_scarf': 4, u'_smoke': 4, u'green_window': 4, u'metal_door': 4, u'green_blue': 4, u'small_tv': 4, u'_palm': 4, u'small_brick': 4, u'black_shadow': 4, u'white_arm': 4, u'_roll': 4, u'blue_vase': 4, u'small_clock': 4, u'clear_blue': 4, u'silver_handle': 4, u'black_headboard': 4, u'black_zebra': 4, u'small_plane': 4, u'_edge': 4, u'brown_hat': 4, u'black_propeller': 4, u'small_towel': 4, u'white_coat': 4, u'small_container': 4, u'_refrigerator': 4, u'nose_girl': 4, u'bare_tree': 4, u'large_leaf': 4, u'brown_board': 4, u'black_carpet': 4, u'white_tv': 4, u'green_flower': 4, u'green_girl': 4, u'red_strap': 4, u'green_blanket': 4, u'green_boy': 4, u'large_head': 4, u'green_pillow': 4, u'light_floor': 4, u'_christmas': 4, u'_paw': 4, u'small_pillow': 4, u'black_bus': 4, u'black_tree': 4, u'dark_floor': 4, u'wooden_post': 4, u'large_bird': 4, u'small_silver': 4, u'_train': 4, u'red_napkin': 4, u'yellow_paper': 4, u'_bag': 4, u'black_ring': 4, u'_concrete': 4, u'brown_couch': 4, u'small_green': 4, u'red_coffee': 4, u'black_framed': 4, u'white_color': 4, u'tall_street': 4, u'green_trash': 4, u'yellow_yellow': 4, u'red_coat': 4, u'blonde_boy': 4, u'_bike': 4, u'black_side': 4, u'_jacket': 3, u'yellow_door': 3, u'_field': 3, u'black_glass': 3, u'_lit': 3, u'black_remote': 3, u'white_arrow': 3, u'yellow_jacket': 3, u'white_silver': 3, u'closed_': 3, u'brown_pair': 3, u'_crust': 3, u'white_edge': 3, u'white_rock': 3, u'dark_person': 3, u'ear_': 3, u'red_traffic': 3, u'blue_window': 3, u'teddy_boy': 3, u'_traffic': 3, u'green_table': 3, u'flat_screen': 3, u'red_blue': 3, u'small_hole': 3, u'light_hair': 3, u'large_photo': 3, u'paved_road': 3, u'red_laptop': 3, u'small_background': 3, u'large_silver': 3, u'short_girl': 3, u'light_street': 3, u'gray_water': 3, u'red_word': 3, u'_park': 3, u'white_bathtub': 3, u'yellow_piece': 3, u'white_paw': 3, u'green_door': 3, u'red_truck': 3, u'white_couch': 3, u'pink_donut': 3, u'black_orange': 3, u'black_top': 3, u'green_plastic': 3, u'_tire': 3, u'red_nose': 3, u'green_broccoli': 3, u'brown_ear': 3, u'black_brown': 3, u'large_stone': 3, u'_sink': 3, u'_trash': 3, u'green_paper': 3, u'large_piece': 3, u'large_pillow': 3, u'brown_rug': 3, u'red_snow': 3, u'black_frame': 3, u'gray_elephant': 3, u'white_object': 3, u'blue_dress': 3, u'tall_pole': 3, u'pink_girl': 3, u'white_head': 3, u'hot_hand': 3, u'brown_donut': 3, u'black_paper': 3, u'black_mouse': 3, u'black_boat': 3, u'black_ceiling': 3, u'_crack': 3, u'brown_cat': 3, u'yellow_cat': 3, u'small_cake': 3, u'gray_wall': 3, u'red_side': 3, u'brown_background': 3, u'yellow_tie': 3, u'white_watch': 3, u'_basket': 3, u'light_car': 3, u'_skateboard': 3, u'_wheel': 3, u'gray_coat': 3, u'green_cake': 3, u'black_book': 3, u'white_wine': 3, u'red_phone': 3, u'_label': 3, u'red_letter': 3, u'tall_metal': 3, u'green_shelf': 3, u'white_apple': 3, u'white_carpet': 3, u'brown_cup': 3, u'brown_suitcase': 3, u'yellow_table': 3, u'black_cell': 3, u'yellow_umbrella': 3, u'white_ball': 3, u'gray_blanket': 3, u'_knobs': 3, u'black_beard': 3, u'_bicycle': 3, u'large_': 3, u'gray_back': 3, u'yellow_brick': 3, u'_baseball': 3, u'red_refrigerator': 3, u'remote_button': 3, u'red_tag': 3, u'black_rope': 3, u'_faucet': 3, u'remote_control': 3, u'black_bottom': 3, u'black_rug': 3, u'teddy_ear': 3, u'wooden_frame': 3, u'wet_road': 3, u'red_frisbee': 3, u'light_ground': 3, u'brown_towel': 3, u'black_sleeve': 3, u'gray_gray': 3, u'red_bed': 3, u'_painting': 3, u'long_tail': 3, u'yellow_train': 3, u'yellow_person': 3, u'_shower': 3, u'yellow_teddy': 3, u'black_rock': 3, u'gray_metal': 3, u'white_suitcase': 3, u'green_umbrella': 3, u'black_tank': 3, u'brown_blanket': 2, u'green_metal': 2, u'blurry_cat': 2, u'gray_woman': 2, u'yellow_snow': 2, u'paved_sidewalk': 2, u'small_cloud': 2, u'red_bear': 2, u'mans_hair': 2, u'gray_floor': 2, u'black_motorcycle': 2, u'black_cup': 2, u'white_egg': 2, u'white_round': 2, u'red_bus': 2, u'white_mirror': 2, u'light_tree': 2, u'black_reflection': 2, u'green_picture': 2, u'light_toilet': 2, u'<_picture': 2, u'white_sheep': 2, u'large_vase': 2, u'green_grassy': 2, u'blue_seat': 2, u'red_hand': 2, u'_clock': 2, u'_>': 2, u'yellow_shelf': 2, u'yellow_tag': 2, u'grey_road': 2, u'nose_dog': 2, u'white_sidewalk': 2, u'white_tag': 2, u'_distance': 2, u'metal_piece': 2, u'small_grass': 2, u'_suitcase': 2, u'large_tv': 2, u'bright_tree': 2, u'yellow_pink': 2, u'yellow_car': 2, u'black_fence': 2, u'green_ear': 2, u'black_napkin': 2, u'small_oven': 2, u'wooden_handle': 2, u'yellow_plastic': 2, u'black_train': 2, u'_road': 2, u'blue_glass': 2, u'large_chair': 2, u'_finger': 2, u'_gold': 2, u'next_man': 2, u'brown_leaf': 2, u'small_toothbrush': 2, u'white_surfboard': 2, u'_horse': 2, u'brown_building': 2, u'white_tree': 2, u'small_spot': 2, u'brown_person': 2, u'_ramp': 2, u'brown_strap': 2, u'red_toy': 2, u'white_ocean': 2, u'white_faucet': 2, u'white_van': 2, u'black_building': 2, u'white_kite': 2, u'green_ball': 2, u'light_lit': 2, u'black_surface': 2, u'yellow_frisbee': 2, u'brown_box': 2, u'red_glass': 2, u'grey_floor': 2, u'white_wheel': 2, u'little_woman': 2, u'white_base': 2, u'blue_door': 2, u'black_fork': 2, u'small_glass': 2, u'blue_tile': 2, u'small_laptop': 2, u'_fireplace': 2, u'white_backpack': 2, u'hot_piece': 2, u'_lady': 2, u'green_fence': 2, u'yellow_shoe': 2, u'yellow_towel': 2, u'big_elephant': 2, u'white_outlet': 2, u'black_water': 2, u'green_banana': 2, u'_dirt': 2, u'white_mouse': 2, u'white_railing': 2, u'remote_man': 2, u'dark_trunk': 2, u'green_vase': 2, u'green_dog': 2, u'small_face': 2, u'green_lamp': 2, u'small_book': 2, u'red_rope': 2, u'yellow_napkin': 2, u'pink_dress': 2, u'brown_grass': 2, u'pink_piece': 2, u'red_pot': 2, u'blue_back': 2, u'pink_tie': 2, u'red_pair': 2, u'white_phone': 2, u'striped_blanket': 2, u'small_cabinet': 2, u'red_baseball': 2, u'blue_box': 2, u'white_seat': 2, u'brown_bird': 2, u'green_pair': 2, u'white_clouds': 2, u'white_rug': 2, u'orange_orange': 2, u'black_plane': 2, u'yellow_': 2, u'small_sink': 2, u'yellow_tennis': 2, u'plaid_shirt': 2, u'teddy_hand': 2, u'black_purse': 2, u'yellow_picture': 2, u'black_sweater': 2, u'large_truck': 2, u'_round': 2, u'red_silver': 2, u'wet_street': 2, u'large_grey': 2, u'green_bear': 2, u'silver_faucet': 2, u'front_wheel': 2, u'black_arm': 2, u'brown_drawer': 2, u'_cloudy': 2, u'white_cow': 2, u'yellow_ball': 2, u'large_group': 2, u'hot_man': 2, u'red_frosting': 2, u'wooden_desk': 2, u'brown_pole': 2, u'white_candle': 2, u'blue_kite': 2, u'red_container': 2, u'large_back': 2, u'_restaurant': 2, u'white_basket': 2, u'light_background': 2, u'yellow_pole': 2, u'green_cat': 2, u'large_wooden': 2, u'large_elephant': 2, u'green_coffee': 2, u'red_teddy': 2, u'yellow_girl': 2, u'large_body': 2, u'front_legs': 2, u'yellow_stripe': 2, u'striped_striped': 2, u'snow_mountain': 2, u'white_<': 2, u'white_chain': 2, u'small_flag': 2, u'large_curtain': 2, u'green_field': 2, u'blue_bed': 2, u'facial_man': 2, u'small_nose': 2, u'red_skateboard': 2, u'_giraffe': 2, u'_tile': 2, u'white_nose': 2, u'clear_plastic': 2, u'yellow_kite': 2, u'red_cheese': 2, u'purple_vase': 2, u'blue_pink': 2, u'_microwave': 2, u'yellow_stuffed': 2, u'white_wire': 2, u'small_wheel': 2, u'red_button': 2, u'small_leaf': 2, u'black_bowl': 2, u'yellow_cup': 2, u'silver_oven': 2, u'teddy_nose': 2, u'white_brick': 2, u'black_stripe': 2, u'_computer': 2, u'_purple': 2, u'red_stuffed': 2, u'blue_metal': 2, u'teddy_man': 2, u'_coffee': 1, u'small_bike': 1, u'_dress': 1, u'white_headboard': 1, u'long_elephant': 1, u'brown_top': 1, u'pink_apple': 1, u'green_brown': 1, u'blue_roof': 1, u'red_cow': 1, u'blue_tennis': 1, u'blue_couch': 1, u'black_edge': 1, u'bright_background': 1, u'_grey': 1, u'red_jersey': 1, u'yellow_bunch': 1, u'white_grass': 1, u'<_screen': 1, u'ski_person': 1, u'green_bunch': 1, u'grey_concrete': 1, u'white_number': 1, u'small_napkin': 1, u'white_oven': 1, u'white_television': 1, u'_cloud': 1, u'brown_scarf': 1, u'silver_wheel': 1, u'white_player': 1, u'_desk': 1, u'yellow_bed': 1, u'front_tire': 1, u'light_chair': 1, u'large_blurry': 1, u'white_stack': 1, u'green_roof': 1, u'silver_button': 1, u'green_bench': 1, u'tree_dark': 1, u'wooden_bed': 1, u'white_truck': 1, u'blue_teddy': 1, u'white_mouth': 1, u'white_trash': 1, u'_statue': 1, u'dark_spot': 1, u'brown_body': 1, u'dark_window': 1, u'dark_gray': 1, u'_surfboard': 1, u'gray_part': 1, u'wooden_beam': 1, u'_engine': 1, u'wooden_woman': 1, u'blue_banner': 1, u'womans_pink': 1, u'little_boy': 1, u'large_box': 1, u'blue_girl': 1, u'red_pepper': 1, u'silver_light': 1, u'black_racket': 1, u'small_train': 1, u'red_donut': 1, u'green_head': 1, u'green_apple': 1, u'blue_floor': 1, u'pink_jacket': 1, u'green_bus': 1, u'yellow_toothbrush': 1, u'brown_cardboard': 1, u'yellow_arm': 1, u'blue_ball': 1, u'black_counter': 1, u'small_toilet': 1, u'white_motorcycle': 1, u'_food': 1, u'red_pattern': 1, u'brown_banana': 1, u'brown_rock': 1, u'brown_color': 1, u'white_board': 1, u'green_mirror': 1, u'wooden_stand': 1, u'small_donut': 1, u'black_iron': 1, u'teddy_girl': 1, u'teddy_person': 1, u'small_shoe': 1, u'red_plane': 1, u'white_pepper': 1, u'wooden_railing': 1, u'yellow_pillow': 1, u'brown_bread': 1, u'blue_dog': 1, u'silver_sink': 1, u'green_pepper': 1, u'_hole': 1, u'brown_cake': 1, u'green_skateboard': 1, u'yellow_ski': 1, u'red_street': 1, u'yellow_dress': 1, u'long_neck': 1, u'silver_window': 1, u'red_top': 1, u'_shoe': 1, u'white_giraffe': 1, u'hot_slice': 1, u'long_giraffe': 1, u'black_kitchen': 1, u'white_wedding': 1, u'brown_elephant': 1, u'round_orange': 1, u'red_fridge': 1, u'_fire': 1, u'white_grey': 1, u'brown_sand': 1, u'_pattern': 1, u'black_body': 1, u'yellow_bird': 1, u'small_coffee': 1, u'yellow_container': 1, u'green_color': 1, u'red_couch': 1, u'wooden_board': 1, u'clear_bottle': 1, u'large_table': 1, u'brown_belt': 1, u'blue_top': 1, u'light_door': 1, u'red_catcher': 1, u'large_plate': 1, u'white_baby': 1, u'blue_donut': 1, u'green_frisbee': 1, u'white_dirt': 1, u'nose_giraffe': 1, u'tall_door': 1, u'green_bed': 1, u'black_wing': 1, u'white_bath': 1, u'blue_toothbrush': 1, u'light_man': 1, u'black_faucet': 1, u'large_bottle': 1, u'nose_': 1, u'gray_couch': 1, u'white_skirt': 1, u'bright_sky': 1, u'white_concrete': 1, u'white_power': 1, u'brown_side': 1, u'yellow_pot': 1, u'wooden_window': 1, u'red_reflection': 1, u'_girls': 1, u'white_remote': 1, u'red_floor': 1, u'red_dark': 1, u'teddy_woman': 1, u'small_bicycle': 1, u'black_toy': 1, u'brown_sweater': 1, u'yellow_logo': 1, u'red_necklace': 1, u'black_wooden': 1, u'_rope': 1, u'blue_>': 1, u'green_book': 1, u'small_': 1, u'pink_hand': 1, u'black_poster': 1, u'blurry_water': 1, u'_pot': 1, u'bright_pink': 1, u'long_shirt': 1, u'dark_seat': 1, u'yellow_bottom': 1, u'green_pizza': 1, u'blue_laptop': 1, u'gray_suit': 1, u'light_mirror': 1, u'wooden_bat': 1, u'small_refrigerator': 1, u'floral_curtain': 1, u'white_front': 1, u'white_fire': 1, u'black_round': 1, u'large_street': 1, u'brown_rope': 1, u'_section': 1, u'green_phone': 1, u'red_helmet': 1, u'teddy_head': 1, u'brown_shoe': 1, u'brown_sidewalk': 1, u'blue_cake': 1, u'brown_pizza': 1, u'black_spoon': 1, u'white_sauce': 1, u'small_pot': 1, u'white_court': 1, u'black_traffic': 1, u'_motorcycle': 1, u'wooden_wall': 1, u'red_knife': 1, u'gray_tshirt': 1, u'yellow_bottle': 1, u'red_sky': 1, u'black_television': 1, u'table_cloth': 1, u'brown_handle': 1, u'large_suitcase': 1, u'pink_': 1, u'mans_jacket': 1, u'brown_tie': 1, u'large_clock': 1, u'green_design': 1, u'wooden_fireplace': 1, u'grey_water': 1, u'brown_giraffe': 1, u'small_surfboard': 1, u'blue_round': 1, u'large_statue': 1, u'dark_girl': 1, u'large_lamp': 1, u'_candle': 1, u'gray_blue': 1, u'long_pole': 1, u'black_bathroom': 1, u'brown_blue': 1, u'large_pot': 1, u'gray_bear': 1, u'_counter': 1, u'floral_table': 1, u'white_cap': 1, u'large_animal': 1, u'young_frisbee': 1, u'red_ribbon': 1, u'large_hair': 1, u'red_writing': 1, u'plastic_bag': 1, u'green_handle': 1, u'red_christmas': 1, u'small_wii': 1, u'red_wrist': 1, u'colorful_design': 1, u'black_elephant': 1, u'bright_blue': 1, u'_apple': 1, u'large_poster': 1, u'_television': 1, u'blue_umbrella': 1, u'wooden_box': 1, u'gray_suitcase': 1, u'open_car': 1, u'mans_hat': 1, u'red_row': 1, u'light_sink': 1, u'light_light': 1, u'left_hand': 1, u'blue_baseball': 1, u'dark_light': 1, u'womans_hand': 1, u'black_cloth': 1, u'large_brick': 1, u'grassy_area': 1, u'brown_plate': 1, u'small_line': 1, u'small_mouth': 1, u'green_flag': 1, u'silver_roof': 1, u'blue_boy': 1, u'brown_cloth': 1, u'brown_stone': 1, u'white_child': 1, u'brown_glass': 1, u'white_leaf': 1, u'pink_vase': 1, u'dark_wooden': 1, u'teddy_stuffed': 1, u'silver_plane': 1, u'green_tile': 1, u'white_sweater': 1, u'white_spoon': 1, u'black_color': 1, u'gray_arm': 1, u'green_kite': 1, u'brown_sauce': 1, u'_boat': 1, u'large_display': 1, u'small_bear': 1, u'red_baby': 1, u'gray_seat': 1, u'red_bike': 1, u'_bowl': 1, u'pink_man': 1, u'silver_knife': 1, u'light_cat': 1, u'white_street': 1, u'right_foot': 1, u'_tag': 1, u'large_refrigerator': 1, u'gray_car': 1, u'gray_cat': 1, u'light_woman': 1, u'light_umbrella': 1, u'colorful_blanket': 1, u'colorful_flower': 1, u'brown_hardwood': 1, u'table_orange': 1, u'mans_coat': 1, u'brown_bed': 1, u'small_stone': 1, u'white_tent': 1, u'yellow_object': 1, u'black_road': 1, u'large_design': 1, u'white_post': 1, u'blue_collar': 1, u'green_photo': 1, u'large_ear': 1, u'black_knee': 1, u'small_rug': 1, u'white_stuffed': 1, u'grey_wall': 1, u'red_tail': 1, u'grassy_field': 1, u'large_advertisement': 1, u'silver_stove': 1, u'large_cow': 1, u'mans_nose': 1, u'green_traffic': 1, u'dead_tree': 1, u'black_fan': 1, u'white_tip': 1, u'_zebra': 1, u'red_poster': 1, u'yellow_brown': 1, u'brown_nose': 1, u'gold_tie': 1, u'red_horse': 1, u'large_dog': 1, u'yellow_truck': 1, u'_catcher': 1, u'white_rice': 1, u'red_tank': 1, u'white_smoke': 1, u'large_arch': 1, u'dark_door': 1, u'hot_woman': 1, u'yellow_tree': 1, u'green_toy': 1, u'dark_vase': 1, u'gray_chair': 1, u'long_line': 1, u'gray_sweater': 1, u'full_shelf': 1, u'framed_mirror': 1, u'white_bike': 1, u'wii_man': 1, u'red_stripe': 1, u'_power': 1, u'large_orange': 1, u'<_bag': 1, u'plastic_woman': 1, u'grey_sky': 1, u'colorful_cake': 1, u'_helmet': 1, u'red_board': 1, u'brown_book': 1, u'white_cell': 1, u'white_sand': 1, u'light_train': 1, u'white_tshirt': 1, u'large_train': 1, u'dark_tree': 1, u'yellow_book': 1, u'gray_': 1, u'red_banana': 1, u'white_gold': 1, u'_suit': 1, u'green_logo': 1, u'yellow_boy': 1, u'open_wall': 1, u'teddy_number': 1, u'red_bottom': 1, u'black_stuffed': 1, u'wooden_platform': 1, u'teddy_pink': 1, u'blue_fence': 1, u'little_bear': 1, u'womans_blue': 1, u'wooden_rail': 1, u'light_sky': 1, u'light_building': 1, u'long_cat': 1, u'silver_seat': 1, u'yellow_grass': 1, u'small_top': 1, u'silver_fork': 1, u'large_car': 1, u'large_cat': 1, u'black_tablecloth': 1, u'blue_bike': 1, u'white_thumb': 1, u'yellow_apple': 1, u'red_clock': 1, u'white_chocolate': 1, u'red_mouse': 1, u'brown_tv': 1, u'gray_body': 1, u'white_tablecloth': 1, u'mans_leather': 1, u'yellow_side': 1, u'large_television': 1, u'silver_laptop': 1, u'_carrot': 1, u'red_oven': 1, u'_living': 1, u'pink_water': 1, u'blue_building': 1, u'large_crowd': 1, u'light_orange': 1, u'_leather': 1, u'grey_car': 1, u'white_room': 1, u'green_plane': 1, u'small_wine': 1, u'black_finger': 1, u'purple_button': 1, u'colorful_tie': 1, u'blue_hat': 1, u'black_face': 1, u'wii_person': 1, u'_stove': 1, u'purple_jacket': 1, u'small_microwave': 1, u'wine_bottle': 1, u'brown_hand': 1, u'large_bear': 1, u'white_word': 1, u'dark_bear': 1, u'white_propeller': 1, u'brown_arm': 1, u'small_computer': 1, u'small_television': 1, u'womans_hair': 1, u'many_': 1, u'teddy_dog': 1, u'black_ski': 1, u'pink_toothbrush': 1, u'_meat': 1, u'white_drawer': 1, u'white_skateboard': 1, u'wet_sand': 1, u'black_tag': 1, u'black_stadium': 1, u'decorative_clock': 1, u'blurry_view': 1, u'black_giraffe': 1, u'red_edge': 1, u'many_store': 1, u'white_bucket': 1, u'yellow_light': 1, u'white_rope': 1, u'large_tile': 1, u'yellow_donut': 1, u'large_ball': 1, u'gray_box': 1, u'tall_light': 1, u'small_snow': 1, u'black_backpack': 1, u'small_pepper': 1, u'green_street': 1, u'_parking': 1, u'yellow_cake': 1, u'white_wing': 1, u'small_speaker': 1, u'colorful_shirt': 1, u'green_fork': 1, u'yellow_button': 1, u'red_ball': 1, u'wooden_mirror': 1, u'brown_basket': 1, u'dirty_water': 1, u'few_tree': 1, u'_leaf': 1, u'yellow_water': 1, u'green_ocean': 1, u'pole_traffic': 1, u'brown_leg': 1, u'red_color': 1, u'brown_head': 1, u'white_ramp': 1, u'_beach': 1, u'blue_cup': 1, u'light_top': 1, u'yellow_chair': 1, u'_foot': 1, u'white_ski': 1, u'red_orange': 1, u'white_food': 1, u'small_trash': 1, u'colorful_flag': 1, u'blue_ceiling': 1, u'black_baby': 1, u'_propeller': 1, u'_bunch': 1, u'white_pot': 1, u'large_laptop': 1, u'white_striped': 1, u'_fridge': 1})\n"
     ]
    }
   ],
   "source": [
    "print Vine_AdjNoun_counts"
   ]
  },
  {
   "cell_type": "code",
   "execution_count": null,
   "metadata": {
    "collapsed": false
   },
   "outputs": [],
   "source": [
    "tokenized_vine_sentences = tokenizeList(vineCaptions)\n",
    "tokenized_selfie_sentences = tokenizeList(selfieCaptions)"
   ]
  },
  {
   "cell_type": "code",
   "execution_count": null,
   "metadata": {
    "collapsed": false
   },
   "outputs": [],
   "source": [
    "Nouns_vine, Adjective_vine , Adj_noun_vine  = getNounsAdj(tokenized_vine_sentences)\n",
    "Nouns_selfie, Adjective_selfie , Adj_noun_selfie  = getNounsAdj(tokenized_selfie_sentences)\n",
    "print len(Nouns_vine)\n",
    "print len(Adjective_vine)"
   ]
  },
  {
   "cell_type": "code",
   "execution_count": null,
   "metadata": {
    "collapsed": false
   },
   "outputs": [],
   "source": [
    "print ANP_vine[:10]"
   ]
  },
  {
   "cell_type": "code",
   "execution_count": null,
   "metadata": {
    "collapsed": false
   },
   "outputs": [],
   "source": [
    "bigram_measures = nltk.collocations.BigramAssocMeasures()\n",
    "finder = BigramCollocationFinder.from_words(Adj_noun_vine, window_size = 2)\n",
    "finder.nbest(bigram_measures.pmi, 10)"
   ]
  },
  {
   "cell_type": "code",
   "execution_count": null,
   "metadata": {
    "collapsed": false
   },
   "outputs": [],
   "source": [
    "bigram_measures = nltk.collocations.BigramAssocMeasures()\n",
    "finder = BigramCollocationFinder.from_words(Adj_noun_selfie, window_size = 2)\n",
    "finder.nbest(bigram_measures.pmi, 10)"
   ]
  },
  {
   "cell_type": "code",
   "execution_count": null,
   "metadata": {
    "collapsed": false
   },
   "outputs": [],
   "source": [
    "print Selfie_Adj_counts"
   ]
  },
  {
   "cell_type": "code",
   "execution_count": null,
   "metadata": {
    "collapsed": true
   },
   "outputs": [],
   "source": []
  }
 ],
 "metadata": {
  "kernelspec": {
   "display_name": "Python 2",
   "language": "python",
   "name": "python2"
  },
  "language_info": {
   "codemirror_mode": {
    "name": "ipython",
    "version": 2
   },
   "file_extension": ".py",
   "mimetype": "text/x-python",
   "name": "python",
   "nbconvert_exporter": "python",
   "pygments_lexer": "ipython2",
   "version": "2.7.6"
  }
 },
 "nbformat": 4,
 "nbformat_minor": 0
}
