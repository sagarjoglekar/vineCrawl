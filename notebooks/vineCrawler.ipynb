{
 "cells": [
  {
   "cell_type": "code",
   "execution_count": 1,
   "metadata": {
    "collapsed": true
   },
   "outputs": [],
   "source": [
    "from multiprocessing import Pool\n",
    "from subprocess import call\n",
    "import re\n",
    "import datetime as dt\n",
    "from datetime import datetime\n",
    "import time\n",
    "import random\n",
    "import json\n",
    "import sys\n",
    "import requests\n",
    "import os\n",
    "import wget\n",
    "import pickle\n"
   ]
  },
  {
   "cell_type": "code",
   "execution_count": 8,
   "metadata": {
    "collapsed": true
   },
   "outputs": [],
   "source": [
    "root =\"/datasets/sagarj/vine2016/Dataset/\"\n",
    "postData = \"savedPosts/\"\n",
    "userData = \"Users/\"\n",
    "videoData = \"Videos/\"\n",
    "meta = \"Meta/\"\n",
    "\n",
    "visitedPosts = root + \"2016visitedPosts.pk\"\n",
    "visitedUsers = root + \"2016visitedUsers.pk\""
   ]
  },
  {
   "cell_type": "code",
   "execution_count": 9,
   "metadata": {
    "collapsed": true
   },
   "outputs": [],
   "source": [
    "def getList(listFile):\n",
    "    visited = []\n",
    "    try:\n",
    "        f = open(listFile, 'rb')\n",
    "        visited = pickle.load(f)\n",
    "        f.close()\n",
    "    except IOError:\n",
    "        f = open(listFile,\"a+\")\n",
    "        pickle.dump([],f)\n",
    "        f.close()\n",
    "    return visited\n",
    "\n",
    "def updateList(listFile, listObj):\n",
    "    with open(listFile, 'wb') as f:\n",
    "        pickle.dump(listObj, f)\n",
    "        \n",
    "def getJson(jsonFile):\n",
    "    f = open(jsonFile ,'r')\n",
    "    data = json.load(f)\n",
    "    return data\n",
    "\n",
    "def getPostMeta(postID , postDir):\n",
    "    postData = requests.get(\"https://api.vineapp.com/timelines/posts/\"+str(postID))\n",
    "    post = open( postDir + \"/\" + str(postID) + '.json', 'w')\n",
    "    json.dump(postData.json(), post)\n",
    "\n",
    "def getUserData(userID , userDir ):\n",
    "    userData = requests.get(\"https://api.vineapp.com/timelines/users/\"+str(userID)+\"?size=50\");\n",
    "    user = open( userDir + \"/\" + str(userID) + '.json', 'w')\n",
    "    json.dump(userData.json(), user)\n",
    "    \n",
    "def getVideo(post , videoDir):\n",
    "    videoString = post['videoUrl']\n",
    "    if videoString:\n",
    "        argsVideo = ['wget', '-r', '-l', '1', '-p', '-P' , videoDir, videoString ]\n",
    "        call(argsVideo)\n",
    "        \n",
    "def now_time():\n",
    "    now=dt.datetime.now()\n",
    "    return int(time.mktime(now.timetuple()))\n",
    "\n",
    "def callCmd(args):\n",
    "    call(args)"
   ]
  },
  {
   "cell_type": "code",
   "execution_count": 10,
   "metadata": {
    "collapsed": false
   },
   "outputs": [
    {
     "ename": "IOError",
     "evalue": "[Errno 2] No such file or directory: 'Users//1014722016034594816.json'",
     "output_type": "error",
     "traceback": [
      "\u001b[1;31m---------------------------------------------------------------------------\u001b[0m",
      "\u001b[1;31mIOError\u001b[0m                                   Traceback (most recent call last)",
      "\u001b[1;32m<ipython-input-10-8dcdbe034374>\u001b[0m in \u001b[0;36m<module>\u001b[1;34m()\u001b[0m\n\u001b[0;32m     27\u001b[0m             \u001b[1;32mbreak\u001b[0m\u001b[1;33m\u001b[0m\u001b[0m\n\u001b[0;32m     28\u001b[0m         \u001b[1;32melse\u001b[0m\u001b[1;33m:\u001b[0m\u001b[1;33m\u001b[0m\u001b[0m\n\u001b[1;32m---> 29\u001b[1;33m             \u001b[0mgetUserData\u001b[0m\u001b[1;33m(\u001b[0m\u001b[0msubRecord\u001b[0m\u001b[1;33m[\u001b[0m\u001b[1;34m'userId'\u001b[0m\u001b[1;33m]\u001b[0m\u001b[1;33m,\u001b[0m\u001b[0muserData\u001b[0m\u001b[1;33m)\u001b[0m\u001b[1;33m\u001b[0m\u001b[0m\n\u001b[0m\u001b[0;32m     30\u001b[0m             \u001b[0mgetPostMeta\u001b[0m\u001b[1;33m(\u001b[0m\u001b[0msubRecord\u001b[0m\u001b[1;33m[\u001b[0m\u001b[1;34m'postId'\u001b[0m\u001b[1;33m]\u001b[0m\u001b[1;33m,\u001b[0m\u001b[0mpostdata\u001b[0m\u001b[1;33m)\u001b[0m\u001b[1;33m\u001b[0m\u001b[0m\n\u001b[0;32m     31\u001b[0m             \u001b[0mgetVideo\u001b[0m\u001b[1;33m(\u001b[0m\u001b[0msubRecord\u001b[0m\u001b[1;33m,\u001b[0m \u001b[0mvideoData\u001b[0m\u001b[1;33m)\u001b[0m\u001b[1;33m\u001b[0m\u001b[0m\n",
      "\u001b[1;32m<ipython-input-9-3b6037412ea9>\u001b[0m in \u001b[0;36mgetUserData\u001b[1;34m(userID, userDir)\u001b[0m\n\u001b[0;32m     27\u001b[0m \u001b[1;32mdef\u001b[0m \u001b[0mgetUserData\u001b[0m\u001b[1;33m(\u001b[0m\u001b[0muserID\u001b[0m \u001b[1;33m,\u001b[0m \u001b[0muserDir\u001b[0m \u001b[1;33m)\u001b[0m\u001b[1;33m:\u001b[0m\u001b[1;33m\u001b[0m\u001b[0m\n\u001b[0;32m     28\u001b[0m     \u001b[0muserData\u001b[0m \u001b[1;33m=\u001b[0m \u001b[0mrequests\u001b[0m\u001b[1;33m.\u001b[0m\u001b[0mget\u001b[0m\u001b[1;33m(\u001b[0m\u001b[1;34m\"https://api.vineapp.com/timelines/users/\"\u001b[0m\u001b[1;33m+\u001b[0m\u001b[0mstr\u001b[0m\u001b[1;33m(\u001b[0m\u001b[0muserID\u001b[0m\u001b[1;33m)\u001b[0m\u001b[1;33m+\u001b[0m\u001b[1;34m\"?size=50\"\u001b[0m\u001b[1;33m)\u001b[0m\u001b[1;33m;\u001b[0m\u001b[1;33m\u001b[0m\u001b[0m\n\u001b[1;32m---> 29\u001b[1;33m     \u001b[0muser\u001b[0m \u001b[1;33m=\u001b[0m \u001b[0mopen\u001b[0m\u001b[1;33m(\u001b[0m \u001b[0muserDir\u001b[0m \u001b[1;33m+\u001b[0m \u001b[1;34m\"/\"\u001b[0m \u001b[1;33m+\u001b[0m \u001b[0mstr\u001b[0m\u001b[1;33m(\u001b[0m\u001b[0muserID\u001b[0m\u001b[1;33m)\u001b[0m \u001b[1;33m+\u001b[0m \u001b[1;34m'.json'\u001b[0m\u001b[1;33m,\u001b[0m \u001b[1;34m'w'\u001b[0m\u001b[1;33m)\u001b[0m\u001b[1;33m\u001b[0m\u001b[0m\n\u001b[0m\u001b[0;32m     30\u001b[0m     \u001b[0mjson\u001b[0m\u001b[1;33m.\u001b[0m\u001b[0mdump\u001b[0m\u001b[1;33m(\u001b[0m\u001b[0muserData\u001b[0m\u001b[1;33m.\u001b[0m\u001b[0mjson\u001b[0m\u001b[1;33m(\u001b[0m\u001b[1;33m)\u001b[0m\u001b[1;33m,\u001b[0m \u001b[0muser\u001b[0m\u001b[1;33m)\u001b[0m\u001b[1;33m\u001b[0m\u001b[0m\n\u001b[0;32m     31\u001b[0m \u001b[1;33m\u001b[0m\u001b[0m\n",
      "\u001b[1;31mIOError\u001b[0m: [Errno 2] No such file or directory: 'Users//1014722016034594816.json'"
     ]
    }
   ],
   "source": [
    "postDir = root + postData\n",
    "videoDir = root + videoData\n",
    "userDir = root + userData\n",
    "metaDir = root + meta\n",
    "\n",
    "runTime = str(now_time());\n",
    "\n",
    "for i in range(1,2):\n",
    "    channelRecent = requests.get(\"https://vine.co/api/timelines/channels/\" + str(i) + \"/recent\" + \"?size=100\")\n",
    "    f = open(metaDir + runTime + \"_\" + str(i) +'.json', 'w')\n",
    "    channelJson = channelRecent.json()\n",
    "    \n",
    "    if not isinstance(channelJson['data'],dict):\n",
    "        print \"Fault: JSON Data not a dict\"\n",
    "        break\n",
    "\n",
    "    json.dump(channelJson, f)\n",
    "    data = channelJson['data']\n",
    "    records = data['records']\n",
    "\n",
    "    for i in range (0 , len(records)):\n",
    "        subRecord = records[i]\n",
    "        crawledPosts = getList(visitedPosts)\n",
    "        postid = subRecord['postId']\n",
    "        \n",
    "        if postid in crawledPosts:\n",
    "            break\n",
    "        else:\n",
    "            getUserData(subRecord['userId'],userData)\n",
    "            getPostMeta(subRecord['postId'],postdata)\n",
    "            getVideo(subRecord, videoData)                      \n",
    "        \n",
    "    time.sleep(30)\n",
    "\n",
    "print \"Done Crawling 18 channels for new videos , Sleeping now\""
   ]
  },
  {
   "cell_type": "code",
   "execution_count": null,
   "metadata": {
    "collapsed": true
   },
   "outputs": [],
   "source": []
  }
 ],
 "metadata": {
  "kernelspec": {
   "display_name": "Python 2",
   "language": "python",
   "name": "python2"
  },
  "language_info": {
   "codemirror_mode": {
    "name": "ipython",
    "version": 2
   },
   "file_extension": ".py",
   "mimetype": "text/x-python",
   "name": "python",
   "nbconvert_exporter": "python",
   "pygments_lexer": "ipython2",
   "version": "2.7.6"
  }
 },
 "nbformat": 4,
 "nbformat_minor": 0
}
