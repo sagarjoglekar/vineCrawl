{
 "cells": [
  {
   "cell_type": "code",
   "execution_count": 1,
   "metadata": {
    "collapsed": true
   },
   "outputs": [],
   "source": [
    "import numpy as np\n",
    "%matplotlib inline\n",
    "import matplotlib.pyplot as plt\n",
    "import matplotlib.cm as cm\n",
    "import json\n",
    "import os\n",
    "import sys\n",
    "sys.path.append(\"../lib\")\n",
    "from dataUtils import *\n",
    "import cPickle as pickle\n",
    "import cv2\n",
    "from collections import Counter\n",
    "from scipy.interpolate import UnivariateSpline\n"
   ]
  },
  {
   "cell_type": "code",
   "execution_count": 53,
   "metadata": {
    "collapsed": true
   },
   "outputs": [],
   "source": [
    "#ClassFile = \"../Logs/classes.json\"\n",
    "ClassFile = \"../Logs/english_label.txt\"\n",
    "\n",
    "\n",
    "unpopular_vineScores = \"../Final_features/MVSO_unpopvine_probs.csv\"\n",
    "vineScores = \"../Final_features/MVSO_fine_vine_probs.csv\"\n",
    "\n",
    "#selfieScores = \"../Logs/selfieSentibankProbs.csv\"\n",
    "sentibank_scores = \"../Logs/sentibank_baseline_final.csv\"\n",
    "\n",
    "#vineANPs = \"../Logs/sampled_vine_ANPS_final.pk\"\n",
    "unpop_vineANPs = \"../Final_features/MVSO_unpopvine_ANPs.pk\"\n",
    "\n",
    "pop_vineANPs = \"../Final_features/MVSO_fine_vine_ANPs.pk\"\n",
    "\n",
    "mean_sentiment_store = \"../Final_features/median_sentiments.csv\"\n",
    "#selfiePaths = \"../Logs/selfiePaths.txt\"\n",
    "\n",
    "\n",
    "#selfiePopularityFile = \"../Logs/selfie_dataset.txt\"\n",
    "\n",
    "root = \"../vinedata/Data/\"\n",
    "\n",
    "visitedList = \"../Logs/sampledVids.data\"\n",
    "\n",
    "postFile = \"../Logs/postsMapping.csv\"\n",
    "\n",
    "# sentimentFile = \"../Logs/ANP_Sentiments.txt\"\n",
    "\n",
    "sampled_img_list = \"../Logs/sampled_sentibank_image.txt\"\n",
    "\n",
    "revisedSentimentFile = \"../Logs/revised_ANP_sentiments.csv\"\n",
    "\n",
    "savedSentiments = \"../Logs/sentimentsSaved.csv\""
   ]
  },
  {
   "cell_type": "code",
   "execution_count": null,
   "metadata": {
    "collapsed": false
   },
   "outputs": [
    {
     "name": "stdout",
     "output_type": "stream",
     "text": [
      "(150443, 4342)\n"
     ]
    }
   ],
   "source": [
    "unpopular_vineProbs = np.loadtxt(unpopular_vineScores, delimiter=',')\n",
    "print unpopular_vineProbs.shape"
   ]
  },
  {
   "cell_type": "code",
   "execution_count": null,
   "metadata": {
    "collapsed": true
   },
   "outputs": [],
   "source": [
    "#Load the Sentibank scores for Vines\n",
    "vineProbs = np.loadtxt(vineScores, delimiter=',')\n",
    "print vineProbs.shape"
   ]
  },
  {
   "cell_type": "code",
   "execution_count": 12,
   "metadata": {
    "collapsed": false
   },
   "outputs": [
    {
     "name": "stdout",
     "output_type": "stream",
     "text": [
      "(138256, 4342)\n"
     ]
    }
   ],
   "source": [
    "print vineProbs.shape"
   ]
  },
  {
   "cell_type": "code",
   "execution_count": 32,
   "metadata": {
    "collapsed": true
   },
   "outputs": [],
   "source": [
    "class UnpopularVids:\n",
    "    \n",
    "    def get_ANP_ID_List(self , pickleList , nameIdx):\n",
    "        ANPs = []\n",
    "        IDs = []\n",
    "        for line in pickleList:\n",
    "            ids = line.split(',')[0].split('/')[nameIdx].split('_')[0]\n",
    "            IDs.append(ids)\n",
    "            ANPs.append(line.split(',')[1])\n",
    "        return IDs , ANPs\n",
    "\n",
    "    def get_vid_senti(self , pickle , index , nameidx):\n",
    "        oldId = pickle[index].split(',')[0].split('/')[nameidx].split('_')[0]\n",
    "        seqDict = dict()\n",
    "        indexList = []\n",
    "        sequence = pickle[index].split(',')[0].split('/')[nameidx].split('_')[1].split('.')[0]\n",
    "        seqDict[int(sequence)] = str(pickle[index].split(',')[1])\n",
    "        indexList.append(index)\n",
    "        index+=1\n",
    "        #print index\n",
    "        while (index < len(pickle) and (pickle[index].split(',')[0].split('/')[nameidx].split('_')[0] == oldId)):\n",
    "            sequence = pickle[index].split(',')[0].split('/')[nameidx].split('_')[1].split('.')[0]\n",
    "            seqDict[int(sequence)] = str(pickle[index].split(',')[1])\n",
    "            indexList.append(index)\n",
    "            index += 1\n",
    "        seqDict['indexList'] = indexList\n",
    "        return seqDict , oldId , index\n",
    "\n",
    "    #This function maps each video with a dictionary entry that has list of all ANPS per frame\n",
    "    #and an index list to find them\n",
    "    def get_VID_ANP_List(self , pickle, nameidx):\n",
    "        megaDict = dict()\n",
    "        i = 0\n",
    "        print len(pickle)\n",
    "        while i < len(pickle):           \n",
    "            subDict , postId , i = self.get_vid_senti(pickle , i , nameidx)\n",
    "            megaDict[int(postId)] = subDict\n",
    "        return megaDict\n",
    "\n",
    "\n",
    "    def pruneMegaDict(self , megadict , filterindices):\n",
    "        filteredList = dict()\n",
    "        for entry in megadict:\n",
    "            commns = set(megadict[entry]['indexList']).intersection(filterindices)\n",
    "            if len(commns) >= 6:\n",
    "                filteredList[entry] = megadict[entry]\n",
    "        return filteredList\n",
    "\n",
    "    def readJson(self , path):\n",
    "        f = open(path)\n",
    "        data = json.loads(f.read())\n",
    "        return data\n"
   ]
  },
  {
   "cell_type": "code",
   "execution_count": 33,
   "metadata": {
    "collapsed": true
   },
   "outputs": [],
   "source": [
    "def readFeatureFile(color_features):\n",
    "    with open(color_features) as g:\n",
    "        featureLines = g.readlines()\n",
    "    print len(featureLines)\n",
    "    return featureLines\n",
    "\n",
    "def readAesFeatuers(lines):\n",
    "    features = []\n",
    "    for line in lines:\n",
    "        components = line.strip().split('|')\n",
    "        features.append([float(x) for x in components[1:]])\n",
    "    return features\n",
    "\n",
    "def readFeatures(lines):\n",
    "    ids = []\n",
    "    features = []\n",
    "    feats = []\n",
    "    \n",
    "    components = lines[0].strip().split(',')\n",
    "    ID = components[0].strip().split('_')[0]\n",
    "    \n",
    "    for line in lines:\n",
    "        components = line.strip().split('|')\n",
    "        postId = components[0].strip().split('_')[0]\n",
    "        if postId != ID:\n",
    "            ids.append(postId)\n",
    "            ID = postId\n",
    "            #Take median of all frames in a vine for all the attributes\n",
    "            median = np.median(feats,0)\n",
    "            for i in range(len(median)):\n",
    "                if np.isnan(median[i]):\n",
    "                    median[i] = 0.0\n",
    "            features.append(median)\n",
    "            feats[:] = []\n",
    "            feats.append([float(x) for x in components[1:]]) \n",
    "        else :\n",
    "            feats.append([float(x) for x in components[1:]]) \n",
    "            \n",
    "    return features, ids\n",
    "    "
   ]
  },
  {
   "cell_type": "code",
   "execution_count": 34,
   "metadata": {
    "collapsed": false
   },
   "outputs": [],
   "source": [
    "class PopularVids:\n",
    "    def get_ANP_ID_List(self , pickleList , nameIdx):\n",
    "        ANPs = []\n",
    "        IDs = []\n",
    "        for line in pickleList:\n",
    "            ids = line.split(',')[0].split('/')[nameIdx].split('_')[0]\n",
    "            IDs.append(ids)\n",
    "            ANPs.append(line.split(',')[1])\n",
    "        return IDs , ANPs\n",
    "\n",
    "    def get_vid_senti(self , pickle , index , nameidx):\n",
    "        oldId = pickle[index].split(',')[0].split('/')[nameidx].split('_')[0]\n",
    "        seqDict = dict()\n",
    "        indexList = []\n",
    "        sequence = pickle[index].split(',')[0].split('/')[nameidx].split('_')[1].split('.')[0]\n",
    "        seqDict[int(sequence)] = str(pickle[index].split(',')[1])\n",
    "        indexList.append(index)\n",
    "        index+=1\n",
    "        #print index\n",
    "        while (index < len(pickle) and (pickle[index].split(',')[0].split('/')[nameidx].split('_')[0] == oldId)):\n",
    "            sequence = pickle[index].split(',')[0].split('/')[nameidx].split('_')[1].split('.')[0]\n",
    "            seqDict[int(sequence)] = str(pickle[index].split(',')[1])\n",
    "            indexList.append(index)\n",
    "            index += 1\n",
    "        seqDict['indexList'] = indexList\n",
    "        return seqDict , oldId , index\n",
    "\n",
    "    #This function maps each video with a dictionary entry that has list of all ANPS per frame\n",
    "    #and an index list to find them\n",
    "    def get_VID_ANP_List(self , pickle, nameidx):\n",
    "        megaDict = dict()\n",
    "        i = 0\n",
    "        print len(pickle)\n",
    "        while i < len(pickle):           \n",
    "            subDict , postId , i = self.get_vid_senti(pickle , i , nameidx)\n",
    "            megaDict[int(postId)] = subDict\n",
    "        return megaDict\n",
    "\n",
    "\n",
    "    def pruneMegaDict(self , megadict , filterindices):\n",
    "        filteredList = dict()\n",
    "        for entry in megadict:\n",
    "            commns = set(megadict[entry]['indexList']).intersection(filterindices)\n",
    "            if len(commns) >= 6:\n",
    "                filteredList[entry] = megadict[entry]\n",
    "        return filteredList\n",
    "\n",
    "    def readJson(self , path):\n",
    "        f = open(path)\n",
    "        data = json.loads(f.read())\n",
    "        return data"
   ]
  },
  {
   "cell_type": "code",
   "execution_count": 16,
   "metadata": {
    "collapsed": true
   },
   "outputs": [],
   "source": [
    "class Similarity:\n",
    "    def intersect(a, b):\n",
    "        result=[]\n",
    "        for i in b:\n",
    "            if isinstance(i,list):\n",
    "                result.append(intersect(a,i))\n",
    "            else:\n",
    "                if i in a:\n",
    "                     result.append(i)\n",
    "        return result\n",
    "\n",
    "    def JaccardSim(l1 , l2):\n",
    "        intersection = list(set(l1).intersection(l2))\n",
    "        union = list(set(l1).union(l2))\n",
    "        #intersection = intersect(l1 , l2)\n",
    "        jaccard = float(len(intersection)/len(union))*1.0\n",
    "        #jaccard = float(len(intersection)/(len(l1) + len(l2)))*1.0\n",
    "        return jaccard\n",
    "\n",
    "    def similarityMatrix(ANPList):\n",
    "        simMatrix = np.zeros((len(ANPList),len(ANPList)))\n",
    "        for i in range(len(ANPList)):\n",
    "            for j in range(len(ANPList)):\n",
    "                jacSim = JaccardSim(ANPList[i],ANPList[j])\n",
    "                simMatrix[i][j] = jacSim\n",
    "        return simMatrix\n",
    "\n",
    "    def autocorr(x):\n",
    "        result = np.correlate(x, x, mode='full')\n",
    "        return result[result.size/2:]\n",
    "\n",
    "    def findAutocorr(sentimatrix):\n",
    "        autocorr_matrix = []\n",
    "        for i in range(senti_matrix.shape[0]):\n",
    "            autocorr_matrix.append(list(autocorr(senti_matrix[i])))\n",
    "        return np.asarray(autocorr_matrix)\n",
    "    \n",
    "    "
   ]
  },
  {
   "cell_type": "code",
   "execution_count": 35,
   "metadata": {
    "collapsed": false
   },
   "outputs": [
    {
     "name": "stdout",
     "output_type": "stream",
     "text": [
      "0.0221660122533 0.0150958988816 0.00100915000285\n"
     ]
    }
   ],
   "source": [
    "\n",
    "f = open(ClassFile ,'r')\n",
    "sentibankClasses = f.readlines()\n",
    "f.close()\n",
    "\n",
    "maxVecs = np.zeros(len(unpopular_vineProbs))\n",
    "for i in range(len(unpopular_vineProbs)):\n",
    "    maxVecs[i] = np.max(unpopular_vineProbs[i])\n",
    "print np.mean(maxVecs) , np.median(maxVecs) , np.var(maxVecs)\n",
    "\n",
    "upObj = UnpopularVids()\n",
    "popObj = PopularVids()"
   ]
  },
  {
   "cell_type": "code",
   "execution_count": 18,
   "metadata": {
    "collapsed": false
   },
   "outputs": [
    {
     "name": "stdout",
     "output_type": "stream",
     "text": [
      "0.0214652778476 0.0156120234169 0.000478212839106\n"
     ]
    }
   ],
   "source": [
    "maxVecspop = np.zeros(len(vineProbs))\n",
    "for i in range(len(vineProbs)):\n",
    "    maxVecspop[i] = np.max(vineProbs[i])\n",
    "print np.mean(maxVecspop) , np.median(maxVecspop) , np.var(maxVecspop)"
   ]
  },
  {
   "cell_type": "code",
   "execution_count": 19,
   "metadata": {
    "collapsed": false
   },
   "outputs": [
    {
     "name": "stdout",
     "output_type": "stream",
     "text": [
      "138256\n"
     ]
    }
   ],
   "source": [
    "curatedProbs_index = []\n",
    "for i in range(len(vineProbs)):\n",
    "#     if (vineProbs[i].max() > (np.mean(maxVecspop))):\n",
    "    curatedProbs_index.append(i)\n",
    "\n",
    "        \n",
    "print len(curatedProbs_index)"
   ]
  },
  {
   "cell_type": "code",
   "execution_count": 27,
   "metadata": {
    "collapsed": false
   },
   "outputs": [],
   "source": [
    "unpop_vineList = readLists(unpop_vineANPs)\n",
    "pop_vineList = readLists(pop_vineANPs)\n",
    "unpop_idList, unpop_anpList = upObj.get_ANP_ID_List(unpop_vineList , 5)\n",
    "pop_idList, pop_anpList = popObj.get_ANP_ID_List(pop_vineList , 6)"
   ]
  },
  {
   "cell_type": "code",
   "execution_count": 28,
   "metadata": {
    "collapsed": false
   },
   "outputs": [
    {
     "name": "stdout",
     "output_type": "stream",
     "text": [
      "1378463109282406400 modern_jive\n"
     ]
    }
   ],
   "source": [
    "print unpop_idList[1000] , unpop_anpList [1000]"
   ]
  },
  {
   "cell_type": "code",
   "execution_count": 36,
   "metadata": {
    "collapsed": false
   },
   "outputs": [
    {
     "name": "stdout",
     "output_type": "stream",
     "text": [
      "150443\n"
     ]
    }
   ],
   "source": [
    "megaDict_unpop = upObj.get_VID_ANP_List(unpop_vineList , 5)"
   ]
  },
  {
   "cell_type": "code",
   "execution_count": 37,
   "metadata": {
    "collapsed": false
   },
   "outputs": [
    {
     "name": "stdout",
     "output_type": "stream",
     "text": [
      "138256\n"
     ]
    }
   ],
   "source": [
    "megaDict_pop = popObj.get_VID_ANP_List(pop_vineList , 6)"
   ]
  },
  {
   "cell_type": "code",
   "execution_count": 38,
   "metadata": {
    "collapsed": true
   },
   "outputs": [],
   "source": [
    "filteredDict_pop = popObj.pruneMegaDict(megaDict_pop, curatedProbs_index)"
   ]
  },
  {
   "cell_type": "code",
   "execution_count": 39,
   "metadata": {
    "collapsed": true
   },
   "outputs": [],
   "source": [
    "postIds_unpop = []\n",
    "for line in unpop_vineList:\n",
    "    arr = line.split('/')\n",
    "    i = int(arr[5].split('_')[0])\n",
    "    postIds_unpop.append(i)"
   ]
  },
  {
   "cell_type": "code",
   "execution_count": 40,
   "metadata": {
    "collapsed": true
   },
   "outputs": [],
   "source": [
    "sentidict0 = readSentiments()\n",
    "sentidict = readRevisedSentiments()"
   ]
  },
  {
   "cell_type": "code",
   "execution_count": 61,
   "metadata": {
    "collapsed": true
   },
   "outputs": [],
   "source": [
    "Mean_sentiment_csv = {}"
   ]
  },
  {
   "cell_type": "code",
   "execution_count": 62,
   "metadata": {
    "collapsed": false
   },
   "outputs": [
    {
     "name": "stdout",
     "output_type": "stream",
     "text": [
      "(11992, 12)\n",
      "7934\n"
     ]
    }
   ],
   "source": [
    "unpop_senti_matrix = np.zeros((len(megaDict_unpop),12))\n",
    "ANP_matrix_unpop = list()\n",
    "print unpop_senti_matrix.shape\n",
    "\n",
    "i = 0\n",
    "misses = 0\n",
    "unpop_postIdFilteredList = []\n",
    "\n",
    "for entry in megaDict_unpop:\n",
    "    unpop_postIdFilteredList.append(entry)\n",
    "    ANPEntry = list()\n",
    "    for j in range(1,13):\n",
    "        \n",
    "        if j in megaDict_unpop[entry]:\n",
    "            unpop_senti_matrix[i][j-1] = sentidict[megaDict_unpop[entry][j]] \\\n",
    "            if (megaDict_unpop[entry][j] in sentidict) \\\n",
    "            else sentidict[megaDict_unpop[entry][j-1]]\n",
    "            \n",
    "            ANPEntry.append(megaDict_unpop[entry][j])\n",
    "        else:\n",
    "            last = ANPEntry[-1]\n",
    "            ANPEntry.append(last)\n",
    "            unpop_senti_matrix[i][j-1] = unpop_senti_matrix[i][j-2]\n",
    "            misses += 1\n",
    "    Mean_sentiment_csv[entry] = np.median(unpop_senti_matrix[i])\n",
    "    ANP_matrix_unpop.append(ANPEntry)\n",
    "    i += 1\n",
    "print misses"
   ]
  },
  {
   "cell_type": "code",
   "execution_count": 63,
   "metadata": {
    "collapsed": false
   },
   "outputs": [
    {
     "name": "stdout",
     "output_type": "stream",
     "text": [
      "(11449, 12)\n",
      "4631\n"
     ]
    }
   ],
   "source": [
    "pop_senti_matrix = np.zeros((len(megaDict_pop),12))\n",
    "ANP_matrix_pop = list()\n",
    "print pop_senti_matrix.shape\n",
    "\n",
    "i = 0\n",
    "misses = 0\n",
    "pop_postIdFilteredList = []\n",
    "for entry in megaDict_pop:\n",
    "    pop_postIdFilteredList.append(entry)\n",
    "    ANPEntry = list()\n",
    "    for j in range(1,13):\n",
    "        \n",
    "        if j in megaDict_pop[entry]:\n",
    "            pop_senti_matrix[i][j-1] = sentidict[megaDict_pop[entry][j]] \\\n",
    "            if (megaDict_pop[entry][j] in sentidict) \\\n",
    "            else sentidict[megaDict_pop[entry][j-1]]\n",
    "            \n",
    "            ANPEntry.append(megaDict_pop[entry][j])\n",
    "        else:\n",
    "            last = ANPEntry[-1]\n",
    "            ANPEntry.append(last)\n",
    "            pop_senti_matrix[i][j-1] = pop_senti_matrix[i][j-2]\n",
    "            misses += 1\n",
    "    Mean_sentiment_csv[entry] = np.median(unpop_senti_matrix[i])\n",
    "    ANP_matrix_pop.append(ANPEntry)\n",
    "    i += 1\n",
    "print misses"
   ]
  },
  {
   "cell_type": "code",
   "execution_count": 64,
   "metadata": {
    "collapsed": false
   },
   "outputs": [],
   "source": [
    "#f = open(mean_sentiment_store,'w+')\n",
    "sentiments = []\n",
    "for k in Mean_sentiment_csv:\n",
    "    sentiments.append(Mean_sentiment_csv[k])\n",
    "    #f.write(line)\n",
    "#f.close()    "
   ]
  },
  {
   "cell_type": "code",
   "execution_count": 65,
   "metadata": {
    "collapsed": false
   },
   "outputs": [
    {
     "data": {
      "image/png": "[encoded data removed]",
      "text/plain": [
       "<matplotlib.figure.Figure at 0x7fcbaf4bf910>"
      ]
     },
     "metadata": {},
     "output_type": "display_data"
    }
   ],
   "source": [
    "fig, ax = plt.subplots()\n",
    "fig.set_size_inches(15, 10)\n",
    "n, bins, patches = plt.hist(sentiments, 20, normed=0,histtype='step', cumulative=False,linewidth = 3.0)\n",
    "plt.show()"
   ]
  },
  {
   "cell_type": "code",
   "execution_count": null,
   "metadata": {
    "collapsed": false
   },
   "outputs": [],
   "source": [
    "popular_color_features = \"../Logs/vine_features_ordered.csv\"\n",
    "pop_features = readFeatureFile(popular_color_features)\n",
    "popfeatures_matrix , popposts = readFeatures(pop_features)"
   ]
  },
  {
   "cell_type": "code",
   "execution_count": null,
   "metadata": {
    "collapsed": false
   },
   "outputs": [],
   "source": [
    "print pop_postIdFilteredList[1]"
   ]
  },
  {
   "cell_type": "code",
   "execution_count": null,
   "metadata": {
    "collapsed": false
   },
   "outputs": [],
   "source": [
    "commons = []\n",
    "for i in popposts:\n",
    "    if int(i) in pop_postIdFilteredList:\n",
    "        commons.append(i)\n",
    "        \n",
    "    "
   ]
  },
  {
   "cell_type": "code",
   "execution_count": null,
   "metadata": {
    "collapsed": false
   },
   "outputs": [],
   "source": [
    "\n",
    "\n",
    "s1 = np.random.choice(pop_senti_matrix.shape[0] , unpop_senti_matrix.shape[0])\n",
    "sampled_pop_senti_matrix = pop_senti_matrix[s1,:]\n",
    "\n",
    "\n",
    "senti_vector_unpop = np.mean(unpop_senti_matrix, axis = 1)\n",
    "senti_vector_pop = np.mean(sampled_pop_senti_matrix, axis=1)\n",
    "sampled_pop_posts = [pop_postIdFilteredList[i] for i in s1]\n"
   ]
  },
  {
   "cell_type": "code",
   "execution_count": null,
   "metadata": {
    "collapsed": false
   },
   "outputs": [],
   "source": [
    "print len(sampled_pop_posts), len(unpop_postIdFilteredList)"
   ]
  },
  {
   "cell_type": "code",
   "execution_count": null,
   "metadata": {
    "collapsed": false
   },
   "outputs": [],
   "source": [
    "saverPosts = np.asarray(sampled_pop_posts + unpop_postIdFilteredList , dtype='int')\n",
    "print saverPosts.shape\n",
    "saverMeanSentiments = np.concatenate((senti_vector_pop,senti_vector_unpop) ,axis = 0)\n",
    "print saverMeanSentiments.shape\n",
    "labels = np.concatenate((np.ones(len(sampled_pop_posts) , dtype='int'),np.zeros(len(unpop_postIdFilteredList),dtype='int')),axis = 0)\n",
    "print labels.shape\n"
   ]
  },
  {
   "cell_type": "code",
   "execution_count": null,
   "metadata": {
    "collapsed": false
   },
   "outputs": [],
   "source": [
    "# f = open(savedSentiments , 'a+')\n",
    "# for i in range(len(saverPosts)):\n",
    "#     logline = str(saverPosts[i]) + \",\" + str(labels[i]) + \",\" + str(saverMeanSentiments[i]) + \"\\n\"\n",
    "#     f.write(logline)\n",
    "# f.close()"
   ]
  },
  {
   "cell_type": "code",
   "execution_count": null,
   "metadata": {
    "collapsed": false
   },
   "outputs": [],
   "source": [
    "from scipy.stats import norm\n",
    "import matplotlib.mlab as mlab\n",
    "\n",
    "# best fit of data\n",
    "(mu1, sigma1) = norm.fit(senti_vector_unpop)\n",
    "(mu2, sigma2) = norm.fit(senti_vector_pop)\n",
    "\n",
    "fig, ax = plt.subplots()\n",
    "fig.set_size_inches(15, 10)\n",
    "n1 , bins1 , patches1 = plt.hist(senti_vector_unpop, 100, normed=1,histtype='bar', cumulative=False,linewidth = 1.0)\n",
    "n2 , bins2 , patches2 = plt.hist(senti_vector_pop, 100, normed=1,histtype='bar', cumulative=False,linewidth = 1.0)\n",
    "\n",
    "y1 = mlab.normpdf( bins1, mu1, sigma1)\n",
    "l1 = plt.plot(bins1, y1, 'r--', linewidth=2)\n",
    "\n",
    "y2 = mlab.normpdf( bins2, mu2, sigma2)\n",
    "l2 = plt.plot(bins2, y2, 'r', linewidth=2)\n",
    "\n",
    "\n",
    "#plt.plot(senti_vector_unpop)\n",
    "#plt.plot(s1)\n",
    "\n",
    "plt.title(\"Distribution of sentiments in Popular and unpopular videos\", fontsize = 20)\n",
    "plt.xlabel(\"Sentiment value\",fontsize = 20)\n",
    "plt.ylabel(\"Frequency\",fontsize = 20)\n",
    "plt.legend(['Sentiment Distribution Unpopular Vines' ,'Sentiment Distribution Popular Vines'], loc='upper left')\n",
    "plt.grid()\n",
    "plt.show()"
   ]
  },
  {
   "cell_type": "code",
   "execution_count": null,
   "metadata": {
    "collapsed": true
   },
   "outputs": [],
   "source": [
    "def calculateMaxMinGraphs(senti_matrix):\n",
    "    maxGraph = np.zeros(senti_matrix.shape[1])\n",
    "    minGraph = np.zeros(senti_matrix.shape[1])\n",
    "    varMaxGraph = np.zeros(senti_matrix.shape[1])\n",
    "    varMinGraph = np.zeros(senti_matrix.shape[1])\n",
    "    differenceList = []\n",
    "    id1 = []\n",
    "    id2 = []\n",
    "    for i in range(len(senti_matrix)):\n",
    "        a = max(senti_matrix[i])\n",
    "        b = min(senti_matrix[i])\n",
    "        median_sent = np.median(senti_matrix[i])\n",
    "        diff = a - b\n",
    "\n",
    "        diff2 = a - median_sent\n",
    "        if diff > 0.5:\n",
    "            ind1 = senti_matrix[i].tolist().index(a)\n",
    "            if ind1 < 2:\n",
    "                 id1.append(i)\n",
    "            maxGraph[ind1] += 1\n",
    "            ind2 = senti_matrix[i].tolist().index(b)\n",
    "            if ind2 < 2:\n",
    "                 id2.append(i)\n",
    "            minGraph[ind2] += 1\n",
    "            differenceList.append(diff)\n",
    "\n",
    "\n",
    "    maxGraph = maxGraph/senti_matrix.shape[0]\n",
    "    minGraph = minGraph/senti_matrix.shape[0]\n",
    "#     print maxGraph\n",
    "#     print minGraph\n",
    "#     print senti_matrix.shape\n",
    "#     print np.sum(maxGraph),np.sum(minGraph)\n",
    "#     print len(id1) , len(id2)\n",
    "    return maxGraph , minGraph ,differenceList"
   ]
  },
  {
   "cell_type": "code",
   "execution_count": null,
   "metadata": {
    "collapsed": false
   },
   "outputs": [],
   "source": [
    "maxGraph_pop, minGraph_pop, diffpop  = calculateMaxMinGraphs(sampled_pop_senti_matrix)\n"
   ]
  },
  {
   "cell_type": "code",
   "execution_count": null,
   "metadata": {
    "collapsed": true
   },
   "outputs": [],
   "source": [
    "maxGraph_unpop , minGraph_unpop , diffunpop = calculateMaxMinGraphs(unpop_senti_matrix)"
   ]
  },
  {
   "cell_type": "code",
   "execution_count": null,
   "metadata": {
    "collapsed": false
   },
   "outputs": [],
   "source": [
    "fig, ax = plt.subplots()\n",
    "fig.set_size_inches(15, 10)\n",
    "n, bins, patches = plt.hist(diffpop, 20, normed=0,histtype='step', cumulative=False,linewidth = 3.0)\n",
    "n, bins, patches = plt.hist(diffunpop, 20, normed=0,histtype='step', cumulative=False,linewidth = 3.0)\n",
    "plt.title(\"Distribution of difference between maximum and minimum sentiment in a video\", fontsize = 20)\n",
    "plt.xlabel(\"Sentiment value\",fontsize = 15)\n",
    "plt.ylabel(\"Frequency\",fontsize = 15)\n",
    "plt.show()"
   ]
  },
  {
   "cell_type": "code",
   "execution_count": null,
   "metadata": {
    "collapsed": false
   },
   "outputs": [],
   "source": [
    "fig, ax = plt.subplots()\n",
    "fig.set_size_inches(15, 10)\n",
    "plt.xlabel(\"Nth 0.5 second interval into the video\",fontsize = 15)\n",
    "plt.ylabel(\"Frequency\",fontsize = 15)\n",
    "plt.plot(maxGraph_pop,linewidth = 1.5)\n",
    "plt.plot(minGraph_pop,linewidth = 1.5)\n",
    "plt.plot(maxGraph_unpop,linewidth = 1.5)\n",
    "plt.plot(minGraph_unpop,linewidth = 1.5)\n",
    "\n",
    "plt.legend(['Max Value', 'Min Value'   \n",
    "           ])\n",
    "plt.show()"
   ]
  },
  {
   "cell_type": "code",
   "execution_count": null,
   "metadata": {
    "collapsed": false
   },
   "outputs": [],
   "source": [
    "fig, ax = plt.subplots()\n",
    "fig.set_size_inches(15, 10)\n",
    "ind = np.arange(len(maxGraph_pop)) \n",
    "width = 0.15\n",
    "## the bars\n",
    "rects1 = ax.bar(ind, maxGraph_pop, width,\n",
    "                color='b')\n",
    "rects2 = ax.bar(ind+width, minGraph_pop, width,\n",
    "                color='g')\n",
    "rects3 = ax.bar(ind+2*width, maxGraph_unpop, width,\n",
    "                color='r')\n",
    "rects4 = ax.bar(ind+3*width, minGraph_unpop, width,\n",
    "                color='purple')\n",
    "\n",
    "# add some text for labels, title and axes ticks\n",
    "ax.set_ylabel('Number of occurances of Max/Min Sentiments',fontsize=15)\n",
    "ax.set_xlabel('Sampled Frame index',fontsize=15)\n",
    "plt.legend(['Popular Vines, Max Sentiments' ,'Popular Vines, Min Sentiment','Unpopular Vines, Max Sentiments' ,'Unpopular Vines, Min Sentiment'], loc='upper right')\n",
    "ax.set_xticks(ind )\n",
    "\n",
    "plt.show()"
   ]
  },
  {
   "cell_type": "code",
   "execution_count": null,
   "metadata": {
    "collapsed": false
   },
   "outputs": [],
   "source": [
    "global_sentiment_matrix = np.concatenate((sampled_pop_senti_matrix ,unpop_senti_matrix) , axis = 0 )"
   ]
  },
  {
   "cell_type": "code",
   "execution_count": null,
   "metadata": {
    "collapsed": true
   },
   "outputs": [],
   "source": [
    "from scipy.cluster.vq import kmeans,vq\n",
    "from scipy.spatial.distance import minkowski\n",
    "\n",
    "centroid_list = []\n",
    "id_list = []\n",
    "for i in range(1 , 12):\n",
    "    centroids,_ = kmeans(global_sentiment_matrix,i)\n",
    "    idx,_ = vq(global_sentiment_matrix,centroids)\n",
    "    centroid_list.append(centroids)\n",
    "    id_list.append(idx)\n",
    "    \n",
    "SSE_values = np.zeros(len(id_list))\n",
    "for i in range(len(centroid_list)):\n",
    "    for j in range(len(centroid_list[i])):\n",
    "        vecs = global_sentiment_matrix[id_list[i]==j,:]\n",
    "        #print vecs.shape\n",
    "        cent = centroid_list[i][j]\n",
    "        SSE_1 = 0.0\n",
    "        for vec in vecs:\n",
    "            SSE_1 = SSE_1 + minkowski(vec,cent,2)\n",
    "        SSE_values[j] = SSE_values[j] + SSE_1\n",
    "for i in range(len(SSE_values)):\n",
    "    SSE_values[i] = SSE_values[i]/(i+1)"
   ]
  },
  {
   "cell_type": "code",
   "execution_count": null,
   "metadata": {
    "collapsed": false
   },
   "outputs": [],
   "source": [
    "fig, ax = plt.subplots()\n",
    "fig.set_size_inches(15, 10)\n",
    "plt.rc('xtick', labelsize=20) \n",
    "plt.rc('ytick', labelsize=20)\n",
    "x = np.arange(1,11)\n",
    "plt.plot(x,SSE_values[:10] ,linewidth = 3.0)\n",
    "plt.xlabel(\"Number of Clusters\", fontsize = 25)\n",
    "plt.ylabel(\"Mean Minkowski distance from cluster centroids\", fontsize = 25)\n",
    "plt.title(\"Cluster groupings for Sentiment vectors of Videos\", fontsize = 25)\n",
    "plt.show()"
   ]
  },
  {
   "cell_type": "code",
   "execution_count": null,
   "metadata": {
    "collapsed": false
   },
   "outputs": [],
   "source": [
    "low_dim_centroid_final,_ = kmeans(global_sentiment_matrix,4)\n",
    "low_dim_idx_final,_ = vq(global_sentiment_matrix,low_dim_centroid_final)\n",
    "\n",
    "fig, ax = plt.subplots()\n",
    "fig.set_size_inches(20, 15)\n",
    "plt.rc('xtick', labelsize=20) \n",
    "plt.rc('ytick', labelsize=20)\n",
    "plt.title(\"Sentiment transition graphs for all cluster centroids\", fontsize = 25)\n",
    "plt.plot(low_dim_centroid_final[0], linewidth = 2.0)\n",
    "plt.plot(low_dim_centroid_final[1], linewidth = 2.0)\n",
    "plt.plot(low_dim_centroid_final[2], linewidth = 2.0)\n",
    "plt.plot(low_dim_centroid_final[3], linewidth = 2.0)\n",
    "#plt.plot(centroid_final[4], linewidth = 2.0 )\n",
    "# plt.plot(centroid_final[5], linewidth = 2.0 )\n",
    "# plt.plot(centroid_final[6], linewidth = 2.0 )\n",
    "\n",
    "plt.xlabel(\"nth second into the video\", fontsize = 25)\n",
    "plt.ylabel(\"Sentiment\", fontsize = 25)\n",
    "plt.legend(['Cluster 1', 'Cluster 2' , 'Cluster 3' \n",
    "            ,'Cluster 4'\n",
    "            ,'Cluster 5'\n",
    "            #,'Cluster 6'\n",
    "            #,'Cluster 7'\n",
    "            \n",
    "           ])\n",
    "plt.show()"
   ]
  },
  {
   "cell_type": "code",
   "execution_count": null,
   "metadata": {
    "collapsed": true
   },
   "outputs": [],
   "source": [
    "def autocorr(x):\n",
    "    result = np.correlate(x, x, mode='full')\n",
    "    return result[result.size/2:]\n",
    "\n",
    "def findAutocorr(matrix):\n",
    "    autocorr_matrix = []\n",
    "    for i in range(matrix.shape[0]):\n",
    "        autocorr_matrix.append(list(autocorr(matrix[i])))\n",
    "    return np.asarray(autocorr_matrix)"
   ]
  },
  {
   "cell_type": "code",
   "execution_count": null,
   "metadata": {
    "collapsed": false
   },
   "outputs": [],
   "source": [
    "pop_autocorr_matrix = findAutocorr(sampled_pop_senti_matrix)\n",
    "unpop_autocorr_matrix = findAutocorr(unpop_senti_matrix)"
   ]
  },
  {
   "cell_type": "code",
   "execution_count": null,
   "metadata": {
    "collapsed": false
   },
   "outputs": [],
   "source": [
    "unpop_auto = np.median(unpop_autocorr_matrix,axis=0)"
   ]
  },
  {
   "cell_type": "code",
   "execution_count": null,
   "metadata": {
    "collapsed": false
   },
   "outputs": [],
   "source": [
    "pop_auto =  np.median(pop_autocorr_matrix,axis=0)"
   ]
  },
  {
   "cell_type": "code",
   "execution_count": null,
   "metadata": {
    "collapsed": false
   },
   "outputs": [],
   "source": [
    "fig, ax = plt.subplots()\n",
    "fig.set_size_inches(15, 10)\n",
    "plt.rc('xtick', labelsize=20) \n",
    "plt.rc('ytick', labelsize=20)\n",
    "x = np.arange(1,13)\n",
    "plt.plot(x,unpop_auto ,linewidth = 3.0)\n",
    "plt.plot(x,pop_auto ,linewidth = 3.0)\n",
    "plt.xlabel(\"Time T\", fontsize = 25)\n",
    "plt.ylabel(\"Auto correlation\", fontsize = 25)\n",
    "plt.title(\"AutoCorrelation drop off for popular and unpopular videos\", fontsize = 25)\n",
    "plt.legend(['Unpopular Videos', 'Popular videos' ]) \n",
    "plt.show()"
   ]
  },
  {
   "cell_type": "code",
   "execution_count": null,
   "metadata": {
    "collapsed": true
   },
   "outputs": [],
   "source": []
  }
 ],
 "metadata": {
  "kernelspec": {
   "display_name": "Python 2",
   "language": "python",
   "name": "python2"
  },
  "language_info": {
   "codemirror_mode": {
    "name": "ipython",
    "version": 2
   },
   "file_extension": ".py",
   "mimetype": "text/x-python",
   "name": "python",
   "nbconvert_exporter": "python",
   "pygments_lexer": "ipython2",
   "version": "2.7.6"
  }
 },
 "nbformat": 4,
 "nbformat_minor": 0
}
