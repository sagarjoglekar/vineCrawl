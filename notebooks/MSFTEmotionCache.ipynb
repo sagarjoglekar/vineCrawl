{
 "cells": [
  {
   "cell_type": "code",
   "execution_count": 1,
   "metadata": {
    "collapsed": false
   },
   "outputs": [
    {
     "name": "stderr",
     "output_type": "stream",
     "text": [
      "Using gpu device 0: GeForce GTX 980 (CNMeM is disabled, CuDNN 3007)\n"
     ]
    }
   ],
   "source": [
    "import numpy as np\n",
    "#import cv2\n",
    "\n",
    "from multiprocessing.pool import ThreadPool\n",
    "from collections import deque\n",
    "import matplotlib.pyplot as plt\n",
    "import json\n",
    "########### Python 2.7 #############\n",
    "import httplib, urllib, base64\n",
    "import time\n",
    "import sys\n",
    "sys.path.append(\"../lib\")\n",
    "from load import getValData\n",
    "from load import faces\n",
    "import pickle\n",
    "%matplotlib inline\n",
    "import matplotlib.pyplot as plt\n",
    "import matplotlib.cm as cm\n",
    "import os\n",
    "from six.moves import cPickle\n",
    "from numpy import genfromtxt\n"
   ]
  },
  {
   "cell_type": "code",
   "execution_count": null,
   "metadata": {
    "collapsed": false
   },
   "outputs": [],
   "source": [
    "trX, teX, trY, teY = faces(onehot=True)\n",
    "\n",
    "# ValX , ValY = getValData()\n",
    "teX = trX.reshape(-1, 1, 48, 48)\n",
    "# ValX = ValX.reshape(-1, 1, 48, 48)"
   ]
  },
  {
   "cell_type": "code",
   "execution_count": null,
   "metadata": {
    "collapsed": true
   },
   "outputs": [],
   "source": [
    "#teX = genfromtxt('../CKPlus/CKfaces.csv', delimiter=',')\n",
    "#teX = teX.reshape(-1, 1, 48, 48)"
   ]
  },
  {
   "cell_type": "code",
   "execution_count": null,
   "metadata": {
    "collapsed": false
   },
   "outputs": [],
   "source": [
    "teX = teX[17361:]\n",
    "print teX.shape"
   ]
  },
  {
   "cell_type": "code",
   "execution_count": null,
   "metadata": {
    "collapsed": false
   },
   "outputs": [],
   "source": [
    "#teY = genfromtxt('../CKPlus/labels.csv', delimiter=',')\n",
    "print teY.shape"
   ]
  },
  {
   "cell_type": "code",
   "execution_count": null,
   "metadata": {
    "collapsed": true
   },
   "outputs": [],
   "source": [
    "headers = {\n",
    "    # Request headers\n",
    "    'Content-Type': 'application/octet-stream',\n",
    "    'Ocp-Apim-Subscription-Key': '0a262268ddda47fab90091594d36936a',\n",
    "}\n",
    "\n",
    "params = urllib.urlencode({\n",
    "    # Request parameters\n",
    "    'faceRectangles': '{string}',\n",
    "})\n",
    "\n",
    "imgPath = \"../Data/1450656001/faces/1290435672271888384/112.jpg\"\n",
    "payload = \"{ 'url': 'www.inf.kcl.ac.uk/pg/sagarj/images/Sagar_Pic.jpg' }\"\n",
    "\n",
    "mimeString = \"data:image/jpg;base64,\"\n",
    "\n",
    "scoreFile = \"../Logs/MsftTrainScores3.pkl\"\n",
    "\n"
   ]
  },
  {
   "cell_type": "code",
   "execution_count": null,
   "metadata": {
    "collapsed": true
   },
   "outputs": [],
   "source": [
    "def getPayload(filePath):\n",
    "    with open(filePath, \"rb\") as imageFile:\n",
    "        f = imageFile.read()\n",
    "        b = bytearray(f)\n",
    "    return b\n",
    "\n",
    "def makeEmoRequest(payload):\n",
    "    data = {}\n",
    "    try:\n",
    "        conn = httplib.HTTPSConnection('api.projectoxford.ai')\n",
    "        conn.request(\"POST\", \"/emotion/v1.0/recognize?\", payload , headers)\n",
    "        response = conn.getresponse()\n",
    "        data = json.loads(response.read())\n",
    "        print response.status, response.reason\n",
    "        conn.close()\n",
    "    except Exception as e:\n",
    "        print e\n",
    "        return None\n",
    "    return data"
   ]
  },
  {
   "cell_type": "markdown",
   "metadata": {},
   "source": [
    "0=Angry, 1=Disgust, 2=Fear, 3=Happy, 4=Sad, 5=Surprise, 6=Neutral"
   ]
  },
  {
   "cell_type": "code",
   "execution_count": null,
   "metadata": {
    "collapsed": false
   },
   "outputs": [],
   "source": [
    "for i in range(len(teX)):\n",
    "    plt.imshow(teX[i][0],cmap = cm.Greys_r)\n",
    "    plt.savefig('tmp')\n",
    "    time.sleep(2)\n",
    "    image = getPayload(\"tmp.png\")\n",
    "    time.sleep(8)\n",
    "    data = makeEmoRequest(image)\n",
    "    \n",
    "    time.sleep(2)\n",
    "    if len(data) == 0:\n",
    "        logline = str(0.143) + \",\" + str(0.143) + \",\" + str(0.143) + \\\n",
    "        \",\" + str(0.143) + \",\" + str(0.143) + \",\" + str(0.143) + \\\n",
    "        \",\" + str(0.143)\n",
    "    else:\n",
    "        face = data[0]\n",
    "        logline = str(face['scores']['anger']) + \",\" + str(face['scores']['disgust']) + \",\" + str(face['scores']['fear']) + \\\n",
    "        \",\" + str(face['scores']['happiness']) + \",\" + str(face['scores']['sadness']) + \",\" + str(face['scores']['surprise']) + \\\n",
    "        \",\" + str(face['scores']['neutral'])\n",
    "    \n",
    "    print logline   \n",
    "    f = open(scoreFile, 'a+')\n",
    "    cPickle.dump(logline , f);\n",
    "    f.close()\n",
    "    os.remove(\"tmp.png\")"
   ]
  },
  {
   "cell_type": "code",
   "execution_count": null,
   "metadata": {
    "collapsed": false
   },
   "outputs": [],
   "source": [
    "print i"
   ]
  }
 ],
 "metadata": {
  "kernelspec": {
   "display_name": "Python 2",
   "language": "python",
   "name": "python2"
  },
  "language_info": {
   "codemirror_mode": {
    "name": "ipython",
    "version": 2
   },
   "file_extension": ".py",
   "mimetype": "text/x-python",
   "name": "python",
   "nbconvert_exporter": "python",
   "pygments_lexer": "ipython2",
   "version": "2.7.6"
  }
 },
 "nbformat": 4,
 "nbformat_minor": 0
}
