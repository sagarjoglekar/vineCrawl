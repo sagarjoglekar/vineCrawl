{
 "cells": [
  {
   "cell_type": "code",
   "execution_count": 1,
   "metadata": {
    "collapsed": true
   },
   "outputs": [],
   "source": [
    "import numpy as np\n",
    "%matplotlib inline\n",
    "import matplotlib.pyplot as plt\n",
    "import matplotlib.cm as cm\n",
    "import json\n",
    "import os\n",
    "import cPickle as pickle\n",
    "from collections import Counter\n",
    "import pandas\n",
    "from datetime import datetime\n",
    "from shutil import copyfile"
   ]
  },
  {
   "cell_type": "code",
   "execution_count": 117,
   "metadata": {
    "collapsed": true
   },
   "outputs": [],
   "source": [
    "popularRoot = \"/datasets/sagarj/vineData/Dataset/\"\n",
    "recentRoot = \"/datasets/sagarj/vine2016/Dataset/\"\n",
    "PostDir = \"savedPosts/\"\n",
    "popUserDir = \"Users/\"\n",
    "unpopUserDir = \"UserProfiles3/\"\n",
    "vidsDir = \"Videos/\"\n",
    "tracked = \"/postTracking/Day56/\"\n",
    "unpopularDir = \"/datasets/sagarj/UnPopular2016_senti/\"\n",
    "unpopVidsDir = unpopularDir + \"Videos/\"\n",
    "unpopPostsDir = unpopularDir + \"Posts/\"\n",
    "socialFeatures = \"../Final_features/postSocialMetaFeatures.pk\"\n"
   ]
  },
  {
   "cell_type": "code",
   "execution_count": 125,
   "metadata": {
    "collapsed": false
   },
   "outputs": [],
   "source": [
    "def readJson(path):\n",
    "    f = open(path)\n",
    "    data = json.loads(f.read())\n",
    "    return data\n",
    "\n",
    "def getPopular():\n",
    "    popularDir = popularRoot + postDir\n",
    "    popularPosts = os.listdir(popularDir)\n",
    "    posts = []\n",
    "    for post in popularPosts:\n",
    "        record = readJson(popularDir + post)\n",
    "        p = record['data']\n",
    "        if isinstance(p,dict):\n",
    "            posts.append(p['records'][0])\n",
    "    return posts\n",
    "\n",
    "def getUsersPop():\n",
    "    popularDir = popularRoot + popUserDir\n",
    "    popularPosts = os.listdir(popularDir)\n",
    "    userMetaDict = {}\n",
    "    posts = []\n",
    "    followers = []\n",
    "    for post in popularPosts:\n",
    "        record = readJson(popularDir + post)\n",
    "        p = record['data']\n",
    "        if isinstance(p,dict) and p.has_key('followerCount'):\n",
    "            posts.append(p)\n",
    "            userId = p['userId']\n",
    "            flwer= p['followerCount']\n",
    "            pastPosts = p['authoredPostCount']\n",
    "            followers.append(p['followerCount'])\n",
    "            #userMetaDict[userId] = [flwer , pastPosts]\n",
    "            userMetaDict[userId] = {'follower' : flwer , 'pastPosts': pastPosts}     \n",
    "    return posts , followers , userMetaDict\n",
    "\n",
    "def getUsersUnPop():\n",
    "    popularDir = recentRoot + unpopUserDir\n",
    "    popularPosts = os.listdir(popularDir)\n",
    "    posts = []\n",
    "    followers = []\n",
    "    userMetaDict = {}\n",
    "    for post in popularPosts:\n",
    "        record = readJson(popularDir + post)\n",
    "        p = record['data']\n",
    "        if isinstance(p,dict) and p.has_key('followerCount'):\n",
    "            posts.append(p)\n",
    "            userId = p['userId']\n",
    "            flwer = p['followerCount']\n",
    "            pastPosts = p['authoredPostCount']\n",
    "            followers.append(p['followerCount'])\n",
    "            userMetaDict[userId] = {'follower' : flwer , 'pastPosts': pastPosts}          \n",
    "    return posts , followers , userMetaDict\n",
    "\n",
    "def getCrawled(root , postDir):\n",
    "    crawledDir = root + postDir\n",
    "    crawledPosts = os.listdir(crawledDir)\n",
    "    print len(crawledPosts)\n",
    "    posts = []\n",
    "    postDict = {}\n",
    "    for post in crawledPosts:\n",
    "        postid = post.split('.')[0]\n",
    "        record = readJson(crawledDir + post)\n",
    "        p = record['data']\n",
    "        if isinstance(p,dict):\n",
    "            posts.append(p['records'][0])\n",
    "            postDict[postid] = p['records'][0]\n",
    "    print len(postDict.keys())\n",
    "    return posts , postDict\n",
    "\n",
    "def getPopMetrics(vineList):\n",
    "    likes = []\n",
    "    reposts = []\n",
    "    loops = []\n",
    "    timestamps = []\n",
    "    for vine in vineList:\n",
    "        likes.append(vine['likes']['count'])\n",
    "        reposts.append(vine['reposts']['count'])\n",
    "        loops.append(vine['loops']['count'])\n",
    "        timestamps.append(datetime.strptime(vine['created'], '%Y-%m-%dT%H:%M:%S.%f'))\n",
    "    return likes, reposts, loops, timestamps\n",
    "\n",
    "def copyList(listOfFiles,srcFolder , dstFolder):\n",
    "    if not os.path.exists(dstFolder):\n",
    "        os.makedirs(dstFolder)\n",
    "    for f in listOfFiles:\n",
    "        src = srcFolder + f\n",
    "        dst = dstFolder + f\n",
    "        copyfile(src , dst)\n",
    "        \n",
    "    sentiDict = {}\n",
    "    for line in lines:\n",
    "        comp = line.split(',')\n",
    "        sentiDict[comp[0]] = float(comp[1].strip())\n",
    "    return sentiDict\n",
    "\n",
    "def readFeatureFile(color_features):\n",
    "    with open(color_features) as g:\n",
    "        featureLines = g.readlines()\n",
    "    print len(featureLines)\n",
    "    return featureLines\n",
    "\n",
    "\n",
    "def postFollowerMapping(postsInterested , postDict , userDict ):\n",
    "    finalMeta = []\n",
    "    for postId in postsInterested:\n",
    "        if postId in postDict:\n",
    "            post = postDict[postId]\n",
    "            like = post['likes']['count']\n",
    "            loop = post['loops']['count']\n",
    "            reposts = post['reposts']['count']\n",
    "            user = post['userId']\n",
    "            if user in userDict:\n",
    "                userMeta = userDict[user]\n",
    "                logline = [postId,  userMeta['follower'], userMeta['pastPosts'] , loop , like , reposts ]\n",
    "                finalMeta.append(logline)\n",
    "    return finalMeta\n",
    "        \n",
    "        \n",
    "            \n",
    "        \n",
    "    \n"
   ]
  },
  {
   "cell_type": "code",
   "execution_count": 77,
   "metadata": {
    "collapsed": false
   },
   "outputs": [
    {
     "name": "stdout",
     "output_type": "stream",
     "text": [
      "122326\n",
      "122298\n"
     ]
    }
   ],
   "source": [
    "\n",
    "recentList , recentDict = getCrawled(recentRoot , postDir )"
   ]
  },
  {
   "cell_type": "code",
   "execution_count": 60,
   "metadata": {
    "collapsed": false
   },
   "outputs": [],
   "source": [
    "popularList = getPopular()"
   ]
  },
  {
   "cell_type": "code",
   "execution_count": 78,
   "metadata": {
    "collapsed": false
   },
   "outputs": [
    {
     "name": "stdout",
     "output_type": "stream",
     "text": [
      "113447\n",
      "78745\n"
     ]
    }
   ],
   "source": [
    "trackedList , trackedDict = getCrawled(recentRoot , tracked )"
   ]
  },
  {
   "cell_type": "code",
   "execution_count": 79,
   "metadata": {
    "collapsed": false
   },
   "outputs": [
    {
     "name": "stdout",
     "output_type": "stream",
     "text": [
      "11448\n",
      "11448\n"
     ]
    }
   ],
   "source": [
    "popList , popDict = getCrawled(popularRoot , postDir )"
   ]
  },
  {
   "cell_type": "code",
   "execution_count": 80,
   "metadata": {
    "collapsed": false
   },
   "outputs": [],
   "source": [
    "recentLikes , recentReposts, recentLoops , recentTimestamps = getPopMetrics(recentList)\n",
    "\n",
    "popLikes , popReposts, popLoops , popTimeStamps= getPopMetrics(popularList)\n",
    "\n",
    "trackedLikes , trackedReposts, trackedLoops , trackedTimeStamps= getPopMetrics(trackedList)"
   ]
  },
  {
   "cell_type": "code",
   "execution_count": null,
   "metadata": {
    "collapsed": false
   },
   "outputs": [],
   "source": []
  },
  {
   "cell_type": "code",
   "execution_count": 81,
   "metadata": {
    "collapsed": false
   },
   "outputs": [
    {
     "name": "stdout",
     "output_type": "stream",
     "text": [
      "133746\n"
     ]
    }
   ],
   "source": [
    "totalPostDict = recentDict.copy()\n",
    "totalPostDict.update(popDict)\n",
    "print len(totalPostDict.keys())"
   ]
  },
  {
   "cell_type": "code",
   "execution_count": 12,
   "metadata": {
    "collapsed": false
   },
   "outputs": [],
   "source": [
    "Likes = popLikes+ trackedLikes\n",
    "Reposts = popReposts+ recentReposts"
   ]
  },
  {
   "cell_type": "code",
   "execution_count": 13,
   "metadata": {
    "collapsed": true
   },
   "outputs": [],
   "source": [
    "Likes = map(lambda x: 1 if x == 0 else x, Likes)\n",
    "Reposts = map(lambda x: 1 if x == 0 else x, Reposts)"
   ]
  },
  {
   "cell_type": "code",
   "execution_count": 14,
   "metadata": {
    "collapsed": false
   },
   "outputs": [
    {
     "name": "stdout",
     "output_type": "stream",
     "text": [
      "1879.05072855 10.0 1376.81935908 1.0\n"
     ]
    }
   ],
   "source": [
    "print np.mean(recentLoops) , np.median(recentLoops) , np.mean(Reposts) , np.median(Reposts)"
   ]
  },
  {
   "cell_type": "code",
   "execution_count": 15,
   "metadata": {
    "collapsed": true
   },
   "outputs": [],
   "source": [
    "sampleL = np.random.choice(len(Likes) , 3000)\n",
    "sampleR = np.random.choice(len(Reposts) , 3000)"
   ]
  },
  {
   "cell_type": "code",
   "execution_count": 16,
   "metadata": {
    "collapsed": true
   },
   "outputs": [],
   "source": [
    "likes = [Likes[i] for i in sampleL]\n",
    "reposts = [Reposts[i] for i in sampleR]"
   ]
  },
  {
   "cell_type": "code",
   "execution_count": 17,
   "metadata": {
    "collapsed": false
   },
   "outputs": [
    {
     "data": {
      "image/png": "[encoded data removed]",
      "text/plain": [
       "<matplotlib.figure.Figure at 0x7f55535a6250>"
      ]
     },
     "metadata": {},
     "output_type": "display_data"
    }
   ],
   "source": [
    "fig, ax = plt.subplots()\n",
    "fig.set_size_inches(15, 10)\n",
    "plt.hist(np.log10(likes), 2000, normed=1,histtype='step', cumulative=True,linewidth = 3.0,linestyle='dashed')\n",
    "plt.hist(np.log10(reposts), 1000, normed=1,histtype='step', cumulative=True,linewidth = 3.0)\n",
    "plt.title(\"CDF for Likes and Repost\", fontsize = 25)\n",
    "plt.xlabel(\"Likes/repost count (Log scale)\",fontsize = 25)\n",
    "plt.ylabel(\"CDF\",fontsize = 25)\n",
    "plt.legend(['Likes' , 'Reposts'])\n",
    "plt.grid(True)\n",
    "plt.show()"
   ]
  },
  {
   "cell_type": "code",
   "execution_count": 18,
   "metadata": {
    "collapsed": false
   },
   "outputs": [
    {
     "name": "stdout",
     "output_type": "stream",
     "text": [
      "50\n"
     ]
    }
   ],
   "source": [
    "Top1000 = np.argsort(trackedLoops)[-50:]\n",
    "trackedTop1000 = [trackedLoops[i] for i in Top1000]\n",
    "trackedTop1000Posts = [trackedList[i] for i in Top1000]\n",
    "print len(trackedTop1000)"
   ]
  },
  {
   "cell_type": "code",
   "execution_count": 19,
   "metadata": {
    "collapsed": false
   },
   "outputs": [
    {
     "name": "stdout",
     "output_type": "stream",
     "text": [
      "2342021.0 2892075.04 3.36588050914e+12\n"
     ]
    }
   ],
   "source": [
    "print np.median(trackedTop1000) , np.mean(trackedTop1000) , np.var(trackedTop1000)"
   ]
  },
  {
   "cell_type": "code",
   "execution_count": 20,
   "metadata": {
    "collapsed": false
   },
   "outputs": [],
   "source": [
    "unpopular3000 = np.argsort(trackedLoops)[:12000]\n",
    "unpop3000loops = [trackedLoops[i] for i in unpopular3000]\n",
    "unpop3000Posts = [trackedList[i] for i in unpopular3000]"
   ]
  },
  {
   "cell_type": "code",
   "execution_count": 21,
   "metadata": {
    "collapsed": false
   },
   "outputs": [
    {
     "name": "stdout",
     "output_type": "stream",
     "text": [
      "20.0 19.4901666667 104.160236639\n"
     ]
    }
   ],
   "source": [
    "print np.median(unpop3000loops) , np.mean(unpop3000loops) , np.var(unpop3000loops)"
   ]
  },
  {
   "cell_type": "code",
   "execution_count": null,
   "metadata": {
    "collapsed": false
   },
   "outputs": [],
   "source": []
  },
  {
   "cell_type": "code",
   "execution_count": 22,
   "metadata": {
    "collapsed": true
   },
   "outputs": [],
   "source": [
    "unpopPostList = []\n",
    "for p in unpop3000Posts: \n",
    "    postid = p['postId']\n",
    "    filename = str(postid) + \".json\"\n",
    "    unpopPostList.append(filename)"
   ]
  },
  {
   "cell_type": "code",
   "execution_count": 23,
   "metadata": {
    "collapsed": false
   },
   "outputs": [
    {
     "name": "stdout",
     "output_type": "stream",
     "text": [
      "12000\n"
     ]
    }
   ],
   "source": [
    "print len(unpopPostList)"
   ]
  },
  {
   "cell_type": "code",
   "execution_count": 24,
   "metadata": {
    "collapsed": false
   },
   "outputs": [],
   "source": [
    "srcPosts = \"/datasets/sagarj/vine2016/Dataset//postTracking/Day24/\"\n",
    "copyList(unpopPostList, srcPosts , unpopPostsDir)"
   ]
  },
  {
   "cell_type": "code",
   "execution_count": 25,
   "metadata": {
    "collapsed": true
   },
   "outputs": [],
   "source": [
    "unpopVidList = []\n",
    "for p in unpop3000Posts: \n",
    "    postid = p['videoUrl'].split('/')[5].split('?')[0]\n",
    "    filename = str(postid)\n",
    "    unpopVidList.append(filename)"
   ]
  },
  {
   "cell_type": "code",
   "execution_count": 26,
   "metadata": {
    "collapsed": false
   },
   "outputs": [
    {
     "name": "stdout",
     "output_type": "stream",
     "text": [
      "['230718972B1385776682622914560_SW_WEBM_1473369102179d9822d43ab.mp4', '87FAA1D4B81385258722154414080_14732492335083d6cca748e.mp4.mp4', '77734EC1AC1385821679103909888_SW_WEBM_1473379829506c1dc42b9f1.mp4', 'D6838FE9501385258555023724544_14732491932683cac70e797.mp4.mp4', '24E858886D1385712794485547008_14733574938222ec0971b42.mp4.mp4', '4B511CE79E1385169351682224128_14732279248026e4b67d394.mp4.mp4', '7820DFAF741379823525757677568_147195329286818a307d974.mp4.mp4', '095492C70F1385168079927095296_14732276222460c336a9409.mp4.mp4', '04420FD0D31385827507911225344_SW_WEBM_14733812191934179b10875.mp4', 'C234A25A171385826720753545216_SW_WEBM_1473381031420d8223ebe7e.mp4']\n"
     ]
    }
   ],
   "source": [
    "print unpopVidList[:10]"
   ]
  },
  {
   "cell_type": "code",
   "execution_count": 27,
   "metadata": {
    "collapsed": false
   },
   "outputs": [],
   "source": [
    "# srcVids = recentRoot + vidsDir\n",
    "# copyList(unpopVidList, srcVids , unpopVidsDir)"
   ]
  },
  {
   "cell_type": "code",
   "execution_count": 28,
   "metadata": {
    "collapsed": false
   },
   "outputs": [
    {
     "data": {
      "image/png": "[encoded data removed]",
      "text/plain": [
       "<matplotlib.figure.Figure at 0x7f5553312190>"
      ]
     },
     "metadata": {},
     "output_type": "display_data"
    }
   ],
   "source": [
    "fig, ax = plt.subplots()\n",
    "fig.set_size_inches(15, 10)\n",
    "#plt.hist(popLikes, 1000, normed=1,histtype='step', cumulative=True,linewidth = 3.0,linestyle='dashed')\n",
    "#plt.hist(popReposts, 1000, normed=1,histtype='step', cumulative=False,linewidth = 3.0)\n",
    "plt.hist(trackedTop1000, 20, normed=1,histtype='step', cumulative=True,linewidth = 3.0)\n",
    "plt.title(\"CDF for Likes and Repost\", fontsize = 25)\n",
    "plt.xlabel(\"Likes/repost count (Log scale)\",fontsize = 25)\n",
    "plt.ylabel(\"CDF\",fontsize = 25)\n",
    "plt.legend(['Likes' , 'Reposts'])\n",
    "plt.grid(True)\n",
    "plt.show()"
   ]
  },
  {
   "cell_type": "code",
   "execution_count": 29,
   "metadata": {
    "collapsed": false
   },
   "outputs": [
    {
     "name": "stdout",
     "output_type": "stream",
     "text": [
      "318566.0 2405671.25227 4.50174420562e+13\n"
     ]
    }
   ],
   "source": [
    "print np.median(popLoops) , np.mean(popLoops) , np.var(popLoops)"
   ]
  },
  {
   "cell_type": "code",
   "execution_count": 30,
   "metadata": {
    "collapsed": false
   },
   "outputs": [
    {
     "name": "stdout",
     "output_type": "stream",
     "text": [
      "31622.7766017\n"
     ]
    }
   ],
   "source": [
    "print pow(10,4.5)"
   ]
  },
  {
   "cell_type": "code",
   "execution_count": 103,
   "metadata": {
    "collapsed": false
   },
   "outputs": [],
   "source": [
    "popUsers, popFollowers , popDict = getUsersPop()"
   ]
  },
  {
   "cell_type": "code",
   "execution_count": 104,
   "metadata": {
    "collapsed": false
   },
   "outputs": [
    {
     "name": "stdout",
     "output_type": "stream",
     "text": [
      "366738.428633 40012.0 2319\n"
     ]
    }
   ],
   "source": [
    "print np.mean(popFollowers) , np.median(popFollowers) , len(popFollowers)"
   ]
  },
  {
   "cell_type": "code",
   "execution_count": 105,
   "metadata": {
    "collapsed": false
   },
   "outputs": [],
   "source": [
    "unpopUsers, unpopFollowers , unpopDict = getUsersUnPop()"
   ]
  },
  {
   "cell_type": "code",
   "execution_count": 106,
   "metadata": {
    "collapsed": true
   },
   "outputs": [],
   "source": [
    "userDict = unpopDict.copy()\n",
    "userDict.update(popDict)"
   ]
  },
  {
   "cell_type": "code",
   "execution_count": 99,
   "metadata": {
    "collapsed": false
   },
   "outputs": [
    {
     "name": "stdout",
     "output_type": "stream",
     "text": [
      "36815\n"
     ]
    }
   ],
   "source": [
    "print len(userDict.keys())"
   ]
  },
  {
   "cell_type": "code",
   "execution_count": 34,
   "metadata": {
    "collapsed": false
   },
   "outputs": [
    {
     "name": "stdout",
     "output_type": "stream",
     "text": [
      "{u'username': u'twelve', u'twitterScreenname': u'shoyofam', u'followerCount': 14735, u'verified': 0, u'vanityUrls': [u'momotaroumikoshiba'], u'twitterVerified': 0, u'avatarUrl': u'http://v.cdn.vine.co/r/avatars/EF0A9489791397259422337802240_5e40659488f.37.0.jpg?versionId=a67kjdZfjZxcNDIKiAglIE.XfeI4g.LS', u'authoredPostCount': 60, u'shareUrl': u'https://vine.co/momotaroumikoshiba', u'userId': 1140725499174502400, u'location': u'\\U0001f498 marmite & chrome \\U0001f498', u'profileBackground': u'0x333333', u'likeCount': 8392, u'postCount': 2317, u'loopVelocity': 0.13599999999999998, u'private': 0, u'followingCount': 96, u'secondaryColor': u'0x3E4F57', u'loopCount': 13138238, u'explicitContent': 0, u'description': u'hello !!\\nae \\nkik: .twelve \\n#1 akise aru enthusiast\\nfuah | citric \\n(I love everything & everything hates me)'}\n"
     ]
    }
   ],
   "source": [
    "print unpopUsers[1]"
   ]
  },
  {
   "cell_type": "code",
   "execution_count": 51,
   "metadata": {
    "collapsed": false
   },
   "outputs": [
    {
     "name": "stdout",
     "output_type": "stream",
     "text": [
      "7088.24899506 80.0 34828\n"
     ]
    }
   ],
   "source": [
    "print np.mean(unpopFollowers) , np.median(unpopFollowers) , len(unpopFollowers)"
   ]
  },
  {
   "cell_type": "code",
   "execution_count": 36,
   "metadata": {
    "collapsed": false
   },
   "outputs": [
    {
     "data": {
      "image/png": "[encoded data removed]",
      "text/plain": [
       "<matplotlib.figure.Figure at 0x7f555322e150>"
      ]
     },
     "metadata": {},
     "output_type": "display_data"
    }
   ],
   "source": [
    "fig, ax = plt.subplots()\n",
    "fig.set_size_inches(15, 10)\n",
    "plt.hist(popFollowers, 100, normed=1,histtype='bar', cumulative=False,linewidth = 3.0)\n",
    "#plt.hist(unpopFollowers, 100, normed=1,histtype='step', cumulative=True,linewidth = 3.0)\n",
    "plt.title(\"CDF for Followers for Popular and unpopular posts\", fontsize = 25)\n",
    "plt.xlabel(\"Follower Count\",fontsize = 25)\n",
    "plt.ylabel(\"CDF\",fontsize = 25)\n",
    "plt.legend(['Popular' , 'Unpopular'])\n",
    "plt.grid(True)\n",
    "plt.show()"
   ]
  },
  {
   "cell_type": "code",
   "execution_count": 38,
   "metadata": {
    "collapsed": false
   },
   "outputs": [
    {
     "name": "stdout",
     "output_type": "stream",
     "text": [
      "23441\n"
     ]
    }
   ],
   "source": [
    "meanSentiment = \"../Final_features/median_sentiments.csv\"\n",
    "senti_csv = readFeatureFile(meanSentiment)\n",
    "\n",
    "sentiDict = readSentiFeatures(senti_csv)"
   ]
  },
  {
   "cell_type": "code",
   "execution_count": 39,
   "metadata": {
    "collapsed": false
   },
   "outputs": [
    {
     "name": "stdout",
     "output_type": "stream",
     "text": [
      "23441\n"
     ]
    }
   ],
   "source": [
    "postIds = sentiDict.keys()\n",
    "print len(postIds)"
   ]
  },
  {
   "cell_type": "code",
   "execution_count": 126,
   "metadata": {
    "collapsed": false
   },
   "outputs": [],
   "source": [
    "postUserMeta = postFollowerMapping(postIds,totalPostDict,userDict)"
   ]
  },
  {
   "cell_type": "code",
   "execution_count": 127,
   "metadata": {
    "collapsed": false
   },
   "outputs": [
    {
     "name": "stdout",
     "output_type": "stream",
     "text": [
      "22192\n"
     ]
    }
   ],
   "source": [
    "print len(postUserMeta)"
   ]
  },
  {
   "cell_type": "code",
   "execution_count": 128,
   "metadata": {
    "collapsed": false
   },
   "outputs": [
    {
     "data": {
      "text/plain": [
       "['1275430531974504448', 71634, 490, 351413.0, 12661, 5233]"
      ]
     },
     "execution_count": 128,
     "metadata": {},
     "output_type": "execute_result"
    }
   ],
   "source": [
    "postUserMeta[100]"
   ]
  },
  {
   "cell_type": "code",
   "execution_count": 129,
   "metadata": {
    "collapsed": true
   },
   "outputs": [],
   "source": [
    "f = open(socialFeatures , 'w+')\n",
    "pickle.dump(postUserMeta , f)\n",
    "f.close()"
   ]
  },
  {
   "cell_type": "code",
   "execution_count": null,
   "metadata": {
    "collapsed": true
   },
   "outputs": [],
   "source": []
  }
 ],
 "metadata": {
  "kernelspec": {
   "display_name": "Python 2",
   "language": "python",
   "name": "python2"
  },
  "language_info": {
   "codemirror_mode": {
    "name": "ipython",
    "version": 2
   },
   "file_extension": ".py",
   "mimetype": "text/x-python",
   "name": "python",
   "nbconvert_exporter": "python",
   "pygments_lexer": "ipython2",
   "version": "2.7.6"
  }
 },
 "nbformat": 4,
 "nbformat_minor": 0
}
