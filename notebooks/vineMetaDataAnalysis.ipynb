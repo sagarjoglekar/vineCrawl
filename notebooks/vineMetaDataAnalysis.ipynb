{
 "cells": [
  {
   "cell_type": "code",
   "execution_count": 72,
   "metadata": {
    "collapsed": false
   },
   "outputs": [],
   "source": [
    "import numpy as np\n",
    "%matplotlib inline\n",
    "import matplotlib.pyplot as plt\n",
    "import matplotlib.cm as cm\n",
    "import json\n",
    "import os\n",
    "import cPickle as pickle\n",
    "from collections import Counter\n",
    "import pandas\n",
    "from datetime import datetime\n",
    "from shutil import copyfile\n",
    "import platform\n",
    "import scipy.stats"
   ]
  },
  {
   "cell_type": "code",
   "execution_count": 60,
   "metadata": {
    "collapsed": true
   },
   "outputs": [],
   "source": [
    "popularRoot = \"/datasets/sagarj/vineData/Dataset/\"\n",
    "recentRoot = \"/datasets/sagarj/vine2016/Dataset/\"\n",
    "PostDir = \"savedPosts/\"\n",
    "popUserDir = \"Users/\"\n",
    "unpopUserDir = \"UserProfiles3/\"\n",
    "vidsDir = \"Videos/\"\n",
    "tracked = \"/postTracking/Day53/\"\n",
    "unpopularDir = \"/datasets/sagarj/UnPopular2016_senti/\"\n",
    "unpopVidsDir = unpopularDir + \"Videos/\"\n",
    "unpopPostsDir = unpopularDir + \"Posts/\"\n",
    "socialFeatures = \"../Final_features/postSocialMetaFeatures_revised.pk\"\n"
   ]
  },
  {
   "cell_type": "code",
   "execution_count": 79,
   "metadata": {
    "collapsed": false
   },
   "outputs": [],
   "source": [
    "def readJson(path):\n",
    "    f = open(path)\n",
    "    data = json.loads(f.read())\n",
    "    return data\n",
    "\n",
    "def getPopular():\n",
    "    popularDir = popularRoot + PostDir\n",
    "    popularPosts = os.listdir(popularDir)\n",
    "    posts = []\n",
    "    for post in popularPosts:\n",
    "        record = readJson(popularDir + post)\n",
    "        p = record['data']\n",
    "        if isinstance(p,dict):\n",
    "            posts.append(p['records'][0])\n",
    "    return posts\n",
    "\n",
    "def getUsersPop():\n",
    "    popularDir = popularRoot + popUserDir\n",
    "    popularPosts = os.listdir(popularDir)\n",
    "    userMetaDict = {}\n",
    "    posts = []\n",
    "    followers = []\n",
    "    for post in popularPosts:\n",
    "        record = readJson(popularDir + post)\n",
    "        p = record['data']\n",
    "        if isinstance(p,dict) and p.has_key('followerCount'):\n",
    "            posts.append(p)\n",
    "            userId = p['userId']\n",
    "            flwer= p['followerCount']\n",
    "            pastPosts = p['authoredPostCount']\n",
    "            followers.append(p['followerCount'])\n",
    "            #userMetaDict[userId] = [flwer , pastPosts]\n",
    "            userMetaDict[userId] = {'follower' : flwer , 'pastPosts': pastPosts}     \n",
    "    return posts , followers , userMetaDict\n",
    "\n",
    "def getUsersUnPop():\n",
    "    popularDir = recentRoot + unpopUserDir\n",
    "    popularPosts = os.listdir(popularDir)\n",
    "    posts = []\n",
    "    followers = []\n",
    "    userMetaDict = {}\n",
    "    for post in popularPosts:\n",
    "        record = readJson(popularDir + post)\n",
    "        p = record['data']\n",
    "        if isinstance(p,dict) and p.has_key('followerCount'):\n",
    "            posts.append(p)\n",
    "            userId = p['userId']\n",
    "            flwer = p['followerCount']\n",
    "            pastPosts = p['authoredPostCount']\n",
    "            followers.append(p['followerCount'])\n",
    "            userMetaDict[userId] = {'follower' : flwer , 'pastPosts': pastPosts}          \n",
    "    return posts , followers , userMetaDict\n",
    "\n",
    "def sorted_ls(path):\n",
    "    mtime = lambda f: os.stat(os.path.join(path, f)).st_mtime\n",
    "    return list(sorted(os.listdir(path), key=mtime))\n",
    "\n",
    "    \n",
    "\n",
    "def getCrawled(root , postDir):\n",
    "    crawledDir = root + postDir\n",
    "    crawledPosts = os.listdir(crawledDir)\n",
    "    print len(crawledPosts)\n",
    "    posts = []\n",
    "    postDict = {}\n",
    "    for post in crawledPosts:\n",
    "        postid = post.split('.')[0]\n",
    "        record = readJson(crawledDir + post)\n",
    "        p = record['data']\n",
    "        if isinstance(p,dict):\n",
    "            posts.append(p['records'][0])\n",
    "            postDict[postid] = p['records'][0]\n",
    "    print len(postDict.keys())\n",
    "    return posts , postDict\n",
    "\n",
    "def getPopMetrics(vineList):\n",
    "    likes = []\n",
    "    reposts = []\n",
    "    loops = []\n",
    "    timestamps = []\n",
    "    for vine in vineList:\n",
    "        likes.append(vine['likes']['count'])\n",
    "        reposts.append(vine['reposts']['count'])\n",
    "        loops.append(vine['loops']['count'])\n",
    "        timestamps.append(datetime.strptime(vine['created'], '%Y-%m-%dT%H:%M:%S.%f'))\n",
    "    return likes, reposts, loops, timestamps\n",
    "\n",
    "def copyList(listOfFiles,srcFolder , dstFolder):\n",
    "    if not os.path.exists(dstFolder):\n",
    "        os.makedirs(dstFolder)\n",
    "    for f in listOfFiles:\n",
    "        src = srcFolder + f\n",
    "        dst = dstFolder + f\n",
    "        copyfile(src , dst)\n",
    "        \n",
    "    sentiDict = {}\n",
    "    for line in lines:\n",
    "        comp = line.split(',')\n",
    "        sentiDict[comp[0]] = float(comp[1].strip())\n",
    "    return sentiDict\n",
    "\n",
    "def readFeatureFile(color_features):\n",
    "    with open(color_features) as g:\n",
    "        featureLines = g.readlines()\n",
    "    print len(featureLines)\n",
    "    return featureLines\n",
    "\n",
    "\n",
    "def postFollowerMapping(postsInterested , postDict , userDict ):\n",
    "    finalMeta = []\n",
    "    finalDict = {}\n",
    "    for postId in postsInterested:\n",
    "        if postId in postDict:\n",
    "            post = postDict[postId]\n",
    "            like = post['likes']['count']\n",
    "            loop = post['loops']['count']\n",
    "            reposts = post['reposts']['count']\n",
    "            user = post['userId']\n",
    "            if user in userDict:\n",
    "                userMeta = userDict[user]\n",
    "                logline = [postId,  userMeta['follower'], userMeta['pastPosts'] , loop , like , reposts ]\n",
    "                finalMeta.append(logline)\n",
    "                finalDict[postId] = {}\n",
    "                \n",
    "                finalDict[postId]['followers'] = userMeta['follower']\n",
    "                finalDict[postId]['pastPosts'] = userMeta['pastPosts']\n",
    "                finalDict[postId]['loops'] = loop\n",
    "                finalDict[postId]['likes'] = like\n",
    "                finalDict[postId]['reposts'] = reposts\n",
    "    return finalMeta , finalDict\n",
    "        \n",
    "        \n",
    "            \n",
    "        \n",
    "    \n"
   ]
  },
  {
   "cell_type": "code",
   "execution_count": 5,
   "metadata": {
    "collapsed": false
   },
   "outputs": [],
   "source": [
    "# print sorted_ls(unpopPostsDir)"
   ]
  },
  {
   "cell_type": "code",
   "execution_count": 7,
   "metadata": {
    "collapsed": false
   },
   "outputs": [
    {
     "name": "stdout",
     "output_type": "stream",
     "text": [
      "122326\n",
      "122298\n"
     ]
    }
   ],
   "source": [
    "\n",
    "recentList , recentDict = getCrawled(recentRoot , PostDir )"
   ]
  },
  {
   "cell_type": "code",
   "execution_count": 67,
   "metadata": {
    "collapsed": false
   },
   "outputs": [
    {
     "data": {
      "text/plain": [
       "'1385887276084670464'"
      ]
     },
     "execution_count": 67,
     "metadata": {},
     "output_type": "execute_result"
    }
   ],
   "source": [
    "recentDict.keys()[1]"
   ]
  },
  {
   "cell_type": "code",
   "execution_count": 10,
   "metadata": {
    "collapsed": false
   },
   "outputs": [],
   "source": [
    "popularList = getPopular()"
   ]
  },
  {
   "cell_type": "code",
   "execution_count": 11,
   "metadata": {
    "collapsed": false
   },
   "outputs": [
    {
     "name": "stdout",
     "output_type": "stream",
     "text": [
      "106396\n",
      "74948\n"
     ]
    }
   ],
   "source": [
    "trackedList , trackedDict = getCrawled(recentRoot , tracked )"
   ]
  },
  {
   "cell_type": "code",
   "execution_count": 13,
   "metadata": {
    "collapsed": false
   },
   "outputs": [
    {
     "name": "stdout",
     "output_type": "stream",
     "text": [
      "11448\n",
      "11448\n"
     ]
    }
   ],
   "source": [
    "popList , popDict = getCrawled(popularRoot , PostDir )"
   ]
  },
  {
   "cell_type": "code",
   "execution_count": 65,
   "metadata": {
    "collapsed": false
   },
   "outputs": [
    {
     "data": {
      "text/plain": [
       "{u'avatarUrl': u'http://v.cdn.vine.co/r/avatars/84FA93D1A31060281176683626496_1b9022d1310.4.8.jpg?versionId=riNJV1TrcNL0p4MgG3EAi8xvIK0CAHFk',\n",
       " u'blocked': 0,\n",
       " u'comments': {u'anchor': 1288810385016864768,\n",
       "  u'anchorStr': u'1288810385016864768',\n",
       "  u'backAnchor': u'',\n",
       "  u'count': 78,\n",
       "  u'nextPage': 2,\n",
       "  u'previousPage': None,\n",
       "  u'records': [{u'comment': u'\\U0001f602\\U0001f602\\U0001f602 Dani',\n",
       "    u'commentId': 1288810385016864768,\n",
       "    u'created': u'2015-12-16T07:22:34.000000',\n",
       "    u'entities': [{u'id': 991243928495931392,\n",
       "      u'link': u'vine://user-id/991243928495931392',\n",
       "      u'range': [4, 8],\n",
       "      u'title': u'Dani',\n",
       "      u'type': u'mention',\n",
       "      u'vanityUrls': []}],\n",
       "    u'postId': 1288669426337685504,\n",
       "    u'profileBackground': u'0xf279ac',\n",
       "    u'user': {u'avatarUrl': u'http://v.cdn.vine.co/r/avatars/84FA93D1A31060281176683626496_1b9022d1310.4.8.jpg?versionId=riNJV1TrcNL0p4MgG3EAi8xvIK0CAHFk',\n",
       "     u'description': u'Lincoln is the funniest man in the world...Kanye fan for life...Email: reemteam23@gmail.com...Mo City',\n",
       "     u'hideFromPopular': 0,\n",
       "     u'location': u'Missouri City TX',\n",
       "     u'notPorn': 0,\n",
       "     u'private': 0,\n",
       "     u'profileBackground': u'0xf279ac',\n",
       "     u'twitterVerified': 0,\n",
       "     u'unflaggable': 0,\n",
       "     u'userId': 941617914774171648,\n",
       "     u'username': u'REEMTEAM',\n",
       "     u'vanityUrls': [],\n",
       "     u'verified': 0},\n",
       "    u'userId': 941617914774171648,\n",
       "    u'username': u'REEMTEAM',\n",
       "    u'vanityUrls': [],\n",
       "    u'verified': 0},\n",
       "   {u'comment': u\"No it's when any creature eats another of the same species\",\n",
       "    u'commentId': 1288833495623462912,\n",
       "    u'created': u'2015-12-16T08:54:24.000000',\n",
       "    u'entities': [],\n",
       "    u'postId': 1288669426337685504,\n",
       "    u'profileBackground': u'0x68bf60',\n",
       "    u'user': {u'avatarUrl': u'http://v.cdn.vine.co/r/avatars/51F37094101111539783001575424_pic-r-1407985345264e6d4f00bae.jpg.jpg?versionId=SsUlgr6Ucek2cXK2kVNh4_TIAg5wFFDs',\n",
       "     u'description': u'',\n",
       "     u'hideFromPopular': 0,\n",
       "     u'location': u'ATL,GA',\n",
       "     u'notPorn': 0,\n",
       "     u'private': 0,\n",
       "     u'profileBackground': u'0x68bf60',\n",
       "     u'twitterVerified': 0,\n",
       "     u'unflaggable': 0,\n",
       "     u'userId': 1111535505100738560,\n",
       "     u'username': u'Annekefromthehood',\n",
       "     u'vanityUrls': [],\n",
       "     u'verified': 0},\n",
       "    u'userId': 1111535505100738560,\n",
       "    u'username': u'Annekefromthehood',\n",
       "    u'vanityUrls': [],\n",
       "    u'verified': 0},\n",
       "   {u'comment': u\"Bill Cosby it's when any creature eats another of the same species.\",\n",
       "    u'commentId': 1288833793415131136,\n",
       "    u'created': u'2015-12-16T08:55:35.000000',\n",
       "    u'entities': [{u'id': 936749280109137920,\n",
       "      u'link': u'vine://user-id/936749280109137920',\n",
       "      u'range': [0, 10],\n",
       "      u'title': u'Bill Cosby',\n",
       "      u'type': u'mention',\n",
       "      u'vanityUrls': []}],\n",
       "    u'postId': 1288669426337685504,\n",
       "    u'profileBackground': u'0x68bf60',\n",
       "    u'user': {u'avatarUrl': u'http://v.cdn.vine.co/r/avatars/51F37094101111539783001575424_pic-r-1407985345264e6d4f00bae.jpg.jpg?versionId=SsUlgr6Ucek2cXK2kVNh4_TIAg5wFFDs',\n",
       "     u'description': u'',\n",
       "     u'hideFromPopular': 0,\n",
       "     u'location': u'ATL,GA',\n",
       "     u'notPorn': 0,\n",
       "     u'private': 0,\n",
       "     u'profileBackground': u'0x68bf60',\n",
       "     u'twitterVerified': 0,\n",
       "     u'unflaggable': 0,\n",
       "     u'userId': 1111535505100738560,\n",
       "     u'username': u'Annekefromthehood',\n",
       "     u'vanityUrls': [],\n",
       "     u'verified': 0},\n",
       "    u'userId': 1111535505100738560,\n",
       "    u'username': u'Annekefromthehood',\n",
       "    u'vanityUrls': [],\n",
       "    u'verified': 0}],\n",
       "  u'size': 3},\n",
       " u'created': u'2015-12-15T22:02:27.000000',\n",
       " u'description': u'People who are always offended in Vine comments be like... #retrocomedy #mrpotatohead',\n",
       " u'entities': [{u'id': 975274369737900032,\n",
       "   u'link': u'vine://tag/retrocomedy',\n",
       "   u'range': [59, 71],\n",
       "   u'title': u'retrocomedy',\n",
       "   u'type': u'tag'},\n",
       "  {u'id': 908179279836352512,\n",
       "   u'link': u'vine://tag/mrpotatohead',\n",
       "   u'range': [72, 85],\n",
       "   u'title': u'mrpotatohead',\n",
       "   u'type': u'tag'}],\n",
       " u'explicitContent': 0,\n",
       " u'followRequested': 0,\n",
       " u'following': 0,\n",
       " u'foursquareVenueId': u'',\n",
       " u'hasSimilarPosts': 1,\n",
       " u'liked': 0,\n",
       " u'likes': {u'anchor': 1288848058079457280,\n",
       "  u'anchorStr': u'1288848058079457280',\n",
       "  u'backAnchor': u'',\n",
       "  u'count': 4127,\n",
       "  u'nextPage': 2,\n",
       "  u'previousPage': None,\n",
       "  u'records': [{u'created': u'2015-12-16T09:52:16.000000',\n",
       "    u'likeId': 1288848058079457280,\n",
       "    u'user': {u'private': 0},\n",
       "    u'userId': 1109603166770573312,\n",
       "    u'username': u'CMF',\n",
       "    u'vanityUrls': [],\n",
       "    u'verified': 0},\n",
       "   {u'created': u'2015-12-16T09:52:30.000000',\n",
       "    u'likeId': 1288848114685505536,\n",
       "    u'user': {u'private': 0},\n",
       "    u'userId': 929133290068254720,\n",
       "    u'username': u'Sid',\n",
       "    u'vanityUrls': [],\n",
       "    u'verified': 0},\n",
       "   {u'created': u'2015-12-16T09:53:48.000000',\n",
       "    u'likeId': 1288848441941864448,\n",
       "    u'user': {u'private': 0},\n",
       "    u'userId': 932071707768934400,\n",
       "    u'username': u'Jordan Weeks',\n",
       "    u'vanityUrls': [],\n",
       "    u'verified': 0},\n",
       "   {u'created': u'2015-12-16T09:54:20.000000',\n",
       "    u'likeId': 1288848575383605248,\n",
       "    u'user': {u'private': 0},\n",
       "    u'userId': 971197797636386816,\n",
       "    u'username': u'Sarina Bin',\n",
       "    u'vanityUrls': [],\n",
       "    u'verified': 0},\n",
       "   {u'created': u'2015-12-16T09:55:12.000000',\n",
       "    u'likeId': 1288848796767408128,\n",
       "    u'user': {u'private': 0},\n",
       "    u'userId': 1256217397560864768,\n",
       "    u'username': u'DizzyBee',\n",
       "    u'vanityUrls': [],\n",
       "    u'verified': 0},\n",
       "   {u'created': u'2015-12-16T09:55:59.000000',\n",
       "    u'likeId': 1288848993060827136,\n",
       "    u'user': {u'private': 0},\n",
       "    u'userId': 1056754363214782464,\n",
       "    u'username': u'Saadz\\u2661',\n",
       "    u'vanityUrls': [],\n",
       "    u'verified': 0},\n",
       "   {u'created': u'2015-12-16T09:56:47.000000',\n",
       "    u'likeId': 1288849192378650624,\n",
       "    u'user': {u'private': 0},\n",
       "    u'userId': 1228188755052187648,\n",
       "    u'username': u'Sydneyrae444',\n",
       "    u'vanityUrls': [],\n",
       "    u'verified': 0},\n",
       "   {u'created': u'2015-12-16T09:57:15.000000',\n",
       "    u'likeId': 1288849313144930304,\n",
       "    u'user': {u'private': 0},\n",
       "    u'userId': 988867719179157504,\n",
       "    u'username': u'Dblo',\n",
       "    u'vanityUrls': [],\n",
       "    u'verified': 0},\n",
       "   {u'created': u'2015-12-16T09:58:15.000000',\n",
       "    u'likeId': 1288849563981328384,\n",
       "    u'user': {u'private': 0},\n",
       "    u'userId': 955985331767984128,\n",
       "    u'username': u'Paul Eremia',\n",
       "    u'vanityUrls': [],\n",
       "    u'verified': 0},\n",
       "   {u'created': u'2015-12-16T10:00:01.000000',\n",
       "    u'likeId': 1288850009349308416,\n",
       "    u'user': {u'private': 0},\n",
       "    u'userId': 955422739290890240,\n",
       "    u'username': u'Mr. Sneakman',\n",
       "    u'vanityUrls': [],\n",
       "    u'verified': 0}],\n",
       "  u'size': 10},\n",
       " u'loops': {u'count': 172891.0,\n",
       "  u'onFire': 0,\n",
       "  u'velocity': 0.45333333333333337},\n",
       " u'myRepostId': 0,\n",
       " u'permalinkUrl': u'https://vine.co/v/im59qDe9Jnv',\n",
       " u'postId': 1288669426337685504,\n",
       " u'private': 0,\n",
       " u'profileBackground': u'0xf279ac',\n",
       " u'promoted': 0,\n",
       " u'reposts': {u'anchor': None,\n",
       "  u'anchorStr': u'',\n",
       "  u'backAnchor': u'',\n",
       "  u'count': 1040,\n",
       "  u'nextPage': None,\n",
       "  u'previousPage': None,\n",
       "  u'records': [],\n",
       "  u'size': 0},\n",
       " u'shareUrl': u'https://vine.co/v/im59qDe9Jnv',\n",
       " u'tags': [],\n",
       " u'thumbnailUrl': u'http://v.cdn.vine.co/r/videos/0FF6D8D6AD1288668859746103296_44a801e1866.5.0.1355084341092303565.mp4.jpg?versionId=czqGAlS1Mo4OeY8VRAG1zVt6qHCZ4HW_',\n",
       " u'userId': 941617914774171648,\n",
       " u'username': u'REEMTEAM',\n",
       " u'vanityUrls': [],\n",
       " u'verified': 0,\n",
       " u'videoDashUrl': u'http://v.cdn.vine.co/r/videos_h264dash/0FF6D8D6AD1288668859746103296_44a801e1866.5.0.1355084341092303565.mp4?versionId=mwCf3YPvseUbL7ZutPY62TxICYFBJdhT',\n",
       " u'videoLowURL': u'http://v.cdn.vine.co/r/videos_r2/0FF6D8D6AD1288668859746103296_44a801e1866.5.0.1355084341092303565.mp4?versionId=chR5aYyiX.hAqiXD3VqyM8Y37.JrjUUR',\n",
       " u'videoUrl': u'http://v.cdn.vine.co/r/videos/0FF6D8D6AD1288668859746103296_44a801e1866.5.0.1355084341092303565.mp4?versionId=lsVQocUMf0SNtpmPevxnL1ULvJ4IQ6Uc',\n",
       " u'videoWebmUrl': None}"
      ]
     },
     "execution_count": 65,
     "metadata": {},
     "output_type": "execute_result"
    }
   ],
   "source": [
    "popList[100]"
   ]
  },
  {
   "cell_type": "code",
   "execution_count": 14,
   "metadata": {
    "collapsed": false
   },
   "outputs": [],
   "source": [
    "recentLikes , recentReposts, recentLoops , recentTimestamps = getPopMetrics(recentList)\n",
    "\n",
    "popLikes , popReposts, popLoops , popTimeStamps= getPopMetrics(popularList)\n",
    "\n",
    "trackedLikes , trackedReposts, trackedLoops , trackedTimeStamps= getPopMetrics(trackedList)"
   ]
  },
  {
   "cell_type": "code",
   "execution_count": 69,
   "metadata": {
    "collapsed": false
   },
   "outputs": [
    {
     "name": "stdout",
     "output_type": "stream",
     "text": [
      "10 0 247.0\n"
     ]
    }
   ],
   "source": [
    "print np.min(popLikes) , np.min(popReposts) , np.min(popLoops)"
   ]
  },
  {
   "cell_type": "code",
   "execution_count": 15,
   "metadata": {
    "collapsed": false
   },
   "outputs": [
    {
     "name": "stdout",
     "output_type": "stream",
     "text": [
      "86396\n"
     ]
    }
   ],
   "source": [
    "totalDict = trackedDict.copy()\n",
    "totalDict.update(popDict)\n",
    "print len(totalDict.keys())"
   ]
  },
  {
   "cell_type": "code",
   "execution_count": 16,
   "metadata": {
    "collapsed": true
   },
   "outputs": [],
   "source": [
    "totalPostDict = dict(totalDict.items() + recentDict.items())"
   ]
  },
  {
   "cell_type": "code",
   "execution_count": 17,
   "metadata": {
    "collapsed": false
   },
   "outputs": [
    {
     "name": "stdout",
     "output_type": "stream",
     "text": [
      "133746\n"
     ]
    }
   ],
   "source": [
    "print len(totalPostDict.keys())"
   ]
  },
  {
   "cell_type": "code",
   "execution_count": 25,
   "metadata": {
    "collapsed": false
   },
   "outputs": [],
   "source": [
    "Likes = popLikes+ trackedLikes\n",
    "Reposts = popReposts+ recentReposts"
   ]
  },
  {
   "cell_type": "code",
   "execution_count": 26,
   "metadata": {
    "collapsed": true
   },
   "outputs": [],
   "source": [
    "Likes = map(lambda x: 0.000001 if x == 0 else x, Likes)\n",
    "Reposts = map(lambda x: 0.000001 if x == 0 else x, Reposts)"
   ]
  },
  {
   "cell_type": "code",
   "execution_count": 27,
   "metadata": {
    "collapsed": false
   },
   "outputs": [
    {
     "name": "stdout",
     "output_type": "stream",
     "text": [
      "2405671.25227 318566.0 16064.1971523 2173.0 42521.1856219 7544.0\n"
     ]
    }
   ],
   "source": [
    "print np.mean(popLoops) , np.median(popLoops) , np.mean(popReposts) , np.median(popReposts) , np.mean(popLikes) , np.median(popLikes)"
   ]
  },
  {
   "cell_type": "code",
   "execution_count": 28,
   "metadata": {
    "collapsed": false
   },
   "outputs": [
    {
     "name": "stdout",
     "output_type": "stream",
     "text": [
      "3.76014642548 3.17332322635 nan\n"
     ]
    }
   ],
   "source": [
    "print np.var(np.log(popLoops)),np.var(np.log(popLikes)),np.var(np.log(popReposts))\n"
   ]
  },
  {
   "cell_type": "code",
   "execution_count": 74,
   "metadata": {
    "collapsed": false
   },
   "outputs": [
    {
     "name": "stdout",
     "output_type": "stream",
     "text": [
      "(0.80327844665284653, 0.0)\n",
      "(0.91012162623020465, 0.0)\n",
      "(0.73688981182333535, 0.0)\n"
     ]
    }
   ],
   "source": [
    "print scipy.stats.pearsonr( popLoops , popLikes)\n",
    "print scipy.stats.pearsonr( popReposts , popLikes)\n",
    "print scipy.stats.pearsonr( popLoops , popReposts)"
   ]
  },
  {
   "cell_type": "code",
   "execution_count": 29,
   "metadata": {
    "collapsed": true
   },
   "outputs": [],
   "source": [
    "sampleL = np.random.choice(len(Likes) , 3000)\n",
    "sampleR = np.random.choice(len(Reposts) , 3000)"
   ]
  },
  {
   "cell_type": "code",
   "execution_count": 30,
   "metadata": {
    "collapsed": true
   },
   "outputs": [],
   "source": [
    "likes = [Likes[i] for i in sampleL]\n",
    "reposts = [Reposts[i] for i in sampleR]"
   ]
  },
  {
   "cell_type": "code",
   "execution_count": 62,
   "metadata": {
    "collapsed": false
   },
   "outputs": [
    {
     "data": {
      "image/png": "[encoded data removed]",
      "text/plain": [
       "<matplotlib.figure.Figure at 0x7f8b02cde250>"
      ]
     },
     "metadata": {},
     "output_type": "display_data"
    }
   ],
   "source": [
    "fig, ax = plt.subplots()\n",
    "fig.set_size_inches(15, 10)\n",
    "plt.hist(np.log10(likes), 2000, normed=1,histtype='step', cumulative=True,linewidth = 3.0,linestyle='dashed')\n",
    "plt.hist(np.log10(reposts), 2000, normed=1,histtype='step', cumulative=True,linewidth = 3.0)\n",
    "plt.title(\"CDF for Likes and Repost\", fontsize = 25)\n",
    "plt.xlabel(\"Likes/repost count (Log scale)\",fontsize = 25)\n",
    "plt.ylabel(\"CDF\",fontsize = 25)\n",
    "plt.legend(['Likes' , 'Reposts'])\n",
    "plt.grid(True)\n",
    "plt.show()"
   ]
  },
  {
   "cell_type": "code",
   "execution_count": 32,
   "metadata": {
    "collapsed": false
   },
   "outputs": [
    {
     "name": "stdout",
     "output_type": "stream",
     "text": [
      "50\n"
     ]
    }
   ],
   "source": [
    "Top1000 = np.argsort(trackedLoops)[-50:]\n",
    "trackedTop1000 = [trackedLoops[i] for i in Top1000]\n",
    "trackedTop1000Posts = [trackedList[i] for i in Top1000]\n",
    "print len(trackedTop1000)"
   ]
  },
  {
   "cell_type": "code",
   "execution_count": 33,
   "metadata": {
    "collapsed": false
   },
   "outputs": [
    {
     "name": "stdout",
     "output_type": "stream",
     "text": [
      "3573113.0 4897585.48 1.53332743735e+13\n"
     ]
    }
   ],
   "source": [
    "print np.median(trackedTop1000) , np.mean(trackedTop1000) , np.var(trackedTop1000)"
   ]
  },
  {
   "cell_type": "code",
   "execution_count": 34,
   "metadata": {
    "collapsed": false
   },
   "outputs": [],
   "source": [
    "unpopular3000 = np.argsort(trackedLoops)[:12000]\n",
    "unpop3000loops = [trackedLoops[i] for i in unpopular3000]\n",
    "unpop3000Posts = [trackedList[i] for i in unpopular3000]"
   ]
  },
  {
   "cell_type": "code",
   "execution_count": 35,
   "metadata": {
    "collapsed": false
   },
   "outputs": [
    {
     "name": "stdout",
     "output_type": "stream",
     "text": [
      "13.0 12.3319166667 36.3549146597\n"
     ]
    }
   ],
   "source": [
    "print np.median(unpop3000loops) , np.mean(unpop3000loops) , np.var(unpop3000loops)"
   ]
  },
  {
   "cell_type": "code",
   "execution_count": null,
   "metadata": {
    "collapsed": false
   },
   "outputs": [],
   "source": []
  },
  {
   "cell_type": "code",
   "execution_count": 36,
   "metadata": {
    "collapsed": true
   },
   "outputs": [],
   "source": [
    "unpopPostList = []\n",
    "for p in unpop3000Posts: \n",
    "    postid = p['postId']\n",
    "    filename = str(postid) + \".json\"\n",
    "    unpopPostList.append(filename)"
   ]
  },
  {
   "cell_type": "code",
   "execution_count": 37,
   "metadata": {
    "collapsed": false
   },
   "outputs": [
    {
     "name": "stdout",
     "output_type": "stream",
     "text": [
      "12000\n"
     ]
    }
   ],
   "source": [
    "print len(unpopPostList)"
   ]
  },
  {
   "cell_type": "code",
   "execution_count": 38,
   "metadata": {
    "collapsed": false
   },
   "outputs": [],
   "source": [
    "# srcPosts = \"/datasets/sagarj/vine2016/Dataset//postTracking/Day24/\"\n",
    "# copyList(unpopPostList, srcPosts , unpopPostsDir)"
   ]
  },
  {
   "cell_type": "code",
   "execution_count": 39,
   "metadata": {
    "collapsed": true
   },
   "outputs": [],
   "source": [
    "unpopVidList = []\n",
    "for p in unpop3000Posts: \n",
    "    postid = p['videoUrl'].split('/')[5].split('?')[0]\n",
    "    filename = str(postid)\n",
    "    unpopVidList.append(filename)"
   ]
  },
  {
   "cell_type": "code",
   "execution_count": 40,
   "metadata": {
    "collapsed": false
   },
   "outputs": [
    {
     "name": "stdout",
     "output_type": "stream",
     "text": [
      "['56E9A2CD631396567434898624512_1475945442200a68c4b634d.mp4.mp4', 'D46F96BE3C1390509114018443264_SW_WEBM_14744937937903eae87ef7f.mp4', 'E13104E5501387973345433518080_SW_WEBM_1473889083001c550b0aa79.mp4', '051960C4931395972202138087424_SW_WEBM_147579990287076ad916687.mp4', '649C6855CB1396518013175791616_14759336601432789ae47ad.mp4.mp4', 'CC2059D3F71390494763781898240_SW_WEBM_147449264545875cedbf19a.mp4', '069007C41A1387976625198608384_SW_WEBM_14738904530429e37a77ba8.mp4', 'B9C860C9D61393749184758562816_SW_WEBM_14752698939343ed4d7f319.mp4', '7DEE9880B61395971558396559360_SW_WEBM_14757997066029fd2c73b2a.mp4', 'D755AC621A1395973820376145920_SW_WEBM_147580026711712a76e4e80.mp4']\n"
     ]
    }
   ],
   "source": [
    "print unpopVidList[:10]"
   ]
  },
  {
   "cell_type": "code",
   "execution_count": 41,
   "metadata": {
    "collapsed": false
   },
   "outputs": [],
   "source": [
    "# srcVids = recentRoot + vidsDir\n",
    "# copyList(unpopVidList, srcVids , unpopVidsDir)"
   ]
  },
  {
   "cell_type": "code",
   "execution_count": 42,
   "metadata": {
    "collapsed": false
   },
   "outputs": [
    {
     "data": {
      "image/png": "[encoded data removed]",
      "text/plain": [
       "<matplotlib.figure.Figure at 0x7f8b0285f810>"
      ]
     },
     "metadata": {},
     "output_type": "display_data"
    }
   ],
   "source": [
    "fig, ax = plt.subplots()\n",
    "fig.set_size_inches(15, 10)\n",
    "#plt.hist(popLikes, 1000, normed=1,histtype='step', cumulative=True,linewidth = 3.0,linestyle='dashed')\n",
    "#plt.hist(popReposts, 1000, normed=1,histtype='step', cumulative=False,linewidth = 3.0)\n",
    "plt.hist(trackedTop1000, 20, normed=1,histtype='step', cumulative=True,linewidth = 3.0)\n",
    "plt.title(\"CDF for Likes and Repost\", fontsize = 25)\n",
    "plt.xlabel(\"Likes/repost count (Log scale)\",fontsize = 25)\n",
    "plt.ylabel(\"CDF\",fontsize = 25)\n",
    "plt.legend(['Likes' , 'Reposts'])\n",
    "plt.grid(True)\n",
    "plt.show()"
   ]
  },
  {
   "cell_type": "code",
   "execution_count": 43,
   "metadata": {
    "collapsed": false
   },
   "outputs": [
    {
     "name": "stdout",
     "output_type": "stream",
     "text": [
      "318566.0 2405671.25227 4.50174420562e+13\n"
     ]
    }
   ],
   "source": [
    "print np.median(popLoops) , np.mean(popLoops) , np.var(popLoops)"
   ]
  },
  {
   "cell_type": "code",
   "execution_count": 44,
   "metadata": {
    "collapsed": false
   },
   "outputs": [
    {
     "name": "stdout",
     "output_type": "stream",
     "text": [
      "31622.7766017\n"
     ]
    }
   ],
   "source": [
    "print pow(10,4.5)"
   ]
  },
  {
   "cell_type": "code",
   "execution_count": 45,
   "metadata": {
    "collapsed": false
   },
   "outputs": [],
   "source": [
    "popUsers, popFollowers , popDict = getUsersPop()"
   ]
  },
  {
   "cell_type": "code",
   "execution_count": 46,
   "metadata": {
    "collapsed": false
   },
   "outputs": [
    {
     "name": "stdout",
     "output_type": "stream",
     "text": [
      "366738.428633 40012.0 2319\n"
     ]
    }
   ],
   "source": [
    "print np.mean(popFollowers) , np.median(popFollowers) , len(popFollowers)"
   ]
  },
  {
   "cell_type": "code",
   "execution_count": 47,
   "metadata": {
    "collapsed": false
   },
   "outputs": [],
   "source": [
    "unpopUsers, unpopFollowers , unpopDict = getUsersUnPop()"
   ]
  },
  {
   "cell_type": "code",
   "execution_count": 48,
   "metadata": {
    "collapsed": true
   },
   "outputs": [],
   "source": [
    "userDict = unpopDict.copy()\n",
    "userDict.update(popDict)"
   ]
  },
  {
   "cell_type": "code",
   "execution_count": 49,
   "metadata": {
    "collapsed": false
   },
   "outputs": [
    {
     "name": "stdout",
     "output_type": "stream",
     "text": [
      "36815\n"
     ]
    }
   ],
   "source": [
    "print len(userDict.keys())"
   ]
  },
  {
   "cell_type": "code",
   "execution_count": 50,
   "metadata": {
    "collapsed": false
   },
   "outputs": [
    {
     "name": "stdout",
     "output_type": "stream",
     "text": [
      "{u'username': u'twelve', u'twitterScreenname': u'shoyofam', u'followerCount': 14735, u'verified': 0, u'vanityUrls': [u'momotaroumikoshiba'], u'twitterVerified': 0, u'avatarUrl': u'http://v.cdn.vine.co/r/avatars/EF0A9489791397259422337802240_5e40659488f.37.0.jpg?versionId=a67kjdZfjZxcNDIKiAglIE.XfeI4g.LS', u'authoredPostCount': 60, u'shareUrl': u'https://vine.co/momotaroumikoshiba', u'userId': 1140725499174502400, u'location': u'\\U0001f498 marmite & chrome \\U0001f498', u'profileBackground': u'0x333333', u'likeCount': 8392, u'postCount': 2317, u'loopVelocity': 0.13599999999999998, u'private': 0, u'followingCount': 96, u'secondaryColor': u'0x3E4F57', u'loopCount': 13138238, u'explicitContent': 0, u'description': u'hello !!\\nae \\nkik: .twelve \\n#1 akise aru enthusiast\\nfuah | citric \\n(I love everything & everything hates me)'}\n"
     ]
    }
   ],
   "source": [
    "print unpopUsers[1]"
   ]
  },
  {
   "cell_type": "code",
   "execution_count": 51,
   "metadata": {
    "collapsed": false
   },
   "outputs": [
    {
     "name": "stdout",
     "output_type": "stream",
     "text": [
      "7088.24899506 80.0 34828\n"
     ]
    }
   ],
   "source": [
    "print np.mean(unpopFollowers) , np.median(unpopFollowers) , len(unpopFollowers)"
   ]
  },
  {
   "cell_type": "code",
   "execution_count": 52,
   "metadata": {
    "collapsed": false
   },
   "outputs": [
    {
     "data": {
      "image/png": "[encoded data removed]",
      "text/plain": [
       "<matplotlib.figure.Figure at 0x7f8b0277fed0>"
      ]
     },
     "metadata": {},
     "output_type": "display_data"
    }
   ],
   "source": [
    "fig, ax = plt.subplots()\n",
    "fig.set_size_inches(15, 10)\n",
    "plt.hist(popFollowers, 100, normed=1,histtype='bar', cumulative=False,linewidth = 3.0)\n",
    "#plt.hist(unpopFollowers, 100, normed=1,histtype='step', cumulative=True,linewidth = 3.0)\n",
    "plt.title(\"CDF for Followers for Popular and unpopular posts\", fontsize = 25)\n",
    "plt.xlabel(\"Follower Count\",fontsize = 25)\n",
    "plt.ylabel(\"CDF\",fontsize = 25)\n",
    "plt.legend(['Popular' , 'Unpopular'])\n",
    "plt.grid(True)\n",
    "plt.show()"
   ]
  },
  {
   "cell_type": "code",
   "execution_count": 53,
   "metadata": {
    "collapsed": true
   },
   "outputs": [],
   "source": [
    "def readSentiFeatures(sentilines):\n",
    "    sentiDict = {}\n",
    "    for line in sentilines: \n",
    "        comps = line.strip().split(',')\n",
    "        sentiDict[comps[0]] = float(comps[1])\n",
    "    return sentiDict"
   ]
  },
  {
   "cell_type": "code",
   "execution_count": 54,
   "metadata": {
    "collapsed": false
   },
   "outputs": [
    {
     "name": "stdout",
     "output_type": "stream",
     "text": [
      "23441\n"
     ]
    }
   ],
   "source": [
    "meanSentiment = \"../Final_features/median_sentiments.csv\"\n",
    "senti_csv = readFeatureFile(meanSentiment)\n",
    "\n",
    "sentiDict = readSentiFeatures(senti_csv)"
   ]
  },
  {
   "cell_type": "code",
   "execution_count": 55,
   "metadata": {
    "collapsed": false
   },
   "outputs": [
    {
     "name": "stdout",
     "output_type": "stream",
     "text": [
      "23441\n"
     ]
    }
   ],
   "source": [
    "postIds = sentiDict.keys()\n",
    "print len(postIds)"
   ]
  },
  {
   "cell_type": "code",
   "execution_count": 80,
   "metadata": {
    "collapsed": false
   },
   "outputs": [],
   "source": [
    "postUserMeta , finalDict = postFollowerMapping(postIds,totalPostDict,userDict)"
   ]
  },
  {
   "cell_type": "code",
   "execution_count": 57,
   "metadata": {
    "collapsed": false
   },
   "outputs": [
    {
     "name": "stdout",
     "output_type": "stream",
     "text": [
      "22192\n"
     ]
    }
   ],
   "source": [
    "print len(postUserMeta)"
   ]
  },
  {
   "cell_type": "code",
   "execution_count": 81,
   "metadata": {
    "collapsed": false
   },
   "outputs": [
    {
     "data": {
      "text/plain": [
       "{'followers': 211532,\n",
       " 'likes': 128792,\n",
       " 'loops': 4603788.0,\n",
       " 'pastPosts': 346,\n",
       " 'reposts': 67262}"
      ]
     },
     "execution_count": 81,
     "metadata": {},
     "output_type": "execute_result"
    }
   ],
   "source": [
    "finalDict['1232413732706160640']"
   ]
  },
  {
   "cell_type": "code",
   "execution_count": 82,
   "metadata": {
    "collapsed": false
   },
   "outputs": [
    {
     "data": {
      "text/plain": [
       "{'followers': 71634,\n",
       " 'likes': 12661,\n",
       " 'loops': 351413.0,\n",
       " 'pastPosts': 490,\n",
       " 'reposts': 5233}"
      ]
     },
     "execution_count": 82,
     "metadata": {},
     "output_type": "execute_result"
    }
   ],
   "source": [
    "finalDict['1275430531974504448']"
   ]
  },
  {
   "cell_type": "code",
   "execution_count": 58,
   "metadata": {
    "collapsed": false
   },
   "outputs": [
    {
     "data": {
      "text/plain": [
       "['1275430531974504448', 71634, 490, 351413.0, 12661, 5233]"
      ]
     },
     "execution_count": 58,
     "metadata": {},
     "output_type": "execute_result"
    }
   ],
   "source": [
    "postUserMeta[100]"
   ]
  },
  {
   "cell_type": "code",
   "execution_count": 61,
   "metadata": {
    "collapsed": true
   },
   "outputs": [],
   "source": [
    "# f = open(socialFeatures , 'w+')\n",
    "# pickle.dump(postUserMeta , f)\n",
    "# f.close()"
   ]
  },
  {
   "cell_type": "code",
   "execution_count": null,
   "metadata": {
    "collapsed": true
   },
   "outputs": [],
   "source": []
  }
 ],
 "metadata": {
  "kernelspec": {
   "display_name": "Python 2",
   "language": "python",
   "name": "python2"
  },
  "language_info": {
   "codemirror_mode": {
    "name": "ipython",
    "version": 2
   },
   "file_extension": ".py",
   "mimetype": "text/x-python",
   "name": "python",
   "nbconvert_exporter": "python",
   "pygments_lexer": "ipython2",
   "version": "2.7.6"
  }
 },
 "nbformat": 4,
 "nbformat_minor": 0
}
