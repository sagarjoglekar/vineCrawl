{
 "cells": [
  {
   "cell_type": "code",
   "execution_count": 1,
   "metadata": {
    "collapsed": true
   },
   "outputs": [],
   "source": [
    "import numpy as np\n",
    "%matplotlib inline\n",
    "import matplotlib.pyplot as plt\n",
    "import matplotlib.cm as cm\n",
    "import json\n",
    "import os\n",
    "import cPickle as pickle\n",
    "from collections import Counter\n",
    "import pandas\n",
    "from datetime import datetime\n",
    "from shutil import copyfile"
   ]
  },
  {
   "cell_type": "code",
   "execution_count": 2,
   "metadata": {
    "collapsed": true
   },
   "outputs": [],
   "source": [
    "popularRoot = \"/datasets/sagarj/vineData/Dataset/\"\n",
    "recentRoot = \"/datasets/sagarj/vine2016/Dataset/\"\n",
    "postDir = \"savedPosts/\"\n",
    "popUserDir = \"Users/\"\n",
    "unpopUserDir = \"UserProfiles/\"\n",
    "vidsDir = \"Videos/\"\n",
    "tracked = \"../postTracking/Day24/\"\n",
    "unpopularDir = \"/datasets/sagarj/UnPopular2016_senti/\"\n",
    "unpopVidsDir = unpopularDir + \"Videos/\"\n",
    "unpopPostsDir = unpopularDir + \"Posts/\""
   ]
  },
  {
   "cell_type": "code",
   "execution_count": 3,
   "metadata": {
    "collapsed": true
   },
   "outputs": [],
   "source": [
    "def readJson(path):\n",
    "    f = open(path)\n",
    "    data = json.loads(f.read())\n",
    "    return data\n",
    "\n",
    "def getPopular():\n",
    "    popularDir = popularRoot + postDir\n",
    "    popularPosts = os.listdir(popularDir)\n",
    "    posts = []\n",
    "    for post in popularPosts:\n",
    "        record = readJson(popularDir + post)\n",
    "        p = record['data']\n",
    "        if isinstance(p,dict):\n",
    "            posts.append(p['records'][0])\n",
    "    return posts\n",
    "\n",
    "def getUsersPop():\n",
    "    popularDir = popularRoot + popUserDir\n",
    "    popularPosts = os.listdir(popularDir)\n",
    "    posts = []\n",
    "    followers = []\n",
    "    for post in popularPosts:\n",
    "        record = readJson(popularDir + post)\n",
    "        p = record['data']\n",
    "        if isinstance(p,dict) and p.has_key('followerCount'):\n",
    "            posts.append(p)\n",
    "            followers.append(p['followerCount'])\n",
    "    return posts , followers\n",
    "\n",
    "def getUsersUnPop():\n",
    "    popularDir = recentRoot + unpopUserDir\n",
    "    popularPosts = os.listdir(popularDir)\n",
    "    posts = []\n",
    "    followers = []\n",
    "    for post in popularPosts:\n",
    "        record = readJson(popularDir + post)\n",
    "        p = record['data']\n",
    "        if isinstance(p,dict) and p.has_key('followerCount'):\n",
    "            posts.append(p)\n",
    "            followers.append(p['followerCount'])\n",
    "    return posts , followers\n",
    "\n",
    "def getCrawled(bias = \"\"):\n",
    "    crawledDir = recentRoot + postDir + bias\n",
    "    crawledPosts = os.listdir(crawledDir)\n",
    "    posts = []\n",
    "    for post in crawledPosts:\n",
    "        record = readJson(crawledDir + post)\n",
    "        p = record['data']\n",
    "        if isinstance(p,dict):\n",
    "            posts.append(p['records'][0])\n",
    "    return posts\n",
    "\n",
    "def getPopMetrics(vineList):\n",
    "    likes = []\n",
    "    reposts = []\n",
    "    loops = []\n",
    "    timestamps = []\n",
    "    for vine in vineList:\n",
    "        likes.append(vine['likes']['count'])\n",
    "        reposts.append(vine['reposts']['count'])\n",
    "        loops.append(vine['loops']['count'])\n",
    "        timestamps.append(datetime.strptime(vine['created'], '%Y-%m-%dT%H:%M:%S.%f'))\n",
    "    return likes, reposts, loops, timestamps\n",
    "\n",
    "def copyList(listOfFiles,srcFolder , dstFolder):\n",
    "    if not os.path.exists(dstFolder):\n",
    "        os.makedirs(dstFolder)\n",
    "    for f in listOfFiles:\n",
    "        src = srcFolder + f\n",
    "        dst = dstFolder + f\n",
    "        copyfile(src , dst)"
   ]
  },
  {
   "cell_type": "code",
   "execution_count": 4,
   "metadata": {
    "collapsed": false
   },
   "outputs": [],
   "source": [
    "\n",
    "recentList = getCrawled()"
   ]
  },
  {
   "cell_type": "code",
   "execution_count": 5,
   "metadata": {
    "collapsed": false
   },
   "outputs": [],
   "source": [
    "popularList = getPopular()"
   ]
  },
  {
   "cell_type": "code",
   "execution_count": 6,
   "metadata": {
    "collapsed": false
   },
   "outputs": [],
   "source": [
    "trackedList = getCrawled(tracked)"
   ]
  },
  {
   "cell_type": "code",
   "execution_count": 7,
   "metadata": {
    "collapsed": false
   },
   "outputs": [],
   "source": [
    "recentLikes , recentReposts, recentLoops , recentTimestamps = getPopMetrics(recentList)\n",
    "\n",
    "popLikes , popReposts, popLoops , popTimeStamps= getPopMetrics(popularList)\n",
    "\n",
    "trackedLikes , trackedReposts, trackedLoops , trackedTimeStamps= getPopMetrics(trackedList)"
   ]
  },
  {
   "cell_type": "code",
   "execution_count": 8,
   "metadata": {
    "collapsed": true
   },
   "outputs": [],
   "source": [
    "Likes = popLikes+ trackedLikes\n",
    "Reposts = popReposts+ recentReposts"
   ]
  },
  {
   "cell_type": "code",
   "execution_count": 9,
   "metadata": {
    "collapsed": true
   },
   "outputs": [],
   "source": [
    "Likes = map(lambda x: 1 if x == 0 else x, Likes)\n",
    "Reposts = map(lambda x: 1 if x == 0 else x, Reposts)"
   ]
  },
  {
   "cell_type": "code",
   "execution_count": 10,
   "metadata": {
    "collapsed": false
   },
   "outputs": [
    {
     "name": "stdout",
     "output_type": "stream",
     "text": [
      "2482.10058623 16.0 2861.02132819 1.0\n"
     ]
    }
   ],
   "source": [
    "print np.mean(recentLoops) , np.median(recentLoops) , np.mean(Reposts) , np.median(Reposts)"
   ]
  },
  {
   "cell_type": "code",
   "execution_count": 11,
   "metadata": {
    "collapsed": true
   },
   "outputs": [],
   "source": [
    "sampleL = np.random.choice(len(Likes) , 3000)\n",
    "sampleR = np.random.choice(len(Reposts) , 3000)"
   ]
  },
  {
   "cell_type": "code",
   "execution_count": 12,
   "metadata": {
    "collapsed": true
   },
   "outputs": [],
   "source": [
    "likes = [Likes[i] for i in sampleL]\n",
    "reposts = [Reposts[i] for i in sampleR]"
   ]
  },
  {
   "cell_type": "code",
   "execution_count": 13,
   "metadata": {
    "collapsed": false
   },
   "outputs": [
    {
     "data": {
      "image/png": "[encoded data removed]",
      "text/plain": [
       "<matplotlib.figure.Figure at 0x7f8db0b68890>"
      ]
     },
     "metadata": {},
     "output_type": "display_data"
    }
   ],
   "source": [
    "fig, ax = plt.subplots()\n",
    "fig.set_size_inches(15, 10)\n",
    "plt.hist(np.log10(likes), 2000, normed=1,histtype='step', cumulative=True,linewidth = 3.0,linestyle='dashed')\n",
    "plt.hist(np.log10(reposts), 1000, normed=1,histtype='step', cumulative=True,linewidth = 3.0)\n",
    "plt.title(\"CDF for Likes and Repost\", fontsize = 25)\n",
    "plt.xlabel(\"Likes/repost count (Log scale)\",fontsize = 25)\n",
    "plt.ylabel(\"CDF\",fontsize = 25)\n",
    "plt.legend(['Likes' , 'Reposts'])\n",
    "plt.grid(True)\n",
    "plt.show()"
   ]
  },
  {
   "cell_type": "code",
   "execution_count": 14,
   "metadata": {
    "collapsed": false
   },
   "outputs": [
    {
     "name": "stdout",
     "output_type": "stream",
     "text": [
      "50\n"
     ]
    }
   ],
   "source": [
    "Top1000 = np.argsort(trackedLoops)[-50:]\n",
    "trackedTop1000 = [trackedLoops[i] for i in Top1000]\n",
    "trackedTop1000Posts = [trackedList[i] for i in Top1000]\n",
    "print len(trackedTop1000)"
   ]
  },
  {
   "cell_type": "code",
   "execution_count": 15,
   "metadata": {
    "collapsed": false
   },
   "outputs": [
    {
     "name": "stdout",
     "output_type": "stream",
     "text": [
      "2342021.0 2892075.04 3.36588050914e+12\n"
     ]
    }
   ],
   "source": [
    "print np.median(trackedTop1000) , np.mean(trackedTop1000) , np.var(trackedTop1000)"
   ]
  },
  {
   "cell_type": "code",
   "execution_count": 17,
   "metadata": {
    "collapsed": false
   },
   "outputs": [],
   "source": [
    "unpopular3000 = np.argsort(trackedLoops)[:12000]\n",
    "unpop3000loops = [trackedLoops[i] for i in unpopular3000]\n",
    "unpop3000Posts = [trackedList[i] for i in unpopular3000]"
   ]
  },
  {
   "cell_type": "code",
   "execution_count": 18,
   "metadata": {
    "collapsed": false
   },
   "outputs": [
    {
     "name": "stdout",
     "output_type": "stream",
     "text": [
      "20.0 19.4901666667 104.160236639\n"
     ]
    }
   ],
   "source": [
    "print np.median(unpop3000loops) , np.mean(unpop3000loops) , np.var(unpop3000loops)"
   ]
  },
  {
   "cell_type": "code",
   "execution_count": null,
   "metadata": {
    "collapsed": false
   },
   "outputs": [],
   "source": []
  },
  {
   "cell_type": "code",
   "execution_count": 32,
   "metadata": {
    "collapsed": true
   },
   "outputs": [],
   "source": [
    "unpopPostList = []\n",
    "for p in unpop3000Posts: \n",
    "    postid = p['postId']\n",
    "    filename = str(postid) + \".json\"\n",
    "    unpopPostList.append(filename)"
   ]
  },
  {
   "cell_type": "code",
   "execution_count": 33,
   "metadata": {
    "collapsed": false
   },
   "outputs": [
    {
     "name": "stdout",
     "output_type": "stream",
     "text": [
      "12000\n"
     ]
    }
   ],
   "source": [
    "print len(unpopPostList)"
   ]
  },
  {
   "cell_type": "code",
   "execution_count": 35,
   "metadata": {
    "collapsed": false
   },
   "outputs": [],
   "source": [
    "srcPosts = \"/datasets/sagarj/vine2016/Dataset//postTracking/Day24/\"\n",
    "copyList(unpopPostList, srcPosts , unpopPostsDir)"
   ]
  },
  {
   "cell_type": "code",
   "execution_count": 24,
   "metadata": {
    "collapsed": true
   },
   "outputs": [],
   "source": [
    "unpopVidList = []\n",
    "for p in unpop3000Posts: \n",
    "    postid = p['videoUrl'].split('/')[5].split('?')[0]\n",
    "    filename = str(postid)\n",
    "    unpopVidList.append(filename)"
   ]
  },
  {
   "cell_type": "code",
   "execution_count": 25,
   "metadata": {
    "collapsed": false
   },
   "outputs": [
    {
     "name": "stdout",
     "output_type": "stream",
     "text": [
      "['230718972B1385776682622914560_SW_WEBM_1473369102179d9822d43ab.mp4', '87FAA1D4B81385258722154414080_14732492335083d6cca748e.mp4.mp4', '77734EC1AC1385821679103909888_SW_WEBM_1473379829506c1dc42b9f1.mp4', 'D6838FE9501385258555023724544_14732491932683cac70e797.mp4.mp4', '24E858886D1385712794485547008_14733574938222ec0971b42.mp4.mp4', '4B511CE79E1385169351682224128_14732279248026e4b67d394.mp4.mp4', '7820DFAF741379823525757677568_147195329286818a307d974.mp4.mp4', '095492C70F1385168079927095296_14732276222460c336a9409.mp4.mp4', '04420FD0D31385827507911225344_SW_WEBM_14733812191934179b10875.mp4', 'C234A25A171385826720753545216_SW_WEBM_1473381031420d8223ebe7e.mp4']\n"
     ]
    }
   ],
   "source": [
    "print unpopVidList[:10]"
   ]
  },
  {
   "cell_type": "code",
   "execution_count": 26,
   "metadata": {
    "collapsed": false
   },
   "outputs": [],
   "source": [
    "# srcVids = recentRoot + vidsDir\n",
    "# copyList(unpopVidList, srcVids , unpopVidsDir)"
   ]
  },
  {
   "cell_type": "code",
   "execution_count": 27,
   "metadata": {
    "collapsed": false
   },
   "outputs": [
    {
     "data": {
      "image/png": "[encoded data removed]",
      "text/plain": [
       "<matplotlib.figure.Figure at 0x7f8db092fd50>"
      ]
     },
     "metadata": {},
     "output_type": "display_data"
    }
   ],
   "source": [
    "fig, ax = plt.subplots()\n",
    "fig.set_size_inches(15, 10)\n",
    "#plt.hist(popLikes, 1000, normed=1,histtype='step', cumulative=True,linewidth = 3.0,linestyle='dashed')\n",
    "#plt.hist(popReposts, 1000, normed=1,histtype='step', cumulative=False,linewidth = 3.0)\n",
    "plt.hist(trackedTop1000, 20, normed=1,histtype='step', cumulative=True,linewidth = 3.0)\n",
    "plt.title(\"CDF for Likes and Repost\", fontsize = 25)\n",
    "plt.xlabel(\"Likes/repost count (Log scale)\",fontsize = 25)\n",
    "plt.ylabel(\"CDF\",fontsize = 25)\n",
    "plt.legend(['Likes' , 'Reposts'])\n",
    "plt.grid(True)\n",
    "plt.show()"
   ]
  },
  {
   "cell_type": "code",
   "execution_count": null,
   "metadata": {
    "collapsed": false
   },
   "outputs": [],
   "source": [
    "print np.median(popLoops) , np.mean(popLoops) , np.var(popLoops)"
   ]
  },
  {
   "cell_type": "code",
   "execution_count": null,
   "metadata": {
    "collapsed": false
   },
   "outputs": [],
   "source": [
    "print pow(10,4.5)"
   ]
  },
  {
   "cell_type": "code",
   "execution_count": null,
   "metadata": {
    "collapsed": false
   },
   "outputs": [],
   "source": [
    "popUsers, popFollowers = getUsersPop()"
   ]
  },
  {
   "cell_type": "code",
   "execution_count": null,
   "metadata": {
    "collapsed": false
   },
   "outputs": [],
   "source": [
    "print np.mean(popFollowers) , np.median(popFollowers)"
   ]
  },
  {
   "cell_type": "code",
   "execution_count": null,
   "metadata": {
    "collapsed": true
   },
   "outputs": [],
   "source": [
    "unpopUsers, unpopFollowers = getUsersUnPop()"
   ]
  },
  {
   "cell_type": "code",
   "execution_count": null,
   "metadata": {
    "collapsed": false
   },
   "outputs": [],
   "source": [
    "print unpopUsers[1]"
   ]
  },
  {
   "cell_type": "code",
   "execution_count": null,
   "metadata": {
    "collapsed": false
   },
   "outputs": [],
   "source": [
    "print np.mean(unpopFollowers) , np.median(unpopFollowers)"
   ]
  },
  {
   "cell_type": "code",
   "execution_count": null,
   "metadata": {
    "collapsed": false
   },
   "outputs": [],
   "source": [
    "fig, ax = plt.subplots()\n",
    "fig.set_size_inches(15, 10)\n",
    "plt.hist(popFollowers, 100, normed=1,histtype='bar', cumulative=False,linewidth = 3.0)\n",
    "#plt.hist(unpopFollowers, 100, normed=1,histtype='step', cumulative=True,linewidth = 3.0)\n",
    "plt.title(\"CDF for Followers for Popular and unpopular posts\", fontsize = 25)\n",
    "plt.xlabel(\"Follower Count\",fontsize = 25)\n",
    "plt.ylabel(\"CDF\",fontsize = 25)\n",
    "plt.legend(['Popular' , 'Unpopular'])\n",
    "plt.grid(True)\n",
    "plt.show()"
   ]
  },
  {
   "cell_type": "code",
   "execution_count": null,
   "metadata": {
    "collapsed": true
   },
   "outputs": [],
   "source": []
  }
 ],
 "metadata": {
  "kernelspec": {
   "display_name": "Python 2",
   "language": "python",
   "name": "python2"
  },
  "language_info": {
   "codemirror_mode": {
    "name": "ipython",
    "version": 2
   },
   "file_extension": ".py",
   "mimetype": "text/x-python",
   "name": "python",
   "nbconvert_exporter": "python",
   "pygments_lexer": "ipython2",
   "version": "2.7.6"
  }
 },
 "nbformat": 4,
 "nbformat_minor": 0
}
