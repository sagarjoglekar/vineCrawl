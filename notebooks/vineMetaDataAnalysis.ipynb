{
 "cells": [
  {
   "cell_type": "code",
   "execution_count": 94,
   "metadata": {
    "collapsed": true
   },
   "outputs": [],
   "source": [
    "import numpy as np\n",
    "%matplotlib inline\n",
    "import matplotlib.pyplot as plt\n",
    "import matplotlib.cm as cm\n",
    "import json\n",
    "import os\n",
    "import cPickle as pickle\n",
    "from collections import Counter\n",
    "import pandas\n",
    "from datetime import datetime\n",
    "from shutil import copyfile"
   ]
  },
  {
   "cell_type": "code",
   "execution_count": 112,
   "metadata": {
    "collapsed": true
   },
   "outputs": [],
   "source": [
    "popularRoot = \"/datasets/sagarj/vineData/Dataset/\"\n",
    "recentRoot = \"/datasets/sagarj/vine2016/Dataset/\"\n",
    "postDir = \"savedPosts/\"\n",
    "vidsDir = \"Videos/\"\n",
    "tracked = \"../postTracking/Day10/\"\n",
    "unpopularDir = \"/datasets/sagarj/UnPopular2016/\"\n",
    "unpopVidsDir = unpopularDir + \"Videos/\"\n",
    "unpopPostsDir = unpopularDir + \"Posts/\""
   ]
  },
  {
   "cell_type": "code",
   "execution_count": 99,
   "metadata": {
    "collapsed": true
   },
   "outputs": [],
   "source": [
    "def readJson(path):\n",
    "    f = open(path)\n",
    "    data = json.loads(f.read())\n",
    "    return data\n",
    "\n",
    "def getPopular():\n",
    "    popularDir = popularRoot + postDir\n",
    "    popularPosts = os.listdir(popularDir)\n",
    "    posts = []\n",
    "    for post in popularPosts:\n",
    "        record = readJson(popularDir + post)\n",
    "        p = record['data']\n",
    "        if isinstance(p,dict):\n",
    "            posts.append(p['records'][0])\n",
    "    return posts\n",
    "\n",
    "def getCrawled(bias = \"\"):\n",
    "    crawledDir = recentRoot + postDir + bias\n",
    "    crawledPosts = os.listdir(crawledDir)\n",
    "    posts = []\n",
    "    for post in crawledPosts:\n",
    "        record = readJson(crawledDir + post)\n",
    "        p = record['data']\n",
    "        if isinstance(p,dict):\n",
    "            posts.append(p['records'][0])\n",
    "    return posts\n",
    "\n",
    "def getPopMetrics(vineList):\n",
    "    likes = []\n",
    "    reposts = []\n",
    "    loops = []\n",
    "    timestamps = []\n",
    "    for vine in vineList:\n",
    "        likes.append(vine['likes']['count'])\n",
    "        reposts.append(vine['reposts']['count'])\n",
    "        loops.append(vine['loops']['count'])\n",
    "        timestamps.append(datetime.strptime(vine['created'], '%Y-%m-%dT%H:%M:%S.%f'))\n",
    "    return likes, reposts, loops, timestamps\n",
    "\n",
    "def copyList(listOfFiles,srcFolder , dstFolder):\n",
    "    if not os.path.exists(dstFolder):\n",
    "        os.makedirs(dstFolder)\n",
    "    for f in listOfFiles:\n",
    "        src = srcFolder + f\n",
    "        dst = dstFolder + f\n",
    "        copyfile(src , dst)"
   ]
  },
  {
   "cell_type": "code",
   "execution_count": 4,
   "metadata": {
    "collapsed": false
   },
   "outputs": [],
   "source": [
    "\n",
    "recentList = getCrawled()"
   ]
  },
  {
   "cell_type": "code",
   "execution_count": 5,
   "metadata": {
    "collapsed": false
   },
   "outputs": [],
   "source": [
    "popularList = getPopular()"
   ]
  },
  {
   "cell_type": "code",
   "execution_count": 28,
   "metadata": {
    "collapsed": false
   },
   "outputs": [],
   "source": [
    "trackedList = getCrawled(tracked)"
   ]
  },
  {
   "cell_type": "code",
   "execution_count": 6,
   "metadata": {
    "collapsed": false
   },
   "outputs": [
    {
     "name": "stdout",
     "output_type": "stream",
     "text": [
      "{u'liked': 0, u'videoDashUrl': u'http://v.cdn.vine.co/r/videos_dashhd/A4E1C431691380709666157686784_5407d9b9dcf.31.0.87B91134-B4B4-4060-B596-C3ED4FB464E6.mp4?versionId=N_iEAoWzvT4ofZ2mi8Lu.hzEGCaKAeBx', u'foursquareVenueId': u'', u'userId': 1311126374232289280, u'private': 0, u'videoWebmUrl': None, u'loops': {u'count': 14.0, u'velocity': 0.008, u'onFire': 0}, u'thumbnailUrl': u'http://v.cdn.vine.co/r/thumbs/A4E1C431691380709666157686784_5407d9b9dcf.31.0.87B91134-B4B4-4060-B596-C3ED4FB464E6.mp4.jpg?versionId=95f5pfSVAYR98VH7M_pI.g5q3Kwizpef', u'explicitContent': 0, u'description': u\"Meet Sadie the Goat! Raygun's Dog\", u'verified': 0, u'avatarUrl': u'http://v.cdn.vine.co/r/avatars/34D23D134F1311126378342936576_5d80bcdfa09.3.0.jpg?versionId=h4lyFeIXD9F_8rNAhYBLX6zuo7g2s_Nc', u'comments': {u'count': 0, u'anchorStr': u'', u'records': [], u'previousPage': None, u'backAnchor': u'', u'anchor': None, u'nextPage': None, u'size': 0}, u'entities': [], u'videoLowURL': u'http://v.cdn.vine.co/r/videos_r2/A4E1C431691380709666157686784_5407d9b9dcf.31.0.87B91134-B4B4-4060-B596-C3ED4FB464E6.mp4?versionId=bA_Wpwbi1IZoKFzr5YBbLlNAZ7FpYHQ1', u'blocked': 0, u'username': u'Slender2134', u'vanityUrls': [], u'tags': [], u'permalinkUrl': u'https://vine.co/v/5O9rAaaxpje', u'promoted': 0, u'postId': 1380710379793092608, u'profileBackground': u'0x33ccbf', u'videoUrl': u'http://v.cdn.vine.co/r/videos/A4E1C431691380709666157686784_5407d9b9dcf.31.0.87B91134-B4B4-4060-B596-C3ED4FB464E6.mp4?versionId=wVxtN1ss1UAX4YxzqjdmMCNdOgr0tqu8', u'followRequested': 0, u'created': u'2016-08-25T21:40:20.000000', u'hasSimilarPosts': 0, u'shareUrl': u'https://vine.co/v/5O9rAaaxpje', u'myRepostId': 0, u'following': 0, u'reposts': {u'count': 0, u'anchorStr': u'', u'records': [], u'previousPage': None, u'backAnchor': u'', u'anchor': None, u'nextPage': None, u'size': 0}, u'likes': {u'count': 1, u'anchorStr': u'1380717963191185408', u'records': [{u'username': u'Anna Kate Jackson', u'verified': 0, u'vanityUrls': [], u'created': u'2016-08-25T22:10:28.000000', u'userId': 1308305293062578176, u'user': {u'private': 0}, u'likeId': 1380717963191185408}], u'previousPage': None, u'backAnchor': u'', u'anchor': 1380717963191185408, u'nextPage': None, u'size': 1}}\n"
     ]
    }
   ],
   "source": [
    "print recentList[0]"
   ]
  },
  {
   "cell_type": "code",
   "execution_count": 29,
   "metadata": {
    "collapsed": false
   },
   "outputs": [],
   "source": [
    "recentLikes , recentReposts, recentLoops , recentTimestamps = getPopMetrics(recentList)\n",
    "\n",
    "popLikes , popReposts, popLoops , popTimeStamps= getPopMetrics(popularList)\n",
    "\n",
    "trackedLikes , trackedReposts, trackedLoops , trackedTimeStamps= getPopMetrics(trackedList)"
   ]
  },
  {
   "cell_type": "code",
   "execution_count": 79,
   "metadata": {
    "collapsed": false
   },
   "outputs": [
    {
     "name": "stdout",
     "output_type": "stream",
     "text": [
      "50\n"
     ]
    }
   ],
   "source": [
    "Top1000 = np.argsort(trackedLoops)[-50:]\n",
    "trackedTop1000 = [trackedLoops[i] for i in Top1000]\n",
    "trackedTop1000Posts = [trackedList[i] for i in Top1000]\n",
    "print len(trackedTop1000)"
   ]
  },
  {
   "cell_type": "code",
   "execution_count": 77,
   "metadata": {
    "collapsed": false
   },
   "outputs": [
    {
     "name": "stdout",
     "output_type": "stream",
     "text": [
      "654258.0 994758.94 916679471396.0\n"
     ]
    }
   ],
   "source": [
    "print np.median(trackedTop1000) , np.mean(trackedTop1000) , np.var(trackedTop1000)"
   ]
  },
  {
   "cell_type": "code",
   "execution_count": 85,
   "metadata": {
    "collapsed": false
   },
   "outputs": [],
   "source": [
    "unpopular3000 = np.argsort(trackedLoops)[:3000]\n",
    "unpop3000loops = [trackedLoops[i] for i in unpopular3000]\n",
    "unpop3000Posts = [trackedList[i] for i in unpopular3000]"
   ]
  },
  {
   "cell_type": "code",
   "execution_count": 95,
   "metadata": {
    "collapsed": false
   },
   "outputs": [
    {
     "name": "stdout",
     "output_type": "stream",
     "text": [
      "14.0 14.1313333333 48.9874182222\n"
     ]
    }
   ],
   "source": [
    "print np.median(unpop3000loops) , np.mean(unpop3000loops) , np.var(unpop3000loops)"
   ]
  },
  {
   "cell_type": "code",
   "execution_count": 105,
   "metadata": {
    "collapsed": false
   },
   "outputs": [
    {
     "data": {
      "text/plain": [
       "u'7A176536C71379823278809608192_147195323922152276a86b4.mp4.mp4'"
      ]
     },
     "execution_count": 105,
     "metadata": {},
     "output_type": "execute_result"
    }
   ],
   "source": [
    "unpop3000Posts[0]['videoUrl'].split('/')[5].split('?')[0]"
   ]
  },
  {
   "cell_type": "code",
   "execution_count": 111,
   "metadata": {
    "collapsed": true
   },
   "outputs": [],
   "source": [
    "unpopPostList = []\n",
    "for p in unpop3000Posts: \n",
    "    postid = p['postId']\n",
    "    filename = str(postid) + \".json\"\n",
    "    unpopPostList.append(filename)"
   ]
  },
  {
   "cell_type": "code",
   "execution_count": 100,
   "metadata": {
    "collapsed": false
   },
   "outputs": [],
   "source": [
    "#srcPosts = recentRoot + postDir\n",
    "#copyList(unpopPostList, srcPosts , unpopPostsDir)"
   ]
  },
  {
   "cell_type": "code",
   "execution_count": 108,
   "metadata": {
    "collapsed": true
   },
   "outputs": [],
   "source": [
    "unpopVidList = []\n",
    "for p in unpop3000Posts: \n",
    "    postid = p['videoUrl'].split('/')[5].split('?')[0]\n",
    "    filename = str(postid)\n",
    "    unpopVidList.append(filename)"
   ]
  },
  {
   "cell_type": "code",
   "execution_count": 109,
   "metadata": {
    "collapsed": false
   },
   "outputs": [
    {
     "name": "stdout",
     "output_type": "stream",
     "text": [
      "['7A176536C71379823278809608192_147195323922152276a86b4.mp4.mp4', 'B94CAAD3B61380638140196417536_1472147602595a1c6855a0d.mp4.mp4', '645B7CDBA41379823515410362368_14719532970756817878dd5.mp4.mp4', 'DCF3C37ED81379823481755168768_147195328391775f882b6e7.mp4.mp4', 'C1F733B4D91379823710592233472_1471953315908d00246bee1.mp4.mp4', '4E31FD7BE31379733308975800320_14719317729515b34c658ef.mp4.mp4', 'AA9C1B39271379730086026276864_1471931071659ded6c7bdda.mp4.mp4', '850F89C6EC1379731721771270144_1471931397412d7d0387259.mp4.mp4', '561CBD70471379822725174304768_1471953075233a5948289a7.mp4.mp4', '19D0B068C11380907265473060864_1472211768856f20e72cdfa.mp4.mp4']\n"
     ]
    }
   ],
   "source": [
    "print unpopVidList[:10]"
   ]
  },
  {
   "cell_type": "code",
   "execution_count": 114,
   "metadata": {
    "collapsed": false
   },
   "outputs": [],
   "source": [
    "# srcVids = recentRoot + vidsDir\n",
    "# copyList(unpopVidList, srcVids , unpopVidsDir)"
   ]
  },
  {
   "cell_type": "code",
   "execution_count": 78,
   "metadata": {
    "collapsed": false
   },
   "outputs": [
    {
     "data": {
      "image/png": "[encoded data removed]",
      "text/plain": [
       "<matplotlib.figure.Figure at 0x7fb931463510>"
      ]
     },
     "metadata": {},
     "output_type": "display_data"
    }
   ],
   "source": [
    "fig, ax = plt.subplots()\n",
    "fig.set_size_inches(15, 10)\n",
    "#plt.hist(popLikes, 1000, normed=1,histtype='step', cumulative=True,linewidth = 3.0,linestyle='dashed')\n",
    "#plt.hist(popReposts, 1000, normed=1,histtype='step', cumulative=False,linewidth = 3.0)\n",
    "plt.hist(trackedTop1000, 20, normed=1,histtype='step', cumulative=True,linewidth = 3.0)\n",
    "plt.title(\"CDF for Likes and Repost\", fontsize = 25)\n",
    "plt.xlabel(\"Likes/repost count (Log scale)\",fontsize = 25)\n",
    "plt.ylabel(\"CDF\",fontsize = 25)\n",
    "plt.legend(['Likes' , 'Reposts'])\n",
    "plt.grid(True)\n",
    "plt.show()"
   ]
  },
  {
   "cell_type": "code",
   "execution_count": 11,
   "metadata": {
    "collapsed": false
   },
   "outputs": [
    {
     "name": "stdout",
     "output_type": "stream",
     "text": [
      " 318566.0 2405671.25227 4.50174420562e+13\n"
     ]
    }
   ],
   "source": [
    "print np.median(popLoops) , np.mean(popLoops) , np.var(popLoops)"
   ]
  },
  {
   "cell_type": "code",
   "execution_count": 16,
   "metadata": {
    "collapsed": false
   },
   "outputs": [
    {
     "name": "stdout",
     "output_type": "stream",
     "text": [
      "31622.7766017\n"
     ]
    }
   ],
   "source": [
    "print pow(10,4.5)"
   ]
  },
  {
   "cell_type": "code",
   "execution_count": null,
   "metadata": {
    "collapsed": true
   },
   "outputs": [],
   "source": []
  }
 ],
 "metadata": {
  "kernelspec": {
   "display_name": "Python 2",
   "language": "python",
   "name": "python2"
  },
  "language_info": {
   "codemirror_mode": {
    "name": "ipython",
    "version": 2
   },
   "file_extension": ".py",
   "mimetype": "text/x-python",
   "name": "python",
   "nbconvert_exporter": "python",
   "pygments_lexer": "ipython2",
   "version": "2.7.6"
  }
 },
 "nbformat": 4,
 "nbformat_minor": 0
}
