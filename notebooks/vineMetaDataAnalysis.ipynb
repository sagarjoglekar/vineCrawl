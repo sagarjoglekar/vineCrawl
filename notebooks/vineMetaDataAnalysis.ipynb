{
 "cells": [
  {
   "cell_type": "code",
   "execution_count": 1,
   "metadata": {
    "collapsed": false
   },
   "outputs": [],
   "source": [
    "import numpy as np\n",
    "%matplotlib inline\n",
    "import matplotlib.pyplot as plt\n",
    "import matplotlib.cm as cm\n",
    "import json\n",
    "import os\n",
    "import cPickle as pickle\n",
    "from collections import Counter\n",
    "import pandas\n",
    "from datetime import datetime\n",
    "from shutil import copyfile\n",
    "import platform\n",
    "import scipy.stats"
   ]
  },
  {
   "cell_type": "code",
   "execution_count": 2,
   "metadata": {
    "collapsed": true
   },
   "outputs": [],
   "source": [
    "popularRoot = \"/datasets/sagarj/vineData/Dataset/\"\n",
    "recentRoot = \"/datasets/sagarj/vine2016/Dataset/\"\n",
    "PostDir = \"savedPosts/\"\n",
    "popUserDir = \"Users/\"\n",
    "unpopUserDir = \"UserProfiles3/\"\n",
    "vidsDir = \"Videos/\"\n",
    "tracked = \"/postTracking/Day53/\"\n",
    "unpopularDir = \"/datasets/sagarj/UnPopular2016_senti/\"\n",
    "unpopVidsDir = unpopularDir + \"Videos/\"\n",
    "unpopPostsDir = unpopularDir + \"Posts/\"\n",
    "socialFeatures = \"../Final_features/postSocialMetaFeatures_revised.pk\"\n"
   ]
  },
  {
   "cell_type": "code",
   "execution_count": 3,
   "metadata": {
    "collapsed": false
   },
   "outputs": [],
   "source": [
    "def readJson(path):\n",
    "    f = open(path)\n",
    "    data = json.loads(f.read())\n",
    "    return data\n",
    "\n",
    "def getPopular():\n",
    "    popularDir = popularRoot + PostDir\n",
    "    popularPosts = os.listdir(popularDir)\n",
    "    posts = []\n",
    "    for post in popularPosts:\n",
    "        record = readJson(popularDir + post)\n",
    "        p = record['data']\n",
    "        if isinstance(p,dict):\n",
    "            posts.append(p['records'][0])\n",
    "    return posts\n",
    "\n",
    "def getUsersPop():\n",
    "    popularDir = popularRoot + popUserDir\n",
    "    popularPosts = os.listdir(popularDir)\n",
    "    userMetaDict = {}\n",
    "    posts = []\n",
    "    followers = []\n",
    "    for post in popularPosts:\n",
    "        record = readJson(popularDir + post)\n",
    "        p = record['data']\n",
    "        if isinstance(p,dict) and p.has_key('followerCount'):\n",
    "            posts.append(p)\n",
    "            userId = p['userId']\n",
    "            flwer= p['followerCount']\n",
    "            pastPosts = p['authoredPostCount']\n",
    "            followers.append(p['followerCount'])\n",
    "            #userMetaDict[userId] = [flwer , pastPosts]\n",
    "            userMetaDict[userId] = {'follower' : flwer , 'pastPosts': pastPosts}     \n",
    "    return posts , followers , userMetaDict\n",
    "\n",
    "def getUsersUnPop():\n",
    "    popularDir = recentRoot + unpopUserDir\n",
    "    popularPosts = os.listdir(popularDir)\n",
    "    posts = []\n",
    "    followers = []\n",
    "    userMetaDict = {}\n",
    "    for post in popularPosts:\n",
    "        record = readJson(popularDir + post)\n",
    "        p = record['data']\n",
    "        if isinstance(p,dict) and p.has_key('followerCount'):\n",
    "            posts.append(p)\n",
    "            userId = p['userId']\n",
    "            flwer = p['followerCount']\n",
    "            pastPosts = p['authoredPostCount']\n",
    "            followers.append(p['followerCount'])\n",
    "            userMetaDict[userId] = {'follower' : flwer , 'pastPosts': pastPosts}          \n",
    "    return posts , followers , userMetaDict\n",
    "\n",
    "def sorted_ls(path):\n",
    "    mtime = lambda f: os.stat(os.path.join(path, f)).st_mtime\n",
    "    return list(sorted(os.listdir(path), key=mtime))\n",
    "\n",
    "    \n",
    "\n",
    "def getCrawled(root , postDir):\n",
    "    crawledDir = root + postDir\n",
    "    crawledPosts = os.listdir(crawledDir)\n",
    "    print len(crawledPosts)\n",
    "    posts = []\n",
    "    postDict = {}\n",
    "    for post in crawledPosts:\n",
    "        postid = post.split('.')[0]\n",
    "        record = readJson(crawledDir + post)\n",
    "        p = record['data']\n",
    "        if isinstance(p,dict):\n",
    "            posts.append(p['records'][0])\n",
    "            postDict[postid] = p['records'][0]\n",
    "    print len(postDict.keys())\n",
    "    return posts , postDict\n",
    "\n",
    "def getPopMetrics(vineList):\n",
    "    likes = []\n",
    "    reposts = []\n",
    "    loops = []\n",
    "    timestamps = []\n",
    "    for vine in vineList:\n",
    "        likes.append(vine['likes']['count'])\n",
    "        reposts.append(vine['reposts']['count'])\n",
    "        loops.append(vine['loops']['count'])\n",
    "        timestamps.append(datetime.strptime(vine['created'], '%Y-%m-%dT%H:%M:%S.%f'))\n",
    "    return likes, reposts, loops, timestamps\n",
    "\n",
    "def copyList(listOfFiles,srcFolder , dstFolder):\n",
    "    if not os.path.exists(dstFolder):\n",
    "        os.makedirs(dstFolder)\n",
    "    for f in listOfFiles:\n",
    "        src = srcFolder + f\n",
    "        dst = dstFolder + f\n",
    "        copyfile(src , dst)\n",
    "        \n",
    "    sentiDict = {}\n",
    "    for line in lines:\n",
    "        comp = line.split(',')\n",
    "        sentiDict[comp[0]] = float(comp[1].strip())\n",
    "    return sentiDict\n",
    "\n",
    "def readFeatureFile(color_features):\n",
    "    with open(color_features) as g:\n",
    "        featureLines = g.readlines()\n",
    "    print len(featureLines)\n",
    "    return featureLines\n",
    "\n",
    "\n",
    "def postFollowerMapping(postsInterested , postDict , userDict ):\n",
    "    finalMeta = []\n",
    "    finalDict = {}\n",
    "    for postId in postsInterested:\n",
    "        if postId in postDict:\n",
    "            post = postDict[postId]\n",
    "            like = post['likes']['count']\n",
    "            loop = post['loops']['count']\n",
    "            reposts = post['reposts']['count']\n",
    "            user = post['userId']\n",
    "            if user in userDict:\n",
    "                userMeta = userDict[user]\n",
    "                logline = [postId,  userMeta['follower'], userMeta['pastPosts'] , loop , like , reposts ]\n",
    "                finalMeta.append(logline)\n",
    "                finalDict[postId] = {}\n",
    "                \n",
    "                finalDict[postId]['followers'] = userMeta['follower']\n",
    "                finalDict[postId]['pastPosts'] = userMeta['pastPosts']\n",
    "                finalDict[postId]['loops'] = loop\n",
    "                finalDict[postId]['likes'] = like\n",
    "                finalDict[postId]['reposts'] = reposts\n",
    "    return finalMeta , finalDict\n",
    "        \n",
    "        \n",
    "            \n",
    "        \n",
    "    \n"
   ]
  },
  {
   "cell_type": "code",
   "execution_count": 4,
   "metadata": {
    "collapsed": false
   },
   "outputs": [],
   "source": [
    "# print sorted_ls(unpopPostsDir)"
   ]
  },
  {
   "cell_type": "code",
   "execution_count": 5,
   "metadata": {
    "collapsed": false
   },
   "outputs": [
    {
     "name": "stdout",
     "output_type": "stream",
     "text": [
      "122326\n",
      "122298\n"
     ]
    }
   ],
   "source": [
    "\n",
    "recentList , recentDict = getCrawled(recentRoot , PostDir )"
   ]
  },
  {
   "cell_type": "code",
   "execution_count": 6,
   "metadata": {
    "collapsed": false
   },
   "outputs": [
    {
     "data": {
      "text/plain": [
       "'1385887276084670464'"
      ]
     },
     "execution_count": 6,
     "metadata": {},
     "output_type": "execute_result"
    }
   ],
   "source": [
    "recentDict.keys()[1]"
   ]
  },
  {
   "cell_type": "code",
   "execution_count": 7,
   "metadata": {
    "collapsed": false
   },
   "outputs": [],
   "source": [
    "popularList = getPopular()"
   ]
  },
  {
   "cell_type": "code",
   "execution_count": 8,
   "metadata": {
    "collapsed": false
   },
   "outputs": [
    {
     "name": "stdout",
     "output_type": "stream",
     "text": [
      "106396\n",
      "74948\n"
     ]
    }
   ],
   "source": [
    "trackedList , trackedDict = getCrawled(recentRoot , tracked )"
   ]
  },
  {
   "cell_type": "code",
   "execution_count": 9,
   "metadata": {
    "collapsed": false
   },
   "outputs": [
    {
     "name": "stdout",
     "output_type": "stream",
     "text": [
      "11448\n",
      "11448\n"
     ]
    }
   ],
   "source": [
    "popList , popDict = getCrawled(popularRoot , PostDir )"
   ]
  },
  {
   "cell_type": "code",
   "execution_count": 32,
   "metadata": {
    "collapsed": false
   },
   "outputs": [
    {
     "data": {
      "text/plain": [
       "{u'avatarUrl': u'http://v.cdn.vine.co/r/avatars/C37F709C791330959094663778304_54444c9551b.9.0.jpg?versionId=NktgX9QkffjNkFEIxzFuz3kbyuljSQIb',\n",
       " u'blocked': 0,\n",
       " u'comments': {u'anchor': 1334421841082802176,\n",
       "  u'anchorStr': u'1334421841082802176',\n",
       "  u'backAnchor': u'',\n",
       "  u'count': 433,\n",
       "  u'nextPage': 2,\n",
       "  u'previousPage': None,\n",
       "  u'records': [{u'comment': u'Being in love is the same as being on drugs \\U0001f44c',\n",
       "    u'commentId': 1334421841082802176,\n",
       "    u'created': u'2016-04-20T04:06:13.000000',\n",
       "    u'entities': [],\n",
       "    u'postId': 1271515766126260224,\n",
       "    u'profileBackground': u'0x68bf60',\n",
       "    u'user': {u'avatarUrl': u'http://v.cdn.vine.co/r/avatars/E6229947B71308934911952355328_489a9c3635c.5.1.jpg?versionId=zW_kefTzAgW_IotzfxlSIBtx6XDDUR4V',\n",
       "     u'description': u'@anime.sickness',\n",
       "     u'hideFromPopular': 0,\n",
       "     u'location': u'',\n",
       "     u'notPorn': 0,\n",
       "     u'private': 0,\n",
       "     u'profileBackground': u'0x68bf60',\n",
       "     u'twitterVerified': 0,\n",
       "     u'unflaggable': 0,\n",
       "     u'userId': 1219913802699739136,\n",
       "     u'username': u'anime & trap nation',\n",
       "     u'vanityUrls': [],\n",
       "     u'verified': 0},\n",
       "    u'userId': 1219913802699739136,\n",
       "    u'username': u'anime & trap nation',\n",
       "    u'vanityUrls': [],\n",
       "    u'verified': 0},\n",
       "   {u'comment': u'(lit) ^_^ FyZe Fyte me\\u30c4',\n",
       "    u'commentId': 1336141399380373504,\n",
       "    u'created': u'2016-04-24T21:59:07.000000',\n",
       "    u'entities': [{u'id': 1240660610962874368,\n",
       "      u'link': u'vine://user-id/1240660610962874368',\n",
       "      u'range': [0, 23],\n",
       "      u'title': u'(lit) ^_^ FyZe Fyte me\\u30c4',\n",
       "      u'type': u'mention',\n",
       "      u'vanityUrls': []}],\n",
       "    u'postId': 1271515766126260224,\n",
       "    u'profileBackground': u'0x333333',\n",
       "    u'user': {u'avatarUrl': u'http://v.cdn.vine.co/r/avatars/DDD7AD0EEE1339354484329115648_pic-r-1462301203947e755300a3c.jpg.jpg?versionId=i4Mo.lnQNyQ_4uC9IN1A1QgqpPScXAWg',\n",
       "     u'description': u'Pretty lit',\n",
       "     u'hideFromPopular': 0,\n",
       "     u'location': u'',\n",
       "     u'notPorn': 0,\n",
       "     u'private': 0,\n",
       "     u'profileBackground': u'0x333333',\n",
       "     u'twitterVerified': 0,\n",
       "     u'unflaggable': 0,\n",
       "     u'userId': 1243769198304788480,\n",
       "     u'username': u'(lit) The Blind Bandit',\n",
       "     u'vanityUrls': [],\n",
       "     u'verified': 0},\n",
       "    u'userId': 1243769198304788480,\n",
       "    u'username': u'(lit) The Blind Bandit',\n",
       "    u'vanityUrls': [],\n",
       "    u'verified': 0},\n",
       "   {u'comment': u'Dang it the memories from Plastic Memories',\n",
       "    u'commentId': 1338622142400675840,\n",
       "    u'created': u'2016-05-01T18:16:43.000000',\n",
       "    u'entities': [],\n",
       "    u'postId': 1271515766126260224,\n",
       "    u'profileBackground': u'0xf279ac',\n",
       "    u'user': {u'avatarUrl': u'http://v.cdn.vine.co/r/avatars/8BEF6943901288021757634732032_4d9c2c9c8ab.5.0.jpg?versionId=nWJLDNeL7P0PHrQqKG7VGvAUebpOqto1',\n",
       "     u'description': u'@AnimeQuote4Life',\n",
       "     u'hideFromPopular': 0,\n",
       "     u'location': None,\n",
       "     u'notPorn': 0,\n",
       "     u'private': 0,\n",
       "     u'profileBackground': u'0xf279ac',\n",
       "     u'twitterVerified': 0,\n",
       "     u'unflaggable': 0,\n",
       "     u'userId': 1181477673227202560,\n",
       "     u'username': u'Emiko',\n",
       "     u'vanityUrls': [],\n",
       "     u'verified': 0},\n",
       "    u'userId': 1181477673227202560,\n",
       "    u'username': u'Emiko',\n",
       "    u'vanityUrls': [],\n",
       "    u'verified': 0}],\n",
       "  u'size': 3},\n",
       " u'created': u'2015-10-29T13:59:56.000000',\n",
       " u'description': u'',\n",
       " u'entities': [],\n",
       " u'explicitContent': 0,\n",
       " u'followRequested': 0,\n",
       " u'following': 0,\n",
       " u'foursquareVenueId': u'',\n",
       " u'hasRemixes': 1,\n",
       " u'hasSimilarPosts': 1,\n",
       " u'liked': 0,\n",
       " u'likes': {u'anchor': 1338901300473118720,\n",
       "  u'anchorStr': u'1338901300473118720',\n",
       "  u'backAnchor': u'',\n",
       "  u'count': 7898,\n",
       "  u'nextPage': 2,\n",
       "  u'previousPage': None,\n",
       "  u'records': [{u'created': u'2016-05-02T12:45:59.000000',\n",
       "    u'likeId': 1338901300473118720,\n",
       "    u'user': {u'private': 0},\n",
       "    u'userId': 1055927451391827968,\n",
       "    u'username': u'Thomas Weber',\n",
       "    u'vanityUrls': [],\n",
       "    u'verified': 0},\n",
       "   {u'created': u'2016-05-02T18:33:09.000000',\n",
       "    u'likeId': 1338988668395905024,\n",
       "    u'user': {u'private': 0},\n",
       "    u'userId': 1023356234537279488,\n",
       "    u'username': u'Rakwon Williams',\n",
       "    u'vanityUrls': [],\n",
       "    u'verified': 0},\n",
       "   {u'created': u'2016-05-03T01:30:11.000000',\n",
       "    u'likeId': 1339093619189174272,\n",
       "    u'user': {u'private': 0},\n",
       "    u'userId': 1163997965577232384,\n",
       "    u'username': u'\\u83ca SakuraUmi \\u83ca',\n",
       "    u'vanityUrls': [],\n",
       "    u'verified': 0},\n",
       "   {u'created': u'2016-05-03T04:06:41.000000',\n",
       "    u'likeId': 1339133001312960512,\n",
       "    u'user': {u'private': 0},\n",
       "    u'userId': 1253582371618992128,\n",
       "    u'username': u'Logic Tatsu.rsn',\n",
       "    u'vanityUrls': [],\n",
       "    u'verified': 0},\n",
       "   {u'created': u'2016-05-03T09:29:16.000000',\n",
       "    u'likeId': 1339214180926070784,\n",
       "    u'user': {u'private': 0},\n",
       "    u'userId': 1186316846266277888,\n",
       "    u'username': u'NotUrSenpai',\n",
       "    u'vanityUrls': [],\n",
       "    u'verified': 0},\n",
       "   {u'created': u'2016-05-03T20:19:12.000000',\n",
       "    u'likeId': 1339377745297326080,\n",
       "    u'user': {u'private': 0},\n",
       "    u'userId': 1256327895454986240,\n",
       "    u'username': u'Viccy',\n",
       "    u'vanityUrls': [],\n",
       "    u'verified': 0},\n",
       "   {u'created': u'2016-05-03T20:24:58.000000',\n",
       "    u'likeId': 1339379195209498624,\n",
       "    u'user': {u'private': 0},\n",
       "    u'userId': 1133615367365775360,\n",
       "    u'username': u'akabane',\n",
       "    u'vanityUrls': [],\n",
       "    u'verified': 0},\n",
       "   {u'created': u'2016-05-03T23:10:59.000000',\n",
       "    u'likeId': 1339420975535927296,\n",
       "    u'user': {u'private': 0},\n",
       "    u'userId': 1292868141600673792,\n",
       "    u'username': u'Ok Childhood',\n",
       "    u'vanityUrls': [],\n",
       "    u'verified': 0},\n",
       "   {u'created': u'2016-05-04T03:49:14.000000',\n",
       "    u'likeId': 1339490998325313536,\n",
       "    u'user': {u'private': 0},\n",
       "    u'userId': 1327201801728147456,\n",
       "    u'username': u'Esperanza',\n",
       "    u'vanityUrls': [],\n",
       "    u'verified': 0},\n",
       "   {u'created': u'2016-05-04T07:48:16.000000',\n",
       "    u'likeId': 1339551150844018688,\n",
       "    u'user': {u'private': 0},\n",
       "    u'userId': 928420735666507776,\n",
       "    u'username': u'Tara Dorlag',\n",
       "    u'vanityUrls': [],\n",
       "    u'verified': 0}],\n",
       "  u'size': 10},\n",
       " u'loops': {u'count': 308215.0, u'onFire': 0, u'velocity': 0.0},\n",
       " u'myRepostId': 0,\n",
       " u'permalinkUrl': u'https://vine.co/v/eY2FmwUnn7x',\n",
       " u'postId': 1271515766126260224,\n",
       " u'private': 0,\n",
       " u'profileBackground': u'0x333333',\n",
       " u'promoted': 0,\n",
       " u'reposts': {u'anchor': None,\n",
       "  u'anchorStr': u'',\n",
       "  u'backAnchor': u'',\n",
       "  u'count': 2526,\n",
       "  u'nextPage': None,\n",
       "  u'previousPage': None,\n",
       "  u'records': [],\n",
       "  u'size': 0},\n",
       " u'shareUrl': u'https://vine.co/v/eY2FmwUnn7x',\n",
       " u'tags': [],\n",
       " u'thumbnailUrl': u'http://v.cdn.vine.co/r/thumbs/4B5DE49F081271515765136343040_1.3.2.mp4.jpg?versionId=NPPLFaKsqkL1hyWkRyqqmacSRPrMIsCY',\n",
       " u'userId': 1158522414213521408,\n",
       " u'username': u\"Kam's Edits\",\n",
       " u'vanityUrls': [],\n",
       " u'verified': 0,\n",
       " u'videoDashUrl': u'http://v.cdn.vine.co/r/videos_dashhd/BB1AD017741271515762150281216_17fdafbb11a.3.2.mp4?versionId=eKF.9AMEI8S6QfgQHFwzakpXX27D4b4M',\n",
       " u'videoLowURL': u'http://v.cdn.vine.co/r/videos_r2/BB1AD017741271515762150281216_17fdafbb11a.3.2.mp4?versionId=KZHj_Nqi.fqJYnDpw2GmegtT2thU6Jzg',\n",
       " u'videoUrl': u'http://v.cdn.vine.co/r/videos/BB1AD017741271515762150281216_17fdafbb11a.3.2.mp4?versionId=9POnC_U3yCy7dB1.EiQjLZhMAuc7gDBg',\n",
       " u'videoWebmUrl': None}"
      ]
     },
     "execution_count": 32,
     "metadata": {},
     "output_type": "execute_result"
    }
   ],
   "source": [
    "popDict[popDict.keys()[1101]]"
   ]
  },
  {
   "cell_type": "code",
   "execution_count": 34,
   "metadata": {
    "collapsed": false
   },
   "outputs": [],
   "source": [
    "userList = []\n",
    "for d in popDict:\n",
    "    if popDict[d]['username'] not in userList:\n",
    "        uname = popDict[d]['username'].encode('utf8')\n",
    "        out = uname.decode('unicode_escape').encode('ascii','ignore')\n",
    "        userList.append(out)"
   ]
  },
  {
   "cell_type": "code",
   "execution_count": 35,
   "metadata": {
    "collapsed": false
   },
   "outputs": [
    {
     "name": "stdout",
     "output_type": "stream",
     "text": [
      "3306\n"
     ]
    }
   ],
   "source": [
    "print len(userList)"
   ]
  },
  {
   "cell_type": "code",
   "execution_count": 36,
   "metadata": {
    "collapsed": false
   },
   "outputs": [],
   "source": [
    "import re\n",
    "f = open('PopUsernames.txt' , 'wb')\n",
    "for d in userList:\n",
    "    line = d + '\\n'\n",
    "    f.write(line)\n",
    "f.close()"
   ]
  },
  {
   "cell_type": "code",
   "execution_count": null,
   "metadata": {
    "collapsed": false
   },
   "outputs": [],
   "source": [
    "popList[100]"
   ]
  },
  {
   "cell_type": "code",
   "execution_count": null,
   "metadata": {
    "collapsed": false
   },
   "outputs": [],
   "source": [
    "recentLikes , recentReposts, recentLoops , recentTimestamps = getPopMetrics(recentList)\n",
    "\n",
    "popLikes , popReposts, popLoops , popTimeStamps= getPopMetrics(popularList)\n",
    "\n",
    "trackedLikes , trackedReposts, trackedLoops , trackedTimeStamps= getPopMetrics(trackedList)"
   ]
  },
  {
   "cell_type": "code",
   "execution_count": null,
   "metadata": {
    "collapsed": false
   },
   "outputs": [],
   "source": [
    "print np.min(popLikes) , np.min(popReposts) , np.min(popLoops)"
   ]
  },
  {
   "cell_type": "code",
   "execution_count": null,
   "metadata": {
    "collapsed": false
   },
   "outputs": [],
   "source": [
    "totalDict = trackedDict.copy()\n",
    "totalDict.update(popDict)\n",
    "print len(totalDict.keys())"
   ]
  },
  {
   "cell_type": "code",
   "execution_count": null,
   "metadata": {
    "collapsed": true
   },
   "outputs": [],
   "source": [
    "totalPostDict = dict(totalDict.items() + recentDict.items())"
   ]
  },
  {
   "cell_type": "code",
   "execution_count": null,
   "metadata": {
    "collapsed": false
   },
   "outputs": [],
   "source": [
    "print len(totalPostDict.keys())"
   ]
  },
  {
   "cell_type": "code",
   "execution_count": null,
   "metadata": {
    "collapsed": false
   },
   "outputs": [],
   "source": [
    "Likes = popLikes+ trackedLikes\n",
    "Reposts = popReposts+ recentReposts"
   ]
  },
  {
   "cell_type": "code",
   "execution_count": null,
   "metadata": {
    "collapsed": true
   },
   "outputs": [],
   "source": [
    "Likes = map(lambda x: 0.000001 if x == 0 else x, Likes)\n",
    "Reposts = map(lambda x: 0.000001 if x == 0 else x, Reposts)"
   ]
  },
  {
   "cell_type": "code",
   "execution_count": null,
   "metadata": {
    "collapsed": false
   },
   "outputs": [],
   "source": [
    "print np.mean(popLoops) , np.median(popLoops) , np.mean(popReposts) , np.median(popReposts) , np.mean(popLikes) , np.median(popLikes)"
   ]
  },
  {
   "cell_type": "code",
   "execution_count": null,
   "metadata": {
    "collapsed": false
   },
   "outputs": [],
   "source": [
    "print np.var(np.log(popLoops)),np.var(np.log(popLikes)),np.var(np.log(popReposts))\n"
   ]
  },
  {
   "cell_type": "code",
   "execution_count": null,
   "metadata": {
    "collapsed": false
   },
   "outputs": [],
   "source": [
    "print scipy.stats.pearsonr( popLoops , popLikes)\n",
    "print scipy.stats.pearsonr( popReposts , popLikes)\n",
    "print scipy.stats.pearsonr( popLoops , popReposts)"
   ]
  },
  {
   "cell_type": "code",
   "execution_count": null,
   "metadata": {
    "collapsed": true
   },
   "outputs": [],
   "source": [
    "sampleL = np.random.choice(len(Likes) , 3000)\n",
    "sampleR = np.random.choice(len(Reposts) , 3000)"
   ]
  },
  {
   "cell_type": "code",
   "execution_count": null,
   "metadata": {
    "collapsed": true
   },
   "outputs": [],
   "source": [
    "likes = [Likes[i] for i in sampleL]\n",
    "reposts = [Reposts[i] for i in sampleR]"
   ]
  },
  {
   "cell_type": "code",
   "execution_count": null,
   "metadata": {
    "collapsed": false
   },
   "outputs": [],
   "source": [
    "fig, ax = plt.subplots()\n",
    "fig.set_size_inches(15, 10)\n",
    "plt.hist(np.log10(likes), 2000, normed=1,histtype='step', cumulative=True,linewidth = 3.0,linestyle='dashed')\n",
    "plt.hist(np.log10(reposts), 2000, normed=1,histtype='step', cumulative=True,linewidth = 3.0)\n",
    "plt.title(\"CDF for Likes and Repost\", fontsize = 25)\n",
    "plt.xlabel(\"Likes/repost count (Log scale)\",fontsize = 25)\n",
    "plt.ylabel(\"CDF\",fontsize = 25)\n",
    "plt.legend(['Likes' , 'Reposts'])\n",
    "plt.grid(True)\n",
    "plt.show()"
   ]
  },
  {
   "cell_type": "code",
   "execution_count": null,
   "metadata": {
    "collapsed": false
   },
   "outputs": [],
   "source": [
    "Top1000 = np.argsort(trackedLoops)[-50:]\n",
    "trackedTop1000 = [trackedLoops[i] for i in Top1000]\n",
    "trackedTop1000Posts = [trackedList[i] for i in Top1000]\n",
    "print len(trackedTop1000)"
   ]
  },
  {
   "cell_type": "code",
   "execution_count": null,
   "metadata": {
    "collapsed": false
   },
   "outputs": [],
   "source": [
    "print np.median(trackedTop1000) , np.mean(trackedTop1000) , np.var(trackedTop1000)"
   ]
  },
  {
   "cell_type": "code",
   "execution_count": null,
   "metadata": {
    "collapsed": false
   },
   "outputs": [],
   "source": [
    "unpopular3000 = np.argsort(trackedLoops)[:12000]\n",
    "unpop3000loops = [trackedLoops[i] for i in unpopular3000]\n",
    "unpop3000Posts = [trackedList[i] for i in unpopular3000]"
   ]
  },
  {
   "cell_type": "code",
   "execution_count": null,
   "metadata": {
    "collapsed": false
   },
   "outputs": [],
   "source": [
    "print np.median(unpop3000loops) , np.mean(unpop3000loops) , np.var(unpop3000loops)"
   ]
  },
  {
   "cell_type": "code",
   "execution_count": null,
   "metadata": {
    "collapsed": false
   },
   "outputs": [],
   "source": []
  },
  {
   "cell_type": "code",
   "execution_count": null,
   "metadata": {
    "collapsed": true
   },
   "outputs": [],
   "source": [
    "unpopPostList = []\n",
    "for p in unpop3000Posts: \n",
    "    postid = p['postId']\n",
    "    filename = str(postid) + \".json\"\n",
    "    unpopPostList.append(filename)"
   ]
  },
  {
   "cell_type": "code",
   "execution_count": null,
   "metadata": {
    "collapsed": false
   },
   "outputs": [],
   "source": [
    "print len(unpopPostList)"
   ]
  },
  {
   "cell_type": "code",
   "execution_count": null,
   "metadata": {
    "collapsed": false
   },
   "outputs": [],
   "source": [
    "# srcPosts = \"/datasets/sagarj/vine2016/Dataset//postTracking/Day24/\"\n",
    "# copyList(unpopPostList, srcPosts , unpopPostsDir)"
   ]
  },
  {
   "cell_type": "code",
   "execution_count": null,
   "metadata": {
    "collapsed": true
   },
   "outputs": [],
   "source": [
    "unpopVidList = []\n",
    "for p in unpop3000Posts: \n",
    "    postid = p['videoUrl'].split('/')[5].split('?')[0]\n",
    "    filename = str(postid)\n",
    "    unpopVidList.append(filename)"
   ]
  },
  {
   "cell_type": "code",
   "execution_count": null,
   "metadata": {
    "collapsed": false
   },
   "outputs": [],
   "source": [
    "print unpopVidList[:10]"
   ]
  },
  {
   "cell_type": "code",
   "execution_count": null,
   "metadata": {
    "collapsed": false
   },
   "outputs": [],
   "source": [
    "# srcVids = recentRoot + vidsDir\n",
    "# copyList(unpopVidList, srcVids , unpopVidsDir)"
   ]
  },
  {
   "cell_type": "code",
   "execution_count": null,
   "metadata": {
    "collapsed": false
   },
   "outputs": [],
   "source": [
    "fig, ax = plt.subplots()\n",
    "fig.set_size_inches(15, 10)\n",
    "#plt.hist(popLikes, 1000, normed=1,histtype='step', cumulative=True,linewidth = 3.0,linestyle='dashed')\n",
    "#plt.hist(popReposts, 1000, normed=1,histtype='step', cumulative=False,linewidth = 3.0)\n",
    "plt.hist(trackedTop1000, 20, normed=1,histtype='step', cumulative=True,linewidth = 3.0)\n",
    "plt.title(\"CDF for Likes and Repost\", fontsize = 25)\n",
    "plt.xlabel(\"Likes/repost count (Log scale)\",fontsize = 25)\n",
    "plt.ylabel(\"CDF\",fontsize = 25)\n",
    "plt.legend(['Likes' , 'Reposts'])\n",
    "plt.grid(True)\n",
    "plt.show()"
   ]
  },
  {
   "cell_type": "code",
   "execution_count": null,
   "metadata": {
    "collapsed": false
   },
   "outputs": [],
   "source": [
    "print np.median(popLoops) , np.mean(popLoops) , np.var(popLoops)"
   ]
  },
  {
   "cell_type": "code",
   "execution_count": null,
   "metadata": {
    "collapsed": false
   },
   "outputs": [],
   "source": [
    "print pow(10,4.5)"
   ]
  },
  {
   "cell_type": "code",
   "execution_count": null,
   "metadata": {
    "collapsed": false
   },
   "outputs": [],
   "source": [
    "popUsers, popFollowers , popDict = getUsersPop()"
   ]
  },
  {
   "cell_type": "code",
   "execution_count": null,
   "metadata": {
    "collapsed": false
   },
   "outputs": [],
   "source": [
    "print np.mean(popFollowers) , np.median(popFollowers) , len(popFollowers)"
   ]
  },
  {
   "cell_type": "code",
   "execution_count": null,
   "metadata": {
    "collapsed": false
   },
   "outputs": [],
   "source": [
    "unpopUsers, unpopFollowers , unpopDict = getUsersUnPop()"
   ]
  },
  {
   "cell_type": "code",
   "execution_count": null,
   "metadata": {
    "collapsed": true
   },
   "outputs": [],
   "source": [
    "userDict = unpopDict.copy()\n",
    "userDict.update(popDict)"
   ]
  },
  {
   "cell_type": "code",
   "execution_count": null,
   "metadata": {
    "collapsed": false
   },
   "outputs": [],
   "source": [
    "print len(userDict.keys())"
   ]
  },
  {
   "cell_type": "code",
   "execution_count": null,
   "metadata": {
    "collapsed": false
   },
   "outputs": [],
   "source": [
    "print unpopUsers[1]"
   ]
  },
  {
   "cell_type": "code",
   "execution_count": null,
   "metadata": {
    "collapsed": false
   },
   "outputs": [],
   "source": [
    "print np.mean(unpopFollowers) , np.median(unpopFollowers) , len(unpopFollowers)"
   ]
  },
  {
   "cell_type": "code",
   "execution_count": null,
   "metadata": {
    "collapsed": false
   },
   "outputs": [],
   "source": [
    "fig, ax = plt.subplots()\n",
    "fig.set_size_inches(15, 10)\n",
    "plt.hist(popFollowers, 100, normed=1,histtype='bar', cumulative=False,linewidth = 3.0)\n",
    "#plt.hist(unpopFollowers, 100, normed=1,histtype='step', cumulative=True,linewidth = 3.0)\n",
    "plt.title(\"CDF for Followers for Popular and unpopular posts\", fontsize = 25)\n",
    "plt.xlabel(\"Follower Count\",fontsize = 25)\n",
    "plt.ylabel(\"CDF\",fontsize = 25)\n",
    "plt.legend(['Popular' , 'Unpopular'])\n",
    "plt.grid(True)\n",
    "plt.show()"
   ]
  },
  {
   "cell_type": "code",
   "execution_count": null,
   "metadata": {
    "collapsed": true
   },
   "outputs": [],
   "source": [
    "def readSentiFeatures(sentilines):\n",
    "    sentiDict = {}\n",
    "    for line in sentilines: \n",
    "        comps = line.strip().split(',')\n",
    "        sentiDict[comps[0]] = float(comps[1])\n",
    "    return sentiDict"
   ]
  },
  {
   "cell_type": "code",
   "execution_count": null,
   "metadata": {
    "collapsed": false
   },
   "outputs": [],
   "source": [
    "meanSentiment = \"../Final_features/median_sentiments.csv\"\n",
    "senti_csv = readFeatureFile(meanSentiment)\n",
    "\n",
    "sentiDict = readSentiFeatures(senti_csv)"
   ]
  },
  {
   "cell_type": "code",
   "execution_count": null,
   "metadata": {
    "collapsed": false
   },
   "outputs": [],
   "source": [
    "postIds = sentiDict.keys()\n",
    "print len(postIds)"
   ]
  },
  {
   "cell_type": "code",
   "execution_count": null,
   "metadata": {
    "collapsed": false
   },
   "outputs": [],
   "source": [
    "postUserMeta , finalDict = postFollowerMapping(postIds,totalPostDict,userDict)"
   ]
  },
  {
   "cell_type": "code",
   "execution_count": null,
   "metadata": {
    "collapsed": false
   },
   "outputs": [],
   "source": [
    "print len(postUserMeta)"
   ]
  },
  {
   "cell_type": "code",
   "execution_count": null,
   "metadata": {
    "collapsed": false
   },
   "outputs": [],
   "source": [
    "finalDict['1232413732706160640']"
   ]
  },
  {
   "cell_type": "code",
   "execution_count": null,
   "metadata": {
    "collapsed": false
   },
   "outputs": [],
   "source": [
    "finalDict['1275430531974504448']"
   ]
  },
  {
   "cell_type": "code",
   "execution_count": null,
   "metadata": {
    "collapsed": false
   },
   "outputs": [],
   "source": [
    "postUserMeta[100]"
   ]
  },
  {
   "cell_type": "code",
   "execution_count": null,
   "metadata": {
    "collapsed": true
   },
   "outputs": [],
   "source": [
    "# f = open(socialFeatures , 'w+')\n",
    "# pickle.dump(postUserMeta , f)\n",
    "# f.close()"
   ]
  },
  {
   "cell_type": "code",
   "execution_count": null,
   "metadata": {
    "collapsed": true
   },
   "outputs": [],
   "source": []
  }
 ],
 "metadata": {
  "kernelspec": {
   "display_name": "Python 2",
   "language": "python",
   "name": "python2"
  },
  "language_info": {
   "codemirror_mode": {
    "name": "ipython",
    "version": 2
   },
   "file_extension": ".py",
   "mimetype": "text/x-python",
   "name": "python",
   "nbconvert_exporter": "python",
   "pygments_lexer": "ipython2",
   "version": "2.7.6"
  }
 },
 "nbformat": 4,
 "nbformat_minor": 0
}
