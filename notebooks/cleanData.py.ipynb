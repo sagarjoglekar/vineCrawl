{
 "cells": [
  {
   "cell_type": "code",
   "execution_count": 18,
   "metadata": {
    "collapsed": true
   },
   "outputs": [],
   "source": [
    "#Python script that collects top 5 popular videos of every user that ranked in top 100 and post data of his timeline\n",
    "import re\n",
    "import json\n",
    "import sys\n",
    "import os\n",
    "import pickle\n",
    "import shutil\n",
    "\n",
    "\n",
    "Root = \"/datasets/sagarj/vineData/Dataset/\"\n",
    "\n",
    "videoDir = Root+\"Videos/\"\n",
    "postDir = Root+\"Posts/\"\n",
    "sampled = Root+\"sampledFrames/\"\n",
    "\n"
   ]
  },
  {
   "cell_type": "code",
   "execution_count": 19,
   "metadata": {
    "collapsed": true
   },
   "outputs": [],
   "source": [
    "def getVisited(visitedList):\n",
    "    visited = []\n",
    "    try:\n",
    "        f = open(visitedList, 'rb')\n",
    "        visited = pickle.load(f)\n",
    "    except IOError:\n",
    "        f = open(visitedList,\"a+\")\n",
    "        pickle.dump([],f)\n",
    "    return visited\n",
    "\n",
    "\n",
    "def updateVisited(visited,visitedList):\n",
    "    with open(visitedList, 'wb') as f:\n",
    "        pickle.dump(visited, f)\n",
    "\n",
    "\n",
    "def walkLevel1Dir(root):\n",
    "    count = 0\n",
    "    dirList = []\n",
    "    filesList = []\n",
    "    for path, dirs, files in os.walk(root):\n",
    "        if count > 0:\n",
    "            return dirList , fileList\n",
    "        dirList = dirs\n",
    "        fileList = files\n",
    "        count = count + 1\n",
    "        \n",
    "def listFiles(root):\n",
    "    dirList = []\n",
    "    filesList = []\n",
    "    for path, dirs, files in os.walk(root):\n",
    "        return dirs , files\n",
    "\n",
    "\n",
    "def getPopularFile(rootDir):\n",
    "    f = open(rootDir + '/popular.json' ,'r')\n",
    "    data = json.load(f)\n",
    "    return data\n",
    "\n",
    "def getJson(jsonFile):\n",
    "    f = open(jsonFile ,'r')\n",
    "    data = json.load(f)\n",
    "    return data\n",
    "\n",
    "# Get Top 3 liked videos\n",
    "def getVideos(usrProf, userId, vid ):\n",
    "    videoDir = vid + \"/\" + str(userId)\n",
    "    print \"Working on Vids:  \"  + videoDir\n",
    "    if not os.path.exists(videoDir):\n",
    "        os.makedirs(videoDir)\n",
    "    if len(usrProf) < 2:\n",
    "        return\n",
    "    if not isinstance(usrProf['data'],dict):\n",
    "        print \"JSON Data not a dict\"\n",
    "        return\n",
    "    records = usrProf['data']['records']\n",
    "    likes = []\n",
    "    for record in records:\n",
    "        likes.append(record['likes']['count'])\n",
    "    likes.sort(reverse=True)\n",
    "    \n",
    "    for record in records:\n",
    "        if record['likes']['count'] in likes[:3]:\n",
    "            videoString = record['videoDashUrl']\n",
    "            if videoString:\n",
    "                videoUrl = record['videoDashUrl'].split('?');\n",
    "                argsVideo = ['wget', '-r', '-l', '1', '-p', '-P' ,'-nd', videoDir, videoUrl[0]]\n",
    "                call(argsVideo);\n",
    "\n",
    "def getPostMeta(usrProf, userId , post ):\n",
    "    postDir = post + \"/\" + str(userId)\n",
    "    print \"Working on Post:  \"  + postDir\n",
    "    if not os.path.exists(postDir):\n",
    "        os.makedirs(postDir)\n",
    "    if not isinstance(usrProf['data'],dict):\n",
    "        print \"JSON Data not a dict\"\n",
    "        return\n",
    "    records = usrProf['data']['records']\n",
    " \n",
    "    for subRecord in records:\n",
    "        postID = subRecord['postId']\n",
    "        postData = requests.get(\"https://api.vineapp.com/timelines/posts/\"+str(postID))\n",
    "        post = open( postDir + \"/\" + str(postID) + '.json', 'w')\n",
    "        json.dump(postData.json(), post)\n",
    "\n",
    "def getHistory(popular , dataRoot):\n",
    "    records = popular['data']['records']\n",
    "    timeline = dataRoot + \"/\" + userPastVideos\n",
    "    posts = dataRoot + \"/\" + userPastVideoMeta\n",
    "    if not os.path.exists(timeline):\n",
    "        os.makedirs(timeline)\n",
    "    if not os.path.exists(posts):\n",
    "        os.makedirs(posts)\n",
    "    print \"now in : \" + dataRoot\n",
    "    for record in records:\n",
    "        userId = record['userId']\n",
    "        profile_file = dataRoot + \"/userTimeline/\" + str(userId) + \".json\"\n",
    "        print \"Working on file:  \"  + profile_file\n",
    "        if os.path.exists(profile_file):\n",
    "            usrProf = getJson(profile_file)\n",
    "            getVideos(usrProf,userId, timeline)\n",
    "            getPostMeta(usrProf,userId,posts)\n",
    "\n",
    "def getList(textFile):\n",
    "    lines = []\n",
    "    ids = []\n",
    "    with open(textFile) as f:\n",
    "        lines = f.readlines()\n",
    "    for line in lines:\n",
    "        parts = line.split('/')\n",
    "        ids.append(parts[-1])\n",
    "    unique = list(set(ids))\n",
    "    print len(unique)\n",
    "    ulines = []\n",
    "    for i in unique:\n",
    "        ulines.append(lines[ids.index(i)].strip())\n",
    "    print \"%d reduced to %d\"%(len(lines), len(ulines)) \n",
    "    return ulines\n",
    "\n",
    "def copyFile(src, dest):\n",
    "    if not os.path.exists(src): \n",
    "        return\n",
    "    try:\n",
    "        shutil.copy(src, dest)\n",
    "    # eg. src and dest are the same file\n",
    "    except shutil.Error as e:\n",
    "        print('Error: %s' % e)\n",
    "    # eg. source or destination doesn't exist\n",
    "    except IOError as e:\n",
    "        print('Error: %s' % e.strerror)"
   ]
  },
  {
   "cell_type": "code",
   "execution_count": 20,
   "metadata": {
    "collapsed": false
   },
   "outputs": [],
   "source": [
    "d , posts = listFiles(postDir)\n",
    "d , vids = listFiles(videoDir)\n",
    "d , samples = listFiles(sampled)"
   ]
  },
  {
   "cell_type": "code",
   "execution_count": 27,
   "metadata": {
    "collapsed": false
   },
   "outputs": [
    {
     "name": "stdout",
     "output_type": "stream",
     "text": [
      "1270239341221961728.json\n"
     ]
    }
   ],
   "source": [
    "print posts[1]"
   ]
  },
  {
   "cell_type": "code",
   "execution_count": 25,
   "metadata": {
    "collapsed": false
   },
   "outputs": [],
   "source": [
    "sampledPosts = []\n",
    "for s in samples:\n",
    "    post = s.strip().split('_')[0]\n",
    "    if post not in sampledPosts:\n",
    "        sampledPosts.append(post)"
   ]
  },
  {
   "cell_type": "code",
   "execution_count": 26,
   "metadata": {
    "collapsed": false
   },
   "outputs": [
    {
     "name": "stdout",
     "output_type": "stream",
     "text": [
      "6752\n"
     ]
    }
   ],
   "source": [
    "print len(sampledPosts)"
   ]
  },
  {
   "cell_type": "code",
   "execution_count": 28,
   "metadata": {
    "collapsed": false
   },
   "outputs": [],
   "source": [
    "#postList = getList(posts)"
   ]
  },
  {
   "cell_type": "code",
   "execution_count": null,
   "metadata": {
    "collapsed": false
   },
   "outputs": [],
   "source": [
    "# print allPosts[10000]['data']['records'][0]['postId']"
   ]
  },
  {
   "cell_type": "code",
   "execution_count": 31,
   "metadata": {
    "collapsed": false
   },
   "outputs": [
    {
     "name": "stdout",
     "output_type": "stream",
     "text": [
      "{u'code': u'', u'data': {u'count': 1, u'anchorStr': u'', u'records': [{u'liked': 0, u'videoDashUrl': u'http://v.cdn.vine.co/r/videos_h264dash/32D023AAED1267011278569140224_18655b9ff29.3.2.mp4?versionId=9qDkgrR9_HF9tVUtrOBmPsR8YphU6kLx', u'foursquareVenueId': u'', u'userId': 1147818794988052480, u'private': 0, u'videoWebmUrl': None, u'loops': {u'count': 70537.0, u'velocity': 0.0, u'onFire': 0}, u'thumbnailUrl': u'http://v.cdn.vine.co/r/thumbs/861BC7B18C1267011289663287296_1.3.2.mp4.jpg?versionId=G9I3DcADFrSIbT9MlR3QYJOP_6SUJVyS', u'explicitContent': 0, u'description': u'self made millionaire', u'verified': 0, u'avatarUrl': u'http://v.cdn.vine.co/r/avatars/EA6CAF29461339831587554144256_5bfdb5b11a3.15.0.jpg?versionId=7gA0I0xrN6hgWFiZhUB_bu3thjRqES44', u'comments': {u'count': 166, u'anchorStr': u'1325293486148333568', u'records': [{u'username': u'haaaal', u'comment': u\"I've been searching for this song forever. Shazam & looking up the lyrics. I found the lyrics but no song matches it\", u'verified': 0, u'vanityUrls': [], u'created': u'2016-03-25T23:33:23.000000', u'userId': 931725468766461952, u'profileBackground': u'0x5082e5', u'entities': [], u'user': {u'username': u'haaaal', u'verified': 0, u'description': u'', u'twitterVerified': 0, u'avatarUrl': u'http://v.cdn.vine.co/r/avatars/F7CCC89FDE1310680388389437440_5ca35feb267.3.0.jpg?versionId=eeQZ1JlrTnT7rmPieFoM2hQqMQqt7aUZ', u'notPorn': 0, u'userId': 931725468766461952, u'location': u'', u'profileBackground': u'0x5082e5', u'hideFromPopular': 0, u'private': 1, u'unflaggable': 0, u'vanityUrls': []}, u'commentId': 1325293486148333568, u'postId': 1267011268561506304}, {u'username': u'haaaal', u'comment': u\"I finally found it!! breja hooks it's Kingdom Hearts by Ramirez\", u'verified': 0, u'vanityUrls': [], u'created': u'2016-03-25T23:34:48.000000', u'userId': 931725468766461952, u'profileBackground': u'0x5082e5', u'entities': [{u'vanityUrls': [], u'title': u'breja hooks', u'range': [21, 32], u'link': u'vine://user-id/946618207505108992', u'type': u'mention', u'id': 946618207505108992}], u'user': {u'username': u'haaaal', u'verified': 0, u'description': u'', u'twitterVerified': 0, u'avatarUrl': u'http://v.cdn.vine.co/r/avatars/F7CCC89FDE1310680388389437440_5ca35feb267.3.0.jpg?versionId=eeQZ1JlrTnT7rmPieFoM2hQqMQqt7aUZ', u'notPorn': 0, u'userId': 931725468766461952, u'location': u'', u'profileBackground': u'0x5082e5', u'hideFromPopular': 0, u'private': 1, u'unflaggable': 0, u'vanityUrls': []}, u'commentId': 1325293840810254336, u'postId': 1267011268561506304}, {u'username': u'haaaal', u'comment': u'EVERYONE ABOVE ^^ the song is Kingdom Hearts by Ramirez', u'verified': 0, u'vanityUrls': [], u'created': u'2016-03-25T23:36:06.000000', u'userId': 931725468766461952, u'profileBackground': u'0x5082e5', u'entities': [], u'user': {u'username': u'haaaal', u'verified': 0, u'description': u'', u'twitterVerified': 0, u'avatarUrl': u'http://v.cdn.vine.co/r/avatars/F7CCC89FDE1310680388389437440_5ca35feb267.3.0.jpg?versionId=eeQZ1JlrTnT7rmPieFoM2hQqMQqt7aUZ', u'notPorn': 0, u'userId': 931725468766461952, u'location': u'', u'profileBackground': u'0x5082e5', u'hideFromPopular': 0, u'private': 1, u'unflaggable': 0, u'vanityUrls': []}, u'commentId': 1325294169312456704, u'postId': 1267011268561506304}], u'previousPage': None, u'backAnchor': u'', u'anchor': 1325293486148333568, u'nextPage': 2, u'size': 3}, u'entities': [], u'videoLowURL': u'http://v.cdn.vine.co/r/videos_r2/32D023AAED1267011278569140224_18655b9ff29.3.2.mp4?versionId=hk4tysQ.XBNtGzKayHV1z9VD9_LcI72C', u'blocked': 0, u'username': u'madeh', u'vanityUrls': [], u'tags': [], u'permalinkUrl': u'https://vine.co/v/e9aKH5665F3', u'promoted': 0, u'postId': 1267011268561506304, u'profileBackground': u'0x333333', u'videoUrl': u'http://v.cdn.vine.co/r/videos/32D023AAED1267011278569140224_18655b9ff29.3.2.mp4?versionId=nvw8SQtersQ4q_kLg2cbRdx7SLQF91NK', u'followRequested': 0, u'created': u'2015-10-17T03:40:40.000000', u'hasSimilarPosts': 1, u'shareUrl': u'https://vine.co/v/e9aKH5665F3', u'myRepostId': 0, u'following': 0, u'reposts': {u'count': 1041, u'anchorStr': u'', u'records': [], u'previousPage': None, u'backAnchor': u'', u'anchor': None, u'nextPage': None, u'size': 0}, u'likes': {u'count': 3008, u'anchorStr': u'1335863555773386752', u'records': [{u'username': u'Alicia', u'verified': 0, u'vanityUrls': [], u'created': u'2016-04-24T03:35:04.000000', u'userId': 1006165231015215104, u'user': {u'private': 0}, u'likeId': 1335863555773386752}, {u'username': u'Denyse Ruiz', u'verified': 0, u'vanityUrls': [], u'created': u'2016-04-24T19:51:47.000000', u'userId': 1335682903941779456, u'user': {u'private': 0}, u'likeId': 1336109354952343552}, {u'username': u'alexis tortoise', u'verified': 0, u'vanityUrls': [], u'created': u'2016-04-25T00:11:53.000000', u'userId': 1282899649522470912, u'user': {u'private': 0}, u'likeId': 1336174811067641856}, {u'username': u'aesthetic c(al)um', u'verified': 0, u'vanityUrls': [], u'created': u'2016-04-26T13:42:12.000000', u'userId': 1159034326525079552, u'user': {u'private': 0}, u'likeId': 1336741119588990976}, {u'username': u'ethereal.', u'verified': 0, u'vanityUrls': [], u'created': u'2016-04-29T22:47:46.000000', u'userId': 1224156266294067200, u'user': {u'private': 0}, u'likeId': 1337965579143135232}, {u'username': u'gabriela stilinski', u'verified': 0, u'vanityUrls': [], u'created': u'2016-04-30T03:01:26.000000', u'userId': 1224147421278932992, u'user': {u'private': 0}, u'likeId': 1338029416730783745}, {u'username': u'catharina', u'verified': 0, u'vanityUrls': [], u'created': u'2016-05-01T03:02:48.000000', u'userId': 968029568403652608, u'user': {u'private': 0}, u'likeId': 1338392147627601920}, {u'username': u'Nicole Thomson', u'verified': 0, u'vanityUrls': [], u'created': u'2016-05-02T09:39:29.000000', u'userId': 1181348509077712896, u'user': {u'private': 1}, u'likeId': 1338854364839813120}, {u'username': u'natasha', u'verified': 0, u'vanityUrls': [], u'created': u'2016-05-08T16:34:59.000000', u'userId': 1078541935091843072, u'user': {u'private': 0}, u'likeId': 1341133258313887744}, {u'username': u'brooke \\u2661', u'verified': 0, u'vanityUrls': [], u'created': u'2016-05-09T16:39:01.000000', u'userId': 1323001524623974400, u'user': {u'private': 0}, u'likeId': 1341496659607425024}], u'previousPage': None, u'backAnchor': u'', u'anchor': 1335863555773386752, u'nextPage': 2, u'size': 10}}], u'previousPage': None, u'backAnchor': u'', u'anchor': None, u'nextPage': None, u'size': 20}, u'success': True, u'error': u''}\n",
      "{u'code': 900, u'data': u'', u'success': False, u'error': u'That record does not exist.'}\n"
     ]
    },
    {
     "ename": "TypeError",
     "evalue": "string indices must be integers",
     "output_type": "error",
     "traceback": [
      "\u001b[1;31m---------------------------------------------------------------------------\u001b[0m",
      "\u001b[1;31mTypeError\u001b[0m                                 Traceback (most recent call last)",
      "\u001b[1;32m<ipython-input-31-a299ec005603>\u001b[0m in \u001b[0;36m<module>\u001b[1;34m()\u001b[0m\n\u001b[0;32m      8\u001b[0m     \u001b[0mallPosts\u001b[0m\u001b[1;33m.\u001b[0m\u001b[0mappend\u001b[0m\u001b[1;33m(\u001b[0m\u001b[0mdata\u001b[0m\u001b[1;33m)\u001b[0m\u001b[1;33m\u001b[0m\u001b[0m\n\u001b[0;32m      9\u001b[0m     \u001b[1;32mprint\u001b[0m \u001b[0mdata\u001b[0m\u001b[1;33m\u001b[0m\u001b[0m\n\u001b[1;32m---> 10\u001b[1;33m     \u001b[0mvideoUrl\u001b[0m \u001b[1;33m=\u001b[0m \u001b[0mdata\u001b[0m\u001b[1;33m[\u001b[0m\u001b[1;34m'data'\u001b[0m\u001b[1;33m]\u001b[0m\u001b[1;33m[\u001b[0m\u001b[1;34m'records'\u001b[0m\u001b[1;33m]\u001b[0m\u001b[1;33m[\u001b[0m\u001b[1;36m0\u001b[0m\u001b[1;33m]\u001b[0m\u001b[1;33m[\u001b[0m\u001b[1;34m'videoDashUrl'\u001b[0m\u001b[1;33m]\u001b[0m\u001b[1;33m\u001b[0m\u001b[0m\n\u001b[0m\u001b[0;32m     11\u001b[0m     \u001b[1;32mif\u001b[0m \u001b[0misinstance\u001b[0m\u001b[1;33m(\u001b[0m\u001b[0mvideoUrl\u001b[0m\u001b[1;33m,\u001b[0m \u001b[0mbasestring\u001b[0m\u001b[1;33m)\u001b[0m\u001b[1;33m:\u001b[0m\u001b[1;33m\u001b[0m\u001b[0m\n\u001b[0;32m     12\u001b[0m         \u001b[0mvideoName\u001b[0m\u001b[1;33m.\u001b[0m\u001b[0mappend\u001b[0m\u001b[1;33m(\u001b[0m\u001b[0mvideoUrl\u001b[0m\u001b[1;33m.\u001b[0m\u001b[0msplit\u001b[0m\u001b[1;33m(\u001b[0m\u001b[1;34m'?'\u001b[0m\u001b[1;33m)\u001b[0m\u001b[1;33m[\u001b[0m\u001b[1;36m0\u001b[0m\u001b[1;33m]\u001b[0m\u001b[1;33m.\u001b[0m\u001b[0msplit\u001b[0m\u001b[1;33m(\u001b[0m\u001b[1;34m'/'\u001b[0m\u001b[1;33m)\u001b[0m\u001b[1;33m[\u001b[0m\u001b[1;33m-\u001b[0m\u001b[1;36m1\u001b[0m\u001b[1;33m]\u001b[0m\u001b[1;33m)\u001b[0m\u001b[1;33m\u001b[0m\u001b[0m\n",
      "\u001b[1;31mTypeError\u001b[0m: string indices must be integers"
     ]
    }
   ],
   "source": [
    "\n",
    "allPosts = []\n",
    "videoName = []\n",
    "for p in posts:\n",
    "    postJson = postDir + p\n",
    "    f = open(postJson,'r')\n",
    "    data = json.load(f)\n",
    "    allPosts.append(data)\n",
    "    print data\n",
    "    videoUrl = data['data']['records'][0]['videoDashUrl']\n",
    "    if isinstance(videoUrl, basestring):\n",
    "        videoName.append(videoUrl.split('?')[0].split('/')[-1])"
   ]
  },
  {
   "cell_type": "markdown",
   "metadata": {
    "collapsed": false
   },
   "source": [
    "path =  srcRoot + postList[1]\n",
    "print path\n",
    "os.path.lexists(path.strip())"
   ]
  },
  {
   "cell_type": "code",
   "execution_count": null,
   "metadata": {
    "collapsed": false
   },
   "outputs": [],
   "source": [
    "# allVideos = [\"\" for x in range(len(allPosts))]\n",
    "# for i in range(len(allPosts)):\n",
    "#     allVideos[i] = \"\"\n",
    "#     if isinstance(allPosts[i]['data'],dict) and isinstance(allPosts[i]['data']['records'][0],dict):\n",
    "#         videoUrl = allPosts[i]['data']['records'][0]['videoDashUrl']\n",
    "#         if isinstance(videoUrl, basestring):\n",
    "#             allVideos[i] = videoUrl.split('?')[0].split('/')[-1]\n",
    "    \n",
    "# print len(allVideos)"
   ]
  },
  {
   "cell_type": "markdown",
   "metadata": {
    "collapsed": false
   },
   "source": [
    "print len(postList)\n",
    "for src in postList:\n",
    "    path =  srcRoot + src\n",
    "    copyFile(path.strip(),postDir)"
   ]
  },
  {
   "cell_type": "code",
   "execution_count": null,
   "metadata": {
    "collapsed": false
   },
   "outputs": [],
   "source": [
    "# userList = getList(users)"
   ]
  },
  {
   "cell_type": "code",
   "execution_count": null,
   "metadata": {
    "collapsed": false
   },
   "outputs": [],
   "source": [
    "# users = []\n",
    "# for u in userList:\n",
    "#     fileName = u.split('/')[-1]\n",
    "#     users.append(fileName.split('.')[0])"
   ]
  },
  {
   "cell_type": "code",
   "execution_count": null,
   "metadata": {
    "collapsed": false
   },
   "outputs": [],
   "source": [
    "# print users"
   ]
  },
  {
   "cell_type": "code",
   "execution_count": null,
   "metadata": {
    "collapsed": false
   },
   "outputs": [],
   "source": [
    "#updateVisited(users, visitedList)\n"
   ]
  },
  {
   "cell_type": "markdown",
   "metadata": {},
   "source": [
    "print userList[10]\n",
    "path =  srcRoot + userList[10]\n",
    "print path\n",
    "os.path.lexists(path.strip())"
   ]
  },
  {
   "cell_type": "markdown",
   "metadata": {},
   "source": [
    "print len(userList)\n",
    "for src in userList:\n",
    "    path =  srcRoot + src\n",
    "    copyFile(path.strip(),userDir)"
   ]
  },
  {
   "cell_type": "code",
   "execution_count": null,
   "metadata": {
    "collapsed": false
   },
   "outputs": [],
   "source": [
    "# videoList = getList(videos)"
   ]
  },
  {
   "cell_type": "markdown",
   "metadata": {},
   "source": [
    "print videoList[1]"
   ]
  },
  {
   "cell_type": "markdown",
   "metadata": {},
   "source": [
    "path =  srcRoot + videoList[1]\n",
    "print path\n",
    "os.path.exists(path.strip())"
   ]
  },
  {
   "cell_type": "markdown",
   "metadata": {},
   "source": [
    "print len(videoList)\n",
    "for src in videoList:\n",
    "    path =  srcRoot + src\n",
    "    copyFile(path.strip(),videoDir)"
   ]
  },
  {
   "cell_type": "code",
   "execution_count": null,
   "metadata": {
    "collapsed": false
   },
   "outputs": [],
   "source": [
    "# print userList[1]"
   ]
  },
  {
   "cell_type": "code",
   "execution_count": null,
   "metadata": {
    "collapsed": true
   },
   "outputs": [],
   "source": [
    "# savedVids = []\n",
    "# for v in videoList:\n",
    "#     savedVids.append(v.split('/')[-1])"
   ]
  },
  {
   "cell_type": "code",
   "execution_count": null,
   "metadata": {
    "collapsed": false
   },
   "outputs": [],
   "source": [
    "# savedPosts = []\n",
    "# failedPosts = []\n",
    "# for vid in savedVids:\n",
    "#     try:\n",
    "#         index = allVideos.index(vid)\n",
    "#         savedPosts.append(allPostNames[index])\n",
    "#     except ValueError:\n",
    "#         failedPosts.append(vid)\n",
    "#         #print \"Threw value error at %s\" %vid\n",
    "        \n",
    "    "
   ]
  },
  {
   "cell_type": "code",
   "execution_count": null,
   "metadata": {
    "collapsed": false
   },
   "outputs": [],
   "source": [
    "# savedPostIds = []\n",
    "# for p in savedPosts:\n",
    "#     savedPostIds.append(p.split('.')[0])\n",
    "# print savedPostIds[0]"
   ]
  },
  {
   "cell_type": "code",
   "execution_count": null,
   "metadata": {
    "collapsed": false
   },
   "outputs": [],
   "source": [
    "# print len(videoList)"
   ]
  },
  {
   "cell_type": "code",
   "execution_count": null,
   "metadata": {
    "collapsed": false
   },
   "outputs": [],
   "source": [
    "# for p in savedPosts: \n",
    "#     srcFile = (postDir + p).strip()\n",
    "#     copyFile(srcFile, savedPostsDir)"
   ]
  },
  {
   "cell_type": "code",
   "execution_count": null,
   "metadata": {
    "collapsed": true
   },
   "outputs": [],
   "source": [
    "# allPosts = []\n",
    "# for p in savedPosts:\n",
    "#     srcFile = (savedPostsDir + p).strip()\n",
    "#     f = open(srcFile,'r')\n",
    "#     data = json.load(f)\n",
    "#     allPosts.append(data)"
   ]
  },
  {
   "cell_type": "code",
   "execution_count": null,
   "metadata": {
    "collapsed": false
   },
   "outputs": [],
   "source": [
    "# print allPosts[1]"
   ]
  },
  {
   "cell_type": "code",
   "execution_count": null,
   "metadata": {
    "collapsed": true
   },
   "outputs": [],
   "source": []
  }
 ],
 "metadata": {
  "kernelspec": {
   "display_name": "Python 2",
   "language": "python",
   "name": "python2"
  },
  "language_info": {
   "codemirror_mode": {
    "name": "ipython",
    "version": 2
   },
   "file_extension": ".py",
   "mimetype": "text/x-python",
   "name": "python",
   "nbconvert_exporter": "python",
   "pygments_lexer": "ipython2",
   "version": "2.7.6"
  }
 },
 "nbformat": 4,
 "nbformat_minor": 0
}
