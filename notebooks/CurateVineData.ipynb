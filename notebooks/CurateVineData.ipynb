{
 "cells": [
  {
   "cell_type": "code",
   "execution_count": 1,
   "metadata": {
    "collapsed": true
   },
   "outputs": [],
   "source": [
    "import json\n",
    "import os\n",
    "import sys\n",
    "sys.path.append(\"../lib\")\n",
    "from dataUtils import *\n",
    "import cPickle as pickle\n",
    "import cv2\n",
    "from collections import Counter\n",
    "import multiprocessing as mp\n",
    "\n"
   ]
  },
  {
   "cell_type": "code",
   "execution_count": 53,
   "metadata": {
    "collapsed": false
   },
   "outputs": [],
   "source": [
    "root = \"/datasets/sagarj/vineData/Dataset/\"\n",
    "\n",
    "videos_dir = root + \"Videos/\"\n",
    "frame_dir = root + \"fineSamples/\"\n",
    "posts_dir = root + \"Posts/\"\n",
    "sampled = \"../Logs/fineSampledVines.pk\"\n",
    "sampledLog = \"../Logs/sampledLog.txt\"\n",
    "mapping_file = \"../Logs/postsMapping.csv\""
   ]
  },
  {
   "cell_type": "code",
   "execution_count": 20,
   "metadata": {
    "collapsed": false
   },
   "outputs": [],
   "source": [
    "def readJson(path):\n",
    "    f = open(path)\n",
    "    data = json.loads(f.read())\n",
    "    return data\n",
    "\n",
    "def readVidStrings(path):\n",
    "    json_data = readJson(path)\n",
    "    if isinstance(json_data['data'],dict):\n",
    "        if isinstance(json_data['data']['records'][0],dict):\n",
    "            return json_data['data']['records'][0]['videoUrl'].split('/')[5].split('?')[0]\n",
    "        else:\n",
    "            return ''\n",
    "    else:\n",
    "        return ''"
   ]
  },
  {
   "cell_type": "code",
   "execution_count": 21,
   "metadata": {
    "collapsed": false
   },
   "outputs": [],
   "source": [
    "posts = os.listdir(posts_dir)\n",
    "videos = os.listdir(videos_dir)\n"
   ]
  },
  {
   "cell_type": "code",
   "execution_count": 37,
   "metadata": {
    "collapsed": false
   },
   "outputs": [
    {
     "data": {
      "text/plain": [
       "['82076AF39F1282627580805165056_4c4920ad771.4.0.5902621507787305600.mp4',\n",
       " '961BAA7C461292954809942642688_12e446dce26.3.2.mp4',\n",
       " 'BE9D363AA81261868876749750272_4db6af91cfe.1.1.9997556255624704514.mp4',\n",
       " '6521B09FCA1293597826143707136_4946f1b16e4.5.0.463636195627052823.mp4',\n",
       " 'C210D207441291511956905320448_4f83e1ee3d9.4.1.716623328360577825.mp4',\n",
       " '69E4BB932F1291919243344027648_4ab417d359c.5.0.11433068719780316296.mp4',\n",
       " 'EA8B2D81621262963929635065856_4bc69828b4c.1.1.12366650683091317879.mp4',\n",
       " 'A8792D47001294482108567404544_429bf2b0163.5.0.17580564306370036865.mp4',\n",
       " 'E7DF429C241249151714918010880_44f3ca31bea.0.0.15435876802988293423.mp4']"
      ]
     },
     "execution_count": 37,
     "metadata": {},
     "output_type": "execute_result"
    }
   ],
   "source": [
    "videos[1:10]"
   ]
  },
  {
   "cell_type": "code",
   "execution_count": 42,
   "metadata": {
    "collapsed": false
   },
   "outputs": [
    {
     "name": "stdout",
     "output_type": "stream",
     "text": [
      "True\n"
     ]
    }
   ],
   "source": [
    "json_data = readJson(posts_dir+posts[4])\n",
    "print isinstance(json_data['data']['records'][0],dict)\n",
    "#print json_data['data']['records'][0]"
   ]
  },
  {
   "cell_type": "code",
   "execution_count": 46,
   "metadata": {
    "collapsed": false
   },
   "outputs": [],
   "source": [
    "vidStrings = {}\n",
    "vids = []\n",
    "for post in posts:\n",
    "    vidstr = readVidStrings(posts_dir+post)\n",
    "    if len(vidstr) > 0:\n",
    "        vidStrings[vidstr] = post \n",
    "        vids.append(vidstr)\n",
    "    "
   ]
  },
  {
   "cell_type": "code",
   "execution_count": 47,
   "metadata": {
    "collapsed": false
   },
   "outputs": [],
   "source": [
    "a = list(set(vids).intersection(videos))"
   ]
  },
  {
   "cell_type": "code",
   "execution_count": 48,
   "metadata": {
    "collapsed": false
   },
   "outputs": [
    {
     "name": "stdout",
     "output_type": "stream",
     "text": [
      "11450\n"
     ]
    }
   ],
   "source": [
    "print len(a)"
   ]
  },
  {
   "cell_type": "code",
   "execution_count": 50,
   "metadata": {
    "collapsed": false
   },
   "outputs": [],
   "source": [
    "prunedDict = {k:v for k,v in vidStrings.items() if k in a}"
   ]
  },
  {
   "cell_type": "code",
   "execution_count": 52,
   "metadata": {
    "collapsed": false
   },
   "outputs": [
    {
     "name": "stdout",
     "output_type": "stream",
     "text": [
      "11450\n"
     ]
    }
   ],
   "source": [
    "print len(prunedDict)"
   ]
  },
  {
   "cell_type": "code",
   "execution_count": 56,
   "metadata": {
    "collapsed": false
   },
   "outputs": [],
   "source": [
    "f = open(mapping_file,'wb')\n",
    "for item in prunedDict:\n",
    "    line = item + \",\" + prunedDict[item] +\"\\n\"\n",
    "    f.write(line)\n",
    "f.close()"
   ]
  },
  {
   "cell_type": "code",
   "execution_count": null,
   "metadata": {
    "collapsed": true
   },
   "outputs": [],
   "source": []
  }
 ],
 "metadata": {
  "kernelspec": {
   "display_name": "Python 2",
   "language": "python",
   "name": "python2"
  },
  "language_info": {
   "codemirror_mode": {
    "name": "ipython",
    "version": 2
   },
   "file_extension": ".py",
   "mimetype": "text/x-python",
   "name": "python",
   "nbconvert_exporter": "python",
   "pygments_lexer": "ipython2",
   "version": "2.7.6"
  }
 },
 "nbformat": 4,
 "nbformat_minor": 0
}
