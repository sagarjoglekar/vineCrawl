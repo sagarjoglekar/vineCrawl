{
 "cells": [
  {
   "cell_type": "code",
   "execution_count": 188,
   "metadata": {
    "collapsed": true
   },
   "outputs": [],
   "source": [
    "import numpy as np\n",
    "%matplotlib inline\n",
    "import matplotlib.pyplot as plt\n",
    "import matplotlib.cm as cm\n",
    "import json\n",
    "import os\n",
    "import cPickle as pickle\n",
    "from collections import Counter\n",
    "from datetime import datetime\n",
    "from shutil import copyfile\n",
    "import platform\n",
    "import scipy.stats\n",
    "import networkx as nx\n",
    "from networkx.drawing.nx_agraph import graphviz_layout\n",
    "import seaborn as sns"
   ]
  },
  {
   "cell_type": "code",
   "execution_count": 2,
   "metadata": {
    "collapsed": true
   },
   "outputs": [],
   "source": [
    "popularRoot = \"/datasets/sagarj/vineData/Dataset/\"\n",
    "recentRoot = \"/datasets/sagarj/vine2016/Dataset/\"\n",
    "\n",
    "graphDir = \"/datasets/sagarj/vineGraphs/\"\n",
    "\n",
    "popUserDir = popularRoot + \"UserTimeline/\"\n",
    "recentUserDir = popularRoot + \"Users/\""
   ]
  },
  {
   "cell_type": "code",
   "execution_count": 3,
   "metadata": {
    "collapsed": true
   },
   "outputs": [],
   "source": [
    "def readJson(path):\n",
    "    f = open(path)\n",
    "    data = json.loads(f.read())\n",
    "    return data"
   ]
  },
  {
   "cell_type": "code",
   "execution_count": 4,
   "metadata": {
    "collapsed": true
   },
   "outputs": [],
   "source": [
    "popFiles = [popUserDir + f for f in os.listdir(popUserDir)]"
   ]
  },
  {
   "cell_type": "code",
   "execution_count": 19,
   "metadata": {
    "collapsed": false
   },
   "outputs": [
    {
     "data": {
      "text/plain": [
       "'/datasets/sagarj/vineData/Dataset/UserTimeline/938533347955728384.json'"
      ]
     },
     "execution_count": 19,
     "metadata": {},
     "output_type": "execute_result"
    }
   ],
   "source": [
    "popFiles[1]"
   ]
  },
  {
   "cell_type": "code",
   "execution_count": 7,
   "metadata": {
    "collapsed": false
   },
   "outputs": [],
   "source": [
    "recentFiles = [recentUserDir + f for f in os.listdir(recentUserDir)]"
   ]
  },
  {
   "cell_type": "code",
   "execution_count": 8,
   "metadata": {
    "collapsed": true
   },
   "outputs": [],
   "source": [
    "popTimeLine = [readJson(f) for f in popFiles]"
   ]
  },
  {
   "cell_type": "code",
   "execution_count": 24,
   "metadata": {
    "collapsed": false
   },
   "outputs": [
    {
     "data": {
      "text/plain": [
       "u''"
      ]
     },
     "execution_count": 24,
     "metadata": {},
     "output_type": "execute_result"
    }
   ],
   "source": [
    "popTimeLine[1]['error']"
   ]
  },
  {
   "cell_type": "code",
   "execution_count": 74,
   "metadata": {
    "collapsed": false
   },
   "outputs": [
    {
     "data": {
      "text/plain": [
       "int"
      ]
     },
     "execution_count": 74,
     "metadata": {},
     "output_type": "execute_result"
    }
   ],
   "source": [
    "type(popTimeLine[1]['data']['records'][1]['userId'])"
   ]
  },
  {
   "cell_type": "code",
   "execution_count": 166,
   "metadata": {
    "collapsed": false
   },
   "outputs": [
    {
     "data": {
      "text/plain": [
       "938533347955728384"
      ]
     },
     "execution_count": 166,
     "metadata": {},
     "output_type": "execute_result"
    }
   ],
   "source": [
    "popTimeLine[1]['data']['records'][1]['userId']"
   ]
  },
  {
   "cell_type": "code",
   "execution_count": 167,
   "metadata": {
    "collapsed": false
   },
   "outputs": [],
   "source": [
    "def createGraph(timeLines):\n",
    "    userGraph = nx.Graph()\n",
    "    for t in  timeLines:\n",
    "        if t['error'] == '':\n",
    "            records = t['data']['records']\n",
    "            \n",
    "            for r in records:\n",
    "                interactions = r['likes']['records'] + r['comments']['records']\n",
    "                if not userGraph.has_node(r['userId']):\n",
    "                    userGraph.add_node(r['userId'])\n",
    "                dest = str(r['userId'])\n",
    "                for i in interactions:\n",
    "\n",
    "                    if not userGraph.has_edge(i['userId'],dest):\n",
    "                        userGraph.add_edge(i['userId'], dest , weight=1 )\n",
    "                    else:\n",
    "                        userGraph[i['userId']][dest]['weight'] += 1\n",
    "    return userGraph\n",
    "                                          \n",
    "                "
   ]
  },
  {
   "cell_type": "code",
   "execution_count": 168,
   "metadata": {
    "collapsed": false
   },
   "outputs": [],
   "source": [
    "popGraph = createGraph(popTimeLine)"
   ]
  },
  {
   "cell_type": "code",
   "execution_count": 169,
   "metadata": {
    "collapsed": false
   },
   "outputs": [
    {
     "data": {
      "text/plain": [
       "352304"
      ]
     },
     "execution_count": 169,
     "metadata": {},
     "output_type": "execute_result"
    }
   ],
   "source": [
    "len(popGraph.nodes())"
   ]
  },
  {
   "cell_type": "code",
   "execution_count": 170,
   "metadata": {
    "collapsed": false
   },
   "outputs": [],
   "source": [
    "outdeg = popGraph.degree()\n",
    "to_keep = [n for n in outdeg if outdeg[n] > 2]\n",
    "filteredPop = popGraph.subgraph(to_keep)"
   ]
  },
  {
   "cell_type": "code",
   "execution_count": 179,
   "metadata": {
    "collapsed": false
   },
   "outputs": [
    {
     "name": "stdout",
     "output_type": "stream",
     "text": [
      "31912\n"
     ]
    }
   ],
   "source": [
    "print len(filteredPop.nodes())"
   ]
  },
  {
   "cell_type": "code",
   "execution_count": 180,
   "metadata": {
    "collapsed": true
   },
   "outputs": [],
   "source": [
    "giant = max(nx.connected_component_subgraphs(filteredPop), key=len)"
   ]
  },
  {
   "cell_type": "code",
   "execution_count": 181,
   "metadata": {
    "collapsed": false
   },
   "outputs": [
    {
     "data": {
      "text/plain": [
       "31600"
      ]
     },
     "execution_count": 181,
     "metadata": {},
     "output_type": "execute_result"
    }
   ],
   "source": [
    "len(giant.nodes())"
   ]
  },
  {
   "cell_type": "code",
   "execution_count": 190,
   "metadata": {
    "collapsed": false
   },
   "outputs": [
    {
     "data": {
      "image/png": "[encoded data removed]",
      "text/plain": [
       "<matplotlib.figure.Figure at 0x7f3df3dc68d0>"
      ]
     },
     "metadata": {},
     "output_type": "display_data"
    }
   ],
   "source": [
    "sns.set(color_codes=True)\n",
    "sns.distplot(giant.degree().values());"
   ]
  },
  {
   "cell_type": "code",
   "execution_count": 173,
   "metadata": {
    "collapsed": false
   },
   "outputs": [],
   "source": [
    "# nx.write_gexf(filteredPop, \"vineGraph.gexf\")\n"
   ]
  },
  {
   "cell_type": "code",
   "execution_count": 153,
   "metadata": {
    "collapsed": false
   },
   "outputs": [],
   "source": [
    "\n",
    "# pos = graphviz_layout(popGraph, prog='neato')\n",
    "# # pos = nx.spring_layout(filteredPop)\n",
    "# fig, ax = plt.subplots()\n",
    "# fig.set_size_inches(40, 30)\n",
    "# nx.draw(filteredPop,pos=pos)\n",
    "# plt.show()"
   ]
  },
  {
   "cell_type": "code",
   "execution_count": 174,
   "metadata": {
    "collapsed": false
   },
   "outputs": [],
   "source": [
    "rich_club = nx.rich_club_coefficient(filteredPop, normalized=True  , Q = 500 )"
   ]
  },
  {
   "cell_type": "code",
   "execution_count": 175,
   "metadata": {
    "collapsed": false
   },
   "outputs": [],
   "source": [
    "rich_coeff =  rich_club.values()"
   ]
  },
  {
   "cell_type": "code",
   "execution_count": 176,
   "metadata": {
    "collapsed": false
   },
   "outputs": [
    {
     "data": {
      "image/png": "[encoded data removed]",
      "text/plain": [
       "<matplotlib.figure.Figure at 0x7f3dff4208d0>"
      ]
     },
     "metadata": {},
     "output_type": "display_data"
    }
   ],
   "source": [
    "fig, ax = plt.subplots()\n",
    "fig.set_size_inches(15, 10)\n",
    "plt.plot(rich_coeff,'b-',linewidth = 2.0)\n",
    "plt.title(\"Unweighted Normalized Rich Club coefficients for Vine\", fontsize = 20)\n",
    "plt.xlabel(\"Degree\",fontsize = 20)\n",
    "plt.ylabel(\"Coefficient value\",fontsize = 20)\n",
    "plt.yticks(np.arange(0,1.5,0.1))\n",
    "# plt.xticks(np.arange(0, ,1) , rotation=90)\n",
    "plt.grid()\n",
    "plt.show()"
   ]
  },
  {
   "cell_type": "code",
   "execution_count": 105,
   "metadata": {
    "collapsed": true
   },
   "outputs": [],
   "source": [
    "instaDir = \"/datasets/sagarj/instaSample6000/meta/\""
   ]
  },
  {
   "cell_type": "code",
   "execution_count": 106,
   "metadata": {
    "collapsed": true
   },
   "outputs": [],
   "source": [
    "instaFiles = [instaDir + f for f in os.listdir(instaDir)]"
   ]
  },
  {
   "cell_type": "code",
   "execution_count": 107,
   "metadata": {
    "collapsed": false
   },
   "outputs": [],
   "source": [
    "instaTimeline = [readJson(f) for f in instaFiles]"
   ]
  },
  {
   "cell_type": "code",
   "execution_count": 109,
   "metadata": {
    "collapsed": false
   },
   "outputs": [],
   "source": [
    "instaMeta = \"/datasets/sagarj/InstagramDataset_2016_seeded/InstaMeta.json\"\n",
    "instaMetaJson = readJson(instaMeta)"
   ]
  },
  {
   "cell_type": "code",
   "execution_count": 112,
   "metadata": {
    "collapsed": false
   },
   "outputs": [],
   "source": [
    "users = [ instaMetaJson[i]['meta']['Meta']['media']['owner']['id'] for i in instaMetaJson ]"
   ]
  },
  {
   "cell_type": "code",
   "execution_count": 114,
   "metadata": {
    "collapsed": false
   },
   "outputs": [
    {
     "data": {
      "text/plain": [
       "1300"
      ]
     },
     "execution_count": 114,
     "metadata": {},
     "output_type": "execute_result"
    }
   ],
   "source": [
    "len(list(set(users)))"
   ]
  },
  {
   "cell_type": "code",
   "execution_count": 131,
   "metadata": {
    "collapsed": true
   },
   "outputs": [],
   "source": [
    "views = [float(instaMetaJson[i]['views'])+1 for i in instaMetaJson]"
   ]
  },
  {
   "cell_type": "code",
   "execution_count": 132,
   "metadata": {
    "collapsed": false
   },
   "outputs": [
    {
     "data": {
      "image/png": "[encoded data removed]",
      "text/plain": [
       "<matplotlib.figure.Figure at 0x7f3e451d8f50>"
      ]
     },
     "metadata": {},
     "output_type": "display_data"
    }
   ],
   "source": [
    "fig, ax = plt.subplots()\n",
    "fig.set_size_inches(15, 10)\n",
    "plt.hist(np.log(views), 1000, normed=0,histtype='step', cumulative=True,linewidth = 1.0)\n",
    "\n",
    "plt.ylabel(\"CDF\",fontsize = 20)\n",
    "\n",
    "plt.grid()\n",
    "plt.show()"
   ]
  },
  {
   "cell_type": "code",
   "execution_count": 141,
   "metadata": {
    "collapsed": false
   },
   "outputs": [],
   "source": [
    "top10percent = np.asarray(views).argsort()[-1500:][::-1]"
   ]
  },
  {
   "cell_type": "code",
   "execution_count": 142,
   "metadata": {
    "collapsed": false
   },
   "outputs": [
    {
     "data": {
      "text/plain": [
       "104094.0"
      ]
     },
     "execution_count": 142,
     "metadata": {},
     "output_type": "execute_result"
    }
   ],
   "source": [
    "views[top10percent[-1]]"
   ]
  },
  {
   "cell_type": "code",
   "execution_count": 143,
   "metadata": {
    "collapsed": false
   },
   "outputs": [],
   "source": [
    "thresh = views[top10percent[-1]]"
   ]
  },
  {
   "cell_type": "code",
   "execution_count": 144,
   "metadata": {
    "collapsed": true
   },
   "outputs": [],
   "source": [
    "popMeta = [ instaMetaJson[i] for i in instaMetaJson if instaMetaJson[i]['views'] > thresh ]"
   ]
  },
  {
   "cell_type": "code",
   "execution_count": 145,
   "metadata": {
    "collapsed": false
   },
   "outputs": [
    {
     "data": {
      "text/plain": [
       "1499"
      ]
     },
     "execution_count": 145,
     "metadata": {},
     "output_type": "execute_result"
    }
   ],
   "source": [
    "len(popMeta)"
   ]
  },
  {
   "cell_type": "code",
   "execution_count": 147,
   "metadata": {
    "collapsed": false
   },
   "outputs": [
    {
     "data": {
      "text/plain": [
       "{u'length': u'59.815000',\n",
       " u'likes': 22430,\n",
       " u'meta': {u'Meta': {u'media': {u'caption': u'Scars\\nfollow @talentvids for more! \\U0001f497',\n",
       "    u'caption_is_edited': False,\n",
       "    u'code': u'BHK7TBbgPKa',\n",
       "    u'comments': {u'count': 120,\n",
       "     u'nodes': [{u'created_at': 1467174986.0,\n",
       "       u'id': u'17848794922082658',\n",
       "       u'text': u'@badsaturn',\n",
       "       u'user': {u'id': u'1388250276',\n",
       "        u'profile_pic_url': u'https://scontent.cdninstagram.com/t51.2885-19/s150x150/14705123_375975626124749_6622948052715962368_a.jpg',\n",
       "        u'username': u'nick_rodriguez457'}},\n",
       "      {u'created_at': 1467183076.0,\n",
       "       u'id': u'17848796947082658',\n",
       "       u'text': u'@ra.fa.na if I were a magician, this would be my go-to trick',\n",
       "       u'user': {u'id': u'1939864804',\n",
       "        u'profile_pic_url': u'https://scontent.cdninstagram.com/t51.2885-19/s150x150/13181269_1531607447147388_1976269717_a.jpg',\n",
       "        u'username': u'farhanalama'}},\n",
       "      {u'created_at': 1467184065.0,\n",
       "       u'id': u'17848797160082658',\n",
       "       u'text': u'@harmonymakhfi this is talent',\n",
       "       u'user': {u'id': u'1660802964',\n",
       "        u'profile_pic_url': u'https://scontent.cdninstagram.com/t51.2885-19/11208092_556346054508630_251407204_a.jpg',\n",
       "        u'username': u'yan_los'}},\n",
       "      {u'created_at': 1467206707.0,\n",
       "       u'id': u'17848803124082658',\n",
       "       u'text': u'@_tavo.c.guapo \\U0001f480',\n",
       "       u'user': {u'id': u'104913245',\n",
       "        u'profile_pic_url': u'https://scontent.cdninstagram.com/t51.2885-19/s150x150/15046856_1094429650671662_7290213141030371328_a.jpg',\n",
       "        u'username': u'jada_mackenzieee'}},\n",
       "      {u'created_at': 1467206970.0,\n",
       "       u'id': u'17848803238082658',\n",
       "       u'text': u'@drake_kiker',\n",
       "       u'user': {u'id': u'283756180',\n",
       "        u'profile_pic_url': u'https://scontent.cdninstagram.com/t51.2885-19/s150x150/15043961_1801663056789337_288968728274534400_a.jpg',\n",
       "        u'username': u'l.h_s.s'}},\n",
       "      {u'created_at': 1467211125.0,\n",
       "       u'id': u'17848804639082658',\n",
       "       u'text': u'pull that out Howard \\U0001f602',\n",
       "       u'user': {u'id': u'1029098817',\n",
       "        u'profile_pic_url': u'https://scontent.cdninstagram.com/t51.2885-19/s150x150/14624585_1689230104725705_606277781071855616_a.jpg',\n",
       "        u'username': u'tanishaross_18'}},\n",
       "      {u'created_at': 1467221029.0,\n",
       "       u'id': u'17848809361082658',\n",
       "       u'text': u'@vanessapttr @jalmlings @elinbirming',\n",
       "       u'user': {u'id': u'3237000253',\n",
       "        u'profile_pic_url': u'https://scontent.cdninstagram.com/t51.2885-19/s150x150/14561902_679761925528491_8484629900936871936_a.jpg',\n",
       "        u'username': u'amandas.priivataa'}},\n",
       "      {u'created_at': 1467221591.0,\n",
       "       u'id': u'17848809580082658',\n",
       "       u'text': u\"Just pull it out, it won't bite! \\U0001f602\\U0001f602\\U0001f602\\U0001f602\",\n",
       "       u'user': {u'id': u'2283918259',\n",
       "        u'profile_pic_url': u'https://scontent.cdninstagram.com/t51.2885-19/s150x150/13549337_975212285928800_1926638209_a.jpg',\n",
       "        u'username': u'its.ayycee'}},\n",
       "      {u'created_at': 1467235734.0,\n",
       "       u'id': u'17848815220082658',\n",
       "       u'text': u'I knew this was staged to promote their stuff well Hauppy investing in your products while I work on mine',\n",
       "       u'user': {u'id': u'2202525803',\n",
       "        u'profile_pic_url': u'https://scontent.cdninstagram.com/t51.2885-19/s150x150/12445857_1567935670183182_604585045_a.jpg',\n",
       "        u'username': u'mohizyes'}},\n",
       "      {u'created_at': 1467255309.0,\n",
       "       u'id': u'17848823134082658',\n",
       "       u'text': u'@the_bocaj_boy',\n",
       "       u'user': {u'id': u'387266554',\n",
       "        u'profile_pic_url': u'https://scontent.cdninstagram.com/t51.2885-19/s150x150/14288142_157420028038233_690052787_a.jpg',\n",
       "        u'username': u'marcinkus712'}},\n",
       "      {u'created_at': 1467264348.0,\n",
       "       u'id': u'17848826560082658',\n",
       "       u'text': u'@jason_thedevil_603 THIS IS GONNA BE YOU ONE DAY \\U0001f602\\U0001f602\\U0001f602\\U0001f602',\n",
       "       u'user': {u'id': u'203077205',\n",
       "        u'profile_pic_url': u'https://scontent.cdninstagram.com/t51.2885-19/s150x150/14566613_1786594624937100_3835998921721643008_a.jpg',\n",
       "        u'username': u'780yungkeezy'}},\n",
       "      {u'created_at': 1467264482.0,\n",
       "       u'id': u'17848826602082658',\n",
       "       u'text': u\"@_fresh_avocado_ That's fked up\",\n",
       "       u'user': {u'id': u'3278741147',\n",
       "        u'profile_pic_url': u'https://scontent.cdninstagram.com/t51.2885-19/s150x150/14374075_1792592057650191_3544058668783763456_a.jpg',\n",
       "        u'username': u'jasonthedevil.wg'}},\n",
       "      {u'created_at': 1467268245.0,\n",
       "       u'id': u'17848828015082658',\n",
       "       u'text': u'PULL IT OUT HOWARD PULL IT OUT',\n",
       "       u'user': {u'id': u'1562666097',\n",
       "        u'profile_pic_url': u'https://scontent.cdninstagram.com/t51.2885-19/s150x150/13735999_1133100560079462_2065929738_a.jpg',\n",
       "        u'username': u'downdowninaturkeyaran'}},\n",
       "      {u'created_at': 1467274676.0,\n",
       "       u'id': u'17848829311082658',\n",
       "       u'text': u\"@adreamz you're Howard.\",\n",
       "       u'user': {u'id': u'1457327157',\n",
       "        u'profile_pic_url': u'https://scontent.cdninstagram.com/t51.2885-19/s150x150/15043959_1648402825455059_5680303422457249792_a.jpg',\n",
       "        u'username': u'hypeminded'}},\n",
       "      {u'created_at': 1467280680.0,\n",
       "       u'id': u'17848831078082658',\n",
       "       u'text': u'They should have asked howie to do to lmao',\n",
       "       u'user': {u'id': u'334220155',\n",
       "        u'profile_pic_url': u'https://scontent.cdninstagram.com/t51.2885-19/s150x150/917910_1029855347058037_765375664_a.jpg',\n",
       "        u'username': u'damien1432'}},\n",
       "      {u'created_at': 1467285684.0,\n",
       "       u'id': u'17848832392082658',\n",
       "       u'text': u'I know a focus like this. He put the kart on a different position of the others karts and get it when it was behimd his back',\n",
       "       u'user': {u'id': u'2355790116',\n",
       "        u'profile_pic_url': u'https://scontent.cdninstagram.com/t51.2885-19/s150x150/15035025_336386066716903_5948027893866037248_a.jpg',\n",
       "        u'username': u'vassy2003'}},\n",
       "      {u'created_at': 1467286586.0,\n",
       "       u'id': u'17848832662082658',\n",
       "       u'text': u'@hope.roberts',\n",
       "       u'user': {u'id': u'24906560',\n",
       "        u'profile_pic_url': u'https://scontent.cdninstagram.com/t51.2885-19/s150x150/14262830_673337879490896_1371394843_a.jpg',\n",
       "        u'username': u'caitlynfitzgeraldd'}},\n",
       "      {u'created_at': 1467303531.0,\n",
       "       u'id': u'17848839550082658',\n",
       "       u'text': u'That was up his fucking ass tho',\n",
       "       u'user': {u'id': u'1923813440',\n",
       "        u'profile_pic_url': u'https://scontent.cdninstagram.com/t51.2885-19/s150x150/14540588_698535293644718_2505167407719383040_a.jpg',\n",
       "        u'username': u'im4real._.lexi'}},\n",
       "      {u'created_at': 1467305119.0,\n",
       "       u'id': u'17848840213082658',\n",
       "       u'text': u'@vinamzlm',\n",
       "       u'user': {u'id': u'1813124516',\n",
       "        u'profile_pic_url': u'https://scontent.cdninstagram.com/t51.2885-19/s150x150/13423451_1241403412543987_1274761314_a.jpg',\n",
       "        u'username': u'rebfashion'}},\n",
       "      {u'created_at': 1467314360.0,\n",
       "       u'id': u'17848844050082658',\n",
       "       u'text': u'\\U0001f633',\n",
       "       u'user': {u'id': u'3217607136',\n",
       "        u'profile_pic_url': u'https://scontent.cdninstagram.com/t51.2885-19/s150x150/14719353_646435998869053_155455559594672128_a.jpg',\n",
       "        u'username': u'lhl.come_at_me'}},\n",
       "      {u'created_at': 1467328143.0,\n",
       "       u'id': u'17848849279082658',\n",
       "       u'text': u'Ace in the hole.',\n",
       "       u'user': {u'id': u'3261974992',\n",
       "        u'profile_pic_url': u'https://scontent.cdninstagram.com/t51.2885-19/s150x150/14099775_1046431975406477_1265610004_a.jpg',\n",
       "        u'username': u'rio_napier23'}},\n",
       "      {u'created_at': 1467341983.0,\n",
       "       u'id': u'17848854232082658',\n",
       "       u'text': u'@sansotta_n',\n",
       "       u'user': {u'id': u'970383880',\n",
       "        u'profile_pic_url': u'https://scontent.cdninstagram.com/t51.2885-19/s150x150/15048169_1740779482914490_5553302566659424256_a.jpg',\n",
       "        u'username': u'korey_peltier16'}},\n",
       "      {u'created_at': 1467352431.0,\n",
       "       u'id': u'17848857709082658',\n",
       "       u'text': u'@maria_1267',\n",
       "       u'user': {u'id': u'928434816',\n",
       "        u'profile_pic_url': u'https://scontent.cdninstagram.com/t51.2885-19/s150x150/15305928_205872176487126_3105940453762007040_a.jpg',\n",
       "        u'username': u'jlsr_forever'}},\n",
       "      {u'created_at': 1467395593.0,\n",
       "       u'id': u'17848873333082658',\n",
       "       u'text': u'@behnoosh.b.s fun magician',\n",
       "       u'user': {u'id': u'683302287',\n",
       "        u'profile_pic_url': u'https://scontent.cdninstagram.com/t51.2885-19/s150x150/14499151_1836300686650466_3289152265276882944_a.jpg',\n",
       "        u'username': u'farshid_shoja'}},\n",
       "      {u'created_at': 1467473167.0,\n",
       "       u'id': u'17848901914082658',\n",
       "       u'text': u'@paddyjohn1 hahah',\n",
       "       u'user': {u'id': u'3071762525',\n",
       "        u'profile_pic_url': u'https://scontent.cdninstagram.com/t51.2885-19/s150x150/14498924_1622107674749327_5732959893304901632_a.jpg',\n",
       "        u'username': u'faithhjohn'}},\n",
       "      {u'created_at': 1467506296.0,\n",
       "       u'id': u'17848914643082658',\n",
       "       u'text': u'Tb to when I used to do card tricks :(',\n",
       "       u'user': {u'id': u'1682920240',\n",
       "        u'profile_pic_url': u'https://scontent.cdninstagram.com/t51.2885-19/s150x150/14574096_1819299185021583_8835047714157756416_n.jpg',\n",
       "        u'username': u'itztactic'}},\n",
       "      {u'created_at': 1467518198.0,\n",
       "       u'id': u'17848921360082658',\n",
       "       u'text': u'\"pull it out\"',\n",
       "       u'user': {u'id': u'604829601',\n",
       "        u'profile_pic_url': u'https://scontent.cdninstagram.com/t51.2885-19/s150x150/14727647_872975989505838_3185875296993673216_a.jpg',\n",
       "        u'username': u'kayla_xoxo._'}},\n",
       "      {u'created_at': 1467566856.0,\n",
       "       u'id': u'17848938739082658',\n",
       "       u'text': u'@mosesc1414',\n",
       "       u'user': {u'id': u'2325949453',\n",
       "        u'profile_pic_url': u'https://scontent.cdninstagram.com/t51.2885-19/s150x150/13658905_549210255263677_1402194485_a.jpg',\n",
       "        u'username': u'svt_anthonyortiz'}},\n",
       "      {u'created_at': 1468040496.0,\n",
       "       u'id': u'17849124262082658',\n",
       "       u'text': u'\\U0001f631\\U0001f630 I feel sick \\U0001f633',\n",
       "       u'user': {u'id': u'2997022092',\n",
       "        u'profile_pic_url': u'https://scontent.cdninstagram.com/t51.2885-19/s150x150/13735977_1405474326148457_1264642221_a.jpg',\n",
       "        u'username': u'chelkel.x'}},\n",
       "      {u'created_at': 1468351411.0,\n",
       "       u'id': u'17849246020082658',\n",
       "       u'text': u'Ahhahaha',\n",
       "       u'user': {u'id': u'3527885576',\n",
       "        u'profile_pic_url': u'https://scontent.cdninstagram.com/t51.2885-19/s150x150/15101740_210324276078041_6477805229290029056_a.jpg',\n",
       "        u'username': u'but_mooom'}},\n",
       "      {u'created_at': 1468369842.0,\n",
       "       u'id': u'17849254270082658',\n",
       "       u'text': u'Wtf \\U0001f602\\U0001f602\\U0001f602\\U0001f602\\U0001f602 @joe.mateo',\n",
       "       u'user': {u'id': u'1667460307',\n",
       "        u'profile_pic_url': u'https://scontent.cdninstagram.com/t51.2885-19/s150x150/15337271_350102315351840_1435637310254219264_a.jpg',\n",
       "        u'username': u'pyt.sarahhhh'}},\n",
       "      {u'created_at': 1468399059.0,\n",
       "       u'id': u'17849264446082658',\n",
       "       u'text': u'@silkeveenstra ...',\n",
       "       u'user': {u'id': u'3054256314',\n",
       "        u'profile_pic_url': u'https://scontent.cdninstagram.com/t51.2885-19/s150x150/14723125_306092643124245_5539281813425356800_a.jpg',\n",
       "        u'username': u'sheilaastarink'}},\n",
       "      {u'created_at': 1468399137.0,\n",
       "       u'id': u'17849264473082658',\n",
       "       u'text': u'@sheilaastarink ew',\n",
       "       u'user': {u'id': u'1641187365',\n",
       "        u'profile_pic_url': u'https://scontent.cdninstagram.com/t51.2885-19/s150x150/15306736_1167965089983637_2435377083967340544_a.jpg',\n",
       "        u'username': u'silkeveenstra'}},\n",
       "      {u'created_at': 1468637227.0,\n",
       "       u'id': u'17849355103082658',\n",
       "       u'text': u'OH MY GOD I SCREAMED AGAIN @ashbandds',\n",
       "       u'user': {u'id': u'1742053127',\n",
       "        u'profile_pic_url': u'https://scontent.cdninstagram.com/t51.2885-19/s150x150/15034802_1826940197586811_3462397489217273856_a.jpg',\n",
       "        u'username': u'mykenna_roy14'}},\n",
       "      {u'created_at': 1468736724.0,\n",
       "       u'id': u'17849396761082658',\n",
       "       u'text': u'This would be me or Jake @antonglazko  @jake.burton',\n",
       "       u'user': {u'id': u'975427961',\n",
       "        u'profile_pic_url': u'https://scontent.cdninstagram.com/t51.2885-19/s150x150/14705171_321196774929559_6543682786295808000_a.jpg',\n",
       "        u'username': u'griffintresse'}},\n",
       "      {u'created_at': 1468760731.0,\n",
       "       u'id': u'17849405242082658',\n",
       "       u'text': u'Ive done this before without the pants theres an...nvm im not ruining the trick',\n",
       "       u'user': {u'id': u'585153400',\n",
       "        u'profile_pic_url': u'https://scontent.cdninstagram.com/t51.2885-19/s150x150/15338366_1721131504873807_7839676811242897408_a.jpg',\n",
       "        u'username': u'zpeops'}},\n",
       "      {u'created_at': 1468772643.0,\n",
       "       u'id': u'17849414254082658',\n",
       "       u'text': u'\\U0001f602\\U0001f602\\U0001f602\\U0001f602\\U0001f602 both of u @griffintresse @jake.burton',\n",
       "       u'user': {u'id': u'284678368',\n",
       "        u'profile_pic_url': u'https://scontent.cdninstagram.com/t51.2885-19/s150x150/14350938_1784448988464288_6472227819119181824_a.jpg',\n",
       "        u'username': u'antonglazko'}},\n",
       "      {u'created_at': 1469041256.0,\n",
       "       u'id': u'17849522896082658',\n",
       "       u'text': u'OMG',\n",
       "       u'user': {u'id': u'1299189809',\n",
       "        u'profile_pic_url': u'https://scontent.cdninstagram.com/t51.2885-19/s150x150/13743456_943974585725853_1844619574_a.jpg',\n",
       "        u'username': u'hesitant.slaylien'}},\n",
       "      {u'created_at': 1469658787.0,\n",
       "       u'id': u'17849798152082658',\n",
       "       u'text': u'\\U0001f602\\U0001f602\\U0001f602\\U0001f602^^^',\n",
       "       u'user': {u'id': u'2009293802',\n",
       "        u'profile_pic_url': u'https://scontent.cdninstagram.com/t51.2885-19/s150x150/15047004_791091887697749_8187160783843491840_a.jpg',\n",
       "        u'username': u'm_2000_w'}}],\n",
       "     u'page_info': {u'end_cursor': None,\n",
       "      u'has_next_page': False,\n",
       "      u'has_previous_page': True,\n",
       "      u'start_cursor': u'AQB5NVVIKBIt8UGvG4n6jVE1V6_2-j_cIo6PqsFuAgYvTHlqDsiyM0prUyBJnSziWJX4J_ccUwNX2nIZM1gAksGJz-SJ-CzyLCw5d6EqTjj-kIs7Gl7fjg7FFM6CVrto6aw'}},\n",
       "    u'comments_disabled': False,\n",
       "    u'date': 1467057993,\n",
       "    u'dimensions': {u'height': 640, u'width': 640},\n",
       "    u'display_src': u'https://scontent.cdninstagram.com/t51.2885-15/s640x640/e15/14026658_1774597069429952_853251393_n.jpg?ig_cache_key=MTI4MjA5NzgzNTg4OTcxNzkxNA%3D%3D.2',\n",
       "    u'id': u'1282097835889717914',\n",
       "    u'is_ad': False,\n",
       "    u'is_video': True,\n",
       "    u'likes': {u'count': 22464,\n",
       "     u'nodes': [{u'user': {u'id': u'2046224352',\n",
       "        u'profile_pic_url': u'https://scontent.cdninstagram.com/t51.2885-19/s150x150/15337173_1058226704304336_4918651600270000128_a.jpg',\n",
       "        u'username': u'jolly.lukee'}},\n",
       "      {u'user': {u'id': u'2276733110',\n",
       "        u'profile_pic_url': u'https://scontent.cdninstagram.com/t51.2885-19/s150x150/14712360_1114383015324348_4098575574178463744_a.jpg',\n",
       "        u'username': u'sarah_wamboldt'}},\n",
       "      {u'user': {u'id': u'394403610',\n",
       "        u'profile_pic_url': u'https://scontent.cdninstagram.com/t51.2885-19/s150x150/13573440_1589120538050307_1810263193_a.jpg',\n",
       "        u'username': u'yvng_canton'}},\n",
       "      {u'user': {u'id': u'256673002',\n",
       "        u'profile_pic_url': u'https://scontent.cdninstagram.com/t51.2885-19/11176032_936253306419356_1663996379_a.jpg',\n",
       "        u'username': u'ronit_eksler'}},\n",
       "      {u'user': {u'id': u'3120629518',\n",
       "        u'profile_pic_url': u'https://scontent.cdninstagram.com/t51.2885-19/s150x150/14718470_569996703191177_3027350016898367488_a.jpg',\n",
       "        u'username': u'alireza.shaariifii'}},\n",
       "      {u'user': {u'id': u'212053155',\n",
       "        u'profile_pic_url': u'https://scontent.cdninstagram.com/t51.2885-19/s150x150/14607165_1447413595288237_3383725319125991424_a.jpg',\n",
       "        u'username': u'f_cx'}},\n",
       "      {u'user': {u'id': u'603275399',\n",
       "        u'profile_pic_url': u'https://scontent.cdninstagram.com/t51.2885-19/s150x150/12724923_500114323510793_97801691_a.jpg',\n",
       "        u'username': u'volleylena_0802'}},\n",
       "      {u'user': {u'id': u'215629890',\n",
       "        u'profile_pic_url': u'https://scontent.cdninstagram.com/t51.2885-19/s150x150/15034476_584763201710454_4206243317593145344_a.jpg',\n",
       "        u'username': u'_grind_queen_'}},\n",
       "      {u'user': {u'id': u'2904177154',\n",
       "        u'profile_pic_url': u'https://scontent-icn1-1.cdninstagram.com/t51.2885-19/11906329_960233084022564_1448528159_a.jpg',\n",
       "        u'username': u'spiiikee.9'}},\n",
       "      {u'user': {u'id': u'1600625665',\n",
       "        u'profile_pic_url': u'https://scontent.cdninstagram.com/t51.2885-19/s150x150/15101787_208240222962199_9222684773367939072_a.jpg',\n",
       "        u'username': u'sammymompoint'}}],\n",
       "     u'viewer_has_liked': False},\n",
       "    u'location': None,\n",
       "    u'owner': {u'blocked_by_viewer': False,\n",
       "     u'followed_by_viewer': False,\n",
       "     u'full_name': u'funny & amazing auditions',\n",
       "     u'has_blocked_viewer': False,\n",
       "     u'id': u'2127805299',\n",
       "     u'is_private': False,\n",
       "     u'is_unpublished': False,\n",
       "     u'profile_pic_url': u'https://scontent.cdninstagram.com/t51.2885-19/s150x150/14072757_842666789198016_1253466779_a.jpg',\n",
       "     u'requested_by_viewer': False,\n",
       "     u'username': u'talentvids'},\n",
       "    u'usertags': {u'nodes': []},\n",
       "    u'video_url': u'https://scontent.cdninstagram.com/t50.2886-16/14119611_164760347291112_1118482485_n.mp4',\n",
       "    u'video_views': 230226}},\n",
       "  u'path': u'/datasets/sagarj/InstagramDataset_2016_seeded/instaPop/Amazing Talent/2127805299_talentvids/BHK7TBbgPKa/14119611_164760347291112_1118482485_n.mp4'},\n",
       " u'views': 230322}"
      ]
     },
     "execution_count": 147,
     "metadata": {},
     "output_type": "execute_result"
    }
   ],
   "source": [
    "popMeta[1]"
   ]
  },
  {
   "cell_type": "code",
   "execution_count": null,
   "metadata": {
    "collapsed": true
   },
   "outputs": [],
   "source": [
    "instaUserGraph = nx.Graph()\n",
    "    for t in  popMeta:\n",
    "        dest = t['meta']['Meta']['media']['owner']['id']\n",
    "        comments = t['meta']['Meta']['media']['comments']['nodes']\n",
    "        likes = t['meta']['Meta']['media']['likes']['nodes']\n",
    "        records = comments + likes\n",
    "        if not instaUserGraph.has_node(dest):\n",
    "                instaUserGraph.add_node(dest)\n",
    "        for r in records:\n",
    "            if not instaUserGraph.has_node(r['user']['id']):\n",
    "                instaUserGraph.add_node(r['user']['id'])\n",
    "\n",
    "            for i in interactions:\n",
    "\n",
    "                if not instaUserGraph.has_edge(r['userId'],dest):\n",
    "                    instaUserGraph.add_edge(r['userId'], dest , weight=1 )\n",
    "                else:\n",
    "                    instaUserGraph[r['userId']][dest]['weight'] += 1"
   ]
  }
 ],
 "metadata": {
  "kernelspec": {
   "display_name": "Python 2",
   "language": "python",
   "name": "python2"
  },
  "language_info": {
   "codemirror_mode": {
    "name": "ipython",
    "version": 2
   },
   "file_extension": ".py",
   "mimetype": "text/x-python",
   "name": "python",
   "nbconvert_exporter": "python",
   "pygments_lexer": "ipython2",
   "version": "2.7.12"
  }
 },
 "nbformat": 4,
 "nbformat_minor": 0
}
