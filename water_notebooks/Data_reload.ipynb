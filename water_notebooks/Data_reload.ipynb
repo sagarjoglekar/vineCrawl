{
 "cells": [
  {
   "cell_type": "code",
   "execution_count": 64,
   "metadata": {
    "collapsed": true
   },
   "outputs": [],
   "source": [
    "import gzip\n",
    "from contextlib import closing\n",
    "from xml.etree import ElementTree as etree\n",
    "from bs4 import BeautifulSoup\n",
    "import os\n",
    "from contextlib import closing\n",
    "from xml.etree import ElementTree as etree\n",
    "import numpy as np\n",
    "%matplotlib inline\n",
    "import matplotlib.pyplot as plt\n",
    "import matplotlib.cm as cm\n",
    "import cPickle as Pickle\n",
    "import io\n",
    "from decimal import Decimal"
   ]
  },
  {
   "cell_type": "code",
   "execution_count": 93,
   "metadata": {
    "collapsed": true
   },
   "outputs": [],
   "source": [
    "news_dataset = \"/datasets/dk/news-short\"\n",
    "\n",
    "keywords = [\"farmers\",\"draught\",\"water scarcity\",\"drought\",\"hosepipe ban\",\"water scarcity\",\"water conservation\",\n",
    "            \"water crisis\" , \"water resilience\" , \"water reuse\" , \"shower ban\", \"water use\",\"water consumption\"\n",
    "            \"water saving\" , \"shower\" ,\"shower less\", \"less water\", \"bathing less\",\"irrigation\" , \"crop yield\" ,\n",
    "            \"dry shampoo\", \"grey water\", \"bathing wipes\" ,\"farmer issues\" , \"lower yield\",\"crops\" ,\"hot summer\",\n",
    "            \"scorching\" , \"heat wave\", \"water cuts\" , \"watercuts\" , \"water shortage\" , \"dry summer\", \"hot weather\", \n",
    "            \"picnic weather\", \"beach weather\",\"blocking\", \"blocking anticyclone\", \"anticyclone\" , \"el nino\",\n",
    "            \"El Nino\", \"La Nina\"]\n",
    "total = 0\n",
    "news2013 = \"/datasets/sagarj/water_scarcity/waterNewsDataMatched_2013.pkl\"\n",
    "news2015_1 = \"/datasets/sagarj/water_scarcity/waterNewsDataMatched_2015_1.pkl\"\n",
    "currentDir =  os.getcwd();\n",
    "logPickle = currentDir + \"/curationLogChunk.pk\""
   ]
  },
  {
   "cell_type": "code",
   "execution_count": 66,
   "metadata": {
    "collapsed": false
   },
   "outputs": [],
   "source": [
    "tokenized_vine_sentences\n",
    "f1 = open(news2013, 'rb')\n",
    "data2013 = Pickle.load(f1)\n",
    "\n",
    "f2 = open(news2015_1, 'rb')\n",
    "data2015 = Pickle.load(f2)"
   ]
  },
  {
   "cell_type": "code",
   "execution_count": 67,
   "metadata": {
    "collapsed": false
   },
   "outputs": [
    {
     "name": "stdout",
     "output_type": "stream",
     "text": [
      "63904\n",
      "18986\n"
     ]
    }
   ],
   "source": [
    "print len(data2013)\n",
    "print len(data2015)"
   ]
  },
  {
   "cell_type": "code",
   "execution_count": 68,
   "metadata": {
    "collapsed": false
   },
   "outputs": [
    {
     "name": "stdout",
     "output_type": "stream",
     "text": [
      "(41,)\n",
      "[  1.55090000e+04   2.72000000e+02   1.59000000e+02   1.03640000e+04\n",
      "   1.00000000e+00   1.59000000e+02   4.37000000e+02   2.26000000e+02\n",
      "   0.00000000e+00   3.80000000e+01   0.00000000e+00   1.10500000e+03\n",
      "   0.00000000e+00   1.29520000e+04   1.00000000e+00   4.88000000e+02\n",
      "   0.00000000e+00   2.14700000e+03   4.10000000e+02   6.50000000e+01\n",
      "   3.10000000e+01   0.00000000e+00   5.00000000e+00   1.62000000e+02\n",
      "   7.43100000e+03   6.53000000e+02   1.12600000e+03   1.23300000e+03\n",
      "   3.00000000e+01   0.00000000e+00   4.12000000e+02   1.70000000e+02\n",
      "   6.49000000e+02   1.00000000e+00   2.20000000e+01   1.54200000e+04\n",
      "   1.00000000e+00   7.80000000e+01   3.00000000e+00   3.24000000e+02\n",
      "   1.55000000e+02]\n"
     ]
    }
   ],
   "source": [
    "keywordHistogram = np.zeros(len(keywords))\n",
    "print keywordHistogram.shape\n",
    "for i in range(len(data2013)):\n",
    "    for j in range(len(keywords)):\n",
    "        if keywords[j] in data2013[i]['matched']:\n",
    "            keywordHistogram[j] += 1\n",
    "\n",
    "print keywordHistogram\n"
   ]
  },
  {
   "cell_type": "code",
   "execution_count": 69,
   "metadata": {
    "collapsed": false
   },
   "outputs": [
    {
     "data": {
      "text/plain": [
       "(array([ 6.,  4.,  0.,  1.,  0.,  1.,  0.,  0.,  0.,  0.,  0.,  0.,  0.,\n",
       "         0.,  0.,  0.,  0.,  0.,  0.,  0.,  0.,  0.,  1.,  0.,  0.,  0.,\n",
       "         0.,  0.,  0.,  0.,  1.,  1.,  0.,  0.,  0.,  0.,  0.,  0.,  1.,  0.]),\n",
       " array([ 0,  1,  2,  3,  4,  5,  6,  7,  8,  9, 10, 11, 12, 13, 14, 15, 16,\n",
       "        17, 18, 19, 20, 21, 22, 23, 24, 25, 26, 27, 28, 29, 30, 31, 32, 33,\n",
       "        34, 35, 36, 37, 38, 39, 40]),\n",
       " <a list of 40 Patch objects>)"
      ]
     },
     "execution_count": 69,
     "metadata": {},
     "output_type": "execute_result"
    },
    {
     "data": {
      "image/png": "[encoded data removed]",
      "text/plain": [
       "<matplotlib.figure.Figure at 0x7fe200bb1090>"
      ]
     },
     "metadata": {},
     "output_type": "display_data"
    }
   ],
   "source": [
    "plt.get_current_fig_manager().resize(200, 100)\n",
    "plt.hist(keywordHistogram, bins = np.arange(0,41,1))"
   ]
  },
  {
   "cell_type": "code",
   "execution_count": 70,
   "metadata": {
    "collapsed": false
   },
   "outputs": [
    {
     "name": "stdout",
     "output_type": "stream",
     "text": [
      "6486\n",
      "2417\n",
      "8903\n"
     ]
    }
   ],
   "source": [
    "multiMatched2013 = []\n",
    "\n",
    "for i in range(len(data2013)):\n",
    "    if len(data2013[i]['matched']) > 1:\n",
    "        multiMatched2013.append(data2013[i])\n",
    "\n",
    "print len(multiMatched2013)\n",
    "\n",
    "multiMatched2015 = []\n",
    "\n",
    "for i in range(len(data2015)):\n",
    "    if len(data2015[i]['matched']) > 1:\n",
    "        multiMatched2015.append(data2015[i])\n",
    "\n",
    "print len(multiMatched2015)\n",
    "\n",
    "totalMatched = multiMatched2013 + multiMatched2015\n",
    "\n",
    "print len(totalMatched)\n"
   ]
  },
  {
   "cell_type": "code",
   "execution_count": 71,
   "metadata": {
    "collapsed": false
   },
   "outputs": [],
   "source": [
    "USAarticles = []\n",
    "for obj in totalMatched:\n",
    "    if obj['country'] == 'USA' or obj['country'] == 'United States':\n",
    "        USAarticles.append(obj)\n",
    "        \n",
    "UKAarticles = []\n",
    "for obj in totalMatched:\n",
    "    if obj['country'] == 'United Kingdom':\n",
    "        UKAarticles.append(obj)\n",
    "\n",
    "WorldArticles =[]\n",
    "\n",
    "for obj in totalMatched:\n",
    "    if (obj['country'] != 'United Kingdom' and obj['country'] != 'USA' and obj['country'] != 'United States') :\n",
    "        WorldArticles.append(obj)"
   ]
  },
  {
   "cell_type": "code",
   "execution_count": 131,
   "metadata": {
    "collapsed": false
   },
   "outputs": [
    {
     "name": "stdout",
     "output_type": "stream",
     "text": [
      "4403\n",
      "486\n",
      "4014\n"
     ]
    }
   ],
   "source": [
    "print len(USAarticles)\n",
    "print len(UKAarticles)\n",
    "print len(WorldArticles)"
   ]
  },
  {
   "cell_type": "code",
   "execution_count": 73,
   "metadata": {
    "collapsed": false
   },
   "outputs": [
    {
     "name": "stdout",
     "output_type": "stream",
     "text": [
      "['', u'Australia', u'India', u'Viet Nam', u'New Zealand', u'Canada', u'Ireland', u'Sierra Leone', u'France', u'Spain', u'Burma (Myanmar)', u'Ghana', u'Kenya', u'China', u'Colombia', u'Afghanistan', u'South Africa', u'United Arab Emirates', u'Pakistan', u'Jamaica', u'Germany', u'Belize', u'Micronesia, Federated States of', u'Italy', u'Tuvalu', u'Azerbaijan', u'Malaysia', u'Russia', u'Japan', u'Ukraine', u'Czech Republic', u'Taiwan', u'Hungary', u'Nigeria', u'Netherlands', u'Uganda', u'Korea, Republic of', u'Occupied Palestinian Territory', u'Iran, Islamic Republic of', u'Bangladesh', u'Panama', u'Taiwan, Province of China', u'Latvia', u'Armenia', u'Singapore', u'Lebanon', u'Gambia', u'Russian Federation', u'Thailand', u'Israel', u'Zimbabwe', u'Malta', u'Nepal', u'Botswana', u'Denmark', u'Philippines', u'Kyrgyzstan', u'Switzerland', u'Serbia', u'Fiji', u'Qatar', u'Bulgaria', u'Saudi Arabia', u'Swaziland', u'Indonesia', u'Uzbekistan', u'Yemen', u'Romania', u'Chile', u\"Lao People's Democratic Republic\", u'Mexico', u'Iceland', u'Bhutan', u'Jordan', u'Algeria', u'Ethiopia', u'Uruguay', u'Tanzania, United Republic of', u'Anguilla', u'Antigua and Barbuda', u'Rwanda', u'Honduras', u'Austria', u'Trinidad and Tobago', u'Poland', u'Ecuador', u'Oman', u'Turkey', u'Hong Kong', u'Zambia', u'Guyana', u'Croatia']\n"
     ]
    }
   ],
   "source": [
    "countries = []\n",
    "for obj in WorldArticles:\n",
    "    if obj['country'] not in countries:\n",
    "        countries.append(obj['country'])\n",
    "print countries"
   ]
  },
  {
   "cell_type": "code",
   "execution_count": 74,
   "metadata": {
    "collapsed": false
   },
   "outputs": [
    {
     "name": "stdout",
     "output_type": "stream",
     "text": [
      "1048\n"
     ]
    }
   ],
   "source": [
    "californiaArticles = []\n",
    "californiaKeys = ['California', 'california' , 'California Drought', 'water conservation' ,'droughtshaming' ,'drought shaming']\n",
    "for obj in USAarticles:\n",
    "    count = 0\n",
    "    for key in californiaKeys:\n",
    "        if(obj['text'].find(key) > 0):\n",
    "            count += 1\n",
    "    if count > 0:\n",
    "        californiaArticles.append(obj)\n",
    "\n",
    "        \n",
    "print len(californiaArticles) \n",
    "    "
   ]
  },
  {
   "cell_type": "code",
   "execution_count": 75,
   "metadata": {
    "collapsed": false
   },
   "outputs": [
    {
     "name": "stdout",
     "output_type": "stream",
     "text": [
      "64\n",
      "{'country': u'USA', 'longitude': u'-107.810951', 'text': u'Officials from the Town of Telluride and Planet Bluegrass say the 41st annual festival went smoothly with no major problems and attendance was down slightly from last year.\\nDespite the record-shattering online ticket sales in December that saw four-day passes sell out in just eight minutes, attendance was down from last year\\'s festival. According to Planet Bluegrass box office numbers, 10,379 festivarians packed Town Park on Thursday, 11,416 on Friday, 11,551 on Saturday and 11,466 on Sunday. About 3 percent of people who bought tickets were no-shows over the four days. The 2013 event saw record attendance, in part, because it was the 40th anniversary of the Telluride Bluegrass Festival.\\n\"It was a noticeably smaller crowd than last year,\" Telluride Parks and Recreation Director Stephanie Jaquet said at Tuesday\\'s debriefing meeting.\\nThe annual four-day event saw hordes of straw-hat-wearing, tarp-toting festivarians dance to classic bluegrass music like Tim O\\'Brien and Darrell Scott, Sam Bush, Bela Fleck, rockers Steve Winwood and Brandi Carlile, progressive bluegrass band Yonder Mountain String Band, jam band Leftover Salmon and more.\\nAbout 3,500 people total camped at the festival\\'s campgrounds in Town Park, Lawson Hill, Telluride High School and Ilium, roughly the same as last year.\\nJoyce Kimball of the Telluride Marshal\\'s Office said the festival went pretty smoothly until Sunday when there were seven arrests, beginning at 8 a.m. Charges ranged from failure to appear to open container violations to probation violations, drug violations and assault. There were 22 alcohol-related offenses and 26 festival trespasses. The marshal\\'s office had 20 cars towed and issued 258 parking tickets over the four-day weekend.\\nChief Paramedic and San Miguel County Coroner Emil Sante said local EMS was busy all four days and transported four people out of the event. He said there were three to six calls that involved marijuana edibles, which was fewer than expected. There were three incidents with edibles and three with edible/alcohol combinations. Alcohol continues to be the bigger problem, Sante said.\\n\"I don\\'t see the edible thing being a big scary thing at all,\" Sante said. \"People recognize edibles are no fun.\"\\nSecurity Manager John Cohn said they caught about 40 people for ticket fraud and a few people attempting to scale the fence. They confiscated about 20 pints of liquor, six bottles of wine and some beer -- mostly PBR -- that people tried to sneak inside the gates.\\nThe Telluride Bluegrass Festival prides itself on striving to be sustainable and environmentally friendly and this year the amount of trash was way down, said compost coordinator Kris Holstrom. This year, the amount of trash was way down, composting and recycling were up and the event\\'s diversion rate was 65 percent, Holstrom said.\\nThe record crowds in 2013 stressed the town\\'s wastewater and drinking water systems but that didn\\'t happen this year, according to Telluride Public Works Director Paul Ruud. Although Friday and Saturday saw the town use in excess of a million gallons each day, it was 10 percent less water use than last year.\\n\"Everything went well at the wastewater treatment plant,\" Ruud said. \"Thanks for the water conservation message. It appears it is having an effect. We were pretty convinced that if we reached out to everybody we would get responses.\"\\nPlanet Bluegrass Vice President Steve Szymanski said the whole weekend went smoothly, especially the free workshops in Elks Park.\\n\"We couldn\\'t be happier with the music and the production,\" he said. \"After last year\\'s hard hit with Mumford and the anniversary, ticket sales are back to normal. There was room in the crowd. I didn\\'t feel there was a crunch anywhere. I heard only good things from the artists.\"', 'timeStamp': u'2015-02-15T14:14:31Z', 'latitude': u'37.938099', 'matched': ['water conservation', 'water use', 'less water', 'wastewater']}\n"
     ]
    }
   ],
   "source": [
    "# dmytroArticles = []\n",
    "# dmytroKeys = ['droughtshaming', 'calidrought', 'wastewater', 'stopthatdrip', 'cadrought', 'savewater', 'cawater' ,'DroughtSelfie',\n",
    "#              'KeepSavingCA']\n",
    "# for obj in californiaArticles:\n",
    "#     count = 0\n",
    "    \n",
    "#     for key in dmytroKeys:\n",
    "#         if(obj['text'].find(key) > 0):\n",
    "#             count += 1\n",
    "#             obj['matched'].append(key)\n",
    "#     if count > 0:\n",
    "#         dmytroArticles.append(obj)\n",
    "\n",
    "        \n",
    "# print len(dmytroArticles) \n",
    "# print dmytroArticles[50]"
   ]
  },
  {
   "cell_type": "code",
   "execution_count": 83,
   "metadata": {
    "collapsed": false
   },
   "outputs": [],
   "source": [
    "\n",
    "# f = open(\"Dmytro_keywords_news.pkl\", 'a+')\n",
    "# Pickle.dump(dmytroArticles, f, protocol=Pickle.HIGHEST_PROTOCOL)\n",
    "# f.close()"
   ]
  },
  {
   "cell_type": "code",
   "execution_count": 84,
   "metadata": {
    "collapsed": false
   },
   "outputs": [
    {
     "name": "stdout",
     "output_type": "stream",
     "text": [
      "498\n"
     ]
    }
   ],
   "source": [
    "WorldCaliforniaArticles = []\n",
    "californiaKeys = ['California', 'california' , 'California Drought', 'water conservation' ,'droughtshaming' ,'drought shaming']\n",
    "temp = UKAarticles + WorldArticles\n",
    "for obj in temp:\n",
    "    count = 0\n",
    "    for key in californiaKeys:\n",
    "        if(obj['text'].find(key) > 0):\n",
    "            count += 1\n",
    "    if count > 0:\n",
    "        WorldCaliforniaArticles.append(obj)\n",
    "\n",
    "        \n",
    "print len(WorldCaliforniaArticles) "
   ]
  },
  {
   "cell_type": "code",
   "execution_count": 85,
   "metadata": {
    "collapsed": false
   },
   "outputs": [
    {
     "name": "stdout",
     "output_type": "stream",
     "text": [
      "160\n",
      "15.2671755725\n"
     ]
    }
   ],
   "source": [
    "climateArticles = []\n",
    "climateKeys = ['COP21', 'climate change' , 'global warming']\n",
    "for obj in californiaArticles:\n",
    "    count = 0\n",
    "    for key in climateKeys:\n",
    "        if(obj['text'].find(key) > 0):\n",
    "            count += 1\n",
    "    if count > 0:\n",
    "        climateArticles.append(obj)\n",
    "\n",
    "        \n",
    "print len(climateArticles) \n",
    "print (float(len(climateArticles))/ float(len(californiaArticles)))*100\n",
    "    "
   ]
  },
  {
   "cell_type": "code",
   "execution_count": 86,
   "metadata": {
    "collapsed": false
   },
   "outputs": [
    {
     "name": "stdout",
     "output_type": "stream",
     "text": [
      "100\n",
      "20.5761316872\n"
     ]
    }
   ],
   "source": [
    "UKclimateArticles = []\n",
    "for obj in UKAarticles:\n",
    "    count = 0\n",
    "    for key in climateKeys:\n",
    "        if(obj['text'].find(key) > 0):\n",
    "            count += 1\n",
    "    if count > 0:\n",
    "        UKclimateArticles.append(obj)\n",
    "\n",
    "        \n",
    "print len(UKclimateArticles) \n",
    "print (float(len(UKclimateArticles))/ float(len(UKAarticles)))*100"
   ]
  },
  {
   "cell_type": "code",
   "execution_count": 87,
   "metadata": {
    "collapsed": false
   },
   "outputs": [
    {
     "name": "stdout",
     "output_type": "stream",
     "text": [
      "781\n",
      "19.456900847\n"
     ]
    }
   ],
   "source": [
    "WorldclimateArticles = []\n",
    "\n",
    "for obj in WorldArticles:\n",
    "    count = 0\n",
    "    for key in climateKeys:\n",
    "        if(obj['text'].find(key) > 0):\n",
    "            count += 1\n",
    "    if count > 0:\n",
    "        WorldclimateArticles.append(obj)\n",
    "\n",
    "        \n",
    "print len(WorldclimateArticles) \n",
    "print (float(len(WorldclimateArticles))/ float(len(WorldArticles)))*100"
   ]
  },
  {
   "cell_type": "code",
   "execution_count": 88,
   "metadata": {
    "collapsed": false
   },
   "outputs": [
    {
     "name": "stdout",
     "output_type": "stream",
     "text": [
      "{'country': u'USA', 'longitude': u'-121.491013', 'text': u'Copyright 2013 The Sacramento Bee. All rights reserved. This material may not be published, broadcast, rewritten or redistributed.\\nCalifornia officials on Thursday released a five-year \"Water Action Plan\" intended to avoid a statewide water supply crisis stemming from drought, population growth and climate change.\\nJohn Laird, secretary of the state Natural Resources Agency, acknowledged that the plan does not include a lot of new ideas. Rather, the goal is to integrate existing ideas about water supply and conservation and get disparate state agencies working together.\\nThe plan is considered a draft, and is expected to be finalized in December following public comment.\\n\"We have to focus on the whole picture,\" Laird said. \"What\\'s new is that it\\'s never existed in one place as a priority to look at together with everything we want to do in the state.\"\\nAs an example of that integration, the plan was unveiled jointly by Laird, state Environmental Protection Agency Secretary Matt Rodriguez and Department of Food and Agriculture Secretary Karen Ross.\\n\"What\\'s added here is a sense of urgency because we see there\\'s going to be even greater demand or pressures on our water resources,\" Rodriguez said. \"What we\\'re committing to here is a comprehensive or holistic look at water ... and making a commitment to work collaboratively.\"\\nThe plan warns of an \"impending water crisis\" in California driven by a drought now in its second year, climate change and a state population expected to reach 50 million by 2049.\\nSolutions target 10 key actions, from making conservation a \"way of life\" for California residents to boosting surface and groundwater storage. It also emphasizes methods of making communities less reliant on imported water, as well as improving wildlife habitats to collect and store more stormwater runoff.\\nThe storage question is controversial because most Californians don\\'t want to see streams dammed. But the state has been working on a number of new reservoir proposals for a decade, and feasibility studies are expected by about the end of this year. One is the proposed Sites Reservoir, an \"off-stream\" facility that would flood a rural valley with water diverted by a canal from the Sacramento River.\\nOfficials said the plan could lead to the state\\'s first water conservation requirements for agriculture. Farms consume far more water than urban areas in California, but politicians have been unwilling to consider agriculture conservation mandates. This and many other aspects of the plan will require action by the Legislature.\\nThe Bay Delta Conservation Plan is included as one of the action measures. The controversial $25 billion proposal calls for two large water diversion tunnels on the Sacramento River and more than 100,000 acres of habitat conservation.\\nJonas Minton, a senior project manager at the nonprofit Planning and Conservation League, said that while the plan contains many \"worthwhile\" objectives, it says very little about where the money will come from to carry them out. Also, he said, it is missing one thing the Delta really needs.\\n\"The Plan lacks any commitment to provide more water for the Delta,\" he said.\\nSacramento-area water planners also see holes in the plan. The Bay Delta Conservation Plan makes many assurances that Delta water exporters will have stable water supplies, but area water officials want guarantees this won\\'t come at their expense.\\n\"We just didn\\'t see a lot of language in terms of assurances in this statewide plan,\" said John Woodling, executive director of the Sacramento Regional Water Authority.', 'timeStamp': u'2013-11-01T09:03:07Z', 'latitude': u'38.57906', 'matched': ['drought', 'water conservation', 'water crisis']}\n"
     ]
    }
   ],
   "source": [
    "print californiaArticles[10]"
   ]
  },
  {
   "cell_type": "code",
   "execution_count": 89,
   "metadata": {
    "collapsed": false
   },
   "outputs": [],
   "source": [
    "import csv\n",
    "caliFile = \"california_drought_news.csv\"\n",
    "\n",
    "csvfile = open(caliFile , 'wb')\n",
    "writer = csv.writer(csvfile)\n",
    "fields = ['timestamp','latitude','longitude']\n",
    "row = fields + keywords\n",
    "writer.writerow(row)\n",
    "for obj in californiaArticles:\n",
    "    info = [obj['timeStamp'] , obj['latitude'] , obj['longitude']]\n",
    "    sparseVec = []\n",
    "    for i in range(len(keywords)):\n",
    "        if keywords[i] in obj['matched']:\n",
    "            sparseVec.append('1')\n",
    "        else:\n",
    "            sparseVec.append('0')\n",
    "    row = info + sparseVec\n",
    "    writer.writerow(row)\n",
    "csvfile.close()    "
   ]
  },
  {
   "cell_type": "code",
   "execution_count": 90,
   "metadata": {
    "collapsed": true
   },
   "outputs": [],
   "source": [
    "\n",
    "worldCaliFile = \"world_california_drought_news.csv\"\n",
    "\n",
    "csvfile = open(worldCaliFile , 'wb')\n",
    "writer = csv.writer(csvfile)\n",
    "fields = ['timestamp','latitude','longitude']\n",
    "row = fields + keywords\n",
    "writer.writerow(row)\n",
    "for obj in WorldCaliforniaArticles:\n",
    "    info = [obj['timeStamp'] , obj['latitude'] , obj['longitude']]\n",
    "    sparseVec = []\n",
    "    for i in range(len(keywords)):\n",
    "        if keywords[i] in obj['matched']:\n",
    "            sparseVec.append('1')\n",
    "        else:\n",
    "            sparseVec.append('0')\n",
    "    row = info + sparseVec\n",
    "    writer.writerow(row)\n",
    "\n",
    "csvfile.close()    "
   ]
  },
  {
   "cell_type": "code",
   "execution_count": 91,
   "metadata": {
    "collapsed": false
   },
   "outputs": [
    {
     "name": "stdout",
     "output_type": "stream",
     "text": [
      "41\n"
     ]
    }
   ],
   "source": [
    "print len(keywords)"
   ]
  },
  {
   "cell_type": "code",
   "execution_count": 94,
   "metadata": {
    "collapsed": true
   },
   "outputs": [],
   "source": [
    "nodeFile = \"nodes.csv\"\n",
    "csvfile = open(nodeFile , 'wb')\n",
    "writer = csv.writer(csvfile)\n",
    "writer.writerow(keywords)"
   ]
  },
  {
   "cell_type": "code",
   "execution_count": 103,
   "metadata": {
    "collapsed": false
   },
   "outputs": [
    {
     "name": "stdout",
     "output_type": "stream",
     "text": [
      "by Viktor Bogatko - Special to the SGN\n",
      "A couple of weeks ago, I received a pamphlet in the mail that caught my attention. It was from the opponents of Initiative 522, urging me to vote no on labeling GMO foods. Of course by this point I had already heard of the initiative and my decision seemed like a no-brainer. After all, what harm is there in labeling food for what it is? Wouldn't consumers be more informed and therefore more equipped in making healthy choices at the grocery store?\n",
      "Although the obvious answer is that labeling GMO foods would be more helpful for consumers in making healthy and more sustainable decisions, I was intrigued that I was hearing more from opponents about the issue. Besides the typical attacks in bold print, I noticed in the bottom right corner, in the smallest of print size was a short list of the top five sponsors of the pamphlet. I was shocked to see that the largest contributors were GMO and chemical corporations, including Monsanto, ConAgra, and DuPont. The blitz-style 'No on 522' ads now made sense but they were also very concerning because I knew how powerful these corporations were. I remembered how last year a similar measure in California, Proposition 37, failed largely due to the involvement of these outside companies.\n",
      "An outrageous 44 million dollars was spent on defeating the proposition compared to just over 7 million dollars spent by proponents. Despite this lopsided disadvantage, Prop 37 was able to get 47 percent of the vote, which gave me some comfort for our chances of victory here in Washington. Still, in an attempt to contribute to something I believe is very important, I was encouraged to voice my opinion.\n",
      "CONCENTRATION OF POWER\n",
      "While there are many reasons why I believe labeling GMO foods is a good idea, the most important one I see is that consumers ought to be able to determine what is on our grocery shelves, not large corporations. Consumers should have access to information concerning the contents of our food so that they we can create a demand for the foods we believe are the best for our families and the environment. Dr. Lawrence Becker, of Oregon State University, an expert on the topic, agrees that his greatest concern is that 'power is being increasingly concentrated in just a handful of corporations,' which could have a number of serious and negative consequences locally and globally.\n",
      "I am convinced labeling GMO foods would create a greater demand for natural unadulterated foods, which would decrease the demand for foods that were genetically modified, an occurrence that GMO corporations fear the most because it would decrease their profits and their iron grip over the food industry. At the core of the issue for opponents are profits, not the well-being of consumers or the preservation of our natural resources, which brings me to my next point.\n",
      "The truth about the safety of GMO foods is that we simply do not know enough about how GMOs affect our bodies. Not enough time has passed for us to be able to determine the negative effects on our health, and few studies have been performed to determine the safety of these genetically modified foods. We do know, however, that the pesticides and herbicides used on GMO crops are being used more and more every year and they are raising serious health concerns. More farm workers are experiencing pesticide poisoning while crops are becoming increasingly vulnerable to diseases, fueling the already vicious cycle of pesticide and herbicide use. GMO foods also encourage monocropping, a dangerous practice of growing one type of crop or one variety of a crop, which further exacerbates disease vulnerability and pesticide use. In addition to fueling the cycle, monocropping discourages genetic variability as more farmers switch to higher yielding GMO crops in order to compete with one another, leaving scientists very few genes to work with in their constant effort to develop disease resistant and high yielding crops.\n",
      "Genetically modified crops have also been known to contaminate native crops through pollination. This occurs when a GMO crop is planted near a non-GMO crop and birds and insects pollinate the plants indiscriminately. This phenomenon may seem harmless but it is not. When farmers depend on saving seeds for next year's crop, contaminated seeds pollinated with GMO plants may not be viable and the farmer is left with nothing to plant.\n",
      "IMPOVERISHING FARMERS\n",
      "Globally, local farmers and indigenous peoples are paying the highest price for GMO crops, literally and figuratively. GMO corporations often charge outrageous prices for their seeds and they have been known to increase prices once farmers become dependent on their seeds. Indigenous people are also more vulnerable to crop diseases as they more often than not depend on just a few different crops to survive and when one of them fails, famine is just around the corner for much of the world's already poor population.\n",
      "There are many more reasons why we should discouraged the use of GMO foods or, at the very least, why we should label them. One very important fact about the issue to recognize is how controversial the topic is. There must be a reason why so much of the world's population fears the consumption of GMO foods - because there are many known negative consequences and too many unknowns. To date, 64 countries label GMOs and many of them ban GMOs altogether.\n",
      "Over 100 years ago, muckrakers reported on unsanitary and unsafe conditions in food processing factories, which resulted in Congress passing the Pure Food and Drug Act of 1906. These reporters outraged the public by revealing to them that their Polish sausage, in addition to pork, might also contain some rat or human feces. Today, instead of macroscopic dangers, we face potential microscopic hazards that we know very little about. These hazards are GMOs and we are becoming increasingly dependent on them, while losing control of what should rightfully be ours - a right to know. It is therefore very important that on Election Day, our state leads the rest of the country in our effort to curb the power of the corporation and increase the power of individual choice. Please vote Yes on Initiative 522.\n"
     ]
    }
   ],
   "source": [
    "print californiaArticles[100]['text'].encode('utf-8')"
   ]
  },
  {
   "cell_type": "code",
   "execution_count": 122,
   "metadata": {
    "collapsed": false
   },
   "outputs": [],
   "source": [
    "import nltk\n",
    "from nltk.collocations import *\n",
    "from nltk.tokenize import TweetTokenizer\n",
    "\n",
    "Tokenizer = TweetTokenizer()\n",
    "USACaliNewsCorpus = []\n",
    "for news in californiaArticles:\n",
    "    utfnews = news['text'].encode('utf-8')\n",
    "    tokens = Tokenizer.tokenize(utfnews)\n",
    "    for token in tokens:\n",
    "        USACaliNewsCorpus.append(token)\n"
   ]
  },
  {
   "cell_type": "code",
   "execution_count": 123,
   "metadata": {
    "collapsed": false
   },
   "outputs": [
    {
     "name": "stdout",
     "output_type": "stream",
     "text": [
      "1338740\n"
     ]
    }
   ],
   "source": [
    "# tokens = Tokenizer.tokenize(californiaArticles[1]['text'].encode('utf-8'))\n",
    "# print tokens\n",
    "print len(USACaliNewsCorpus)"
   ]
  },
  {
   "cell_type": "code",
   "execution_count": 128,
   "metadata": {
    "collapsed": false
   },
   "outputs": [
    {
     "data": {
      "text/plain": [
       "[(u'#13', u'Cow'),\n",
       " (u'#13', u\"Cow's\"),\n",
       " (u'#13', u'mooing'),\n",
       " (u'#20', u'bakeries'),\n",
       " (u'#ActOnClimate', u'#StateOfClimatehttp'),\n",
       " (u'#ActOnClimate', u'@whitehouseostp'),\n",
       " (u'#ActOnClimate', u'OSTP'),\n",
       " (u'#ActOnClimate', u't.co/bHyVlzZsVIpic.twitter.com/Wrpeb7w7hi'),\n",
       " (u'#StateOfClimatehttp', u'@whitehouseostp'),\n",
       " (u'#StateOfClimatehttp', u'OSTP'),\n",
       " (u'#StateOfClimatehttp', u't.co/bHyVlzZsVIpic.twitter.com/Wrpeb7w7hi'),\n",
       " (u'#WaterIs', u'#okstate'),\n",
       " (u'(707) 558-0543', u'7136'),\n",
       " (u'(707) 558-0543', u'Stonebrooke'),\n",
       " (u'(760) 241-7755', u'1-800-553-2006'),\n",
       " (u'(800-838-1766',\n",
       "  u'http://www.cntraveler.com/daily-traveler/2012/08/swimming-spots-united-states-summer-getaway-photos_slideshow_White-Rock-Park_6?mbid=synd_huffpo'),\n",
       " (u'(800-838-1766', u'massages'),\n",
       " (u'+1.05', u'3.04'),\n",
       " (u'+1.05', u'4:04'),\n",
       " (u'+1.05', u'HOURS'),\n",
       " (u'+2.5', u'4.51'),\n",
       " (u'+2.5', u'lb'),\n",
       " (u'+5.0', u'-3.7'),\n",
       " (u'-0.26', u'22.47'),\n",
       " (u'-0.26', u'26,340'),\n",
       " (u'-0.26', u'5:22'),\n",
       " (u'-0.26', u'Ratio'),\n",
       " (u'-0.27', u'-0.26'),\n",
       " (u'-0.27', u'26,340'),\n",
       " (u'-0.27', u'5:22'),\n",
       " (u'-0.27', u'Ratio'),\n",
       " (u'-12,200', u'light-headed'),\n",
       " (u'-2015-02-', u'01:00-'),\n",
       " (u'-2015-02-', u'02T00'),\n",
       " (u'-2015-02-', u'05:00'),\n",
       " (u'-3.7', u'+4.7'),\n",
       " (u'.\\n.....', u'......'),\n",
       " (u'.\\n.....', u'OUTSIDE'),\n",
       " (u'.\\n............', u'............'),\n",
       " (u'.\\n............', u'DAILYS'),\n",
       " (u'.\\n............', u'Knots'),\n",
       " (u'.\\n............', u'NORTHERN'),\n",
       " (u'............', u'Knots'),\n",
       " (u'............', u'NORTHERN'),\n",
       " (u'0.31', u'0.30'),\n",
       " (u'0.46', u'Puerta'),\n",
       " (u'0.46', u'Vallarta'),\n",
       " (u'0.62', u'0.79'),\n",
       " (u'0.78', u'evidences'),\n",
       " (u'011-27-', u'21-799-'),\n",
       " (u'011-27-', u'8783'),\n",
       " (u'011-27-', u'sanbi.org/gardens/kirstenbosch'),\n",
       " (u'01:00-', u'05:00'),\n",
       " (u'02T00', u'01:00-'),\n",
       " (u'02T00', u'05:00'),\n",
       " (u'06', u'11:00'),\n",
       " (u'07-07', u'waiver'),\n",
       " (u'09-04', u'14:54'),\n",
       " (u'09-04', u'PDT'),\n",
       " (u'09-04', u'YOSEMITE'),\n",
       " (u'1,033', u'Synopsys'),\n",
       " (u'1,068', u'1,720'),\n",
       " (u'1,083', u'widest'),\n",
       " (u'1,087', u'drought-protection'),\n",
       " (u'1,114', u'438'),\n",
       " (u'1,119', u'1,057'),\n",
       " (u'1,119', u'943'),\n",
       " (u'1,199', u'799'),\n",
       " (u'1,199', u'Ten-night'),\n",
       " (u'1,299', u'2,399'),\n",
       " (u'1,350', u'Three-quarters'),\n",
       " (u'1,350', u'four-fifths'),\n",
       " (u'1,409', u'eight-tenths'),\n",
       " (u'1,640', u'nine-tenths'),\n",
       " (u'1,799', u'1,299'),\n",
       " (u'1,799', u'2,399'),\n",
       " (u'1,845', u'533'),\n",
       " (u'1,870', u'resurgent'),\n",
       " (u'1,894', u'161'),\n",
       " (u'1,894', u'tornados'),\n",
       " (u'1,999', u'609'),\n",
       " (u'1-2-', u'3-4-'),\n",
       " (u'1-2-', u'wateraction'),\n",
       " (u'1-5', u'Prime-time'),\n",
       " (u'1-7', u'24-21'),\n",
       " (u'1.03', u'60.9'),\n",
       " (u'1.07', u'68.7'),\n",
       " (u'1.193', u'694'),\n",
       " (u'1.23', u'2.91'),\n",
       " (u'1.23', u'Peppers'),\n",
       " (u'1.25', u'forfeit'),\n",
       " (u'1.30', u'2.79'),\n",
       " (u'1.37', u'MEXICAN'),\n",
       " (u'1.37', u'RIVIERA'),\n",
       " (u'1.42', u'1.45'),\n",
       " (u'1.44', u'more-extreme'),\n",
       " (u'1.48', u'27.9'),\n",
       " (u'1.62', u'18.6'),\n",
       " (u'1.65', u'10/03'),\n",
       " (u'1.65', u'10/25')]"
      ]
     },
     "execution_count": 128,
     "metadata": {},
     "output_type": "execute_result"
    }
   ],
   "source": [
    "\n",
    "bigram_measures = nltk.collocations.BigramAssocMeasures()\n",
    "finder = BigramCollocationFinder.from_words(USACaliNewsCorpus, window_size = 20)\n",
    "finder.nbest(bigram_measures.pmi, 100) "
   ]
  },
  {
   "cell_type": "code",
   "execution_count": 126,
   "metadata": {
    "collapsed": true
   },
   "outputs": [],
   "source": [
    "Tokenizer = TweetTokenizer()\n",
    "WorldCaliNewsCorpus = []\n",
    "for news in WorldCaliforniaArticles:\n",
    "    utfnews = news['text'].encode('utf-8')\n",
    "    tokens = Tokenizer.tokenize(utfnews)\n",
    "    for token in tokens:\n",
    "        WorldCaliNewsCorpus.append(token)\n"
   ]
  },
  {
   "cell_type": "code",
   "execution_count": 129,
   "metadata": {
    "collapsed": false
   },
   "outputs": [
    {
     "data": {
      "text/plain": [
       "[(u'#200', u'@gregharris'),\n",
       " (u'#25', u'twenty-fifth'),\n",
       " (u'#SustLiving', u'Gail'),\n",
       " (u'#SustLiving', u'Klintworth'),\n",
       " (u'#SustLiving', u'Unilever'),\n",
       " (u'#SustLiving', u\"Unilever's\"),\n",
       " (u'(206) 301-0167', u'(206) 383-2231'),\n",
       " (u'(206) 301-0167', u'MichaelG'),\n",
       " (u'(206) 383-2231', u'MichaelG'),\n",
       " (u'(206) 383-2231',\n",
       "  u'http://www.prweb.com/releases/digester/California/prweb12509890.htm'),\n",
       " (u'(270)869-9419', u'518-767-9051'),\n",
       " (u'(270)869-9419', u'nancy'),\n",
       " (u'(270)869-9419', u'www.auduboninternational.org'),\n",
       " (u'(323) 469-3397', u'@edgecommunicationsinc'),\n",
       " (u'(323) 469-3397', u'ken'),\n",
       " (u'(530) 898-5356', u'@csuchico'),\n",
       " (u'(530) 898-5356', u'Dig'),\n",
       " (u'(530) 898-5356', u'Gifts'),\n",
       " (u'(530) 898-5356', u'edu'),\n",
       " (u'(530) 898-5356', u'jbraden'),\n",
       " (u'(530)893-5123', u'(530) 342-2239'),\n",
       " (u'(805) 239-4443', u'@arandcompany'),\n",
       " (u'(805) 239-4443', u'angela'),\n",
       " (u'(951) 672-2669', u'@californiacleanairtech'),\n",
       " (u'(951) 672-2669', u'michael'),\n",
       " (u'(951) 672-2669',\n",
       "  u'www.propane.com/agriculture/programs-and-incentive/propan'),\n",
       " (u'+1-888-600-6441', u'@marketsandmarkets'),\n",
       " (u'+1-888-600-6441',\n",
       "  u'http://www.marketsandmarketsblog.com/market-reports/telecom-it'),\n",
       " (u'-0.5', u'+1.5'),\n",
       " (u'-1,5-', u'Rubisco'),\n",
       " (u'-1,5-', u'bisphosphate'),\n",
       " (u'-1,5-', u'carboxylase'),\n",
       " (u'-5:30', u'312.970.9840'),\n",
       " (u'-5:30', u'Granville'),\n",
       " (u'-6:30', u'Birthday'),\n",
       " (u'-7:30', u'4753'),\n",
       " (u'-7:30', u'Uptown'),\n",
       " (u'0.17', u'Show-Me'),\n",
       " (u'0.19', u'1,139'),\n",
       " (u'0.19', u'break-even'),\n",
       " (u'0.38', u'lbs'),\n",
       " (u'0.5-', u'0.75'),\n",
       " (u'0.50', u'0.80'),\n",
       " (u'0005', u'Danish'),\n",
       " (u'0005', u'avionics'),\n",
       " (u'0005', u'cockpit'),\n",
       " (u'0007', u'LOGISTICS'),\n",
       " (u'0010', u'479'),\n",
       " (u'0010', u'5180-01-'),\n",
       " (u'0010', u'613-2865'),\n",
       " (u'0010', u'M1240A1'),\n",
       " (u'0010', u'NSN'),\n",
       " (u'0010', u'grenade'),\n",
       " (u'0020', u'Vacu'),\n",
       " (u'0020', u'tote'),\n",
       " (u'00279358', u'226'),\n",
       " (u'00279358', u'Sep'),\n",
       " (u'00279358', u'lowland'),\n",
       " (u'00279358', u'suppertime'),\n",
       " (u'0038', u'44,854'),\n",
       " (u'004', u'CONTINGENT'),\n",
       " (u'004', u'STRING'),\n",
       " (u'004', u'TALK'),\n",
       " (u'004', u\"band's\"),\n",
       " (u'004', u'http://www.thestringcontingent.com'),\n",
       " (u'0059', u'FA4600'),\n",
       " (u'0059', u'Tactical'),\n",
       " (u'0089', u'Burlingame'),\n",
       " (u'0089', u'ECC'),\n",
       " (u'0091', u'0092'),\n",
       " (u'0091', u'Answers'),\n",
       " (u'0092', u'Albany'),\n",
       " (u'0092', u'Answers'),\n",
       " (u'0093', u'EIF'),\n",
       " (u'0093', u'IV'),\n",
       " (u'0095', u'0096'),\n",
       " (u'0095', u'Honeywell'),\n",
       " (u'0096', u'0097'),\n",
       " (u'0096', u'MidAmerican'),\n",
       " (u'0097', u'Enterprises'),\n",
       " (u'0097', u'Milliken'),\n",
       " (u'0097', u'Pacolet'),\n",
       " (u'0097', u'Spartanburg'),\n",
       " (u'0098', u'0099'),\n",
       " (u'0099', u'0100'),\n",
       " (u'0099', u'Stronghold'),\n",
       " (u'010', u'http://www.catrionamckay.co.uk/strings/catriona--olov'),\n",
       " (u'010', u'www.olovjohansson.se'),\n",
       " (u'0100', u'0102'),\n",
       " (u'0100', u'Newburgh'),\n",
       " (u'01670', u'795000'),\n",
       " (u'01670', u'DiveFilm'),\n",
       " (u'01670', u'SCIENCE'),\n",
       " (u'01670', u'sealife'),\n",
       " (u'0301', u'Shipyards'),\n",
       " (u'0301', u'Vigor'),\n",
       " (u'04', u'streamlined'),\n",
       " (u'053', u'1,922'),\n",
       " (u'053', u'990'),\n",
       " (u'092', u'0059')]"
      ]
     },
     "execution_count": 129,
     "metadata": {},
     "output_type": "execute_result"
    }
   ],
   "source": [
    "bigram_measures = nltk.collocations.BigramAssocMeasures()\n",
    "finder = BigramCollocationFinder.from_words(WorldCaliNewsCorpus ,window_size = 20)\n",
    "finder.nbest(bigram_measures.pmi, 100) "
   ]
  },
  {
   "cell_type": "code",
   "execution_count": 133,
   "metadata": {
    "collapsed": false
   },
   "outputs": [
    {
     "data": {
      "text/plain": [
       "[(u'#HootonTrains', u'@NRE_MerseyRail'),\n",
       " (u'#HootonTrains', u'LATEST'),\n",
       " (u'#Lastalot', u'#masterblaster'),\n",
       " (u'#SustLiving', u'Klintworth'),\n",
       " (u'#SustLiving', u'Sustainability'),\n",
       " (u'#SustLiving', u'Unilever'),\n",
       " (u'#SustLiving', u\"Unilever's\"),\n",
       " (u\"#Syria's\", u'3:32'),\n",
       " (u\"#Syria's\", u'Cause'),\n",
       " (u\"#Syria's\", u'http://t.co/8s4cGT3vuc'),\n",
       " (u\"#Syria's\", u'iOS'),\n",
       " (u'0.16', u'0.4'),\n",
       " (u'0.31', u'eight-month'),\n",
       " (u'0.31', u'equities'),\n",
       " (u'0.44', u'0.65'),\n",
       " (u'0.44', u'87.44'),\n",
       " (u'0.44', u'87.78'),\n",
       " (u'0.45', u'80-90'),\n",
       " (u'0.45', u'backwash'),\n",
       " (u'0.45', u'micrometer'),\n",
       " (u'0.50-', u'0.80'),\n",
       " (u'0.50-', u'biryani'),\n",
       " (u'0.50-', u'rice-based'),\n",
       " (u'0.57', u'0.44'),\n",
       " (u'0.57', u'0.65'),\n",
       " (u'0.57', u'87.44'),\n",
       " (u'0.65', u'87.44'),\n",
       " (u'0.65', u'87.78'),\n",
       " (u'0.80', u'biryani'),\n",
       " (u'0.80', u'rice-based'),\n",
       " (u'0.9', u\"quarter's\"),\n",
       " (u'000MT', u'301MT'),\n",
       " (u'000MT', u'7,075'),\n",
       " (u'004', u'Pot'),\n",
       " (u'004', u'alpine'),\n",
       " (u'006', u'Sakiul'),\n",
       " (u'01285', u'004'),\n",
       " (u'01285', u'Pot'),\n",
       " (u'01285', u'alpine'),\n",
       " (u'0130', u'1.2824'),\n",
       " (u'0130', u'Packham'),\n",
       " (u'01629', u'812732'),\n",
       " (u'01629', u'@btinternet'),\n",
       " (u'01629', u'matlockdhv'),\n",
       " (u'01670', u'795000'),\n",
       " (u'01763', u'261'),\n",
       " (u'01763', u'781'),\n",
       " (u'01763', u'Stem'),\n",
       " (u'01763', u'ecosure.co.uk'),\n",
       " (u'01763', u'inconspiciously'),\n",
       " (u'01763', u'slimline'),\n",
       " (u'020 7828', u'75mm'),\n",
       " (u'020 7828', u'8085'),\n",
       " (u'020 7828', u'Radflek.com'),\n",
       " (u'02072591430', u'Bayliss'),\n",
       " (u'02072591430', u'pre-order'),\n",
       " (u'0208 449 6970', u'@cafod'),\n",
       " (u'0208 449 6970', u'org.uk'),\n",
       " (u'0208 449 6970', u'westminster'),\n",
       " (u'027372', u'www.feeding5k.org/gleaning.php'),\n",
       " (u'047', u'Bra'),\n",
       " (u'07793', u'027372'),\n",
       " (u'07793', u'www.feeding5k.org/gleaning.php'),\n",
       " (u'07969', u'182'),\n",
       " (u'07969', u'484'),\n",
       " (u'07969', u'Bingo'),\n",
       " (u'07969', u'Roland'),\n",
       " (u'0871 200 2082', u'01763'),\n",
       " (u'0871 200 2082', u'261'),\n",
       " (u'0871 200 2082', u'781'),\n",
       " (u'0871 200 2082', u'ecosure.co.uk'),\n",
       " (u'0871 200 2082', u'inconspiciously'),\n",
       " (u'0871 200 2082', u'slimline'),\n",
       " (u'08:16', u'Buddh'),\n",
       " (u'08:16', u'depressingly'),\n",
       " (u'08:25', u'ferociously'),\n",
       " (u'08:29', u'Pirelli-related'),\n",
       " (u'08:32', u\"Sky's\"),\n",
       " (u'08:32', u'gremlins'),\n",
       " (u'08:35', u'customary'),\n",
       " (u'08:38', u'semi-emotional'),\n",
       " (u'08:43', u'grumble'),\n",
       " (u'08:50', u'detractors'),\n",
       " (u'08:50', u'undisputed'),\n",
       " (u'09:10', u'CHAMPIONSHIP'),\n",
       " (u'09:10', u'STANDINGS'),\n",
       " (u'09:19', u'grabbed'),\n",
       " (u'09:19', u'gridwalk'),\n",
       " (u'09:23', u'DRS'),\n",
       " (u'09:31', u'grandstand'),\n",
       " (u'1,063', u'203'),\n",
       " (u'1,070', u'Minh'),\n",
       " (u'1,100', u'Nm3'),\n",
       " (u'1,232', u'1bn'),\n",
       " (u'1,232', u\"Bank's\"),\n",
       " (u'1,232', u'Onno'),\n",
       " (u'1,232', u'oversee'),\n",
       " (u'1,370', u'Batcombe'),\n",
       " (u'1,370', u'Magistrates'),\n",
       " (u'1,370', u'Vale')]"
      ]
     },
     "execution_count": 133,
     "metadata": {},
     "output_type": "execute_result"
    }
   ],
   "source": [
    "Tokenizer = TweetTokenizer()\n",
    "UKNewsCorpus = []\n",
    "for news in UKAarticles:\n",
    "    utfnews = news['text'].encode('utf-8')\n",
    "    tokens = Tokenizer.tokenize(utfnews)\n",
    "    for token in tokens:\n",
    "        UKNewsCorpus.append(token)\n",
    "bigram_measures = nltk.collocations.BigramAssocMeasures()\n",
    "finder = BigramCollocationFinder.from_words(UKNewsCorpus ,window_size = 20)\n",
    "finder.nbest(bigram_measures.pmi, 100) \n"
   ]
  },
  {
   "cell_type": "code",
   "execution_count": null,
   "metadata": {
    "collapsed": true
   },
   "outputs": [],
   "source": [
    "TrigramCollocationFinder.from_words"
   ]
  }
 ],
 "metadata": {
  "kernelspec": {
   "display_name": "Python 2",
   "language": "python",
   "name": "python2"
  },
  "language_info": {
   "codemirror_mode": {
    "name": "ipython",
    "version": 2
   },
   "file_extension": ".py",
   "mimetype": "text/x-python",
   "name": "python",
   "nbconvert_exporter": "python",
   "pygments_lexer": "ipython2",
   "version": "2.7.6"
  }
 },
 "nbformat": 4,
 "nbformat_minor": 0
}
