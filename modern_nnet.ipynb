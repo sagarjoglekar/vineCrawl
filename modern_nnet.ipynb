{
 "cells": [
  {
   "cell_type": "code",
   "execution_count": 1,
   "metadata": {
    "collapsed": false
   },
   "outputs": [
    {
     "name": "stderr",
     "output_type": "stream",
     "text": [
      "Using gpu device 0: GeForce GT 750M (CNMeM is disabled)\n"
     ]
    }
   ],
   "source": [
    "import theano\n",
    "from theano import tensor as T\n",
    "from theano.sandbox.rng_mrg import MRG_RandomStreams as RandomStreams\n",
    "import numpy as np\n",
    "from load import mnist"
   ]
  },
  {
   "cell_type": "code",
   "execution_count": 2,
   "metadata": {
    "collapsed": true
   },
   "outputs": [],
   "source": [
    "srng = RandomStreams()\n",
    "\n",
    "def floatX(X):\n",
    "    return np.asarray(X, dtype=theano.config.floatX)\n",
    "\n",
    "def init_weights(shape):\n",
    "    return theano.shared(floatX(np.random.randn(*shape) * 0.01))\n",
    "\n",
    "def rectify(X):\n",
    "    return T.maximum(X, 0.)\n",
    "\n",
    "def softmax(X):\n",
    "    e_x = T.exp(X - X.max(axis=1).dimshuffle(0, 'x'))\n",
    "    return e_x / e_x.sum(axis=1).dimshuffle(0, 'x')\n",
    "\n",
    "def RMSprop(cost, params, lr=0.001, rho=0.9, epsilon=1e-6):\n",
    "    grads = T.grad(cost=cost, wrt=params)\n",
    "    updates = []\n",
    "    for p, g in zip(params, grads):\n",
    "        acc = theano.shared(p.get_value() * 0.)\n",
    "        acc_new = rho * acc + (1 - rho) * g ** 2\n",
    "        gradient_scaling = T.sqrt(acc_new + epsilon)\n",
    "        g = g / gradient_scaling\n",
    "        updates.append((acc, acc_new))\n",
    "        updates.append((p, p - lr * g))\n",
    "    return updates\n",
    "\n",
    "def dropout(X, p=0.):\n",
    "    if p > 0:\n",
    "        retain_prob = 1 - p\n",
    "        X *= srng.binomial(X.shape, p=retain_prob, dtype=theano.config.floatX)\n",
    "        X /= retain_prob\n",
    "    return X"
   ]
  },
  {
   "cell_type": "code",
   "execution_count": 3,
   "metadata": {
    "collapsed": false
   },
   "outputs": [],
   "source": [
    "def model(X, w_h, w_h2, w_o, p_drop_input, p_drop_hidden):\n",
    "    X = dropout(X, p_drop_input)\n",
    "    h = rectify(T.dot(X, w_h))\n",
    "\n",
    "    h = dropout(h, p_drop_hidden)\n",
    "    h2 = rectify(T.dot(h, w_h2))\n",
    "\n",
    "    h2 = dropout(h2, p_drop_hidden)\n",
    "    py_x = softmax(T.dot(h2, w_o))\n",
    "    return h, h2, py_x"
   ]
  },
  {
   "cell_type": "code",
   "execution_count": 4,
   "metadata": {
    "collapsed": true
   },
   "outputs": [],
   "source": [
    "trX, teX, trY, teY = mnist(onehot=True)\n",
    "\n",
    "X = T.fmatrix()\n",
    "Y = T.fmatrix()\n",
    "\n",
    "w_h = init_weights((784, 625))\n",
    "w_h2 = init_weights((625, 625))\n",
    "w_o = init_weights((625, 10))\n",
    "\n",
    "noise_h, noise_h2, noise_py_x = model(X, w_h, w_h2, w_o, 0.2, 0.5)\n",
    "h, h2, py_x = model(X, w_h, w_h2, w_o, 0., 0.)\n",
    "y_x = T.argmax(py_x, axis=1)\n",
    "\n",
    "cost = T.mean(T.nnet.categorical_crossentropy(noise_py_x, Y))\n",
    "params = [w_h, w_h2, w_o]\n",
    "updates = RMSprop(cost, params, lr=0.001)\n",
    "\n",
    "train = theano.function(inputs=[X, Y], outputs=cost, updates=updates, allow_input_downcast=True)\n",
    "predict = theano.function(inputs=[X], outputs=y_x, allow_input_downcast=True)\n"
   ]
  },
  {
   "cell_type": "code",
   "execution_count": 5,
   "metadata": {
    "collapsed": false
   },
   "outputs": [
    {
     "name": "stdout",
     "output_type": "stream",
     "text": [
      "0.9379\n",
      "0.9646\n",
      "0.9735\n",
      "0.9762\n",
      "0.9763\n",
      "0.9783\n",
      "0.9791\n",
      "0.9809\n",
      "0.9818\n",
      "0.9826\n",
      "0.9824\n",
      "0.982\n",
      "0.9829\n",
      "0.9833\n",
      "0.9818\n",
      "0.9825\n",
      "0.9838\n",
      "0.9845\n",
      "0.9852\n",
      "0.9856\n",
      "0.9839\n",
      "0.9849\n",
      "0.9845\n",
      "0.9846\n",
      "0.9855\n",
      "0.9853\n",
      "0.9857\n",
      "0.9861\n",
      "0.9851\n",
      "0.9863\n",
      "0.9877\n",
      "0.9862\n",
      "0.9868\n",
      "0.9868\n",
      "0.9856\n",
      "0.987\n",
      "0.9856\n",
      "0.9854\n",
      "0.9865\n",
      "0.9862\n",
      "0.9853\n",
      "0.9864\n",
      "0.9865\n",
      "0.9866\n",
      "0.9866\n",
      "0.9866\n",
      "0.9869\n",
      "0.9864\n",
      "0.9863\n",
      "0.9873\n",
      "0.9866\n",
      "0.9872\n",
      "0.9873\n",
      "0.9872\n",
      "0.9876\n",
      "0.987\n",
      "0.9873\n",
      "0.9873\n",
      "0.9869\n",
      "0.9881\n",
      "0.9866\n",
      "0.9878\n",
      "0.9885\n",
      "0.987\n",
      "0.987\n",
      "0.9871\n",
      "0.9871\n",
      "0.9877\n",
      "0.9871\n",
      "0.9874\n",
      "0.9883\n",
      "0.9883\n",
      "0.9885\n",
      "0.9873\n",
      "0.9873\n",
      "0.9879\n",
      "0.9882\n",
      "0.9873\n",
      "0.9875\n",
      "0.9875\n",
      "0.9876\n",
      "0.9881\n",
      "0.9886\n",
      "0.9875\n",
      "0.9876\n",
      "0.988\n",
      "0.9885\n",
      "0.9868\n",
      "0.9878\n",
      "0.9878\n",
      "0.9884\n",
      "0.9885\n",
      "0.9886\n",
      "0.988\n",
      "0.9869\n",
      "0.9882\n",
      "0.9872\n",
      "0.9883\n",
      "0.9873\n",
      "0.9859\n"
     ]
    }
   ],
   "source": [
    "for i in range(100):\n",
    "    for start, end in zip(range(0, len(trX), 128), range(128, len(trX), 128)):\n",
    "        cost = train(trX[start:end], trY[start:end])\n",
    "    print np.mean(np.argmax(teY, axis=1) == predict(teX))"
   ]
  }
 ],
 "metadata": {
  "kernelspec": {
   "display_name": "Python 2",
   "language": "python",
   "name": "python2"
  },
  "language_info": {
   "codemirror_mode": {
    "name": "ipython",
    "version": 2
   },
   "file_extension": ".py",
   "mimetype": "text/x-python",
   "name": "python",
   "nbconvert_exporter": "python",
   "pygments_lexer": "ipython2",
   "version": "2.7.10"
  }
 },
 "nbformat": 4,
 "nbformat_minor": 0
}
