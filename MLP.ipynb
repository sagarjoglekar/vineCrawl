{
 "cells": [
  {
   "cell_type": "code",
   "execution_count": null,
   "metadata": {
    "collapsed": true
   },
   "outputs": [],
   "source": [
    "import theano\n",
    "from theano import tensor as T\n",
    "import numpy as np\n",
    "\n",
    "trX = np.linspace(-1, 1, 101)\n",
    "trY = 2 * trX + np.random.randn(*trX.shape) * 0.33\n",
    "print trY.shape\n",
    "\n",
    "X = T.scalar()\n",
    "print X\n",
    "Y = T.scalar()\n",
    "print Y\n",
    "\n",
    "def model(X, w):\n",
    "    return X * w\n",
    "\n",
    "w = theano.shared(np.asarray(0., dtype=theano.config.floatX))\n",
    "y = model(X, w)\n",
    "\n",
    "cost = T.mean(T.sqr(y - Y))\n",
    "gradient = T.grad(cost=cost, wrt=w)\n",
    "updates = [[w, w - gradient * 0.01]]\n",
    "\n",
    "train = theano.function(inputs=[X, Y], outputs=cost, updates=updates, allow_input_downcast=True)\n",
    "\n",
    "for i in range(100):\n",
    "    for x, y in zip(trX, trY):\n",
    "        train(x, y)\n",
    "        \n",
    "print w.get_value() #something around 2\n"
   ]
  },
  {
   "cell_type": "code",
   "execution_count": null,
   "metadata": {
    "collapsed": true
   },
   "outputs": [],
   "source": []
  }
 ],
 "metadata": {
  "kernelspec": {
   "display_name": "Python 2",
   "language": "python",
   "name": "python2"
  },
  "language_info": {
   "codemirror_mode": {
    "name": "ipython",
    "version": 2
   },
   "file_extension": ".py",
   "mimetype": "text/x-python",
   "name": "python",
   "nbconvert_exporter": "python",
   "pygments_lexer": "ipython2",
   "version": "2.7.10"
  }
 },
 "nbformat": 4,
 "nbformat_minor": 0
}
